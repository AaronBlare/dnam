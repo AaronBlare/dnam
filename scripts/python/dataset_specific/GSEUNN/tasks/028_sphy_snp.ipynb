{
 "cells": [
  {
   "cell_type": "code",
   "execution_count": null,
   "outputs": [],
   "source": [
    "import pandas as pd\n",
    "import numpy as np\n",
    "import scipy\n",
    "from sklearn.linear_model import ElasticNet, ElasticNetCV\n",
    "from sklearn.model_selection import RepeatedKFold, GridSearchCV\n",
    "from sklearn.metrics import mean_squared_error, mean_absolute_error, r2_score\n",
    "from scripts.python.routines.betas import betas_drop_na\n",
    "from plotly.subplots import make_subplots\n",
    "from scipy import stats\n",
    "import pickle\n",
    "import random\n",
    "import plotly.express as px\n",
    "import copy\n",
    "import statsmodels.formula.api as smf\n",
    "from sklearn.metrics import mean_squared_error, mean_absolute_error\n",
    "from scripts.python.pheno.datasets.filter import filter_pheno\n",
    "from scripts.python.pheno.datasets.features import get_column_name, get_status_dict, get_sex_dict\n",
    "from scripts.python.routines.plot.scatter import add_scatter_trace\n",
    "import plotly.graph_objects as go\n",
    "import pathlib\n",
    "from scripts.python.routines.manifest import get_manifest\n",
    "from scripts.python.routines.plot.save import save_figure\n",
    "from scripts.python.routines.plot.layout import add_layout, get_axis\n",
    "from scripts.python.routines.plot.p_value import add_p_value_annotation\n",
    "from statsmodels.stats.multitest import multipletests\n",
    "from sklearn.metrics import mean_absolute_error\n",
    "import plotly.io as pio\n",
    "pio.kaleido.scope.mathjax = None\n",
    "from plotly.offline import init_notebook_mode, iplot\n",
    "init_notebook_mode(connected=False)\n",
    "from functools import reduce\n",
    "from scipy.stats import chi2_contingency\n",
    "from scipy.stats import kruskal, mannwhitneyu\n",
    "from impyute.imputation.cs import fast_knn, mean, median, random, mice, mode, em"
   ],
   "metadata": {
    "collapsed": false,
    "pycharm": {
     "name": "#%%\n",
     "is_executing": true
    }
   }
  },
  {
   "cell_type": "markdown",
   "source": [
    "# Prepare data"
   ],
   "metadata": {
    "collapsed": false,
    "pycharm": {
     "name": "#%% md\n"
    }
   }
  },
  {
   "cell_type": "code",
   "execution_count": 46,
   "outputs": [
    {
     "name": "stdout",
     "output_type": "stream",
     "text": [
      "Perform imputation for 1 missed values\n"
     ]
    }
   ],
   "source": [
    "dataset = \"GSEUNN\"\n",
    "path = f\"E:/YandexDisk/Work/pydnameth/datasets\"\n",
    "datasets_info = pd.read_excel(f\"{path}/datasets.xlsx\", index_col='dataset')\n",
    "platform = datasets_info.loc[dataset, 'platform']\n",
    "manifest = get_manifest(platform)\n",
    "\n",
    "path_save = f\"{path}/{platform}/{dataset}/special/028_sphy_snp\"\n",
    "pathlib.Path(f\"{path_save}\").mkdir(parents=True, exist_ok=True)\n",
    "\n",
    "df_data = pd.read_excel(f\"{path}/{platform}/{dataset}/special/022_ml_data_cardio/snp_sphy/data.xlsx\", index_col='index')\n",
    "\n",
    "imputation = 'fast_knn'\n",
    "fast_knn_k = 1\n",
    "\n",
    "df_features_sphy_cat = pd.read_excel(f\"{path}/{platform}/{dataset}/special/022_ml_data_cardio/snp_sphy/features_sphy_cat.xlsx\", index_col='features')\n",
    "features_sphy_cat = df_features_sphy_cat.index.values\n",
    "df_features_snp_cat = pd.read_excel(f\"{path}/{platform}/{dataset}/special/022_ml_data_cardio/snp_sphy/features_snp_cat.xlsx\", index_col='features')\n",
    "features_snp_cat = df_features_snp_cat.index.values\n",
    "df_features_sphy_cont = pd.read_excel(f\"{path}/{platform}/{dataset}/special/022_ml_data_cardio/snp_sphy/features_sphy_cont.xlsx\", index_col='features')\n",
    "features_sphy_cont = df_features_sphy_cont.index.values\n",
    "\n",
    "is_nans = df_data.loc[:, features_sphy_cont].isnull().values.any()\n",
    "if is_nans:\n",
    "    n_nans = df_data.loc[:, features_sphy_cont].isna().sum().sum()\n",
    "    print(f\"Perform imputation for {n_nans} missed values\")\n",
    "    df_data.loc[:, features_sphy_cont] = df_data.loc[:, features_sphy_cont].astype('float')\n",
    "    if imputation == \"median\":\n",
    "        imputed_training = median(df_data.loc[:, features_sphy_cont].values)\n",
    "    elif imputation == \"mean\":\n",
    "        imputed_training = mean(df_data.loc[:, features_sphy_cont].values)\n",
    "    elif imputation == \"fast_knn\":\n",
    "        imputed_training = fast_knn(df_data.loc[:, features_sphy_cont].values, k=fast_knn_k)\n",
    "    elif imputation == \"random\":\n",
    "        imputed_training = random(df_data.loc[:, features_sphy_cont].values)\n",
    "    elif imputation == \"mice\":\n",
    "        imputed_training = mice(df_data.loc[:, features_sphy_cont].values)\n",
    "    elif imputation == \"em\":\n",
    "        imputed_training = em(df_data.loc[:, features_sphy_cont].values)\n",
    "    elif imputation == \"mode\":\n",
    "        imputed_training = mode(df_data.loc[:, features_sphy_cont].values)\n",
    "    else:\n",
    "        raise ValueError(f\"Unsupported imputation: {imputation}\")\n",
    "    df_data.loc[:, features_sphy_cont] = imputed_training"
   ],
   "metadata": {
    "collapsed": false,
    "pycharm": {
     "name": "#%%\n"
    }
   }
  },
  {
   "cell_type": "code",
   "execution_count": 57,
   "outputs": [],
   "source": [
    "df_pval_cat_cat = pd.DataFrame(data=np.zeros(shape=(len(features_snp_cat), len(features_sphy_cat))), index=features_snp_cat, columns=features_sphy_cat)\n",
    "for f_id_snp, f_snp in enumerate(features_snp_cat):\n",
    "    for f_id_shpy, f_shpy in enumerate(features_sphy_cat):\n",
    "        df_cross = pd.crosstab(df_data[f_snp], df_data[f_shpy])\n",
    "        chi2, pval, dof, ex = chi2_contingency(df_cross, correction=True)\n",
    "        df_pval_cat_cat.at[f_snp, f_shpy] = pval\n",
    "df_pval_cat_cat_fdr = df_pval_cat_cat.copy()\n",
    "selection = np.ones((df_pval_cat_cat.shape[0], df_pval_cat_cat.shape[1]), dtype=np.bool)\n",
    "df_fdr = df_pval_cat_cat.where(selection).stack().reset_index()\n",
    "df_fdr.columns = ['row', 'col', 'pval']\n",
    "_, pvals_corr, _, _ = multipletests(df_fdr.loc[:, 'pval'].values, 0.05, method='fdr_bh')\n",
    "df_fdr['pval_fdr_bh'] = pvals_corr\n",
    "for line_id in range(df_fdr.shape[0]):\n",
    "    df_pval_cat_cat_fdr.loc[df_fdr.at[line_id, 'row'], df_fdr.at[line_id, 'col']] = df_fdr.at[line_id, 'pval_fdr_bh']"
   ],
   "metadata": {
    "collapsed": false,
    "pycharm": {
     "name": "#%%\n"
    }
   }
  },
  {
   "cell_type": "code",
   "execution_count": 56,
   "outputs": [],
   "source": [
    "df_pval_cat_cont = pd.DataFrame(data=np.zeros(shape=(len(features_snp_cat), len(features_sphy_cont))), index=features_snp_cat, columns=features_sphy_cont)\n",
    "for f_id_snp, f_snp in enumerate(features_snp_cat):\n",
    "    for f_id_shpy, f_shpy in enumerate(features_sphy_cont):\n",
    "        cats = df_data[f_snp].unique()\n",
    "        vals_dict = {}\n",
    "        for cat in cats:\n",
    "            vals_cat = df_data.loc[df_data[f_snp] == cat, f_shpy].values\n",
    "            vals_dict[cat] = vals_cat\n",
    "        if len(cats) > 2:\n",
    "            stat, pval = kruskal(*vals_dict.values())\n",
    "        elif len(cats) == 2:\n",
    "            stat, pval = mannwhitneyu(*vals_dict.values(), alternative='two-sided')\n",
    "        else:\n",
    "            raise ValueError(\"Number of datasets less than 2\")\n",
    "        df_pval_cat_cont.at[f_snp, f_shpy] = pval\n",
    "df_pval_cat_cont_fdr = df_pval_cat_cont.copy()\n",
    "selection = np.ones((df_pval_cat_cont.shape[0], df_pval_cat_cont.shape[1]), dtype=np.bool)\n",
    "df_fdr = df_pval_cat_cont.where(selection).stack().reset_index()\n",
    "df_fdr.columns = ['row', 'col', 'pval']\n",
    "_, pvals_corr, _, _ = multipletests(df_fdr.loc[:, 'pval'].values, 0.05, method='fdr_bh')\n",
    "df_fdr['pval_fdr_bh'] = pvals_corr\n",
    "for line_id in range(df_fdr.shape[0]):\n",
    "    df_pval_cat_cont_fdr.loc[df_fdr.at[line_id, 'row'], df_fdr.at[line_id, 'col']] = df_fdr.at[line_id, 'pval_fdr_bh']"
   ],
   "metadata": {
    "collapsed": false,
    "pycharm": {
     "name": "#%%\n"
    }
   }
  }
 ],
 "metadata": {
  "kernelspec": {
   "display_name": "Python 3",
   "language": "python",
   "name": "python3"
  },
  "language_info": {
   "codemirror_mode": {
    "name": "ipython",
    "version": 2
   },
   "file_extension": ".py",
   "mimetype": "text/x-python",
   "name": "python",
   "nbconvert_exporter": "python",
   "pygments_lexer": "ipython2",
   "version": "2.7.6"
  }
 },
 "nbformat": 4,
 "nbformat_minor": 0
}