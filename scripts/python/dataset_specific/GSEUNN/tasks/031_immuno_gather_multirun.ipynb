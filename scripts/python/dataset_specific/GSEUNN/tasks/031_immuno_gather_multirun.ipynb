{
 "cells": [
  {
   "cell_type": "code",
   "execution_count": null,
   "outputs": [],
   "source": [
    "import pandas as pd\n",
    "import numpy as np\n",
    "import scipy\n",
    "from sklearn.linear_model import ElasticNet, ElasticNetCV\n",
    "from sklearn.model_selection import RepeatedKFold, GridSearchCV\n",
    "from sklearn.metrics import mean_squared_error, mean_absolute_error, r2_score\n",
    "from scripts.python.routines.betas import betas_drop_na\n",
    "from plotly.subplots import make_subplots\n",
    "from scipy import stats\n",
    "import pickle\n",
    "import random\n",
    "import plotly.express as px\n",
    "import copy\n",
    "import statsmodels.formula.api as smf\n",
    "from sklearn.metrics import mean_squared_error, mean_absolute_error\n",
    "from scripts.python.pheno.datasets.filter import filter_pheno\n",
    "from scripts.python.pheno.datasets.features import get_column_name, get_status_dict, get_sex_dict\n",
    "from scripts.python.routines.plot.scatter import add_scatter_trace\n",
    "import plotly.graph_objects as go\n",
    "import pathlib\n",
    "from scripts.python.routines.manifest import get_manifest\n",
    "from scripts.python.routines.plot.save import save_figure\n",
    "from scripts.python.routines.plot.layout import add_layout, get_axis\n",
    "from scripts.python.routines.plot.p_value import add_p_value_annotation\n",
    "from statsmodels.stats.multitest import multipletests\n",
    "from sklearn.metrics import mean_absolute_error\n",
    "from impyute.imputation.cs import fast_knn, mean, median, random, mice, mode, em\n",
    "import plotly.io as pio\n",
    "pio.kaleido.scope.mathjax = None\n",
    "from plotly.offline import init_notebook_mode, iplot\n",
    "init_notebook_mode(connected=False)\n",
    "from functools import reduce\n",
    "from scipy.stats import kruskal, mannwhitneyu\n",
    "from glob import glob\n",
    "import os"
   ],
   "metadata": {
    "collapsed": false,
    "pycharm": {
     "name": "#%%\n"
    }
   }
  },
  {
   "cell_type": "markdown",
   "source": [
    "# Init data"
   ],
   "metadata": {
    "collapsed": false,
    "pycharm": {
     "name": "#%% md\n"
    }
   }
  },
  {
   "cell_type": "code",
   "execution_count": null,
   "outputs": [],
   "source": [
    "dataset = \"GSEUNN\"\n",
    "path = f\"C:/YandexDisk/Work/pydnameth/datasets\"\n",
    "datasets_info = pd.read_excel(f\"{path}/datasets.xlsx\", index_col='dataset')\n",
    "platform = datasets_info.loc[dataset, 'platform']\n",
    "manifest = get_manifest(platform, path=path)\n",
    "\n",
    "model = 'lightgbm'\n",
    "run_time = '2022-08-22_10-34-00'\n",
    "\n",
    "path = f\"{path}/{platform}/{dataset}/special/021_ml_data/immuno/models/immuno_trn_val_{model}/multiruns/{run_time}\"\n",
    "\n",
    "files = glob(f\"{path}/*/metrics_val_best_*.xlsx\")\n",
    "\n",
    "df_tmp = pd.read_excel(files[0], index_col=\"metric\")\n",
    "df_res = pd.DataFrame(index=files, columns=[m + \"_trn\" for m in df_tmp.index.values] + [m + \"_val\" for m in df_tmp.index.values])\n",
    "for file in files:\n",
    "    df_val = pd.read_excel(file, index_col=\"metric\")\n",
    "    for metric in df_val.index.values:\n",
    "        df_res.at[file, metric + \"_val\"] = df_val.at[metric, \"val\"]\n",
    "    head, tail = os.path.split(file)\n",
    "    tail = tail.replace('val', 'trn')\n",
    "    df_train = pd.read_excel(f\"{head}/{tail}\", index_col=\"metric\")\n",
    "    for metric in df_train.index.values:\n",
    "        df_res.at[file, metric + \"_trn\"] = df_train.at[metric, \"trn\"]\n",
    "\n",
    "df_res.to_excel(f\"{path}/summary.xlsx\", index=True, index_label=\"file\")"
   ],
   "metadata": {
    "collapsed": false,
    "pycharm": {
     "name": "#%%\n"
    }
   }
  }
 ],
 "metadata": {
  "kernelspec": {
   "name": "pycharm-6a6b68d",
   "language": "python",
   "display_name": "PyCharm (dnam)"
  },
  "language_info": {
   "codemirror_mode": {
    "name": "ipython",
    "version": 2
   },
   "file_extension": ".py",
   "mimetype": "text/x-python",
   "name": "python",
   "nbconvert_exporter": "python",
   "pygments_lexer": "ipython2",
   "version": "2.7.6"
  }
 },
 "nbformat": 4,
 "nbformat_minor": 0
}