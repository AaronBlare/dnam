{
 "cells": [
  {
   "cell_type": "markdown",
   "source": [
    "# Imports"
   ],
   "metadata": {
    "collapsed": false
   }
  },
  {
   "cell_type": "code",
   "execution_count": null,
   "outputs": [],
   "source": [
    "import pandas as pd\n",
    "import numpy as np\n",
    "import scipy\n",
    "from sklearn.linear_model import ElasticNet, ElasticNetCV\n",
    "from sklearn.model_selection import RepeatedKFold, GridSearchCV\n",
    "from sklearn.metrics import mean_squared_error, mean_absolute_error, r2_score\n",
    "from scripts.python.routines.betas import betas_drop_na\n",
    "from plotly.subplots import make_subplots\n",
    "from scipy import stats\n",
    "import pickle\n",
    "import random\n",
    "import plotly.express as px\n",
    "import copy\n",
    "import statsmodels.formula.api as smf\n",
    "from sklearn.metrics import mean_squared_error, mean_absolute_error\n",
    "from scripts.python.pheno.datasets.filter import filter_pheno\n",
    "from scripts.python.pheno.datasets.features import get_column_name, get_status_dict, get_sex_dict\n",
    "from scripts.python.routines.plot.scatter import add_scatter_trace\n",
    "import plotly.graph_objects as go\n",
    "import pathlib\n",
    "from scripts.python.routines.manifest import get_manifest\n",
    "from scripts.python.routines.plot.save import save_figure\n",
    "from scripts.python.routines.plot.layout import add_layout, get_axis\n",
    "from scripts.python.routines.plot.p_value import add_p_value_annotation\n",
    "from statsmodels.stats.multitest import multipletests\n",
    "from sklearn.metrics import mean_absolute_error\n",
    "import plotly.io as pio\n",
    "pio.kaleido.scope.mathjax = None\n",
    "from plotly.offline import init_notebook_mode, iplot\n",
    "init_notebook_mode(connected=False)\n",
    "from functools import reduce\n",
    "from scipy.stats import kruskal, mannwhitneyu\n",
    "from glob import glob\n",
    "import os\n",
    "import matplotlib.pyplot as plt\n",
    "import seaborn as sns\n",
    "import pathlib\n",
    "import matplotlib.ticker as tkr\n",
    "from sklearn.metrics import mean_absolute_error\n",
    "from collections import defaultdict\n",
    "import matplotlib.gridspec as gridspec\n",
    "import matplotlib.image as mpimg\n",
    "import patchworklib as pw"
   ],
   "metadata": {
    "collapsed": false
   }
  },
  {
   "cell_type": "markdown",
   "source": [
    "# Init data"
   ],
   "metadata": {
    "collapsed": false
   }
  },
  {
   "cell_type": "code",
   "execution_count": null,
   "outputs": [],
   "source": [
    "path_save = \"E:/YandexDisk/Work/pydnameth/datasets/GPL21145/GSEUNN/special/033_immuno_ml_draft_figures\"\n",
    "pathlib.Path(f\"{path_save}\").mkdir(parents=True, exist_ok=True)\n",
    "\n",
    "path_load = \"E:/YandexDisk/Work/pydnameth/datasets/GPL21145/GSEUNN/special/021_ml_data/immuno\"\n",
    "\n",
    "df = pd.read_excel(f\"{path_load}/260_imp(fast_knn)_replace(quarter).xlsx\", index_col=\"index\")\n",
    "feats = pd.read_excel(f\"{path_load}/feats_con.xlsx\", index_col=\"features\").index.values"
   ],
   "metadata": {
    "collapsed": false
   }
  },
  {
   "cell_type": "markdown",
   "source": [
    "# ipAGE checking"
   ],
   "metadata": {
    "collapsed": false
   }
  },
  {
   "cell_type": "code",
   "execution_count": null,
   "outputs": [],
   "source": [
    "df_ipage_model = pd.read_excel(f\"E:/YandexDisk/Work/pydnameth/datasets/GPL21145/GSEUNN/special/011_immuno_part3_and_part4_check_clocks/legacy/Control/v22/clock.xlsx\")\n",
    "features = df_ipage_model['feature'].to_list()\n",
    "coefs = df_ipage_model['coef'].to_list()\n",
    "\n",
    "df['ipAGE'] = np.full(df.shape[0], coefs[0])\n",
    "for feat_id in range(1, len(features)):\n",
    "    df['ipAGE'] += df.loc[:, features[feat_id]].values * coefs[feat_id]\n",
    "\n",
    "ipage_mae_all = mean_absolute_error(df['Age'], df['ipAGE'])\n",
    "ipage_mae_trn = mean_absolute_error(df.loc[df['ipAGE_trn_set'] == True, 'Age'].values, df.loc[df['ipAGE_trn_set'] == True, 'ipAGE'].values)\n",
    "ipage_mae_new = mean_absolute_error(df.loc[df['ipAGE_all_set'] == False, 'Age'].values, df.loc[df['ipAGE_all_set'] == False, 'ipAGE'].values)"
   ],
   "metadata": {
    "collapsed": false
   }
  },
  {
   "cell_type": "markdown",
   "source": [
    "# Data description (Participants) figures"
   ],
   "metadata": {
    "collapsed": false
   }
  },
  {
   "cell_type": "code",
   "execution_count": null,
   "outputs": [],
   "source": [
    "cat_feat_colors = {\"Sex\": [(\"F\", \"red\"), (\"M\", \"blue\")]}\n",
    "feat_x = \"Age\"\n",
    "bin_size = 5\n",
    "for feat, fields in cat_feat_colors.items():\n",
    "    fig = go.Figure()\n",
    "    for val, color in fields:\n",
    "        xs = df.loc[df[feat] == val, feat_x].values\n",
    "        fig.add_trace(\n",
    "            go.Histogram(\n",
    "                x=xs,\n",
    "                name=f\"{val} ({len(xs)})\",\n",
    "                showlegend=True,\n",
    "                marker=dict(\n",
    "                    color=color,\n",
    "                    opacity=0.75,\n",
    "                    line=dict(\n",
    "                        width=1,\n",
    "                        color=\"black\"\n",
    "                    ),\n",
    "                ),\n",
    "                xbins=dict(size=bin_size)\n",
    "            )\n",
    "        )\n",
    "    add_layout(fig, f\"{feat_x}\", \"Count\", \"\")\n",
    "    fig.update_layout(\n",
    "        margin=go.layout.Margin(l=90, r=20, b=75, t=50, pad=0),\n",
    "        legend_font_size=20,\n",
    "        legend={'itemsizing': 'constant'},\n",
    "        barmode='overlay'\n",
    "    )\n",
    "    pathlib.Path(f\"{path_save}/data_description_participants\").mkdir(parents=True, exist_ok=True)\n",
    "    save_figure(fig, f\"{path_save}/data_description_participants/histogram_cont({feat_x})_cat({feat})\")\n",
    "\n",
    "    df_save = df.loc[:, [feat_x, feat]]\n",
    "    df_save.to_excel(f\"{path_save}/data_description_participants/histogram_cont({feat_x})_cat({feat}).xlsx\", index=True)"
   ],
   "metadata": {
    "collapsed": false
   }
  },
  {
   "cell_type": "markdown",
   "source": [
    "# Data description (Features) figures"
   ],
   "metadata": {
    "collapsed": false
   }
  },
  {
   "cell_type": "markdown",
   "source": [
    "## Generate data for figure"
   ],
   "metadata": {
    "collapsed": false
   }
  },
  {
   "cell_type": "code",
   "execution_count": null,
   "outputs": [],
   "source": [
    "feats_plot = [\"Age\"] + list(feats)\n",
    "df_corr = pd.DataFrame(data=np.zeros(shape=(len(feats_plot), len(feats_plot))), index=feats_plot, columns=feats_plot)\n",
    "for f_id_1 in range(len(feats_plot)):\n",
    "    for f_id_2 in range(f_id_1, len(feats_plot)):\n",
    "        f_1 = feats_plot[f_id_1]\n",
    "        f_2 = feats_plot[f_id_2]\n",
    "        if f_id_1 != f_id_2:\n",
    "            vals_1 = df.loc[:, f_1].values\n",
    "            vals_2 = df.loc[:, f_2].values\n",
    "            corr, pval = stats.pearsonr(vals_1, vals_2)\n",
    "            df_corr.at[f_2, f_1] = pval\n",
    "            df_corr.at[f_1, f_2] = corr\n",
    "        else:\n",
    "            df_corr.at[f_2, f_1] = np.nan\n",
    "selection = np.tri(df_corr.shape[0], df_corr.shape[1], -1, dtype=np.bool)\n",
    "df_fdr = df_corr.where(selection).stack().reset_index()\n",
    "df_fdr.columns = ['row', 'col', 'pval']\n",
    "_, df_fdr['pval_fdr_bh'], _, _ = multipletests(df_fdr.loc[:, 'pval'].values, 0.05, method='fdr_bh')\n",
    "df_corr_fdr = df_corr.copy()\n",
    "for line_id in range(df_fdr.shape[0]):\n",
    "    df_corr_fdr.loc[df_fdr.at[line_id, 'row'], df_fdr.at[line_id, 'col']] = -np.log10(df_fdr.at[line_id, 'pval_fdr_bh'])"
   ],
   "metadata": {
    "collapsed": false
   }
  },
  {
   "cell_type": "markdown",
   "source": [
    "## Plot correlation matrix"
   ],
   "metadata": {
    "collapsed": false
   }
  },
  {
   "cell_type": "code",
   "execution_count": null,
   "outputs": [],
   "source": [
    "df_to_plot = df_corr_fdr.copy()\n",
    "mtx_to_plot = df_to_plot.to_numpy()\n",
    "\n",
    "mtx_triu = np.triu(mtx_to_plot, +1)\n",
    "max_corr = np.max(mtx_triu)\n",
    "min_corr = np.min(mtx_triu)\n",
    "mtx_triu_mask = np.ma.masked_array(mtx_triu, mtx_triu==0)\n",
    "cmap_triu = plt.get_cmap(\"bwr\").copy()\n",
    "\n",
    "mtx_tril = np.tril(mtx_to_plot, -1)\n",
    "mtx_tril_mask = np.ma.masked_array(mtx_tril, mtx_tril==0)\n",
    "cmap_tril = plt.get_cmap(\"viridis\").copy()\n",
    "cmap_tril.set_under('black')\n",
    "\n",
    "fig, ax = plt.subplots()\n",
    "\n",
    "im_triu = ax.imshow(mtx_triu_mask, cmap=cmap_triu, vmin=-1, vmax=1)\n",
    "cbar_triu = ax.figure.colorbar(im_triu, ax=ax, location='right')\n",
    "cbar_triu.set_label(r\"$\\mathrm{Correlation\\:coefficient}$\", horizontalalignment='center', fontsize=10)\n",
    "\n",
    "im_tril = ax.imshow(mtx_tril_mask, cmap=cmap_tril, vmin=-np.log10(0.05))\n",
    "cbar_tril = ax.figure.colorbar(im_tril, ax=ax, location='right')\n",
    "cbar_tril.set_label(r\"$-\\log_{10}(\\mathrm{p-value})$\", horizontalalignment='center', fontsize=10)\n",
    "\n",
    "ax.set_aspect(\"equal\")\n",
    "ax.set_xticks(np.arange(df_to_plot.shape[1]))\n",
    "ax.set_yticks(np.arange(df_to_plot.shape[0]))\n",
    "ax.set_xticklabels(df_to_plot.columns.values)\n",
    "ax.set_yticklabels(df_to_plot.index.values)\n",
    "plt.setp(ax.get_xticklabels(), rotation=90)\n",
    "threshold = np.ptp(mtx_tril.flatten()) * 0.5\n",
    "ax.tick_params(axis='both', which='major', labelsize=5)\n",
    "ax.tick_params(axis='both', which='minor', labelsize=5)\n",
    "textcolors = (\"black\", \"white\")\n",
    "for i in range(df_to_plot.shape[0]):\n",
    "    for j in range(df_to_plot.shape[1]):\n",
    "        color = \"black\"\n",
    "        if i > j:\n",
    "            color = textcolors[int(mtx_tril[i, j] < threshold)]\n",
    "        if np.isinf(mtx_to_plot[i, j]) or np.isnan(mtx_to_plot[i, j]):\n",
    "            text = ax.text(j, i, f\"\", ha=\"center\", va=\"center\", color=color, fontsize=1.3)\n",
    "        else:\n",
    "            text = ax.text(j, i, f\"{mtx_to_plot[i, j]:0.2f}\", ha=\"center\", va=\"center\", color=color, fontsize=1.3)\n",
    "fig.tight_layout()\n",
    "pathlib.Path(f\"{path_save}/data_description_features\").mkdir(parents=True, exist_ok=True)\n",
    "plt.savefig(f\"{path_save}/data_description_features/corr_mtx_fdr.png\", bbox_inches='tight', dpi=400)\n",
    "plt.savefig(f\"{path_save}/data_description_features/corr_mtx_fdr.pdf\", bbox_inches='tight', dpi=400)\n",
    "plt.clf()\n",
    "\n",
    "df_save = df_corr_fdr\n",
    "df_save.to_excel(f\"{path_save}/data_description_features/corr_mtx_fdr.xlsx\", index=True)"
   ],
   "metadata": {
    "collapsed": false
   }
  },
  {
   "cell_type": "markdown",
   "source": [
    "## Scatter plot of biomarkers vs age"
   ],
   "metadata": {
    "collapsed": false
   }
  },
  {
   "cell_type": "code",
   "execution_count": null,
   "outputs": [],
   "source": [
    "feats_plot = list(feats)\n",
    "num_cols = 5\n",
    "num_rows = int(np.ceil(len(feats_plot) / num_cols))\n",
    "sns.set_style(\"whitegrid\")\n",
    "fig, axes = plt.subplots(num_rows, num_cols, figsize=(16,22))\n",
    "for r_id in range(num_rows):\n",
    "    for c_id in range(num_cols):\n",
    "        rc_id = r_id * num_cols + c_id\n",
    "        if rc_id < len(feats_plot):\n",
    "            f = feats_plot[rc_id]\n",
    "\n",
    "            y_beg = 0\n",
    "            y_pctl = np.percentile(df.loc[:, f].values, [99])[0]\n",
    "            y_max = np.max(df.loc[:, f].values)\n",
    "            if y_max > 2*y_pctl:\n",
    "                y_end = y_pctl * 1.3\n",
    "            else:\n",
    "                y_end = y_max\n",
    "\n",
    "            sns.kdeplot(\n",
    "                ax=axes[r_id, c_id],\n",
    "                data=df, x=\"Age\",\n",
    "                y=f,\n",
    "                #hue=\"Sex\",\n",
    "                #palette={\"F\": \"red\", \"M\": \"blue\"},\n",
    "                legend=False,\n",
    "                clip=((0, 110), (y_beg, y_end)),\n",
    "                fill=True,\n",
    "                cbar=True,\n",
    "                cmap='magma',\n",
    "                cbar_kws={'format': '%0.2e'}\n",
    "            )\n",
    "        else:\n",
    "            axes[r_id, c_id].axis('off')\n",
    "\n",
    "fig.tight_layout()\n",
    "pathlib.Path(f\"{path_save}/data_description_features\").mkdir(parents=True, exist_ok=True)\n",
    "plt.savefig(f\"{path_save}/data_description_features/kdes_feats_vs_Age.png\", bbox_inches='tight')\n",
    "plt.savefig(f\"{path_save}/data_description_features/kdes_feats_vs_Age.pdf\", bbox_inches='tight')\n",
    "plt.clf()\n",
    "\n",
    "df_save = df.loc[:, [\"Age\"] + list(feats)]\n",
    "df_save.to_excel(f\"{path_save}/data_description_features/kdes_feats_vs_Age.xlsx\", index=True)"
   ],
   "metadata": {
    "collapsed": false
   }
  },
  {
   "cell_type": "code",
   "execution_count": null,
   "outputs": [],
   "source": [
    "feats_plot = list(feats)\n",
    "num_cols = 5\n",
    "num_rows = int(np.ceil(len(feats_plot) / num_cols))\n",
    "\n",
    "fig = make_subplots(rows=num_rows, cols=num_cols, shared_yaxes=False)\n",
    "\n",
    "for r_id in range(num_rows):\n",
    "    for c_id in range(num_cols):\n",
    "        rc_id = r_id * num_cols + c_id\n",
    "        if rc_id < len(feats_plot):\n",
    "            f = feats_plot[rc_id]\n",
    "\n",
    "            if rc_id == 0:\n",
    "                show_legend=True\n",
    "            else:\n",
    "                show_legend=False\n",
    "\n",
    "            x_f = df.loc[df[\"Sex\"] == \"F\", 'Age'].values\n",
    "            y_f = df.loc[df[\"Sex\"] == \"F\", f].values\n",
    "            x_m = df.loc[df[\"Sex\"] == \"M\", 'Age'].values\n",
    "            y_m = df.loc[df[\"Sex\"] == \"M\", f].values\n",
    "\n",
    "            y_beg = 0\n",
    "            y_pctl = np.percentile(df.loc[:, f].values, [90])[0]\n",
    "            y_max = np.max(df.loc[:, f].values)\n",
    "            if y_max > 2*y_pctl:\n",
    "                y_end = y_pctl * 1.3\n",
    "            else:\n",
    "                y_end = y_max\n",
    "\n",
    "            fig.add_trace(\n",
    "                go.Scatter(\n",
    "                    x=x_f,\n",
    "                    y=y_f,\n",
    "                    showlegend=show_legend,\n",
    "                    name=f\"F ({len(x_f)})\",\n",
    "                    mode='markers',\n",
    "                    marker=dict(\n",
    "                        size=10,\n",
    "                        opacity=0.7,\n",
    "                        line=dict(\n",
    "                            width=0.1\n",
    "                        ),\n",
    "                        color='red'\n",
    "                    )\n",
    "                ),\n",
    "                row=r_id + 1,\n",
    "                col=c_id + 1\n",
    "            )\n",
    "            fig.add_trace(\n",
    "                go.Scatter(\n",
    "                    x=x_m,\n",
    "                    y=y_m,\n",
    "                    showlegend=show_legend,\n",
    "                    name=f\"M ({len(x_m)})\",\n",
    "                    mode='markers',\n",
    "                    marker=dict(\n",
    "                        size=10,\n",
    "                        opacity=0.7,\n",
    "                        line=dict(\n",
    "                            width=0.1\n",
    "                        ),\n",
    "                        color='blue'\n",
    "                    )\n",
    "                ),\n",
    "                row=r_id + 1,\n",
    "                col=c_id + 1\n",
    "            )\n",
    "            fig.update_xaxes(\n",
    "                autorange=False,\n",
    "                title_text=\"Age\",\n",
    "                range=[10, 100],\n",
    "                row=r_id + 1,\n",
    "                col=c_id + 1,\n",
    "                showgrid=True,\n",
    "                zeroline=False,\n",
    "                linecolor='black',\n",
    "                showline=True,\n",
    "                gridcolor='gainsboro',\n",
    "                gridwidth=0.05,\n",
    "                mirror=True,\n",
    "                ticks='outside',\n",
    "                titlefont=dict(\n",
    "                    color='black',\n",
    "                    size=20\n",
    "                ),\n",
    "                showticklabels=True,\n",
    "                tickangle=0,\n",
    "                tickfont=dict(\n",
    "                    color='black',\n",
    "                    size=20\n",
    "                ),\n",
    "                exponentformat='e',\n",
    "                showexponent='all'\n",
    "            )\n",
    "            fig.update_yaxes(\n",
    "                autorange=False,\n",
    "                title_text=f\"{f}\",\n",
    "                range=[y_beg, y_end],\n",
    "                row=r_id + 1,\n",
    "                col=c_id + 1,\n",
    "                showgrid=True,\n",
    "                zeroline=False,\n",
    "                linecolor='black',\n",
    "                showline=True,\n",
    "                gridcolor='gainsboro',\n",
    "                gridwidth=0.05,\n",
    "                mirror=True,\n",
    "                ticks='outside',\n",
    "                titlefont=dict(\n",
    "                    color='black',\n",
    "                    size=20\n",
    "                ),\n",
    "                showticklabels=True,\n",
    "                tickangle=0,\n",
    "                tickfont=dict(\n",
    "                    color='black',\n",
    "                    size=20\n",
    "                ),\n",
    "                exponentformat='e',\n",
    "                showexponent='all'\n",
    "            )\n",
    "\n",
    "fig.update_layout(\n",
    "    legend=dict(\n",
    "        orientation=\"h\",\n",
    "        yanchor=\"bottom\",\n",
    "        y=1.01,\n",
    "        xanchor=\"center\",\n",
    "        x=0.5,\n",
    "        itemsizing='constant',\n",
    "        font_size=50\n",
    "    ),\n",
    "    title=dict(\n",
    "        text=\"\",\n",
    "        font=dict(size=25)\n",
    "    ),\n",
    "    template=\"none\",\n",
    "    autosize=False,\n",
    "    width=3000,\n",
    "    height=4000,\n",
    "    margin=go.layout.Margin(\n",
    "        l=100,\n",
    "        r=40,\n",
    "        b=100,\n",
    "        t=100,\n",
    "        pad=0\n",
    "    ),\n",
    ")\n",
    "pathlib.Path(f\"{path_save}/data_description_features\").mkdir(parents=True, exist_ok=True)\n",
    "save_figure(fig, f\"{path_save}/data_description_features/scatters_feats_vs_Age\")\n",
    "save_figure(fig, f\"{path_save}/data_description_features/scatters_feats_vs_Age\")"
   ],
   "metadata": {
    "collapsed": false
   }
  },
  {
   "cell_type": "markdown",
   "source": [
    "# Feature selection and dimensionality reduction"
   ],
   "metadata": {
    "collapsed": false
   }
  },
  {
   "cell_type": "markdown",
   "source": [
    "## Frequency of features occurring in Top-10"
   ],
   "metadata": {
    "collapsed": false
   }
  },
  {
   "cell_type": "code",
   "execution_count": null,
   "outputs": [],
   "source": [
    "path_models = \"E:/YandexDisk/Work/pydnameth/datasets/GPL21145/GSEUNN/special/021_ml_data/immuno/models/feature_selection\"\n",
    "models_best = {\n",
    "    \"danet\": \"2022-09-17_15-16-02\",\n",
    "    \"lightgbm\": \"2022-09-17_17-14-05\",\n",
    "    \"widedeep_tab_net\": \"2022-09-17_14-34-04\"\n",
    "}\n",
    "n_top = 10\n",
    "\n",
    "df_feats_freqs = pd.DataFrame(data=np.zeros(len(feats)), index=feats, columns=[\"Frequency\"])\n",
    "df_feats_freqs.index.name = \"Features\"\n",
    "\n",
    "for model, date_time in models_best.items():\n",
    "    df_feat_imps = pd.read_excel(f\"{path_models}/{model}/{date_time}/feature_importances_cv.xlsx\", index_col=\"fold\")\n",
    "    df_feat_imps = df_feat_imps.T\n",
    "    for fold_id in df_feat_imps.columns.values:\n",
    "        df_feat_imps.sort_values(by=fold_id, ascending=False, inplace=True)\n",
    "        for top_id in range(n_top):\n",
    "            df_feats_freqs.at[df_feat_imps.index.values[top_id], \"Frequency\"] += 1\n",
    "df_feats_freqs.sort_values(by=\"Frequency\", ascending=False, inplace=True)"
   ],
   "metadata": {
    "collapsed": false
   }
  },
  {
   "cell_type": "code",
   "execution_count": null,
   "outputs": [],
   "source": [
    "plt.figure(figsize=(34, 10))\n",
    "plt.xticks(rotation=90)\n",
    "sns.set_theme(style='white', font_scale=3)\n",
    "sns.barplot(data=df_feats_freqs, x=df_feats_freqs.index, y=\"Frequency\")\n",
    "pathlib.Path(f\"{path_save}/feature_importance\").mkdir(parents=True, exist_ok=True)\n",
    "plt.savefig(f\"{path_save}/feature_importance/bar.png\", bbox_inches='tight')\n",
    "plt.savefig(f\"{path_save}/feature_importance/bar.pdf\", bbox_inches='tight')\n",
    "df_feats_freqs.to_excel(f\"{path_save}/feature_importance/bar.xlsx\", index=True)"
   ],
   "metadata": {
    "collapsed": false
   }
  },
  {
   "cell_type": "markdown",
   "source": [
    "## Plot supplementary correlation scatter matrix"
   ],
   "metadata": {
    "collapsed": false
   }
  },
  {
   "cell_type": "code",
   "execution_count": null,
   "outputs": [],
   "source": [
    "feats_top10 = pd.read_excel(f\"{path_load}/feats_con_top10.xlsx\", index_col=\"features\").index.values\n",
    "\n",
    "feats_plot = [\"Age\"] + list(feats_top10)\n",
    "sns.set_theme(style=\"whitegrid\", font_scale=2)\n",
    "# pair_grid = sns.PairGrid(df, hue='Sex', vars=feats_plot, palette={\"F\": \"red\", \"M\": \"blue\"})\n",
    "pair_grid = sns.PairGrid(df, vars=feats_plot)\n",
    "pair_grid.map_upper(sns.scatterplot, color='darkred', s=100, alpha=0.5)\n",
    "pair_grid.map_lower(sns.kdeplot, fill=True, cbar=False, cmap='rocket_r', thresh=-0.1)\n",
    "pair_grid.map_diag(plt.hist, bins=15, color='darkred', edgecolor='k')\n",
    "pair_grid.add_legend()\n",
    "for ax in pair_grid.axes.flatten():\n",
    "    ax.get_yaxis().set_label_coords(-0.5, 0.5)\n",
    "plt.tick_params(axis='both')\n",
    "plt.savefig(f\"{path_save}/feature_importance/corr_scatter_mtx.png\", bbox_inches='tight')\n",
    "plt.savefig(f\"{path_save}/feature_importance/corr_scatter_mtx.pdf\", bbox_inches='tight')\n",
    "plt.clf()\n",
    "df_save = df.loc[:, [\"Age\"] + list(feats_top10)]\n",
    "df_save.to_excel(f\"{path_save}/feature_importance/corr_scatter_mtx.xlsx\", index=True)"
   ],
   "metadata": {
    "collapsed": false
   }
  },
  {
   "cell_type": "markdown",
   "source": [
    "## Trying to combine two plots in sns"
   ],
   "metadata": {
    "collapsed": false
   }
  },
  {
   "cell_type": "code",
   "execution_count": null,
   "outputs": [],
   "source": [
    "feats_top10 = pd.read_excel(f\"{path_load}/feats_con_top10.xlsx\", index_col=\"features\").index.values\n",
    "\n",
    "pw.overwrite_axisgrid()\n",
    "\n",
    "sns.set_theme(style='white', font_scale=3)\n",
    "df_feats_freqs['Features'] = df_feats_freqs.index\n",
    "df_feats_freqs['Color'] = 'pink'\n",
    "df_feats_freqs.loc[df_feats_freqs[\"Features\"].isin(feats_top10), 'Color'] = 'red'\n",
    "g0 = sns.FacetGrid(df_feats_freqs)\n",
    "g0.map(sns.barplot, 'Features', \"Frequency\", palette=df_feats_freqs['Color'].values, order=df_feats_freqs['Features'].values)\n",
    "for ax in g0.axes.flat:\n",
    "    for label in ax.get_xticklabels():\n",
    "        label.set_rotation(90)\n",
    "for ax in g0.axes.flat:\n",
    "    ax.text(-4, 75,'(a)', fontsize=72)\n",
    "    ax.text(-4, -23,'(b)', fontsize=72)\n",
    "g0 = pw.load_seaborngrid(g0, figsize=(30, 10))\n",
    "\n",
    "feats_plot = [\"Age\"] + list(feats_top10)\n",
    "sns.set_theme(style=\"whitegrid\", font_scale=2.5)\n",
    "g1 = sns.PairGrid(df, vars=feats_plot)\n",
    "g1.map_diag(plt.hist, bins=15, color='darkred', edgecolor='k')\n",
    "g1.map_upper(sns.scatterplot, color='darkred', s=100, alpha=0.5)\n",
    "g1.map_lower(sns.kdeplot, fill=True, cbar=False, cmap='rocket_r', thresh=-0.1)\n",
    "g1.add_legend()\n",
    "for ax in g1.axes.flatten():\n",
    "    ax.get_yaxis().set_label_coords(-0.6, 0.5)\n",
    "g1 = pw.load_seaborngrid(g1, figsize=(30, 30))\n",
    "\n",
    "(g0/g1).savefig(f\"{path_save}/feature_importance/together.pdf\")"
   ],
   "metadata": {
    "collapsed": false
   }
  }
 ],
 "metadata": {
  "kernelspec": {
   "name": "pycharm-7948d80f",
   "language": "python",
   "display_name": "PyCharm (dnam)"
  },
  "language_info": {
   "codemirror_mode": {
    "name": "ipython",
    "version": 2
   },
   "file_extension": ".py",
   "mimetype": "text/x-python",
   "name": "python",
   "nbconvert_exporter": "python",
   "pygments_lexer": "ipython2",
   "version": "2.7.6"
  }
 },
 "nbformat": 4,
 "nbformat_minor": 0
}
