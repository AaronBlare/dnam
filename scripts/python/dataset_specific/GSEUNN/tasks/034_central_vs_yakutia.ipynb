{
 "cells": [
  {
   "cell_type": "code",
   "execution_count": null,
   "outputs": [],
   "source": [
    "import pandas as pd\n",
    "import numpy as np\n",
    "import scipy\n",
    "from sklearn.linear_model import ElasticNet, ElasticNetCV\n",
    "from sklearn.model_selection import RepeatedKFold, GridSearchCV\n",
    "from sklearn.metrics import mean_squared_error, mean_absolute_error, r2_score\n",
    "from scripts.python.routines.betas import betas_drop_na\n",
    "from plotly.subplots import make_subplots\n",
    "from scipy import stats\n",
    "from functools import reduce\n",
    "import seaborn as sns\n",
    "import pickle\n",
    "import random\n",
    "import plotly.express as px\n",
    "import copy\n",
    "import statsmodels.formula.api as smf\n",
    "from sklearn.metrics import mean_squared_error, mean_absolute_error\n",
    "from scripts.python.pheno.datasets.filter import filter_pheno\n",
    "from scripts.python.pheno.datasets.features import get_column_name, get_status_dict, get_sex_dict\n",
    "from scripts.python.routines.plot.scatter import add_scatter_trace\n",
    "import plotly.graph_objects as go\n",
    "import pathlib\n",
    "from scripts.python.routines.manifest import get_manifest\n",
    "from scripts.python.routines.plot.save import save_figure\n",
    "from scripts.python.routines.plot.layout import add_layout, get_axis\n",
    "from scripts.python.routines.plot.p_value import add_p_value_annotation\n",
    "from statsmodels.stats.multitest import multipletests\n",
    "from sklearn.metrics import mean_absolute_error\n",
    "from impyute.imputation.cs import fast_knn, mean, median, random, mice, mode, em\n",
    "import plotly.io as pio\n",
    "pio.kaleido.scope.mathjax = None\n",
    "from plotly.offline import init_notebook_mode\n",
    "init_notebook_mode(connected=False)\n",
    "from scipy.stats import mannwhitneyu\n",
    "from scripts.python.preprocessing.serialization.routines.save import save_pheno_betas_to_pkl\n",
    "import matplotlib.pyplot as plt\n",
    "import seaborn as sns\n",
    "import pathlib\n",
    "from tqdm import tqdm\n",
    "from random import Random\n",
    "from bioinfokit import analys, visuz\n",
    "import sys"
   ],
   "metadata": {
    "collapsed": false
   }
  },
  {
   "cell_type": "markdown",
   "source": [
    "# Init dnam and immuno data"
   ],
   "metadata": {
    "collapsed": false
   }
  },
  {
   "cell_type": "code",
   "execution_count": null,
   "outputs": [],
   "source": [
    "dataset = \"GSEUNN\"\n",
    "path = f\"E:/YandexDisk/Work/pydnameth/datasets\"\n",
    "datasets_info = pd.read_excel(f\"{path}/datasets.xlsx\", index_col='dataset')\n",
    "platform = datasets_info.loc[dataset, 'platform']\n",
    "manifest = get_manifest(platform, path=path)\n",
    "\n",
    "path_save = f\"{path}/{platform}/{dataset}/special/034_central_vs_yakutia\"\n",
    "pathlib.Path(f\"{path_save}\").mkdir(parents=True, exist_ok=True)\n",
    "\n",
    "immun_num_samples = 1052\n",
    "immun_preprocessing = \"minmax_left(0.05)_right(0.95)_combat\"\n",
    "immun_df = pd.read_excel(f\"{path}/{platform}/{dataset}/data/immuno/df_type({immun_preprocessing})_all({immun_num_samples})_imp(fast_knn)_replace(quarter).xlsx\", index_col=\"index\")\n",
    "immun_df = immun_df.loc[(immun_df[\"Status\"] == \"Control\"), :]\n",
    "immun_feats = pd.read_excel(f\"{path}/{platform}/{dataset}/data/immuno/immuno_markers_genes.xlsx\").loc[:, 'gene'].values.tolist()\n",
    "\n",
    "indexes_common = immun_df.index[immun_df[\"is_dnam\"] == True].values\n",
    "\n",
    "pheno = pd.read_excel(f\"{path}/{platform}/{dataset}/pheno.xlsx\", index_col=\"index\")\n",
    "pheno.index.name = \"index\"\n",
    "betas = pd.read_pickle(f\"{path}/{platform}/{dataset}/betas.pkl\")\n",
    "dnam_feats = betas.columns.values\n",
    "dnam_df = pd.merge(pheno, betas, left_index=True, right_index=True)\n",
    "dnam_df = dnam_df.loc[(dnam_df[\"Status\"] == \"Control\"), :]\n",
    "dnam_df = dnam_df.loc[indexes_common, :]\n",
    "\n",
    "n_samples_central = len(immun_df.index[immun_df[\"Region\"] == \"Central\"].values)\n",
    "n_samples_yakutiya = len(immun_df.index[immun_df[\"Region\"] == \"Yakutiya\"].values)"
   ],
   "metadata": {
    "collapsed": false
   }
  },
  {
   "cell_type": "markdown",
   "source": [
    "# Create data for R"
   ],
   "metadata": {
    "collapsed": false
   }
  },
  {
   "cell_type": "code",
   "execution_count": null,
   "outputs": [],
   "source": [
    "pathlib.Path(f\"{path_save}/data_for_R\").mkdir(parents=True, exist_ok=True)\n",
    "\n",
    "betas_R = dnam_df.loc[:, dnam_feats]\n",
    "betas_R = betas_R.T\n",
    "betas_R.index.name = \"CpG\"\n",
    "betas_R.to_pickle(f\"{path_save}/data_for_R/betas.pkl\")\n",
    "\n",
    "pheno_R = dnam_df.loc[:, [\"Age\", \"Sex\", \"Region\", \"DNAmPart\", \"Sentrix_ID\", \"Sentrix_Position\", \"CD8T\", \"CD4T\", \"NK\", \"Bcell\", \"Mono\", \"Gran\", 'DNAmAgeHannum', 'DNAmAge', 'DNAmPhenoAge', 'DNAmGrimAge']]\n",
    "pheno_R.to_pickle(f\"{path_save}/data_for_R/pheno.pkl\")"
   ],
   "metadata": {
    "collapsed": false
   }
  },
  {
   "cell_type": "markdown",
   "source": [
    "# Data description"
   ],
   "metadata": {
    "collapsed": false
   }
  },
  {
   "cell_type": "markdown",
   "source": [
    "## Participants figure"
   ],
   "metadata": {
    "collapsed": false
   }
  },
  {
   "cell_type": "code",
   "execution_count": null,
   "outputs": [],
   "source": [
    "path_local = \"data_description/participants\"\n",
    "pathlib.Path(f\"{path_save}/{path_local}\").mkdir(parents=True, exist_ok=True)\n",
    "\n",
    "# Data for figure\n",
    "df_figure = immun_df.loc[:, [\"Age\", \"Sex\", \"Region\", \"Status\"]]\n",
    "df_figure[\"Data\"] = \"Immuno only\"\n",
    "df_figure.loc[indexes_common, \"Data\"] = \"Immuno and DNAm\"\n",
    "\n",
    "# Params for figure\n",
    "binrange = [0, 105]\n",
    "bins = 15\n",
    "\n",
    "palette = {\n",
    "    \"Immuno and DNAm\": \"forestgreen\",\n",
    "    \"Immuno only\": \"lawngreen\",\n",
    "}\n",
    "hue_order = ['Immuno only', 'Immuno and DNAm']\n",
    "sns.set_theme(style='whitegrid')\n",
    "sns.histplot(\n",
    "    data=df_figure.loc[df_figure[\"Region\"] == \"Central\", :],\n",
    "    hue_order=hue_order,\n",
    "    binrange=binrange,\n",
    "    bins=bins,\n",
    "    x=\"Age\",\n",
    "    hue=\"Data\",\n",
    "    palette=palette,\n",
    "    multiple=\"stack\"\n",
    ")\n",
    "plt.savefig(f\"{path_save}/{path_local}/hist_Central.png\", bbox_inches='tight')\n",
    "plt.savefig(f\"{path_save}/{path_local}/hist_Central.pdf\", bbox_inches='tight')\n",
    "plt.clf()\n",
    "\n",
    "palette = {\n",
    "    \"Immuno and DNAm\": \"royalblue\",\n",
    "    \"Immuno only\": \"deepskyblue\",\n",
    "}\n",
    "sns.set_theme(style='whitegrid')\n",
    "sns.histplot(\n",
    "    data=df_figure.loc[df_figure[\"Region\"] == \"Yakutiya\", :],\n",
    "    hue_order=hue_order,\n",
    "    binrange=binrange,\n",
    "    bins=bins,\n",
    "    x=\"Age\",\n",
    "    hue=\"Data\",\n",
    "    palette=palette,\n",
    "    multiple=\"stack\"\n",
    ")\n",
    "plt.savefig(f\"{path_save}/{path_local}/hist_Yakutiya.png\", bbox_inches='tight')\n",
    "plt.savefig(f\"{path_save}/{path_local}/hist_Yakutiya.pdf\", bbox_inches='tight')\n",
    "plt.clf()"
   ],
   "metadata": {
    "collapsed": false
   }
  },
  {
   "cell_type": "markdown",
   "source": [
    "## Immun features"
   ],
   "metadata": {
    "collapsed": false
   }
  },
  {
   "cell_type": "code",
   "execution_count": null,
   "outputs": [],
   "source": [
    "feats_plot = [\"Age\"] + list(immun_feats)\n",
    "df_corr = pd.DataFrame(data=np.zeros(shape=(len(feats_plot), len(feats_plot))), index=feats_plot, columns=feats_plot)\n",
    "for f_id_1 in range(len(feats_plot)):\n",
    "    for f_id_2 in range(f_id_1, len(feats_plot)):\n",
    "        f_1 = feats_plot[f_id_1]\n",
    "        f_2 = feats_plot[f_id_2]\n",
    "        if f_id_1 != f_id_2:\n",
    "            vals_1 = immun_df.loc[:, f_1].values\n",
    "            vals_2 = immun_df.loc[:, f_2].values\n",
    "            corr, pval = stats.pearsonr(vals_1, vals_2)\n",
    "            df_corr.at[f_2, f_1] = pval\n",
    "            df_corr.at[f_1, f_2] = corr\n",
    "        else:\n",
    "            df_corr.at[f_2, f_1] = np.nan\n",
    "selection = np.tri(df_corr.shape[0], df_corr.shape[1], -1, dtype=np.bool)\n",
    "df_fdr = df_corr.where(selection).stack().reset_index()\n",
    "df_fdr.columns = ['row', 'col', 'pval']\n",
    "_, df_fdr['pval_fdr_bh'], _, _ = multipletests(df_fdr.loc[:, 'pval'].values, 0.05, method='fdr_bh')\n",
    "df_corr_fdr = df_corr.copy()\n",
    "for line_id in range(df_fdr.shape[0]):\n",
    "    df_corr_fdr.loc[df_fdr.at[line_id, 'row'], df_fdr.at[line_id, 'col']] = -np.log10(df_fdr.at[line_id, 'pval_fdr_bh'])"
   ],
   "metadata": {
    "collapsed": false
   }
  },
  {
   "cell_type": "code",
   "execution_count": null,
   "outputs": [],
   "source": [
    "path_local = \"data_description/feats_immun\"\n",
    "pathlib.Path(f\"{path_save}/{path_local}\").mkdir(parents=True, exist_ok=True)\n",
    "\n",
    "sns.set_theme(style='whitegrid')\n",
    "\n",
    "df_to_plot = df_corr_fdr.copy()\n",
    "mtx_to_plot = df_to_plot.to_numpy()\n",
    "\n",
    "mtx_triu = np.triu(mtx_to_plot, +1)\n",
    "max_corr = np.max(mtx_triu)\n",
    "min_corr = np.min(mtx_triu)\n",
    "mtx_triu_mask = np.ma.masked_array(mtx_triu, mtx_triu==0)\n",
    "cmap_triu = plt.get_cmap(\"bwr\").copy()\n",
    "\n",
    "mtx_tril = np.tril(mtx_to_plot, -1)\n",
    "mtx_tril_mask = np.ma.masked_array(mtx_tril, mtx_tril==0)\n",
    "cmap_tril = plt.get_cmap(\"viridis\").copy()\n",
    "cmap_tril.set_under('black')\n",
    "\n",
    "fig, ax = plt.subplots()\n",
    "\n",
    "im_triu = ax.imshow(mtx_triu_mask, cmap=cmap_triu, vmin=-1, vmax=1)\n",
    "cbar_triu = ax.figure.colorbar(im_triu, ax=ax, location='right')\n",
    "cbar_triu.set_label(r\"$\\mathrm{Correlation\\:coefficient}$\", horizontalalignment='center', fontsize=10)\n",
    "\n",
    "im_tril = ax.imshow(mtx_tril_mask, cmap=cmap_tril, vmin=-np.log10(0.05))\n",
    "cbar_tril = ax.figure.colorbar(im_tril, ax=ax, location='right')\n",
    "cbar_tril.set_label(r\"$-\\log_{10}(\\mathrm{p-value})$\", horizontalalignment='center', fontsize=10)\n",
    "\n",
    "ax.grid(None)\n",
    "ax.set_aspect(\"equal\")\n",
    "ax.set_xticks(np.arange(df_to_plot.shape[1]))\n",
    "ax.set_yticks(np.arange(df_to_plot.shape[0]))\n",
    "ax.set_xticklabels(df_to_plot.columns.values)\n",
    "ax.set_yticklabels(df_to_plot.index.values)\n",
    "plt.setp(ax.get_xticklabels(), rotation=90)\n",
    "threshold = np.ptp(mtx_tril.flatten()) * 0.5\n",
    "ax.tick_params(axis='both', which='major', labelsize=5)\n",
    "ax.tick_params(axis='both', which='minor', labelsize=5)\n",
    "textcolors = (\"black\", \"white\")\n",
    "for i in range(df_to_plot.shape[0]):\n",
    "    for j in range(df_to_plot.shape[1]):\n",
    "        color = \"black\"\n",
    "        if i > j:\n",
    "            color = textcolors[int(mtx_tril[i, j] < threshold)]\n",
    "        if np.isinf(mtx_to_plot[i, j]) or np.isnan(mtx_to_plot[i, j]):\n",
    "            text = ax.text(j, i, f\"\", ha=\"center\", va=\"center\", color=color, fontsize=1.3)\n",
    "        else:\n",
    "            text = ax.text(j, i, f\"{mtx_to_plot[i, j]:0.2f}\", ha=\"center\", va=\"center\", color=color, fontsize=1.3)\n",
    "fig.tight_layout()\n",
    "plt.savefig(f\"{path_save}/{path_local}/corr_mtx_fdr.png\", bbox_inches='tight', dpi=400)\n",
    "plt.savefig(f\"{path_save}/{path_local}/corr_mtx_fdr.pdf\", bbox_inches='tight', dpi=400)\n",
    "plt.clf()\n",
    "df_save = df_corr_fdr\n",
    "df_save.to_excel(f\"{path_save}/{path_local}/corr_mtx_fdr.xlsx\", index=True)"
   ],
   "metadata": {
    "collapsed": false
   }
  },
  {
   "cell_type": "markdown",
   "source": [
    "# DNAm features"
   ],
   "metadata": {
    "collapsed": false
   }
  },
  {
   "cell_type": "code",
   "execution_count": null,
   "outputs": [],
   "source": [
    "df_figure = pd.read_csv(f\"{path_save}/data_for_R/DMP_age.csv\", index_col=\"CpG\")\n",
    "df_figure[\"CpG\"] = df_figure.index.values\n",
    "df_figure['print'] = df_figure.apply(lambda row: f\"{row['CpG']} ({row['gene']})\", axis=1)\n",
    "top_to_hightlight = df_figure[\"print\"].values[0:5]\n",
    "path_local = \"data_description/feats_dnam\"\n",
    "pathlib.Path(f\"{path_save}/{path_local}\").mkdir(parents=True, exist_ok=True)\n",
    "df_figure['log_pval'] = -np.log10(df_figure[\"adj.P.Val\"])"
   ],
   "metadata": {
    "collapsed": false
   }
  },
  {
   "cell_type": "code",
   "execution_count": null,
   "outputs": [],
   "source": [
    "def geneplot_mhat(df, markeridcol, chr, pv, gwasp, markernames, gfont, gstyle, ax):\n",
    "    if markeridcol is not None:\n",
    "        if markernames is not None and markernames is True:\n",
    "            for i in df[markeridcol].unique():\n",
    "                if df.loc[df[markeridcol] == i, pv].iloc[0] <= gwasp:\n",
    "                    if gstyle == 1:\n",
    "                        plt.text(df.loc[df[markeridcol] == i, 'ind'].iloc[0], df.loc[df[markeridcol] == i, 'tpval'].iloc[0],\n",
    "                                str(i), fontsize=gfont)\n",
    "                    elif gstyle == 2:\n",
    "                        plt.annotate(i, xy=(df.loc[df[markeridcol] == i, 'ind'].iloc[0], df.loc[df[markeridcol] == i, 'tpval'].iloc[0]),\n",
    "                                     xycoords='data', xytext=(5, -15), textcoords='offset points', size=6,\n",
    "                                     bbox=dict(boxstyle=\"round\", alpha=0.2),\n",
    "                                     arrowprops=dict(arrowstyle=\"wedge,tail_width=0.5\", alpha=0.2, relpos=(0, 0)))\n",
    "        elif markernames is not None and isinstance(markernames, (tuple, list)):\n",
    "            for i in df[markeridcol].unique():\n",
    "                if i in markernames:\n",
    "                    if gstyle == 1:\n",
    "                        plt.text(df.loc[df[markeridcol] == i, 'ind'].iloc[0], df.loc[df[markeridcol] == i, 'tpval'].iloc[0],\n",
    "                            str(i), fontsize=gfont)\n",
    "                    elif gstyle == 2:\n",
    "                        plt.annotate(i, xy=(df.loc[df[markeridcol] == i, 'ind'].iloc[0], df.loc[df[markeridcol] == i, 'tpval'].iloc[0]),\n",
    "                                     xycoords='data', xytext=(5, -15), textcoords='offset points', size=6,\n",
    "                                     bbox=dict(boxstyle=\"round\", alpha=0.2),\n",
    "                                     arrowprops=dict(arrowstyle=\"wedge,tail_width=0.5\", alpha=0.2, relpos=(0, 0)))\n",
    "        elif markernames is not None and isinstance(markernames, dict):\n",
    "            for i in df[markeridcol].unique():\n",
    "                if i in markernames:\n",
    "                    if gstyle == 1:\n",
    "                        plt.text(df.loc[df[markeridcol] == i, 'ind'].iloc[0], df.loc[df[markeridcol] == i, 'tpval'].iloc[0],\n",
    "                             markernames[i], fontsize=gfont)\n",
    "                    elif gstyle == 2:\n",
    "                        plt.annotate(markernames[i], xy=(\n",
    "                        df.loc[df[markeridcol] == i, 'ind'].iloc[0], df.loc[df[markeridcol] == i, 'tpval'].iloc[0]),\n",
    "                                     xycoords='data', xytext=(5, -15), textcoords='offset points', size=6,\n",
    "                                     bbox=dict(boxstyle=\"round\", alpha=0.2),\n",
    "                                     arrowprops=dict(arrowstyle=\"wedge,tail_width=0.5\", alpha=0.2, relpos=(0, 0)))\n",
    "    else:\n",
    "        raise Exception(\"provide 'markeridcol' parameter\")\n",
    "\n",
    "\n",
    "def mhat(df=\"dataframe\", chr=None, pv=None, log_scale=True, color=None, dim=(6,4), ar=90, gwas_sign_line=False,\n",
    "         gwasp=5E-08, dotsize=1, markeridcol=None, markernames=None, gfont=8, valpha=1,\n",
    "         axxlabel=None, axylabel=None, axlabelfontsize=9, axlabelfontname=\"Arial\", axtickfontsize=6,\n",
    "         axtickfontname=\"Arial\", ylm=None, gstyle=1, figname='manhattan', theme=None, path=''):\n",
    "\n",
    "    _x, _y = 'Chromosomes', r'$ -\\log_{10}(\\mathrm{p-value})$'\n",
    "    rand_colors = ('#a7414a', '#282726', '#6a8a82', '#a37c27', '#563838', '#0584f2', '#f28a30', '#f05837',\n",
    "                   '#6465a5', '#00743f', '#be9063', '#de8cf0', '#888c46', '#c0334d', '#270101', '#8d2f23',\n",
    "                   '#ee6c81', '#65734b', '#14325c', '#704307', '#b5b3be', '#f67280', '#ffd082', '#ffd800',\n",
    "                   '#ad62aa', '#21bf73', '#a0855b', '#5edfff', '#08ffc8', '#ca3e47', '#c9753d', '#6c5ce7',\n",
    "                   '#a997df', '#513b56', '#590925', '#007fff', '#bf1363', '#f39237', '#0a3200', '#8c271e')\n",
    "    if log_scale:\n",
    "        # minus log10 of P-value\n",
    "        df['tpval'] = -np.log10(df[pv])\n",
    "    else:\n",
    "        # for Fst values\n",
    "        df['tpval'] = df[pv]\n",
    "    # df = df.sort_values(chr)\n",
    "    # if the column contains numeric strings\n",
    "    df = df.loc[pd.to_numeric(df[chr], errors='coerce').sort_values().index]\n",
    "    # add indices\n",
    "    df['ind'] = range(len(df))\n",
    "    df_group = df.groupby(chr)\n",
    "    if color is not None and len(color) == 2:\n",
    "        color_1 = int(df[chr].nunique() / 2) * [color[0]]\n",
    "        color_2 = int(df[chr].nunique() / 2) * [color[1]]\n",
    "        if df[chr].nunique() % 2 == 0:\n",
    "            color_list = list(reduce(lambda x, y: x+y, zip(color_1, color_2)))\n",
    "        elif df[chr].nunique() % 2 == 1:\n",
    "            color_list = list(reduce(lambda x, y: x+y, zip(color_1, color_2)))\n",
    "            color_list.append(color[0])\n",
    "    elif color is not None and len(color) == df[chr].nunique():\n",
    "        color_list = color\n",
    "    elif color is None:\n",
    "        # select colors randomly from the list based in number of chr\n",
    "        color_list = Random().sample(rand_colors, df[chr].nunique())\n",
    "    else:\n",
    "        print(\"Error: in color argument\")\n",
    "        sys.exit(1)\n",
    "\n",
    "    xlabels = []\n",
    "    xticks = []\n",
    "    if theme == 'dark':\n",
    "        plt.style.use('dark_background')\n",
    "    fig, ax = plt.subplots(figsize=dim)\n",
    "    i = 0\n",
    "    for label, df1 in df.groupby(chr):\n",
    "        df1.plot(kind='scatter', x='ind', y='tpval', color=color_list[i], s=dotsize, alpha=valpha, ax=ax)\n",
    "        df1_max_ind = df1['ind'].iloc[-1]\n",
    "        df1_min_ind = df1['ind'].iloc[0]\n",
    "        xlabels.append(label)\n",
    "        xticks.append((df1_max_ind - (df1_max_ind - df1_min_ind) / 2))\n",
    "        i += 1\n",
    "\n",
    "    # add GWAS significant line\n",
    "    if gwas_sign_line is True:\n",
    "        ax.axhline(y=-np.log10(gwasp), linestyle='--', color='#7d7d7d', linewidth=1)\n",
    "    if markernames is not None:\n",
    "        geneplot_mhat(df, markeridcol, chr, pv, gwasp, markernames, gfont, gstyle, ax=ax)\n",
    "    ax.margins(x=0)\n",
    "    ax.margins(y=0)\n",
    "    ax.set_xticks(xticks)\n",
    "    if log_scale:\n",
    "        ax.set_ylim([0, max(df['tpval'] + 1)])\n",
    "    if ylm:\n",
    "        ylm = np.arange(ylm[0], ylm[1], ylm[2])\n",
    "    else:\n",
    "        ylm = np.arange(0, max(df['tpval']+1), 1)\n",
    "    #ax.set_yticks(ylm)\n",
    "    plt.grid(visible=False, axis='x')\n",
    "    ax.set_xticklabels(xlabels, rotation=ar, fontsize=axtickfontsize, fontname=axtickfontname)\n",
    "    # ax.set_yticklabels(ylm, fontsize=axtickfontsize, fontname=axtickfontname, rotation=ar)\n",
    "    if axxlabel:\n",
    "        _x = axxlabel\n",
    "    if axylabel:\n",
    "        _y = axylabel\n",
    "    ax.set_xlabel(_x, fontsize=axlabelfontsize, fontname=axlabelfontname)\n",
    "    ax.set_ylabel(_y, fontsize=axlabelfontsize, fontname=axlabelfontname)\n",
    "    plt.savefig(f\"{path}/{figname}.png\", bbox_inches='tight', dpi=400)\n",
    "    plt.savefig(f\"{path}/{figname}.pdf\", bbox_inches='tight', dpi=400)\n",
    "    plt.clf()\n",
    "    plt.close()"
   ],
   "metadata": {
    "collapsed": false
   }
  },
  {
   "cell_type": "code",
   "execution_count": null,
   "outputs": [],
   "source": [
    "sns.set_theme(style='whitegrid')\n",
    "df_figure.sort_values([\"MAPINFO\"], ascending=[True], inplace=True)\n",
    "mhat(\n",
    "    df=df_figure,\n",
    "    chr='CHR',\n",
    "    pv='adj.P.Val',\n",
    "    path=f\"{path_save}/{path_local}\",\n",
    "    valpha=1,\n",
    "    markernames=tuple(top_to_hightlight), #(\"cg16867657\", \"cg22454769\"),\n",
    "    markeridcol='print',\n",
    "    gstyle=2\n",
    ")"
   ],
   "metadata": {
    "collapsed": false
   }
  },
  {
   "cell_type": "code",
   "execution_count": null,
   "outputs": [],
   "source": [
    "\n",
    "df_chr = df_figure['CHR'].value_counts().to_frame()\n",
    "df_chr.rename(columns={\"CHR\": \"n_points\"})\n",
    "df_chr.index.name = \"CHR\"\n",
    "df_chr.sort_index(inplace=True)\n",
    "\n",
    "fig = go.Figure()\n",
    "chr_shift = df_figure.shape[0] // 100\n",
    "curr_start = 0\n",
    "for row_id, (index, row) in enumerate(df_chr.iterrows()):\n",
    "    df_tmp = df_figure.loc[df_figure[\"CHR\"] == index, :]\n",
    "    df_tmp.sort_values([\"MAPINFO\"], ascending=[True], inplace=True)\n",
    "    xs = np.linspace(0, df_tmp.shape[0], df_tmp.shape[0]) + curr_start\n",
    "    curr_start += chr_shift + xs[-1]\n",
    "    df_chr.at[index, \"middle_position\"] = xs[len(xs) // 2]\n",
    "    ys = df_tmp.loc[:, \"log_pval\"].values\n",
    "\n",
    "    fig.add_trace(\n",
    "        go.Scatter(\n",
    "            x=xs,\n",
    "            y=ys,\n",
    "            showlegend=True,\n",
    "            name=index,\n",
    "            mode='markers',\n",
    "            marker=dict(\n",
    "                color=px.colors.qualitative.Dark24[row_id],\n",
    "                symbol='circle',\n",
    "                size=2,\n",
    "                opacity=0.9,\n",
    "                line=dict(\n",
    "                    color=px.colors.qualitative.Dark24[row_id],\n",
    "                    width=0.1\n",
    "                )\n",
    "            )\n",
    "        )\n",
    "    )\n",
    "\n",
    "add_layout(fig,  \"Chromosomes\", \"$\\\\huge{-\\log_{10}(\\\\text{p-value})}$\", f\"\")\n",
    "fig.update_layout(showlegend=False)\n",
    "fig.update_layout(\n",
    "    yaxis = dict(\n",
    "        tickmode = 'array',\n",
    "        tickvals = df_chr[\"middle_position\"].values,\n",
    "        ticktext = df_chr.index.values\n",
    "    )\n",
    ")\n",
    "fig.update_yaxes(autorange=False)\n",
    "#fig.update_layout(yaxis_range=[-1, len(pvals_corr)])\n",
    "fig.update_yaxes(tickfont_size=25)\n",
    "fig.update_xaxes(tickfont_size=25)\n",
    "fig.update_layout(\n",
    "    autosize=False,\n",
    "    width=800,\n",
    "    height=1000,\n",
    "    legend={'itemsizing': 'constant'},\n",
    "    margin=go.layout.Margin(\n",
    "        l=175,\n",
    "        r=20,\n",
    "        b=100,\n",
    "        t=40,\n",
    "        pad=0\n",
    "    )\n",
    ")\n",
    "save_figure(fig, f\"{path_save}/{path_local}/mhat\")"
   ],
   "metadata": {
    "collapsed": false
   }
  },
  {
   "cell_type": "code",
   "execution_count": null,
   "outputs": [],
   "source": [
    "visuz.GeneExpression.volcano(df=df_volcano, lfc='logFC', pv='adj.P.Val', pv_thr=(1e-8, 1e-8), lfc_thr=(0.1, 0.1),\n",
    "                             figtype=\"png\")"
   ],
   "metadata": {
    "collapsed": false
   }
  },
  {
   "cell_type": "markdown",
   "source": [
    "# Update betas indexes"
   ],
   "metadata": {
    "collapsed": false
   }
  },
  {
   "cell_type": "code",
   "execution_count": null,
   "outputs": [],
   "source": [
    "if list(pheno.loc[:, \"index_origin\"].values) == list(betas.index.values):\n",
    "    print(\"Change index\")\n",
    "    pheno.index.name = \"index\"\n",
    "    betas.set_index(pheno.index, inplace=True, verify_integrity=False)\n",
    "    betas.index.name = \"index\"\n",
    "    save_pheno_betas_to_pkl(pheno, betas, f\"{path}/{platform}/{dataset}\")"
   ],
   "metadata": {
    "collapsed": false
   }
  },
  {
   "cell_type": "markdown",
   "source": [
    "# Update pheno_xtd"
   ],
   "metadata": {
    "collapsed": false
   }
  },
  {
   "cell_type": "code",
   "execution_count": null,
   "outputs": [],
   "source": [
    "pheno_xtd = pd.read_pickle(f\"{path}/{platform}/{dataset}/pheno_xtd.pkl\")\n",
    "pheno_merged = pd.concat([pheno, pheno_xtd.loc[:, pheno_xtd.columns.difference(pheno.columns)]], axis=1)\n",
    "pheno_merged.index.name = 'index'\n",
    "pheno_merged.to_excel(f\"{path}/{platform}/{dataset}/pheno_1.xlsx\")\n",
    "pheno_merged.to_pickle(f\"{path}/{platform}/{dataset}/pheno_1.pkl\")\n",
    "# with open(f'{path}/{platform}/{dataset}/features/immuno.txt') as f:\n",
    "#     features = f.read().splitlines()\n",
    "# pheno.drop(features + [\"PhenoAge\"], axis=1, inplace=True)\n",
    "# pheno.to_excel(f\"{path}/{platform}/{dataset}/pheno_1.xlsx\")\n",
    "# pheno.to_pickle(f\"{path}/{platform}/{dataset}/pheno_1.pkl\")"
   ],
   "metadata": {
    "collapsed": false
   }
  },
  {
   "cell_type": "markdown",
   "source": [
    "# Select subjects"
   ],
   "metadata": {
    "collapsed": false
   }
  },
  {
   "cell_type": "code",
   "execution_count": null,
   "outputs": [],
   "source": [
    "cpgs = betas.columns.values\n",
    "df = pd.merge(pheno, betas, left_index=True, right_index=True)\n",
    "df = df.loc[(df[\"Status\"] == \"Control\") & (df[\"Sample_Chronology\"] < 2) & (df[\"COVID\"] == \"no\"), :]\n",
    "\n",
    "problems = {\n",
    "    \"Region\": {\n",
    "        \"Color\": {\n",
    "            \"Central\": \"cyan\",\n",
    "            \"Yakutia\": \"magenta\",\n",
    "        },\n",
    "        \"Filter\": {\n",
    "            \"Central\": df[\"Region\"] == \"Central\",\n",
    "            \"Yakutia\": df[\"Region\"] == \"Yakutia\",\n",
    "        },\n",
    "        \"BaseFilter\": (df[\"Region\"] == \"Central\") | (df[\"Region\"] == \"Yakutia\"),\n",
    "        \"BasePart\": \"Central\"\n",
    "    },\n",
    "    \"DNAmPart\": {\n",
    "        \"Color\": {\n",
    "            1: \"orange\",\n",
    "            2: \"lime\"\n",
    "        },\n",
    "        \"Filter\": {\n",
    "            1: (df[\"Region\"] == \"Central\") & (df[\"DNAmPart\"] == 1),\n",
    "            2: (df[\"Region\"] == \"Central\") & (df[\"DNAmPart\"] == 2),\n",
    "        },\n",
    "        \"BaseFilter\": df[\"Region\"] == \"Central\",\n",
    "        \"BasePart\": 1\n",
    "    }\n",
    "}"
   ],
   "metadata": {
    "collapsed": false
   }
  },
  {
   "cell_type": "markdown",
   "source": [
    "# Histograms"
   ],
   "metadata": {
    "collapsed": false
   }
  },
  {
   "cell_type": "code",
   "execution_count": null,
   "outputs": [],
   "source": [
    "sns.histplot(data=df, x=\"Age\", hue=\"Sex\", palette={\"F\": \"r\", \"M\": \"b\"}, bins=15)\n",
    "pathlib.Path(f\"{path_save}/hist\").mkdir(parents=True, exist_ok=True)\n",
    "plt.savefig(f\"{path_save}/hist/Sex.png\", bbox_inches='tight')\n",
    "plt.savefig(f\"{path_save}/hist/Sex.pdf\", bbox_inches='tight')\n",
    "plt.clf()\n",
    "\n",
    "for problem in problems:\n",
    "    sns.histplot(data=df.loc[problems[problem][\"BaseFilter\"]], x=\"Age\", hue=problem, palette=problems[problem][\"Color\"], bins=15)\n",
    "    pathlib.Path(f\"{path_save}/hist\").mkdir(parents=True, exist_ok=True)\n",
    "    plt.savefig(f\"{path_save}/hist/{problem}.png\", bbox_inches='tight')\n",
    "    plt.savefig(f\"{path_save}/hist/{problem}.pdf\", bbox_inches='tight')\n",
    "    plt.clf()"
   ],
   "metadata": {
    "collapsed": false
   }
  },
  {
   "cell_type": "markdown",
   "source": [
    "# Cells\n",
    "## Region"
   ],
   "metadata": {
    "collapsed": false
   }
  },
  {
   "cell_type": "code",
   "execution_count": null,
   "outputs": [],
   "source": [
    "for problem in problems:\n",
    "    pathlib.Path(f\"{path_save}/cells/{problem}\").mkdir(parents=True, exist_ok=True)\n",
    "    df_cells = pd.DataFrame(index=[\"CD8T\", \"CD4T\", \"NK\", \"Bcell\", \"Mono\", \"Gran\"], columns=[\"pval\", \"pval_fdr_bh\"])\n",
    "    for cell in tqdm(df_cells.index.values):\n",
    "        vals = {}\n",
    "        for group in problems[problem][\"Filter\"]:\n",
    "            vals[group] = df.loc[problems[problem][\"Filter\"][group], cell].values\n",
    "        stat, pval = mannwhitneyu(*vals.values(), alternative='two-sided')\n",
    "        df_cells.at[cell, \"pval\"] = pval\n",
    "    _, df_cells[\"pval_fdr_bh\"], _, _ = multipletests(df_cells[\"pval\"], 0.05, method='fdr_bh')\n",
    "\n",
    "    dist_num_bins = 15\n",
    "    for cell in tqdm(df_cells.index.values):\n",
    "\n",
    "        vals = {}\n",
    "        for group in problems[problem][\"Filter\"]:\n",
    "            vals[group] = df.loc[problems[problem][\"Filter\"][group], cell].values\n",
    "\n",
    "        fig = go.Figure()\n",
    "        for group in problems[problem][\"Filter\"]:\n",
    "            fig.add_trace(\n",
    "                go.Violin(\n",
    "                    y=vals[group],\n",
    "                    name=group,\n",
    "                    box_visible=True,\n",
    "                    meanline_visible=True,\n",
    "                    showlegend=True,\n",
    "                    line_color='black',\n",
    "                    fillcolor=problems[problem][\"Color\"][group],\n",
    "                    marker = dict(color=problems[problem][\"Color\"][group], line=dict(color='black',width=0.3), opacity=0.8),\n",
    "                    points='all',\n",
    "                    bandwidth = np.ptp(vals[group]) / dist_num_bins,\n",
    "                    opacity=0.8\n",
    "                )\n",
    "            )\n",
    "        add_layout(fig, \"\", f\"{cell}\", f\"p-value: {df_cells.at[cell, 'pval_fdr_bh']:0.2e}\")\n",
    "        fig.update_layout(title_xref='paper')\n",
    "        fig.update_layout(legend_font_size=20)\n",
    "        fig.update_layout(legend= {'itemsizing': 'constant'})\n",
    "        fig.update_layout(\n",
    "            margin=go.layout.Margin(\n",
    "                l=110,\n",
    "                r=20,\n",
    "                b=50,\n",
    "                t=90,\n",
    "                pad=0\n",
    "            )\n",
    "        )\n",
    "        fig.update_layout(legend_y=1.01)\n",
    "        save_figure(fig, f\"{path_save}/cells/{problem}/{cell}\")"
   ],
   "metadata": {
    "collapsed": false
   }
  },
  {
   "cell_type": "markdown",
   "source": [
    "# Age Accelerations"
   ],
   "metadata": {
    "collapsed": false
   }
  },
  {
   "cell_type": "code",
   "execution_count": null,
   "outputs": [],
   "source": [
    "for problem in problems:\n",
    "    age_types = ['DNAmAgeHannum', 'DNAmAge', 'DNAmPhenoAge', 'DNAmGrimAge']\n",
    "    df_aas = pd.DataFrame(index=[f\"{x}Acc\" for x in age_types], columns=[\"pval\", \"pval_fdr_bh\"])\n",
    "    for age_type in tqdm(age_types):\n",
    "        formula = f\"{age_type} ~ Age\"\n",
    "        model = smf.ols(formula=formula, data=df.loc[df[problem] == problems[problem][\"BasePart\"]]).fit()\n",
    "        df[f\"{problem}_{age_type}_linear_pred\"] = model.predict(df)\n",
    "        y_pred = model.predict(pheno)\n",
    "        df[f\"{problem}{age_type}Acc\"] = df[age_type] - df[f\"{problem}_{age_type}_linear_pred\"]\n",
    "\n",
    "        vals = {}\n",
    "        for group in problems[problem][\"Filter\"]:\n",
    "            vals[group] = df.loc[problems[problem][\"Filter\"][group], f\"{problem}{age_type}Acc\"].values\n",
    "        stat, pval = mannwhitneyu(*vals.values(), alternative='two-sided')\n",
    "        df_aas.at[f\"{age_type}Acc\", \"pval\"] = pval\n",
    "    _, df_aas[\"pval_fdr_bh\"], _, _ = multipletests(df_aas[\"pval\"], 0.05, method='fdr_bh')\n",
    "\n",
    "    dist_num_bins = 15\n",
    "    pathlib.Path(f\"{path_save}/accelerations/{problem}\").mkdir(parents=True, exist_ok=True)\n",
    "    for age_type in tqdm(age_types):\n",
    "\n",
    "        vals = {}\n",
    "        for group in problems[problem][\"Filter\"]:\n",
    "            vals[group] = df.loc[problems[problem][\"Filter\"][group], f\"{problem}{age_type}Acc\"].values\n",
    "\n",
    "        fig = go.Figure()\n",
    "        for group in problems[problem][\"Filter\"]:\n",
    "            fig.add_trace(\n",
    "                go.Violin(\n",
    "                    y=vals[group],\n",
    "                    name=group,\n",
    "                    box_visible=True,\n",
    "                    meanline_visible=True,\n",
    "                    showlegend=True,\n",
    "                    line_color='black',\n",
    "                    fillcolor=problems[problem][\"Color\"][group],\n",
    "                    marker = dict(color=problems[problem][\"Color\"][group], line=dict(color='black',width=0.3), opacity=0.8),\n",
    "                    points='all',\n",
    "                    bandwidth = np.ptp(vals[group]) / dist_num_bins,\n",
    "                    opacity=0.8\n",
    "                )\n",
    "            )\n",
    "        add_layout(fig, \"\", f\"{age_type}Acc\", f\"p-value: {df_aas.at[f'{age_type}Acc', 'pval_fdr_bh']:0.2e}\")\n",
    "        fig.update_layout(title_xref='paper')\n",
    "        fig.update_layout(legend_font_size=20)\n",
    "        fig.update_layout(legend= {'itemsizing': 'constant'})\n",
    "        fig.update_layout(\n",
    "            margin=go.layout.Margin(\n",
    "                l=110,\n",
    "                r=20,\n",
    "                b=50,\n",
    "                t=90,\n",
    "                pad=0\n",
    "            )\n",
    "        )\n",
    "        fig.update_layout(legend_y=1.01)\n",
    "        save_figure(fig, f\"{path_save}/accelerations/{problem}/violin_{age_type}Acc\")\n",
    "\n",
    "        fig = go.Figure()\n",
    "\n",
    "        fig.add_trace(\n",
    "            go.Scatter(\n",
    "                x=df.loc[df[problem] == problems[problem][\"BasePart\"], f\"Age\"].values,\n",
    "                y=df.loc[df[problem] == problems[problem][\"BasePart\"], f\"{problem}_{age_type}_linear_pred\"].values,\n",
    "                showlegend=False,\n",
    "                name=\"\",\n",
    "                mode=\"lines\",\n",
    "                marker_color=problems[problem][\"Color\"][problems[problem][\"BasePart\"]],\n",
    "                marker=dict(\n",
    "                    size=8,\n",
    "                    opacity=0.75,\n",
    "                    line=dict(\n",
    "                        color=\"black\",\n",
    "                        width=0.5\n",
    "                    )\n",
    "                )\n",
    "            )\n",
    "        )\n",
    "        for group in problems[problem][\"Filter\"]:\n",
    "            vals = df.loc[problems[problem][\"Filter\"][group], f\"{age_type}\"].values\n",
    "\n",
    "            fig.add_trace(\n",
    "                go.Scatter(\n",
    "                    x=df.loc[problems[problem][\"Filter\"][group], f\"Age\"].values,\n",
    "                    y=df.loc[problems[problem][\"Filter\"][group], f\"{age_type}\"].values,\n",
    "                    showlegend=True,\n",
    "                    name=group,\n",
    "                    mode=\"markers\",\n",
    "                    line_color=problems[problem][\"Color\"][group],\n",
    "                    marker=dict(\n",
    "                        size=8,\n",
    "                        opacity=0.75,\n",
    "                        line=dict(\n",
    "                            color=\"black\",\n",
    "                            width=0.5\n",
    "                        )\n",
    "                    )\n",
    "                )\n",
    "            )\n",
    "        add_layout(fig, f\"Age\", f\"{age_type}\", f\"\")\n",
    "        fig.update_layout(legend_font_size=20)\n",
    "        fig.update_layout(legend= {'itemsizing': 'constant'})\n",
    "        fig.update_layout(\n",
    "            margin=go.layout.Margin(\n",
    "                l=80,\n",
    "                r=20,\n",
    "                b=80,\n",
    "                t=65,\n",
    "                pad=0\n",
    "            )\n",
    "        )\n",
    "        save_figure(fig, f\"{path_save}/accelerations/{problem}/scatter_{age_type}\")\n"
   ],
   "metadata": {
    "collapsed": false
   }
  },
  {
   "cell_type": "markdown",
   "source": [
    "# Significance tests"
   ],
   "metadata": {
    "collapsed": false
   }
  },
  {
   "cell_type": "code",
   "execution_count": null,
   "outputs": [],
   "source": [
    "\n",
    "for problem in problems:\n",
    "    pathlib.Path(f\"{path_save}/significance_tests/{problem}\").mkdir(parents=True, exist_ok=True)\n",
    "    cpgs = betas.columns.values\n",
    "    df_sign = pd.DataFrame(index=cpgs, columns=['chr', 'Position', 'Relation_to_Island', 'UCSC_RefGene_Group', 'Gene', 'stat', 'pval', 'pval_fdr_bh'])\n",
    "    df.index.name = 'CpG'\n",
    "    for cpg_id, cpg in tqdm(enumerate(cpgs), desc='Mann-Whitney U test', total=len(cpgs)):\n",
    "        df_sign.at[cpg, 'chr'] = manifest.at[cpg, 'chr']\n",
    "        df_sign.at[cpg, 'Position'] = manifest.at[cpg, 'Position']\n",
    "        df_sign.at[cpg, 'Relation_to_Island'] = manifest.at[cpg, 'Relation_to_Island']\n",
    "        df_sign.at[cpg, 'UCSC_RefGene_Group'] = manifest.at[cpg, 'UCSC_RefGene_Group']\n",
    "        df_sign.at[cpg, 'Gene'] = manifest.at[cpg, 'Gene']\n",
    "        vals = {}\n",
    "        for group in problems[problem][\"Filter\"]:\n",
    "            vals[group] = df.loc[problems[problem][\"Filter\"][group], cpg].values\n",
    "        stat, pval = mannwhitneyu(*vals.values(), alternative='two-sided')\n",
    "        df_sign.at[cpg, 'stat'] = stat\n",
    "        df_sign.at[cpg, 'pval'] = pval\n",
    "    _, df_sign['pval_fdr_bh'], _, _ = multipletests(df_sign['pval'], 0.05, method='fdr_bh')\n",
    "    df_sign.to_excel(f\"{path_save}/significance_tests/{problem}/mw.xlsx\")\n",
    "\n",
    "    n_top = 10\n",
    "    dist_num_bins = 25\n",
    "    pathlib.Path(f\"{path_save}/significance_tests/{problem}/examples\").mkdir(parents=True, exist_ok=True)\n",
    "    df_sign_top = df_sign.sort_values(['pval_fdr_bh'], ascending=[True]).head(n_top)\n",
    "    for cpg_id, (cpg, row) in enumerate(df_sign_top.iterrows()):\n",
    "        pval = row['pval_fdr_bh']\n",
    "        gene = manifest.at[cpg, 'Gene']\n",
    "\n",
    "        fig = go.Figure()\n",
    "        for group in problems[problem][\"Filter\"]:\n",
    "            vals = df.loc[problems[problem][\"Filter\"][group], cpg].values\n",
    "            fig.add_trace(\n",
    "                go.Violin(\n",
    "                    y=vals,\n",
    "                    name=group,\n",
    "                    box_visible=True,\n",
    "                    meanline_visible=True,\n",
    "                    showlegend=True,\n",
    "                    line_color='black',\n",
    "                    fillcolor=problems[problem][\"Color\"][group],\n",
    "                    marker = dict(color=problems[problem][\"Color\"][group], line=dict(color='black',width=0.3), opacity=0.8),\n",
    "                    points='all',\n",
    "                    bandwidth = np.ptp(vals) / dist_num_bins,\n",
    "                    opacity=0.8\n",
    "                )\n",
    "            )\n",
    "        add_layout(fig, \"\", \"Methylation\", f\"{cpg} ({gene})<br>p-value: {pval:0.2e}\")\n",
    "        fig.update_layout(title_xref='paper')\n",
    "        fig.update_layout(legend_font_size=20)\n",
    "        fig.update_layout(legend= {'itemsizing': 'constant'})\n",
    "        fig.update_xaxes(tickfont_size=15)\n",
    "        fig.update_layout(\n",
    "            margin=go.layout.Margin(\n",
    "                l=110,\n",
    "                r=20,\n",
    "                b=50,\n",
    "                t=80,\n",
    "                pad=0\n",
    "            )\n",
    "        )\n",
    "        fig.update_layout(\n",
    "            legend=dict(\n",
    "                orientation=\"h\",\n",
    "                yanchor=\"bottom\",\n",
    "                y=1.25,\n",
    "                xanchor=\"center\",\n",
    "                x=0.5\n",
    "            )\n",
    "        )\n",
    "        save_figure(fig, f\"{path_save}/significance_tests/{problem}/examples/{cpg_id}_{cpg}\")"
   ],
   "metadata": {
    "collapsed": false
   }
  },
  {
   "cell_type": "markdown",
   "source": [
    "# Generate data for R"
   ],
   "metadata": {
    "collapsed": false
   }
  },
  {
   "cell_type": "code",
   "execution_count": null,
   "outputs": [],
   "source": [
    "pathlib.Path(f\"{path_save}/data_for_R\").mkdir(parents=True, exist_ok=True)\n",
    "\n",
    "betas_R = df.loc[:, cpgs]\n",
    "betas_R = betas_R.T\n",
    "betas_R.index.name = \"CpG\"\n",
    "betas_R.to_pickle(f\"{path_save}/data_for_R/betas.pkl\")\n",
    "\n",
    "pheno_R = df.loc[:, [\"Age\", \"Region\", \"DNAmPart\", \"Sentrix_ID\", \"Sentrix_Position\"]]\n",
    "pheno_R.to_pickle(f\"{path_save}/data_for_R/pheno.pkl\")"
   ],
   "metadata": {
    "collapsed": false
   }
  },
  {
   "cell_type": "markdown",
   "source": [
    "# Generate list for GO"
   ],
   "metadata": {
    "collapsed": false
   }
  },
  {
   "cell_type": "code",
   "execution_count": null,
   "outputs": [],
   "source": [
    "#path_for_go = f\"{path_save}/significance_tests/Region\"\n",
    "path_for_go = f\"{path_save}/data_for_R\"\n",
    "df_for_go = pd.read_excel(f\"{path_for_go}/for_go.xlsx\", index_col=\"CpG\")\n",
    "genes_all = set()\n",
    "for cpg_id, (cpg, row) in enumerate(df_for_go.iterrows()):\n",
    "    genes_raw = row['gene']\n",
    "    if isinstance(genes_raw, str):\n",
    "        genes = genes_raw.split(';')\n",
    "        genes_all.update(set(genes))\n",
    "if 'non-genic' in genes_all:\n",
    "    genes_all.remove('non-genic')\n",
    "if ' ' in genes_all:\n",
    "    genes_all.remove(' ')\n",
    "genes_all = list(genes_all)\n",
    "genes_df = pd.DataFrame({'gene':genes_all})\n",
    "genes_df.to_excel(f\"{path_for_go}/genes_for_go.xlsx\", index=False)"
   ],
   "metadata": {
    "collapsed": false
   }
  },
  {
   "cell_type": "markdown",
   "source": [
    "# Volcano plot"
   ],
   "metadata": {
    "collapsed": false
   }
  },
  {
   "cell_type": "code",
   "execution_count": null,
   "outputs": [],
   "source": [
    "df_volcano = pd.read_csv(f\"{path_save}/data_for_R/dmp.csv\", index_col=\"CpG\")"
   ],
   "metadata": {
    "collapsed": false
   }
  },
  {
   "cell_type": "code",
   "execution_count": null,
   "outputs": [],
   "source": [
    "visuz.GeneExpression.volcano(df=df_volcano, lfc='logFC', pv='adj.P.Val', pv_thr=(1e-8, 1e-8), lfc_thr=(0.1, 0.1), figtype=\"png\")"
   ],
   "metadata": {
    "collapsed": false
   }
  }
 ],
 "metadata": {
  "kernelspec": {
   "name": "pycharm-7948d80f",
   "language": "python",
   "display_name": "PyCharm (dnam)"
  },
  "language_info": {
   "codemirror_mode": {
    "name": "ipython",
    "version": 2
   },
   "file_extension": ".py",
   "mimetype": "text/x-python",
   "name": "python",
   "nbconvert_exporter": "python",
   "pygments_lexer": "ipython2",
   "version": "2.7.6"
  }
 },
 "nbformat": 4,
 "nbformat_minor": 0
}
