{
 "cells": [
  {
   "cell_type": "code",
   "execution_count": null,
   "outputs": [],
   "source": [
    "import pandas as pd\n",
    "import numpy as np\n",
    "import scipy\n",
    "from sklearn.linear_model import ElasticNet, ElasticNetCV\n",
    "from sklearn.model_selection import RepeatedKFold, GridSearchCV\n",
    "from sklearn.metrics import mean_squared_error, mean_absolute_error, r2_score\n",
    "from scripts.python.routines.betas import betas_drop_na\n",
    "from plotly.subplots import make_subplots\n",
    "from scipy import stats\n",
    "import pickle\n",
    "import random\n",
    "import plotly.express as px\n",
    "import copy\n",
    "import statsmodels.formula.api as smf\n",
    "from sklearn.metrics import mean_squared_error, mean_absolute_error\n",
    "from scripts.python.pheno.datasets.filter import filter_pheno\n",
    "from scripts.python.pheno.datasets.features import get_column_name, get_status_dict, get_sex_dict\n",
    "from scripts.python.routines.plot.scatter import add_scatter_trace\n",
    "import plotly.graph_objects as go\n",
    "import pathlib\n",
    "from scripts.python.routines.manifest import get_manifest\n",
    "from scripts.python.routines.plot.save import save_figure\n",
    "from scripts.python.routines.plot.layout import add_layout, get_axis\n",
    "from scripts.python.routines.plot.p_value import add_p_value_annotation\n",
    "from statsmodels.stats.multitest import multipletests\n",
    "from sklearn.metrics import mean_absolute_error\n",
    "from impyute.imputation.cs import fast_knn, mean, median, random, mice, mode, em\n",
    "import plotly.io as pio\n",
    "pio.kaleido.scope.mathjax = None\n",
    "from plotly.offline import init_notebook_mode, iplot\n",
    "init_notebook_mode(connected=False)\n",
    "from functools import reduce\n",
    "from scipy.stats import kruskal, mannwhitneyu\n",
    "import matplotlib.pyplot as plt\n",
    "import seaborn as sns\n",
    "import pathlib\n",
    "from tqdm import tqdm"
   ],
   "metadata": {
    "collapsed": false,
    "pycharm": {
     "name": "#%%\n"
    }
   }
  },
  {
   "cell_type": "markdown",
   "source": [
    "# Init data"
   ],
   "metadata": {
    "collapsed": false,
    "pycharm": {
     "name": "#%% md\n"
    }
   }
  },
  {
   "cell_type": "code",
   "execution_count": null,
   "outputs": [],
   "source": [
    "dataset = \"GSEUNN\"\n",
    "path = f\"E:/YandexDisk/Work/pydnameth/datasets\"\n",
    "datasets_info = pd.read_excel(f\"{path}/datasets.xlsx\", index_col='dataset')\n",
    "platform = datasets_info.loc[dataset, 'platform']\n",
    "manifest = get_manifest(platform, path=path)\n",
    "\n",
    "path_save = f\"{path}/{platform}/{dataset}/special/034_central_vs_yakutia\"\n",
    "pathlib.Path(f\"{path_save}\").mkdir(parents=True, exist_ok=True)\n",
    "\n",
    "pheno = pd.read_pickle(f\"{path}/{platform}/{dataset}/pheno_xtd.pkl\")\n",
    "betas = pd.read_pickle(f\"{path}/{platform}/{dataset}/betas.pkl\")"
   ],
   "metadata": {
    "collapsed": false,
    "pycharm": {
     "name": "#%%\n"
    }
   }
  },
  {
   "cell_type": "markdown",
   "source": [
    "# Update pheno_xtd"
   ],
   "metadata": {
    "collapsed": false,
    "pycharm": {
     "name": "#%% md\n"
    }
   }
  },
  {
   "cell_type": "code",
   "execution_count": null,
   "outputs": [],
   "source": [
    "pheno_xtd = pd.read_pickle(f\"{path}/{platform}/{dataset}/pheno_xtd.pkl\")\n",
    "pheno_xtd.set_index('ID', inplace=True)\n",
    "pheno_xtd.index.name = 'index'\n",
    "pheno_merged = pd.concat([pheno, pheno_xtd.loc[:, pheno_xtd.columns.difference(pheno.columns)]], axis=1)\n",
    "pheno_merged.index.name = 'index'\n",
    "pheno_merged.to_excel(f\"{path}/{platform}/{dataset}/pheno_1.xlsx\")\n",
    "pheno_merged.to_pickle(f\"{path}/{platform}/{dataset}/pheno_1.pkl\")\n",
    "with open(f'{path}/{platform}/{dataset}/features/immuno.txt') as f:\n",
    "    features = f.read().splitlines()\n",
    "pheno.drop(features + [\"PhenoAge\"], axis=1, inplace=True)\n",
    "pheno.to_excel(f\"{path}/{platform}/{dataset}/pheno_1.xlsx\")\n",
    "pheno.to_pickle(f\"{path}/{platform}/{dataset}/pheno_1.pkl\")"
   ],
   "metadata": {
    "collapsed": false,
    "pycharm": {
     "name": "#%%\n"
    }
   }
  },
  {
   "cell_type": "markdown",
   "source": [
    "# Select subjects"
   ],
   "metadata": {
    "collapsed": false,
    "pycharm": {
     "name": "#%% md\n"
    }
   }
  },
  {
   "cell_type": "code",
   "execution_count": null,
   "outputs": [],
   "source": [
    "cpgs = betas.columns.values\n",
    "df = pd.merge(pheno, betas, left_index=True, right_index=True)\n",
    "df = df.loc[(df[\"Status\"] == \"Control\") & (df[\"Sample_Chronology\"] < 2) & (df[\"COVID\"] == \"no\"), :]\n",
    "\n",
    "problems = {\n",
    "    \"Region\": {\n",
    "        \"Color\": {\n",
    "            \"Central\": \"cyan\",\n",
    "            \"Yakutia\": \"magenta\",\n",
    "        },\n",
    "        \"Filter\": {\n",
    "            \"Central\": df[\"Region\"] == \"Central\",\n",
    "            \"Yakutia\": df[\"Region\"] == \"Yakutia\",\n",
    "        },\n",
    "        \"BaseFilter\": (df[\"Region\"] == \"Central\") | (df[\"Region\"] == \"Yakutia\"),\n",
    "        \"BasePart\": \"Central\"\n",
    "    },\n",
    "    \"DNAmPart\": {\n",
    "        \"Color\": {\n",
    "            1: \"orange\",\n",
    "            2: \"lime\"\n",
    "        },\n",
    "        \"Filter\": {\n",
    "            1: (df[\"Region\"] == \"Central\") & (df[\"DNAmPart\"] == 1),\n",
    "            2: (df[\"Region\"] == \"Central\") & (df[\"DNAmPart\"] == 2),\n",
    "        },\n",
    "        \"BaseFilter\": df[\"Region\"] == \"Central\",\n",
    "        \"BasePart\": 1\n",
    "    }\n",
    "}"
   ],
   "metadata": {
    "collapsed": false,
    "pycharm": {
     "name": "#%%\n"
    }
   }
  },
  {
   "cell_type": "markdown",
   "source": [
    "# Histograms"
   ],
   "metadata": {
    "collapsed": false,
    "pycharm": {
     "name": "#%% md\n"
    }
   }
  },
  {
   "cell_type": "code",
   "execution_count": null,
   "outputs": [],
   "source": [
    "sns.histplot(data=df, x=\"Age\", hue=\"Sex\", palette={\"F\": \"r\", \"M\": \"b\"}, bins=15)\n",
    "pathlib.Path(f\"{path_save}/hist\").mkdir(parents=True, exist_ok=True)\n",
    "plt.savefig(f\"{path_save}/hist/Sex.png\", bbox_inches='tight')\n",
    "plt.savefig(f\"{path_save}/hist/Sex.pdf\", bbox_inches='tight')\n",
    "plt.clf()\n",
    "\n",
    "for problem in problems:\n",
    "    sns.histplot(data=df.loc[problems[problem][\"BaseFilter\"]], x=\"Age\", hue=problem, palette=problems[problem][\"Color\"], bins=15)\n",
    "    pathlib.Path(f\"{path_save}/hist\").mkdir(parents=True, exist_ok=True)\n",
    "    plt.savefig(f\"{path_save}/hist/{problem}.png\", bbox_inches='tight')\n",
    "    plt.savefig(f\"{path_save}/hist/{problem}.pdf\", bbox_inches='tight')\n",
    "    plt.clf()"
   ],
   "metadata": {
    "collapsed": false,
    "pycharm": {
     "name": "#%%\n"
    }
   }
  },
  {
   "cell_type": "markdown",
   "source": [
    "# Cells\n",
    "## Region"
   ],
   "metadata": {
    "collapsed": false,
    "pycharm": {
     "name": "#%% md\n"
    }
   }
  },
  {
   "cell_type": "code",
   "execution_count": null,
   "outputs": [],
   "source": [
    "for problem in problems:\n",
    "    pathlib.Path(f\"{path_save}/cells/{problem}\").mkdir(parents=True, exist_ok=True)\n",
    "    df_cells = pd.DataFrame(index=[\"CD8T\", \"CD4T\", \"NK\", \"Bcell\", \"Mono\", \"Gran\"], columns=[\"pval\", \"pval_fdr_bh\"])\n",
    "    for cell in tqdm(df_cells.index.values):\n",
    "        vals = {}\n",
    "        for group in problems[problem][\"Filter\"]:\n",
    "            vals[group] = df.loc[problems[problem][\"Filter\"][group], cell].values\n",
    "        stat, pval = mannwhitneyu(*vals.values(), alternative='two-sided')\n",
    "        df_cells.at[cell, \"pval\"] = pval\n",
    "    _, df_cells[\"pval_fdr_bh\"], _, _ = multipletests(df_cells[\"pval\"], 0.05, method='fdr_bh')\n",
    "\n",
    "    dist_num_bins = 15\n",
    "    for cell in tqdm(df_cells.index.values):\n",
    "\n",
    "        vals = {}\n",
    "        for group in problems[problem][\"Filter\"]:\n",
    "            vals[group] = df.loc[problems[problem][\"Filter\"][group], cell].values\n",
    "\n",
    "        fig = go.Figure()\n",
    "        for group in problems[problem][\"Filter\"]:\n",
    "            fig.add_trace(\n",
    "                go.Violin(\n",
    "                    y=vals[group],\n",
    "                    name=group,\n",
    "                    box_visible=True,\n",
    "                    meanline_visible=True,\n",
    "                    showlegend=True,\n",
    "                    line_color='black',\n",
    "                    fillcolor=problems[problem][\"Color\"][group],\n",
    "                    marker = dict(color=problems[problem][\"Color\"][group], line=dict(color='black',width=0.3), opacity=0.8),\n",
    "                    points='all',\n",
    "                    bandwidth = np.ptp(vals[group]) / dist_num_bins,\n",
    "                    opacity=0.8\n",
    "                )\n",
    "            )\n",
    "        add_layout(fig, \"\", f\"{cell}\", f\"p-value: {df_cells.at[cell, 'pval_fdr_bh']:0.2e}\")\n",
    "        fig.update_layout(title_xref='paper')\n",
    "        fig.update_layout(legend_font_size=20)\n",
    "        fig.update_layout(legend= {'itemsizing': 'constant'})\n",
    "        fig.update_layout(\n",
    "            margin=go.layout.Margin(\n",
    "                l=110,\n",
    "                r=20,\n",
    "                b=50,\n",
    "                t=90,\n",
    "                pad=0\n",
    "            )\n",
    "        )\n",
    "        fig.update_layout(legend_y=1.01)\n",
    "        save_figure(fig, f\"{path_save}/cells/{problem}/{cell}\")"
   ],
   "metadata": {
    "collapsed": false,
    "pycharm": {
     "name": "#%%\n"
    }
   }
  },
  {
   "cell_type": "markdown",
   "source": [
    "# Age Accelerations"
   ],
   "metadata": {
    "collapsed": false,
    "pycharm": {
     "name": "#%% md\n"
    }
   }
  },
  {
   "cell_type": "code",
   "execution_count": null,
   "outputs": [],
   "source": [
    "for problem in problems:\n",
    "    age_types = ['DNAmAgeHannum', 'DNAmAge', 'DNAmPhenoAge', 'DNAmGrimAge']\n",
    "    df_aas = pd.DataFrame(index=[f\"{x}Acc\" for x in age_types], columns=[\"pval\", \"pval_fdr_bh\"])\n",
    "    for age_type in tqdm(age_types):\n",
    "        formula = f\"{age_type} ~ Age\"\n",
    "        model = smf.ols(formula=formula, data=df.loc[df[problem] == problems[problem][\"BasePart\"]]).fit()\n",
    "        df[f\"{problem}_{age_type}_linear_pred\"] = model.predict(df)\n",
    "        y_pred = model.predict(pheno)\n",
    "        df[f\"{problem}{age_type}Acc\"] = df[age_type] - df[f\"{problem}_{age_type}_linear_pred\"]\n",
    "\n",
    "        vals = {}\n",
    "        for group in problems[problem][\"Filter\"]:\n",
    "            vals[group] = df.loc[problems[problem][\"Filter\"][group], f\"{problem}{age_type}Acc\"].values\n",
    "        stat, pval = mannwhitneyu(*vals.values(), alternative='two-sided')\n",
    "        df_aas.at[f\"{age_type}Acc\", \"pval\"] = pval\n",
    "    _, df_aas[\"pval_fdr_bh\"], _, _ = multipletests(df_aas[\"pval\"], 0.05, method='fdr_bh')\n",
    "\n",
    "    dist_num_bins = 15\n",
    "    pathlib.Path(f\"{path_save}/accelerations/{problem}\").mkdir(parents=True, exist_ok=True)\n",
    "    for age_type in tqdm(age_types):\n",
    "\n",
    "        vals = {}\n",
    "        for group in problems[problem][\"Filter\"]:\n",
    "            vals[group] = df.loc[problems[problem][\"Filter\"][group], f\"{problem}{age_type}Acc\"].values\n",
    "\n",
    "        fig = go.Figure()\n",
    "        for group in problems[problem][\"Filter\"]:\n",
    "            fig.add_trace(\n",
    "                go.Violin(\n",
    "                    y=vals[group],\n",
    "                    name=group,\n",
    "                    box_visible=True,\n",
    "                    meanline_visible=True,\n",
    "                    showlegend=True,\n",
    "                    line_color='black',\n",
    "                    fillcolor=problems[problem][\"Color\"][group],\n",
    "                    marker = dict(color=problems[problem][\"Color\"][group], line=dict(color='black',width=0.3), opacity=0.8),\n",
    "                    points='all',\n",
    "                    bandwidth = np.ptp(vals[group]) / dist_num_bins,\n",
    "                    opacity=0.8\n",
    "                )\n",
    "            )\n",
    "        add_layout(fig, \"\", f\"{age_type}Acc\", f\"p-value: {df_aas.at[f'{age_type}Acc', 'pval_fdr_bh']:0.2e}\")\n",
    "        fig.update_layout(title_xref='paper')\n",
    "        fig.update_layout(legend_font_size=20)\n",
    "        fig.update_layout(legend= {'itemsizing': 'constant'})\n",
    "        fig.update_layout(\n",
    "            margin=go.layout.Margin(\n",
    "                l=110,\n",
    "                r=20,\n",
    "                b=50,\n",
    "                t=90,\n",
    "                pad=0\n",
    "            )\n",
    "        )\n",
    "        fig.update_layout(legend_y=1.01)\n",
    "        save_figure(fig, f\"{path_save}/accelerations/{problem}/violin_{age_type}Acc\")\n",
    "\n",
    "        fig = go.Figure()\n",
    "\n",
    "        fig.add_trace(\n",
    "            go.Scatter(\n",
    "                x=df.loc[df[problem] == problems[problem][\"BasePart\"], f\"Age\"].values,\n",
    "                y=df.loc[df[problem] == problems[problem][\"BasePart\"], f\"{problem}_{age_type}_linear_pred\"].values,\n",
    "                showlegend=False,\n",
    "                name=\"\",\n",
    "                mode=\"lines\",\n",
    "                marker_color=problems[problem][\"Color\"][problems[problem][\"BasePart\"]],\n",
    "                marker=dict(\n",
    "                    size=8,\n",
    "                    opacity=0.75,\n",
    "                    line=dict(\n",
    "                        color=\"black\",\n",
    "                        width=0.5\n",
    "                    )\n",
    "                )\n",
    "            )\n",
    "        )\n",
    "        for group in problems[problem][\"Filter\"]:\n",
    "            vals = df.loc[problems[problem][\"Filter\"][group], f\"{age_type}\"].values\n",
    "            add_scatter_trace(fig, df.loc[problems[problem][\"Filter\"][group], f\"Age\"].values, df.loc[problems[problem][\"Filter\"][group], f\"{age_type}\"].values, group)\n",
    "\n",
    "            fig.add_trace(\n",
    "                go.Scatter(\n",
    "                    x=df.loc[problems[problem][\"Filter\"][group], f\"Age\"].values,\n",
    "                    y=df.loc[problems[problem][\"Filter\"][group], f\"{age_type}\"].values,\n",
    "                    showlegend=False,\n",
    "                    name=group,\n",
    "                    mode=\"markers\",\n",
    "                    line_color=problems[problem][\"Color\"][group],\n",
    "                    marker=dict(\n",
    "                        size=8,\n",
    "                        opacity=0.75,\n",
    "                        line=dict(\n",
    "                            color=\"black\",\n",
    "                            width=0.5\n",
    "                        )\n",
    "                    )\n",
    "                )\n",
    "            )\n",
    "        add_layout(fig, f\"Age\", f\"{age_type}\", f\"\")\n",
    "        fig.update_layout(legend_font_size=20)\n",
    "        fig.update_layout(legend= {'itemsizing': 'constant'})\n",
    "        fig.update_layout(\n",
    "            margin=go.layout.Margin(\n",
    "                l=80,\n",
    "                r=20,\n",
    "                b=80,\n",
    "                t=65,\n",
    "                pad=0\n",
    "            )\n",
    "        )\n",
    "        save_figure(fig, f\"{path_save}/accelerations/{problem}/scatter_{age_type}\")\n"
   ],
   "metadata": {
    "collapsed": false,
    "pycharm": {
     "name": "#%%\n"
    }
   }
  },
  {
   "cell_type": "markdown",
   "source": [
    "# Significance tests"
   ],
   "metadata": {
    "collapsed": false,
    "pycharm": {
     "name": "#%% md\n"
    }
   }
  },
  {
   "cell_type": "code",
   "execution_count": null,
   "outputs": [],
   "source": [
    "\n",
    "for problem in problems:\n",
    "    pathlib.Path(f\"{path_save}/significance_tests/{problem}\").mkdir(parents=True, exist_ok=True)\n",
    "    cpgs = betas.columns.values\n",
    "    df_sign = pd.DataFrame(index=cpgs, columns=['chr', 'Position', 'Relation_to_Island', 'UCSC_RefGene_Group', 'Gene', 'stat', 'pval', 'pval_fdr_bh'])\n",
    "    df.index.name = 'CpG'\n",
    "    for cpg_id, cpg in tqdm(enumerate(cpgs), desc='Mann-Whitney U test', total=len(cpgs)):\n",
    "        df_sign.at[cpg, 'chr'] = manifest.at[cpg, 'chr']\n",
    "        df_sign.at[cpg, 'Position'] = manifest.at[cpg, 'Position']\n",
    "        df_sign.at[cpg, 'Relation_to_Island'] = manifest.at[cpg, 'Relation_to_Island']\n",
    "        df_sign.at[cpg, 'UCSC_RefGene_Group'] = manifest.at[cpg, 'UCSC_RefGene_Group']\n",
    "        df_sign.at[cpg, 'Gene'] = manifest.at[cpg, 'Gene']\n",
    "        vals = {}\n",
    "        for group in problems[problem][\"Filter\"]:\n",
    "            vals[group] = df.loc[problems[problem][\"Filter\"][group], cpg].values\n",
    "        stat, pval = mannwhitneyu(*vals.values(), alternative='two-sided')\n",
    "        df_sign.at[cpg, 'stat'] = stat\n",
    "        df_sign.at[cpg, 'pval'] = pval\n",
    "    _, df_sign['pval_fdr_bh'], _, _ = multipletests(df_sign['pval'], 0.05, method='fdr_bh')\n",
    "    df_sign.to_excel(f\"{path_save}/significance_tests/{problem}/mw.xlsx\")\n",
    "\n",
    "    n_top = 10\n",
    "    dist_num_bins = 25\n",
    "    pathlib.Path(f\"{path_save}/significance_tests/{problem}/examples\").mkdir(parents=True, exist_ok=True)\n",
    "    df_sign_top = df_sign.sort_values(['pval_fdr_bh'], ascending=[True]).head(n_top)\n",
    "    for cpg_id, (cpg, row) in enumerate(df_sign_top.iterrows()):\n",
    "        pval = row['pval_fdr_bh']\n",
    "        gene = manifest.at[cpg, 'Gene']\n",
    "\n",
    "        fig = go.Figure()\n",
    "        for group in problems[problem][\"Filter\"]:\n",
    "            vals = df.loc[problems[problem][\"Filter\"][group], cpg].values\n",
    "            fig.add_trace(\n",
    "                go.Violin(\n",
    "                    y=vals,\n",
    "                    name=group,\n",
    "                    box_visible=True,\n",
    "                    meanline_visible=True,\n",
    "                    showlegend=True,\n",
    "                    line_color='black',\n",
    "                    fillcolor=problems[problem][\"Color\"][group],\n",
    "                    marker = dict(color=problems[problem][\"Color\"][group], line=dict(color='black',width=0.3), opacity=0.8),\n",
    "                    points='all',\n",
    "                    bandwidth = np.ptp(vals) / dist_num_bins,\n",
    "                    opacity=0.8\n",
    "                )\n",
    "            )\n",
    "        add_layout(fig, \"\", \"Methylation\", f\"{cpg} ({gene})<br>p-value: {pval:0.2e}\")\n",
    "        fig.update_layout(title_xref='paper')\n",
    "        fig.update_layout(legend_font_size=20)\n",
    "        fig.update_layout(legend= {'itemsizing': 'constant'})\n",
    "        fig.update_xaxes(tickfont_size=15)\n",
    "        fig.update_layout(\n",
    "            margin=go.layout.Margin(\n",
    "                l=110,\n",
    "                r=20,\n",
    "                b=50,\n",
    "                t=80,\n",
    "                pad=0\n",
    "            )\n",
    "        )\n",
    "        fig.update_layout(\n",
    "            legend=dict(\n",
    "                orientation=\"h\",\n",
    "                yanchor=\"bottom\",\n",
    "                y=1.25,\n",
    "                xanchor=\"center\",\n",
    "                x=0.5\n",
    "            )\n",
    "        )\n",
    "        save_figure(fig, f\"{path_save}/significance_tests/{problem}/examples/{cpg_id}_{cpg}\")"
   ],
   "metadata": {
    "collapsed": false,
    "pycharm": {
     "name": "#%%\n"
    }
   }
  }
 ],
 "metadata": {
  "kernelspec": {
   "name": "pycharm-7948d80f",
   "language": "python",
   "display_name": "PyCharm (dnam)"
  },
  "language_info": {
   "codemirror_mode": {
    "name": "ipython",
    "version": 2
   },
   "file_extension": ".py",
   "mimetype": "text/x-python",
   "name": "python",
   "nbconvert_exporter": "python",
   "pygments_lexer": "ipython2",
   "version": "2.7.6"
  }
 },
 "nbformat": 4,
 "nbformat_minor": 0
}