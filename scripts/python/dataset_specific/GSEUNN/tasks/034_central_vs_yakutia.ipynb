{
 "cells": [
  {
   "cell_type": "code",
   "execution_count": null,
   "outputs": [],
   "source": [
    "import pandas as pd\n",
    "import numpy as np\n",
    "import scipy\n",
    "from sklearn.linear_model import ElasticNet, ElasticNetCV\n",
    "from sklearn.model_selection import RepeatedKFold, GridSearchCV\n",
    "from sklearn.metrics import mean_squared_error, mean_absolute_error, r2_score\n",
    "from scripts.python.routines.betas import betas_drop_na\n",
    "from plotly.subplots import make_subplots\n",
    "from scipy import stats\n",
    "from functools import reduce\n",
    "import seaborn as sns\n",
    "import pickle\n",
    "import random\n",
    "import plotly.express as px\n",
    "import copy\n",
    "import statsmodels.formula.api as smf\n",
    "from sklearn.metrics import mean_squared_error, mean_absolute_error\n",
    "from scripts.python.pheno.datasets.filter import filter_pheno\n",
    "from scripts.python.pheno.datasets.features import get_column_name, get_status_dict, get_sex_dict\n",
    "from scripts.python.routines.plot.scatter import add_scatter_trace\n",
    "import plotly.graph_objects as go\n",
    "import pathlib\n",
    "from scripts.python.routines.manifest import get_manifest\n",
    "from scripts.python.routines.plot.save import save_figure\n",
    "from scripts.python.routines.plot.layout import add_layout, get_axis\n",
    "from scripts.python.routines.plot.p_value import add_p_value_annotation\n",
    "from statsmodels.stats.multitest import multipletests\n",
    "from sklearn.metrics import mean_absolute_error\n",
    "from impyute.imputation.cs import fast_knn, mean, median, random, mice, mode, em\n",
    "import plotly.io as pio\n",
    "pio.kaleido.scope.mathjax = None\n",
    "from plotly.offline import init_notebook_mode\n",
    "init_notebook_mode(connected=False)\n",
    "from scipy.stats import mannwhitneyu, median_test\n",
    "from scripts.python.preprocessing.serialization.routines.save import save_pheno_betas_to_pkl\n",
    "import matplotlib.pyplot as plt\n",
    "import seaborn as sns\n",
    "import pathlib\n",
    "from tqdm import tqdm\n",
    "from src.utils.plot.bioinfokit import mhat, volcano\n",
    "import gseapy as gp\n",
    "import mygene\n",
    "from sklearn.preprocessing import StandardScaler\n",
    "from sklearn.decomposition import PCA, IncrementalPCA, KernelPCA, SparsePCA, TruncatedSVD\n",
    "from sklearn.decomposition import MiniBatchDictionaryLearning, FastICA\n",
    "from sklearn.random_projection import GaussianRandomProjection, SparseRandomProjection\n",
    "from sklearn.manifold import MDS, Isomap, TSNE, LocallyLinearEmbedding\n",
    "from sklearn.discriminant_analysis import LinearDiscriminantAnalysis"
   ],
   "metadata": {
    "collapsed": false
   }
  },
  {
   "cell_type": "markdown",
   "source": [
    "# Init dnam and immuno data"
   ],
   "metadata": {
    "collapsed": false
   }
  },
  {
   "cell_type": "code",
   "execution_count": null,
   "outputs": [],
   "source": [
    "dataset = \"GSEUNN\"\n",
    "path = f\"E:/YandexDisk/Work/pydnameth/datasets\"\n",
    "datasets_info = pd.read_excel(f\"{path}/datasets.xlsx\", index_col='dataset')\n",
    "platform = datasets_info.loc[dataset, 'platform']\n",
    "manifest = get_manifest(platform, path=path)\n",
    "manifest['CHR'] = manifest['chr'].str[3::]\n",
    "\n",
    "path_save = f\"{path}/{platform}/{dataset}/special/034_central_vs_yakutia\"\n",
    "pathlib.Path(f\"{path_save}\").mkdir(parents=True, exist_ok=True)\n",
    "\n",
    "immuno_num_samples = 1052\n",
    "immuno_preprocessing = \"raw\" # \"minmax_left(0.05)_right(0.95)_combat\" # \"raw\"\n",
    "immuno_df = pd.read_excel(f\"{path}/{platform}/{dataset}/data/immuno/df_type({immuno_preprocessing})_all({immuno_num_samples})_imp(fast_knn)_replace(quarter).xlsx\", index_col=\"index\")\n",
    "immuno_df = immuno_df.loc[(immuno_df[\"Status\"] == \"Control\"), :]\n",
    "immuno_df[\"Region\"].replace({\"Yakutiya\": \"Yakutia\"}, inplace=True)\n",
    "immuno_feats = pd.read_excel(f\"{path}/{platform}/{dataset}/data/immuno/immuno_markers_genes.xlsx\").loc[:, 'gene'].values.tolist()\n",
    "if immuno_preprocessing == \"raw\":\n",
    "    immuno_df = immuno_df.loc[(immuno_df[\"260ai\"] == True) | (immuno_df[\"Region\"] == \"Yakutia\"), :]\n",
    "else:\n",
    "    immuno_df.drop([\"D-91\"], inplace=True) # Was error in region for this subject\n",
    "\n",
    "indexes_common = immuno_df.index[immuno_df[\"is_dnam\"] == True].values\n",
    "\n",
    "pheno = pd.read_excel(f\"{path}/{platform}/{dataset}/pheno.xlsx\", index_col=\"index\")\n",
    "pheno.index.name = \"index\"\n",
    "betas = pd.read_pickle(f\"{path}/{platform}/{dataset}/betas.pkl\")\n",
    "dnam_feats = betas.columns.values\n",
    "dnam_df = pd.merge(pheno, betas, left_index=True, right_index=True)\n",
    "dnam_df = dnam_df.loc[(dnam_df[\"Status\"] == \"Control\"), :]\n",
    "dnam_df = dnam_df.loc[indexes_common, :]\n",
    "\n",
    "is_region_equal = dnam_df.loc[indexes_common, 'Region'].equals(immuno_df.loc[indexes_common, 'Region'])\n",
    "is_sex_equal = dnam_df.loc[indexes_common, 'Sex'].equals(immuno_df.loc[indexes_common, 'Sex'])\n",
    "is_status_equal = dnam_df.loc[indexes_common, 'Status'].equals(immuno_df.loc[indexes_common, 'Status'])\n",
    "age_diff_max = np.max(np.abs(dnam_df.loc[indexes_common, 'Age'].values - immuno_df.loc[indexes_common, 'Age'].values))\n",
    "print(f\"is_region_equal: {is_region_equal}\")\n",
    "print(f\"is_sex_equal: {is_sex_equal}\")\n",
    "print(f\"is_status_equal: {is_status_equal}\")\n",
    "print(f\"age_diff_max: {age_diff_max}\")\n",
    "\n",
    "n_samples_immuno_central = len(immuno_df.index[immuno_df[\"Region\"] == \"Central\"].values)\n",
    "n_samples_immuno_yakutia = len(immuno_df.index[immuno_df[\"Region\"] == \"Yakutia\"].values)\n",
    "n_samples_dnam_central = len(dnam_df.index[dnam_df[\"Region\"] == \"Central\"].values)\n",
    "n_samples_dnam_yakutia = len(dnam_df.index[dnam_df[\"Region\"] == \"Yakutia\"].values)\n",
    "print(f\"n_samples_immuno_central: {n_samples_immuno_central}\")\n",
    "print(f\"n_samples_immuno_yakutia: {n_samples_immuno_yakutia}\")\n",
    "print(f\"n_samples_dnam_central: {n_samples_dnam_central}\")\n",
    "print(f\"n_samples_dnam_yakutia: {n_samples_dnam_yakutia}\")"
   ],
   "metadata": {
    "collapsed": false
   }
  },
  {
   "cell_type": "markdown",
   "source": [
    "# Create data for R"
   ],
   "metadata": {
    "collapsed": false
   }
  },
  {
   "cell_type": "code",
   "execution_count": null,
   "outputs": [],
   "source": [
    "pathlib.Path(f\"{path_save}/data_for_R\").mkdir(parents=True, exist_ok=True)\n",
    "\n",
    "betas_R = dnam_df.loc[:, dnam_feats]\n",
    "betas_R = betas_R.T\n",
    "betas_R.index.name = \"CpG\"\n",
    "betas_R.to_pickle(f\"{path_save}/data_for_R/betas.pkl\")\n",
    "\n",
    "pheno_R = dnam_df.loc[:, [\"Age\", \"Sex\", \"Region\", \"Sentrix_ID\", \"Sentrix_Position\"]]\n",
    "pheno_R.to_pickle(f\"{path_save}/data_for_R/pheno.pkl\")"
   ],
   "metadata": {
    "collapsed": false
   }
  },
  {
   "cell_type": "markdown",
   "source": [
    "# Data description"
   ],
   "metadata": {
    "collapsed": false
   }
  },
  {
   "cell_type": "markdown",
   "source": [
    "## Participants figure"
   ],
   "metadata": {
    "collapsed": false
   }
  },
  {
   "cell_type": "code",
   "execution_count": null,
   "outputs": [],
   "source": [
    "path_local = \"data_description/participants\"\n",
    "pathlib.Path(f\"{path_save}/{path_local}\").mkdir(parents=True, exist_ok=True)\n",
    "\n",
    "# Data for figure\n",
    "df_participants = immuno_df.loc[:, [\"Age\", \"Sex\", \"Region\", \"Status\"]]\n",
    "df_participants[\"Data\"] = \"Immuno only\"\n",
    "df_participants.loc[indexes_common, \"Data\"] = \"Immuno and DNAm\"\n",
    "\n",
    "# Params for figure\n",
    "binrange = [0, 105]\n",
    "bins = 15\n",
    "\n",
    "palette = {\n",
    "    \"Immuno and DNAm\": \"forestgreen\",\n",
    "    \"Immuno only\": \"lawngreen\",\n",
    "}\n",
    "hue_order = ['Immuno only', 'Immuno and DNAm']\n",
    "sns.set_theme(style='whitegrid')\n",
    "sns.histplot(\n",
    "    data=df_participants.loc[df_participants[\"Region\"] == \"Central\", :],\n",
    "    hue_order=hue_order,\n",
    "    binrange=binrange,\n",
    "    bins=bins,\n",
    "    x=\"Age\",\n",
    "    hue=\"Data\",\n",
    "    palette=palette,\n",
    "    multiple=\"stack\"\n",
    ")\n",
    "plt.savefig(f\"{path_save}/{path_local}/hist_Central.png\", bbox_inches='tight')\n",
    "plt.savefig(f\"{path_save}/{path_local}/hist_Central.pdf\", bbox_inches='tight')\n",
    "plt.clf()\n",
    "\n",
    "palette = {\n",
    "    \"Immuno and DNAm\": \"royalblue\",\n",
    "    \"Immuno only\": \"deepskyblue\",\n",
    "}\n",
    "sns.set_theme(style='whitegrid')\n",
    "sns.histplot(\n",
    "    data=df_participants.loc[df_participants[\"Region\"] == \"Yakutia\", :],\n",
    "    hue_order=hue_order,\n",
    "    binrange=binrange,\n",
    "    bins=bins,\n",
    "    x=\"Age\",\n",
    "    hue=\"Data\",\n",
    "    palette=palette,\n",
    "    multiple=\"stack\"\n",
    ")\n",
    "plt.savefig(f\"{path_save}/{path_local}/hist_Yakutia.png\", bbox_inches='tight')\n",
    "plt.savefig(f\"{path_save}/{path_local}/hist_Yakutia.pdf\", bbox_inches='tight')\n",
    "plt.clf()"
   ],
   "metadata": {
    "collapsed": false
   }
  },
  {
   "cell_type": "markdown",
   "source": [
    "## Immuno features"
   ],
   "metadata": {
    "collapsed": false
   }
  },
  {
   "cell_type": "markdown",
   "source": [
    "### Create matrix"
   ],
   "metadata": {
    "collapsed": false
   }
  },
  {
   "cell_type": "code",
   "execution_count": null,
   "outputs": [],
   "source": [
    "feats_plot = [\"Age\"] + list(immuno_feats)\n",
    "df_immuno_corr_mtx = pd.DataFrame(data=np.zeros(shape=(len(feats_plot), len(feats_plot))), index=feats_plot, columns=feats_plot)\n",
    "for f_id_1 in range(len(feats_plot)):\n",
    "    for f_id_2 in range(f_id_1, len(feats_plot)):\n",
    "        f_1 = feats_plot[f_id_1]\n",
    "        f_2 = feats_plot[f_id_2]\n",
    "        if f_id_1 != f_id_2:\n",
    "            vals_1 = immuno_df.loc[:, f_1].values\n",
    "            vals_2 = immuno_df.loc[:, f_2].values\n",
    "            corr, pval = stats.pearsonr(vals_1, vals_2)\n",
    "            df_immuno_corr_mtx.at[f_2, f_1] = pval\n",
    "            df_immuno_corr_mtx.at[f_1, f_2] = corr\n",
    "        else:\n",
    "            df_immuno_corr_mtx.at[f_2, f_1] = np.nan\n",
    "selection = np.tri(df_immuno_corr_mtx.shape[0], df_immuno_corr_mtx.shape[1], -1, dtype=np.bool)\n",
    "df_fdr = df_immuno_corr_mtx.where(selection).stack().reset_index()\n",
    "df_fdr.columns = ['row', 'col', 'pval']\n",
    "_, df_fdr['pval_fdr_bh'], _, _ = multipletests(df_fdr.loc[:, 'pval'].values, 0.05, method='fdr_bh')\n",
    "df_immuno_corr_mtx_fdr = df_immuno_corr_mtx.copy()\n",
    "for line_id in range(df_fdr.shape[0]):\n",
    "    df_immuno_corr_mtx_fdr.loc[df_fdr.at[line_id, 'row'], df_fdr.at[line_id, 'col']] = -np.log10(df_fdr.at[line_id, 'pval_fdr_bh'])"
   ],
   "metadata": {
    "collapsed": false
   }
  },
  {
   "cell_type": "markdown",
   "source": [
    "### Plot Matrix"
   ],
   "metadata": {
    "collapsed": false
   }
  },
  {
   "cell_type": "code",
   "execution_count": null,
   "outputs": [],
   "source": [
    "path_local = \"data_description/feats_immuno\"\n",
    "pathlib.Path(f\"{path_save}/{path_local}\").mkdir(parents=True, exist_ok=True)\n",
    "\n",
    "sns.set_theme(style='whitegrid')\n",
    "\n",
    "df_to_plot = df_immuno_corr_mtx_fdr.copy()\n",
    "mtx_to_plot = df_to_plot.to_numpy()\n",
    "\n",
    "mtx_triu = np.triu(mtx_to_plot, +1)\n",
    "max_corr = np.max(mtx_triu)\n",
    "min_corr = np.min(mtx_triu)\n",
    "mtx_triu_mask = np.ma.masked_array(mtx_triu, mtx_triu==0)\n",
    "cmap_triu = plt.get_cmap(\"bwr\").copy()\n",
    "\n",
    "mtx_tril = np.tril(mtx_to_plot, -1)\n",
    "mtx_tril_mask = np.ma.masked_array(mtx_tril, mtx_tril==0)\n",
    "cmap_tril = plt.get_cmap(\"viridis\").copy()\n",
    "cmap_tril.set_under('black')\n",
    "\n",
    "fig, ax = plt.subplots()\n",
    "\n",
    "im_triu = ax.imshow(mtx_triu_mask, cmap=cmap_triu, vmin=-1, vmax=1)\n",
    "cbar_triu = ax.figure.colorbar(im_triu, ax=ax, location='right')\n",
    "cbar_triu.set_label(r\"$\\mathrm{Correlation\\:coefficient}$\", horizontalalignment='center', fontsize=10)\n",
    "\n",
    "im_tril = ax.imshow(mtx_tril_mask, cmap=cmap_tril, vmin=-np.log10(0.05))\n",
    "cbar_tril = ax.figure.colorbar(im_tril, ax=ax, location='right')\n",
    "cbar_tril.set_label(r\"$-\\log_{10}(\\mathrm{p-value})$\", horizontalalignment='center', fontsize=10)\n",
    "\n",
    "ax.grid(None)\n",
    "ax.set_aspect(\"equal\")\n",
    "ax.set_xticks(np.arange(df_to_plot.shape[1]))\n",
    "ax.set_yticks(np.arange(df_to_plot.shape[0]))\n",
    "ax.set_xticklabels(df_to_plot.columns.values)\n",
    "ax.set_yticklabels(df_to_plot.index.values)\n",
    "plt.setp(ax.get_xticklabels(), rotation=90)\n",
    "threshold = np.ptp(mtx_tril.flatten()) * 0.5\n",
    "ax.tick_params(axis='both', which='major', labelsize=5)\n",
    "ax.tick_params(axis='both', which='minor', labelsize=5)\n",
    "textcolors = (\"black\", \"white\")\n",
    "for i in range(df_to_plot.shape[0]):\n",
    "    for j in range(df_to_plot.shape[1]):\n",
    "        color = \"black\"\n",
    "        if i > j:\n",
    "            color = textcolors[int(mtx_tril[i, j] < threshold)]\n",
    "        if np.isinf(mtx_to_plot[i, j]) or np.isnan(mtx_to_plot[i, j]):\n",
    "            text = ax.text(j, i, f\"\", ha=\"center\", va=\"center\", color=color, fontsize=1.3)\n",
    "        else:\n",
    "            text = ax.text(j, i, f\"{mtx_to_plot[i, j]:0.2f}\", ha=\"center\", va=\"center\", color=color, fontsize=1.3)\n",
    "fig.tight_layout()\n",
    "plt.savefig(f\"{path_save}/{path_local}/corr_mtx_fdr.png\", bbox_inches='tight', dpi=400)\n",
    "plt.savefig(f\"{path_save}/{path_local}/corr_mtx_fdr.pdf\", bbox_inches='tight', dpi=400)\n",
    "plt.clf()\n",
    "df_save = df_immuno_corr_mtx_fdr\n",
    "df_save.to_excel(f\"{path_save}/{path_local}/corr_mtx_fdr.xlsx\", index=True)"
   ],
   "metadata": {
    "collapsed": false
   }
  },
  {
   "cell_type": "markdown",
   "source": [
    "# DNAm features"
   ],
   "metadata": {
    "collapsed": false
   }
  },
  {
   "cell_type": "code",
   "execution_count": null,
   "outputs": [],
   "source": [
    "path_local = \"data_description/feats_dnam\"\n",
    "pathlib.Path(f\"{path_save}/{path_local}\").mkdir(parents=True, exist_ok=True)"
   ],
   "metadata": {
    "collapsed": false
   }
  },
  {
   "cell_type": "code",
   "execution_count": null,
   "outputs": [],
   "source": [
    "df_dnam_age = pd.read_csv(f\"{path_save}/data_for_R/DMP_age.csv\", index_col=\"CpG\")\n",
    "df_dnam_age[\"CpG\"] = df_dnam_age.index.values\n",
    "df_dnam_age['print'] = df_dnam_age.apply(lambda row: f\"{row['CpG']} ({row['gene']})\", axis=1)\n",
    "top_to_hightlight = df_dnam_age[\"print\"].values[0:5]\n",
    "df_dnam_age['log_pval'] = -np.log10(df_dnam_age[\"adj.P.Val\"])"
   ],
   "metadata": {
    "collapsed": false
   }
  },
  {
   "cell_type": "code",
   "execution_count": null,
   "outputs": [],
   "source": [
    "sns.set_theme(style='whitegrid')\n",
    "df_dnam_age.sort_values([\"MAPINFO\"], ascending=[True], inplace=True)\n",
    "mhat(\n",
    "    df=df_dnam_age,\n",
    "    chr='CHR',\n",
    "    pv='adj.P.Val',\n",
    "    path=f\"{path_save}/{path_local}\",\n",
    "    valpha=1,\n",
    "    markernames=tuple(top_to_hightlight),\n",
    "    markeridcol='print',\n",
    "    gstyle=2,\n",
    "    dim=(12,4),\n",
    "    axtickfontsize=8\n",
    ")"
   ],
   "metadata": {
    "collapsed": false
   }
  },
  {
   "cell_type": "markdown",
   "source": [
    "# DNAm analysis\n",
    "## Aux data"
   ],
   "metadata": {
    "collapsed": false
   }
  },
  {
   "cell_type": "code",
   "execution_count": null,
   "outputs": [],
   "source": [
    "problem = {\n",
    "    \"Color\": {\n",
    "        \"Central\": \"limegreen\",\n",
    "        \"Yakutia\": \"royalblue\",\n",
    "    },\n",
    "    \"Filter\": {\n",
    "        \"Central\": dnam_df[\"Region\"] == \"Central\",\n",
    "        \"Yakutia\": dnam_df[\"Region\"] == \"Yakutia\",\n",
    "    },\n",
    "    \"BaseFilter\": (dnam_df[\"Region\"] == \"Central\") | (dnam_df[\"Region\"] == \"Yakutia\"),\n",
    "    \"BasePart\": \"Central\"\n",
    "}"
   ],
   "metadata": {
    "collapsed": false
   }
  },
  {
   "cell_type": "markdown",
   "source": [
    "## Cells"
   ],
   "metadata": {
    "collapsed": false
   }
  },
  {
   "cell_type": "code",
   "execution_count": null,
   "outputs": [],
   "source": [
    "path_local = \"dnam_cells\"\n",
    "pathlib.Path(f\"{path_save}/{path_local}\").mkdir(parents=True, exist_ok=True)\n",
    "df_cells = pd.DataFrame(index=[\"CD8T\", \"CD4T\", \"NK\", \"Bcell\", \"Mono\", \"Gran\"], columns=[\"pval\", \"pval_fdr_bh\"])\n",
    "for cell in tqdm(df_cells.index.values):\n",
    "    vals = {}\n",
    "    for group in problem[\"Filter\"]:\n",
    "        vals[group] = dnam_df.loc[problem[\"Filter\"][group], cell].values\n",
    "        df_cells.at[cell, f\"mean_{group}\"] = np.mean(vals[group])\n",
    "        df_cells.at[cell, f\"median_{group}\"] = np.median(vals[group])\n",
    "        df_cells.at[cell, f\"q75_{group}\"], df_cells.at[cell, f\"q25_{group}\"] = np.percentile(vals[group], [75 ,25])\n",
    "        df_cells.at[cell, f\"iqr_{group}\"] = df_cells.at[cell, f\"q75_{group}\"] - df_cells.at[cell, f\"q25_{group}\"]\n",
    "    stat, pval = mannwhitneyu(*vals.values(), alternative='two-sided')\n",
    "    df_cells.at[cell, \"pval\"] = pval\n",
    "_, df_cells[\"pval_fdr_bh\"], _, _ = multipletests(df_cells[\"pval\"], 0.05, method='fdr_bh')\n",
    "df_cells.to_excel(f\"{path_save}/{path_local}/cells.xlsx\", index=True)\n",
    "\n",
    "dist_num_bins = 15\n",
    "for cell in tqdm(df_cells.index.values):\n",
    "\n",
    "    vals = {}\n",
    "    for group in problem[\"Filter\"]:\n",
    "        vals[group] = dnam_df.loc[problem[\"Filter\"][group], cell].values\n",
    "        print(f\"{group}: {len(vals[group])}\")\n",
    "\n",
    "    fig = go.Figure()\n",
    "    for group in problem[\"Filter\"]:\n",
    "        fig.add_trace(\n",
    "            go.Violin(\n",
    "                y=vals[group],\n",
    "                name=group,\n",
    "                box_visible=True,\n",
    "                meanline_visible=True,\n",
    "                showlegend=False,\n",
    "                line_color='black',\n",
    "                fillcolor=problem[\"Color\"][group],\n",
    "                marker = dict(color=problem[\"Color\"][group], line=dict(color='black',width=0.3), opacity=0.8),\n",
    "                points='all',\n",
    "                bandwidth = np.ptp(vals[group]) / dist_num_bins,\n",
    "                opacity=0.8\n",
    "            )\n",
    "        )\n",
    "    add_layout(fig, \"\", f\"{cell}\", f\"p-value: {df_cells.at[cell, 'pval_fdr_bh']:0.2e}\")\n",
    "    fig.update_layout(title_xref='paper')\n",
    "    fig.update_layout(legend_font_size=20)\n",
    "    fig.update_layout(legend={'itemsizing': 'constant'})\n",
    "    fig.update_layout(\n",
    "        margin=go.layout.Margin(\n",
    "            l=110,\n",
    "            r=20,\n",
    "            b=50,\n",
    "            t=40,\n",
    "            pad=0\n",
    "        )\n",
    "    )\n",
    "    fig.update_layout(legend_y=1.01)\n",
    "    save_figure(fig, f\"{path_save}/{path_local}/{cell}\")"
   ],
   "metadata": {
    "collapsed": false
   }
  },
  {
   "cell_type": "markdown",
   "source": [
    "## Age Accelerations"
   ],
   "metadata": {
    "collapsed": false
   }
  },
  {
   "cell_type": "code",
   "execution_count": null,
   "outputs": [],
   "source": [
    "path_local = \"dnam_age_accelerations\"\n",
    "pathlib.Path(f\"{path_save}/{path_local}\").mkdir(parents=True, exist_ok=True)\n",
    "age_types = ['DNAmAgeHannum', 'DNAmAge', 'DNAmPhenoAge', 'DNAmGrimAge']\n",
    "df_aas = pd.DataFrame(index=[f\"{x}Acc\" for x in age_types], columns=[\"pval\", \"pval_fdr_bh\"])\n",
    "for age_type in tqdm(age_types):\n",
    "    formula = f\"{age_type} ~ Age\"\n",
    "    model = smf.ols(formula=formula, data=dnam_df.loc[dnam_df[\"Region\"] == problem[\"BasePart\"]]).fit()\n",
    "    dnam_df[f\"{age_type}_linear_pred\"] = model.predict(dnam_df)\n",
    "    y_pred = model.predict(pheno)\n",
    "    dnam_df[f\"{age_type}Acc\"] = dnam_df[age_type] - dnam_df[f\"{age_type}_linear_pred\"]\n",
    "    vals = {}\n",
    "    for group in problem[\"Filter\"]:\n",
    "        vals[group] = dnam_df.loc[problem[\"Filter\"][group], f\"{age_type}Acc\"].values\n",
    "        df_aas.at[f\"{age_type}Acc\", f\"mean_{group}\"] = np.mean(vals[group])\n",
    "        df_aas.at[f\"{age_type}Acc\", f\"median_{group}\"] = np.median(vals[group])\n",
    "        df_aas.at[f\"{age_type}Acc\", f\"q75_{group}\"], df_aas.at[f\"{age_type}Acc\", f\"q25_{group}\"] = np.percentile(vals[group], [75 ,25])\n",
    "        df_aas.at[f\"{age_type}Acc\", f\"iqr_{group}\"] = df_aas.at[f\"{age_type}Acc\", f\"q75_{group}\"] - df_aas.at[f\"{age_type}Acc\", f\"q25_{group}\"]\n",
    "        print(f\"{group}: {len(vals[group])}\")\n",
    "    stat, pval = mannwhitneyu(*vals.values(), alternative='two-sided')\n",
    "    df_aas.at[f\"{age_type}Acc\", \"pval\"] = pval\n",
    "_, df_aas[\"pval_fdr_bh\"], _, _ = multipletests(df_aas[\"pval\"], 0.05, method='fdr_bh')\n",
    "df_aas.to_excel(f\"{path_save}/{path_local}/aas.xlsx\", index=True)\n",
    "\n",
    "dist_num_bins = 15\n",
    "for age_type in tqdm(age_types):\n",
    "\n",
    "    vals = {}\n",
    "    for group in problem[\"Filter\"]:\n",
    "        vals[group] = dnam_df.loc[problem[\"Filter\"][group], f\"{age_type}Acc\"].values\n",
    "\n",
    "    fig = go.Figure()\n",
    "    for group in problem[\"Filter\"]:\n",
    "        fig.add_trace(\n",
    "            go.Violin(\n",
    "                y=vals[group],\n",
    "                name=group,\n",
    "                box_visible=True,\n",
    "                meanline_visible=True,\n",
    "                showlegend=False,\n",
    "                line_color='black',\n",
    "                fillcolor=problem[\"Color\"][group],\n",
    "                marker = dict(color=problem[\"Color\"][group], line=dict(color='black',width=0.3), opacity=0.8),\n",
    "                points='all',\n",
    "                bandwidth = np.ptp(vals[group]) / dist_num_bins,\n",
    "                opacity=0.8\n",
    "            )\n",
    "        )\n",
    "    add_layout(fig, \"\", f\"{age_type}Acc\", f\"p-value: {df_aas.at[f'{age_type}Acc', 'pval_fdr_bh']:0.2e}\")\n",
    "    fig.update_layout(title_xref='paper')\n",
    "    fig.update_layout(legend_font_size=20)\n",
    "    fig.update_layout(legend= {'itemsizing': 'constant'})\n",
    "    fig.update_layout(\n",
    "        margin=go.layout.Margin(\n",
    "            l=110,\n",
    "            r=20,\n",
    "            b=50,\n",
    "            t=40,\n",
    "            pad=0\n",
    "        )\n",
    "    )\n",
    "    fig.update_layout(legend_y=1.01)\n",
    "    save_figure(fig, f\"{path_save}/{path_local}/violin_{age_type}Acc\")\n",
    "\n",
    "    fig = go.Figure()\n",
    "\n",
    "    fig.add_trace(\n",
    "        go.Scatter(\n",
    "            x=dnam_df.loc[dnam_df[\"Region\"] == problem[\"BasePart\"], f\"Age\"].values,\n",
    "            y=dnam_df.loc[dnam_df[\"Region\"] == problem[\"BasePart\"], f\"{age_type}_linear_pred\"].values,\n",
    "            showlegend=False,\n",
    "            name=\"\",\n",
    "            mode=\"lines\",\n",
    "            marker_color=problem[\"Color\"][problem[\"BasePart\"]],\n",
    "            marker=dict(\n",
    "                size=8,\n",
    "                opacity=0.75,\n",
    "                line=dict(\n",
    "                    color=\"black\",\n",
    "                    width=0.5\n",
    "                )\n",
    "            )\n",
    "        )\n",
    "    )\n",
    "    for group in problem[\"Filter\"]:\n",
    "        vals = dnam_df.loc[problem[\"Filter\"][group], f\"{age_type}\"].values\n",
    "\n",
    "        fig.add_trace(\n",
    "            go.Scatter(\n",
    "                x=dnam_df.loc[problem[\"Filter\"][group], f\"Age\"].values,\n",
    "                y=dnam_df.loc[problem[\"Filter\"][group], f\"{age_type}\"].values,\n",
    "                showlegend=True,\n",
    "                name=group,\n",
    "                mode=\"markers\",\n",
    "                line_color=problem[\"Color\"][group],\n",
    "                marker=dict(\n",
    "                    size=8,\n",
    "                    opacity=0.75,\n",
    "                    line=dict(\n",
    "                        color=\"black\",\n",
    "                        width=0.5\n",
    "                    )\n",
    "                )\n",
    "            )\n",
    "        )\n",
    "    add_layout(fig, f\"Age\", f\"{age_type}\", f\"\")\n",
    "    fig.update_layout(legend_font_size=20)\n",
    "    fig.update_layout(legend= {'itemsizing': 'constant'})\n",
    "    fig.update_layout(\n",
    "        margin=go.layout.Margin(\n",
    "            l=110,\n",
    "            r=20,\n",
    "            b=80,\n",
    "            t=40,\n",
    "            pad=0,\n",
    "        )\n",
    "    )\n",
    "    save_figure(fig, f\"{path_save}/{path_local}/scatter_{age_type}\")"
   ],
   "metadata": {
    "collapsed": false
   }
  },
  {
   "cell_type": "markdown",
   "source": [
    "## Mann-Whitney U test"
   ],
   "metadata": {
    "collapsed": false
   }
  },
  {
   "cell_type": "code",
   "execution_count": null,
   "outputs": [],
   "source": [
    "path_local = \"dnam_mann_whitney\"\n",
    "pathlib.Path(f\"{path_save}/{path_local}\").mkdir(parents=True, exist_ok=True)"
   ],
   "metadata": {
    "collapsed": false
   }
  },
  {
   "cell_type": "code",
   "execution_count": null,
   "outputs": [],
   "source": [
    "cpgs = betas.columns.values\n",
    "df_mw = pd.DataFrame(index=cpgs, columns=['chr', 'Position', 'Relation_to_Island', 'UCSC_RefGene_Group', 'Gene', 'stat', 'pval', 'pval_fdr_bh'])\n",
    "df_mw.index.name = 'CpG'\n",
    "for cpg_id, cpg in tqdm(enumerate(cpgs), desc='Mann-Whitney U test', total=len(cpgs)):\n",
    "    df_mw.at[cpg, 'chr'] = manifest.at[cpg, 'chr']\n",
    "    df_mw.at[cpg, 'Position'] = manifest.at[cpg, 'Position']\n",
    "    df_mw.at[cpg, 'Relation_to_Island'] = manifest.at[cpg, 'Relation_to_Island']\n",
    "    df_mw.at[cpg, 'UCSC_RefGene_Group'] = manifest.at[cpg, 'UCSC_RefGene_Group']\n",
    "    df_mw.at[cpg, 'Gene'] = manifest.at[cpg, 'Gene']\n",
    "    vals = {}\n",
    "    for group in problem[\"Filter\"]:\n",
    "        vals[group] = dnam_df.loc[problem[\"Filter\"][group], cpg].values\n",
    "    stat, pval = mannwhitneyu(*vals.values(), alternative='two-sided')\n",
    "    df_mw.at[cpg, 'stat'] = stat\n",
    "    df_mw.at[cpg, 'pval'] = pval\n",
    "_, df_mw['pval_fdr_bh'], _, _ = multipletests(df_mw['pval'], 0.05, method='fdr_bh')\n",
    "df_mw.to_excel(f\"{path_save}/{path_local}/table.xlsx\")"
   ],
   "metadata": {
    "collapsed": false
   }
  },
  {
   "cell_type": "code",
   "execution_count": null,
   "outputs": [],
   "source": [
    "df_mw = pd.read_excel(f\"{path_save}/{path_local}/table.xlsx\", index_col=\"CpG\")"
   ],
   "metadata": {
    "collapsed": false
   }
  },
  {
   "cell_type": "code",
   "execution_count": null,
   "outputs": [],
   "source": [
    "df_mw['CHR'] = pd.to_numeric(df_mw['chr'].str[3::])\n",
    "df_mw[\"CpG\"] = df_mw.index.values\n",
    "df_mw.sort_values([\"pval_fdr_bh\"], ascending=[True], inplace=True)\n",
    "df_mw['print'] = df_mw.apply(lambda row: f\"{row['CpG']} ({row['Gene']})\", axis=1)\n",
    "top_to_hightlight = df_mw[\"print\"].values[0:5]\n",
    "df_mw.sort_values([\"Position\"], ascending=[True], inplace=True)"
   ],
   "metadata": {
    "collapsed": false
   }
  },
  {
   "cell_type": "code",
   "execution_count": null,
   "outputs": [],
   "source": [
    "pval_lim = 1e-10\n",
    "df_mw_selected = df_mw.loc[df_mw[\"pval_fdr_bh\"] < pval_lim, :]\n",
    "df_mw_selected.sort_values([\"pval_fdr_bh\"], ascending=[True], inplace=True)\n",
    "df_mw_selected.to_excel(f\"{path_save}/{path_local}/selected.xlsx\")\n",
    "genes_mw_selected = set()\n",
    "for cpg in df_mw_selected.index.values:\n",
    "    genes_raw = manifest.at[cpg, 'Gene']\n",
    "    if isinstance(genes_raw, str):\n",
    "        genes = genes_raw.split(';')\n",
    "        genes_mw_selected.update(set(genes))\n",
    "if 'non-genic' in genes_mw_selected:\n",
    "    genes_mw_selected.remove('non-genic')\n",
    "if ' ' in genes_mw_selected:\n",
    "    genes_mw_selected.remove(' ')\n",
    "genes_mw_selected = list(genes_mw_selected)\n",
    "genes_mw_df = pd.DataFrame({'gene':genes_mw_selected})\n",
    "genes_mw_df.to_excel(f\"{path_save}/{path_local}/genes.xlsx\", index=False)"
   ],
   "metadata": {
    "collapsed": false
   }
  },
  {
   "cell_type": "code",
   "execution_count": null,
   "outputs": [],
   "source": [
    "pval_show_type = \"color\" # \"cross\"\n",
    "orders = {\n",
    "    'CHR': [str(x) for x in range(1, 24)],\n",
    "    'RELATION_TO_UCSC_CPG_ISLAND': ['S_Shelf', 'S_Shore', 'Island', 'N_Shore', 'N_Shelf', 'OpenSea'],\n",
    "    'UCSC_REFGENE_GROUP': ['TSS1500', 'TSS200', '5\\'UTR', '1stExon', 'Body', '3\\'UTR']\n",
    "}\n",
    "col_names = {\n",
    "    'CHR': \"CHR\",\n",
    "    'RELATION_TO_UCSC_CPG_ISLAND': \"Relation_to_Island\",\n",
    "    'UCSC_REFGENE_GROUP': \"UCSC_RefGene_Group\"\n",
    "}\n",
    "fig_sizes = {\n",
    "    'CHR': (17, 10),\n",
    "    'RELATION_TO_UCSC_CPG_ISLAND': (5, 10),\n",
    "    'UCSC_REFGENE_GROUP': (5, 10)\n",
    "}\n",
    "colors = {\n",
    "    'CHR': px.colors.qualitative.Dark24,\n",
    "    'RELATION_TO_UCSC_CPG_ISLAND': px.colors.qualitative.Light24[17:23],\n",
    "    'UCSC_REFGENE_GROUP': px.colors.qualitative.Light24[11:17]\n",
    "}\n",
    "df_mw_fisher_target = manifest.loc[df_mw_selected.index.values, :]\n",
    "df_mw_fisher_global = manifest.loc[df_mw.index.values, :]\n",
    "df_mw_fisher_padding = df_mw_fisher_global.loc[~df_mw_fisher_global.index.isin(df_mw_selected.index.values), :]\n",
    "for var in orders:\n",
    "    columns=[\"11\", \"12\", \"21\", \"22\", \"sum\", \"pval\", \"odds_ratio\"]\n",
    "    df_var = pd.DataFrame(index=orders[var], columns=columns, data=np.zeros((len(orders[var]), len(columns))))\n",
    "    df_var.index.name = col_names[var].replace(\"_\", \" \")\n",
    "    for var_val in orders[var]:\n",
    "        contingency_table = pd.DataFrame(index=[\"specific\", \"non-specific\"], columns=[\"in_val\", \"not_in_val\"])\n",
    "        contingency_table.at[\"specific\", \"in_val\"] = df_mw_fisher_target.loc[df_mw_fisher_target[col_names[var]] == var_val, :].shape[0]\n",
    "        contingency_table.at[\"specific\", \"not_in_val\"] = df_mw_fisher_target.loc[df_mw_fisher_target[col_names[var]] != var_val, :].shape[0]\n",
    "        contingency_table.at[\"non-specific\", \"in_val\"] = df_mw_fisher_padding.loc[df_mw_fisher_padding[col_names[var]] == var_val, :].shape[0]\n",
    "        contingency_table.at[\"non-specific\", \"not_in_val\"] = df_mw_fisher_padding.loc[df_mw_fisher_padding[col_names[var]] != var_val, :].shape[0]\n",
    "        df_var.at[var_val, \"11\"] = contingency_table.at[\"specific\", \"in_val\"]\n",
    "        df_var.at[var_val, \"12\"] = contingency_table.at[\"specific\", \"not_in_val\"]\n",
    "        df_var.at[var_val, \"21\"] = contingency_table.at[\"non-specific\", \"in_val\"]\n",
    "        df_var.at[var_val, \"22\"] = contingency_table.at[\"non-specific\", \"not_in_val\"]\n",
    "        df_var.at[var_val, \"sum\"] = contingency_table.values.sum()\n",
    "        odds_ratio, pval = stats.fisher_exact(contingency_table.to_numpy(), alternative='two-sided')\n",
    "        if np.isnan(odds_ratio):\n",
    "            odds_ratio = 1.0\n",
    "        df_var.at[var_val, \"odds_ratio\"], df_var.at[var_val, \"pval\"] = odds_ratio, pval\n",
    "    _, df_var['pval_fdr_bh'], _, _ = multipletests(df_var['pval'].values, 0.05, method='fdr_bh')\n",
    "    df_var[r'$ \\log_{10}(\\mathrm{Odds\\ ratio})$'] = np.log10(df_var.loc[:, 'odds_ratio'].values)\n",
    "    df_var[r'$ -\\log_{10}(\\mathrm{p-value})$'] = -np.log10(df_var.loc[:, 'pval_fdr_bh'].values)\n",
    "    df_var.to_excel(f\"{path_save}/{path_local}/fisher_{var}.xlsx\")\n",
    "\n",
    "    plt.figure(figsize=fig_sizes[var])\n",
    "    plt.xticks(rotation=90)\n",
    "    sns.set_theme(style='whitegrid', font_scale=2)\n",
    "    if pval_show_type == \"color\":\n",
    "        plot = plt.scatter(df_var.index, df_var.loc[:, r'$ \\log_{10}(\\mathrm{Odds\\ ratio})$'].values, c=df_var.loc[:, r'$ -\\log_{10}(\\mathrm{p-value})$'].values, cmap='Reds')\n",
    "        plt.clf()\n",
    "        cbar = plt.colorbar(plot)\n",
    "        cbar.set_label(r\"$-\\log_{10}(\\mathrm{p-value})$\", horizontalalignment='center')\n",
    "        ax = sns.barplot(data=df_var, x=df_var.index, y=r'$ \\log_{10}(\\mathrm{Odds\\ ratio})$', hue=r'$ -\\log_{10}(\\mathrm{p-value})$', palette='Reds', dodge=False)\n",
    "        ax.legend_.remove()\n",
    "    else:\n",
    "        bar = sns.barplot(data=df_var, x=df_var.index, y=r'$ \\log_{10}(\\mathrm{Odds\\ ratio})$', palette=colors[var], edgecolor='black')\n",
    "        for bar_index, this_bar in enumerate(bar.patches):\n",
    "            if df_var.at[df_var.index[bar_index], \"pval_fdr_bh\"] < 0.05:\n",
    "                this_bar.set_hatch('x')\n",
    "            this_bar.set_edgecolor('skyblue')\n",
    "    plt.savefig(f\"{path_save}/{path_local}/fisher_{var}.png\", bbox_inches='tight')\n",
    "    plt.savefig(f\"{path_save}/{path_local}/fisher_{var}.pdf\", bbox_inches='tight')\n",
    "    plt.close()"
   ],
   "metadata": {
    "collapsed": false
   }
  },
  {
   "cell_type": "code",
   "execution_count": null,
   "outputs": [],
   "source": [
    "sns.set_theme(style='whitegrid')\n",
    "mhat(\n",
    "    df=df_mw,\n",
    "    chr='CHR',\n",
    "    pv='pval_fdr_bh',\n",
    "    path=f\"{path_save}/{path_local}\",\n",
    "    valpha=1,\n",
    "    markernames=tuple(top_to_hightlight),\n",
    "    markeridcol='print',\n",
    "    gwas_sign_line=True,\n",
    "    gwasp=pval_lim,\n",
    "    gstyle=2,\n",
    "    dim=(12,4),\n",
    "    axtickfontsize=8\n",
    ")"
   ],
   "metadata": {
    "collapsed": false
   }
  },
  {
   "cell_type": "code",
   "execution_count": null,
   "outputs": [],
   "source": [
    "n_top = 10\n",
    "dist_num_bins = 25\n",
    "pathlib.Path(f\"{path_save}/{path_local}/examples\").mkdir(parents=True, exist_ok=True)\n",
    "df_mw_top = df_mw.sort_values(['pval_fdr_bh'], ascending=[True]).head(n_top)\n",
    "for cpg_id, (cpg, row) in enumerate(df_mw_top.iterrows()):\n",
    "    pval = row['pval_fdr_bh']\n",
    "    gene = manifest.at[cpg, 'Gene']\n",
    "\n",
    "    fig = go.Figure()\n",
    "    for group in problem[\"Filter\"]:\n",
    "        vals = dnam_df.loc[problem[\"Filter\"][group], cpg].values\n",
    "        fig.add_trace(\n",
    "            go.Violin(\n",
    "                y=vals,\n",
    "                name=group,\n",
    "                box_visible=True,\n",
    "                meanline_visible=True,\n",
    "                showlegend=False,\n",
    "                line_color='black',\n",
    "                fillcolor=problem[\"Color\"][group],\n",
    "                marker = dict(color=problem[\"Color\"][group], line=dict(color='black',width=0.3), opacity=0.8),\n",
    "                points='all',\n",
    "                bandwidth = np.ptp(vals) / dist_num_bins,\n",
    "                opacity=0.8\n",
    "            )\n",
    "        )\n",
    "    add_layout(fig, \"\", \"Methylation\", f\"{cpg} ({gene})<br>p-value: {pval:0.2e}\")\n",
    "    fig.update_layout(title_xref='paper')\n",
    "    fig.update_layout(legend_font_size=25)\n",
    "    fig.update_layout(legend={'itemsizing': 'constant'})\n",
    "    fig.update_xaxes(tickfont_size=25)\n",
    "    fig.update_layout(\n",
    "        margin=go.layout.Margin(\n",
    "            l=110,\n",
    "            r=20,\n",
    "            b=50,\n",
    "            t=80,\n",
    "            pad=0\n",
    "        )\n",
    "    )\n",
    "    fig.update_layout(\n",
    "        legend=dict(\n",
    "            orientation=\"h\",\n",
    "            yanchor=\"bottom\",\n",
    "            y=1.25,\n",
    "            xanchor=\"center\",\n",
    "            x=0.5\n",
    "        )\n",
    "    )\n",
    "    save_figure(fig, f\"{path_save}/{path_local}/examples/{cpg_id}_{cpg}\")"
   ],
   "metadata": {
    "collapsed": false
   }
  },
  {
   "cell_type": "markdown",
   "source": [
    "## ChAMP DMPs"
   ],
   "metadata": {
    "collapsed": false
   }
  },
  {
   "cell_type": "markdown",
   "source": [
    "### Setup"
   ],
   "metadata": {
    "collapsed": false
   }
  },
  {
   "cell_type": "code",
   "execution_count": null,
   "outputs": [],
   "source": [
    "path_local = \"dnam_DMPs_region\"\n",
    "pathlib.Path(f\"{path_save}/{path_local}\").mkdir(parents=True, exist_ok=True)"
   ],
   "metadata": {
    "collapsed": false
   }
  },
  {
   "cell_type": "markdown",
   "source": [
    "### Read ChAMP results"
   ],
   "metadata": {
    "collapsed": false
   }
  },
  {
   "cell_type": "code",
   "execution_count": null,
   "outputs": [],
   "source": [
    "df_dmps = pd.read_csv(f\"{path_save}/data_for_R/DMP_region.csv\", index_col=\"CpG\")\n",
    "df_dmps[\"CpG\"] = df_dmps.index.values\n",
    "df_dmps.sort_values([\"adj.P.Val\"], ascending=[True], inplace=True)\n",
    "df_dmps['print'] = df_dmps.apply(lambda row: f\"{row['CpG']} ({row['gene']})\", axis=1)\n",
    "df_dmps['log_pval'] = -np.log10(df_dmps[\"adj.P.Val\"])"
   ],
   "metadata": {
    "collapsed": false
   }
  },
  {
   "cell_type": "markdown",
   "source": [
    "### Obtain gene list"
   ],
   "metadata": {
    "collapsed": false
   }
  },
  {
   "cell_type": "code",
   "execution_count": null,
   "outputs": [],
   "source": [
    "pval_lim = 1e-10\n",
    "fc_lim = 0.1\n",
    "df_dmps_selected = df_dmps.loc[(df_dmps[\"adj.P.Val\"] < pval_lim) & ((df_dmps[\"logFC\"] < -fc_lim) | (df_dmps[\"logFC\"] > fc_lim)), :]\n",
    "df_dmps_selected.sort_values([\"adj.P.Val\"], ascending=[True], inplace=True)\n",
    "top_to_hightlight = df_dmps_selected[\"print\"].values[0:2]\n",
    "df_dmps_selected.to_excel(f\"{path_save}/{path_local}/selected.xlsx\")\n",
    "genes_dmps_selected = set()\n",
    "for cpg in df_dmps_selected.index.values:\n",
    "    genes_raw = manifest.at[cpg, 'Gene']\n",
    "    if isinstance(genes_raw, str):\n",
    "        genes = genes_raw.split(';')\n",
    "        genes_dmps_selected.update(set(genes))\n",
    "if 'non-genic' in genes_dmps_selected:\n",
    "    genes_dmps_selected.remove('non-genic')\n",
    "if ' ' in genes_dmps_selected:\n",
    "    genes_dmps_selected.remove(' ')\n",
    "genes_dmps_selected = list(genes_dmps_selected)\n",
    "genes_dmps_df = pd.DataFrame({'gene':genes_dmps_selected})\n",
    "genes_dmps_df.to_excel(f\"{path_save}/{path_local}/genes.xlsx\", index=False)"
   ],
   "metadata": {
    "collapsed": false
   }
  },
  {
   "cell_type": "markdown",
   "source": [
    "### Perform dimensionality reduction"
   ],
   "metadata": {
    "collapsed": false
   }
  },
  {
   "cell_type": "code",
   "execution_count": null,
   "outputs": [],
   "source": [
    "feats_dim_red = df_dmps_selected[\"CpG\"].values\n",
    "df_dnam_dim_red = dnam_df.loc[:, list(feats_dim_red) + [\"Age\", \"Sex\", \"Region\"]]\n",
    "data_dim_red = df_dnam_dim_red.loc[:, feats_dim_red].values\n",
    "classes_dim_red = df_dnam_dim_red.loc[:, 'Region'].values"
   ],
   "metadata": {
    "collapsed": false
   }
  },
  {
   "cell_type": "code",
   "execution_count": null,
   "outputs": [],
   "source": [
    "print(f\"PCA\")\n",
    "pca = PCA(n_components=2, whiten=False)\n",
    "data_pca = pca.fit_transform(data_dim_red)\n",
    "df_dnam_dim_red['PC 1'] = data_pca[:, 0]\n",
    "df_dnam_dim_red['PC 2'] = data_pca[:, 1]\n",
    "\n",
    "print(f\"Incremental PCA\")\n",
    "n_batches = 32\n",
    "ipca = IncrementalPCA(n_components=2)\n",
    "for data_batch in np.array_split(data_dim_red, n_batches):\n",
    "    ipca.partial_fit(data_batch)\n",
    "data_ipca = ipca.transform(data_dim_red)\n",
    "df_dnam_dim_red['Incremental PC 1'] = data_ipca[:, 0]\n",
    "df_dnam_dim_red['Incremental PC 2'] = data_ipca[:, 1]\n",
    "\n",
    "print(f\"Kernel PCA\")\n",
    "kpca = KernelPCA(kernel='rbf', fit_inverse_transform=True, gamma=None, n_components=2)\n",
    "data_kpca = kpca.fit_transform(data_dim_red)\n",
    "df_dnam_dim_red['Kernel PC 1'] = data_kpca[:, 0]\n",
    "df_dnam_dim_red['Kernel PC 2'] = data_kpca[:, 1]\n",
    "\n",
    "print(f\"SVD\")\n",
    "tsvd = TruncatedSVD(n_components=2, algorithm='randomized', n_iter=5)\n",
    "tsvd.fit(data_dim_red)\n",
    "data_svd = tsvd.transform(data_dim_red)\n",
    "df_dnam_dim_red['SVD 1'] = data_svd[:, 0]\n",
    "df_dnam_dim_red['SVD 2'] = data_svd[:, 1]\n",
    "\n",
    "print(f\"GRP\")\n",
    "GRP = GaussianRandomProjection(n_components=2, eps=0.5)\n",
    "GRP.fit(data_dim_red)\n",
    "data_grp = GRP.transform(data_dim_red)\n",
    "df_dnam_dim_red['Gaussian Random Projection 1'] = data_grp[:, 0]\n",
    "df_dnam_dim_red['Gaussian Random Projection 2'] = data_grp[:, 1]\n",
    "\n",
    "print(f\"SRP\")\n",
    "SRP = SparseRandomProjection(n_components=2, density='auto', eps=0.5, dense_output=False)\n",
    "SRP.fit(data_dim_red)\n",
    "data_srp = SRP.transform(data_dim_red)\n",
    "df_dnam_dim_red['Sparse Random Projection 1'] = data_srp[:, 0]\n",
    "df_dnam_dim_red['Sparse Random Projection 2'] = data_srp[:, 1]\n",
    "\n",
    "print(f\"MDS\")\n",
    "mds = MDS(n_components=2, metric=True)\n",
    "data_mds = mds.fit_transform(data_dim_red)\n",
    "df_dnam_dim_red['Multi Dimensional Scale 1'] = data_mds[:, 0]\n",
    "df_dnam_dim_red['Multi Dimensional Scale 2'] = data_mds[:, 1]\n",
    "\n",
    "print(f\"ISOMAP\")\n",
    "isomap = Isomap(n_components=2, n_neighbors=5)\n",
    "isomap.fit(data_dim_red)\n",
    "data_isomap = isomap.transform(data_dim_red)\n",
    "df_dnam_dim_red['IsoMap 1'] = data_isomap[:, 0]\n",
    "df_dnam_dim_red['IsoMap 2'] = data_isomap[:, 1]\n",
    "\n",
    "print(f\"MiniBatchDictionaryLearning\")\n",
    "miniBatchDictLearning = MiniBatchDictionaryLearning(n_components=2, batch_size=200, alpha=1, n_iter=25)\n",
    "miniBatchDictLearning.fit(data_dim_red)\n",
    "data_batch = miniBatchDictLearning.fit_transform(data_dim_red)\n",
    "df_dnam_dim_red['MBDL 1'] = data_batch[:, 0]\n",
    "df_dnam_dim_red['MBDL 2'] = data_batch[:, 1]\n",
    "\n",
    "print(f\"ICA\")\n",
    "fastICA = FastICA(n_components=2, algorithm='parallel', whiten=True, tol=1e-3, max_iter=1000)\n",
    "data_ica = fastICA.fit_transform(data_dim_red)\n",
    "df_dnam_dim_red['IC 1'] = data_ica[:, 0]\n",
    "df_dnam_dim_red['IC 2'] = data_ica[:, 1]\n",
    "\n",
    "print(f\"t-SNE\")\n",
    "tsne = TSNE(n_components=2, learning_rate=300, perplexity=30, early_exaggeration=12, init='random')\n",
    "data_tsne = tsne.fit_transform(data_dim_red)\n",
    "df_dnam_dim_red['tSNE 1'] = data_tsne[:, 0]\n",
    "df_dnam_dim_red['tSNE 2'] = data_tsne[:, 1]\n",
    "\n",
    "print(f\"LLE\")\n",
    "lle = LocallyLinearEmbedding(n_components=2, n_neighbors=10, method='modified')\n",
    "lle.fit(data_dim_red)\n",
    "data_lle = lle.transform(data_dim_red)\n",
    "df_dnam_dim_red['LLE 1'] = data_lle[:, 0]\n",
    "df_dnam_dim_red['LLE 2'] = data_lle[:, 1]"
   ],
   "metadata": {
    "collapsed": false
   }
  },
  {
   "cell_type": "code",
   "execution_count": null,
   "outputs": [],
   "source": [
    "pathlib.Path(f\"{path_save}/{path_local}/dim_red\").mkdir(parents=True, exist_ok=True)\n",
    "dim_red_methods_dict = {\n",
    "    'PCA': ['PC 1', 'PC 2'],\n",
    "    'IncrementalPCA': ['Incremental PC 1', 'Incremental PC 2'],\n",
    "    'KernelPCA': ['Kernel PC 1', 'Kernel PC 2'],\n",
    "    'SingularValueDecomposition': ['SVD 1', 'SVD 2'],\n",
    "    'GaussianRandomProjection': ['Gaussian Random Projection 1', 'Gaussian Random Projection 2'],\n",
    "    'SparseRandomProjection': ['Sparse Random Projection 1', 'Sparse Random Projection 2'],\n",
    "    'MultiDimensionalScaling': ['Multi Dimensional Scale 1', 'Multi Dimensional Scale 2'],\n",
    "    'Isomap': ['IsoMap 1', 'IsoMap 2'],\n",
    "    'MiniBatchDictionaryLearning': ['MBDL 1', 'MBDL 2'],\n",
    "    'ICA': ['IC 1', 'IC 2'],\n",
    "    'T-SNE': ['tSNE 1', 'tSNE 2'],\n",
    "    'LocallyLinearEmbedding': ['LLE 1', 'LLE 2']\n",
    "}\n",
    "for method in dim_red_methods_dict:\n",
    "    x_col = dim_red_methods_dict[method][0]\n",
    "    y_col = dim_red_methods_dict[method][1]\n",
    "    fig = go.Figure()\n",
    "    for group in problem[\"Color\"]:\n",
    "        fig.add_trace(\n",
    "            go.Scatter(\n",
    "                x=df_dnam_dim_red.loc[df_dnam_dim_red[\"Region\"] == group, x_col].values,\n",
    "                y=df_dnam_dim_red.loc[df_dnam_dim_red[\"Region\"] == group, y_col].values,\n",
    "                showlegend=True,\n",
    "                name=group,\n",
    "                mode=\"markers\",\n",
    "                line_color=problem[\"Color\"][group],\n",
    "                marker=dict(\n",
    "                    size=12,\n",
    "                    opacity=0.9,\n",
    "                    color=problem[\"Color\"][group],\n",
    "                    symbol=\"x\",\n",
    "                    line=dict(\n",
    "                        color=\"black\",\n",
    "                        width=0.6\n",
    "                    )\n",
    "                )\n",
    "            )\n",
    "        )\n",
    "    add_layout(fig, x_col, y_col, f\"\")\n",
    "    fig.update_layout(legend_font_size=20)\n",
    "    fig.update_layout(legend= {'itemsizing': 'constant'})\n",
    "    fig.update_layout(\n",
    "        autosize=False,\n",
    "        width=600,\n",
    "        height=600,\n",
    "        margin=go.layout.Margin(\n",
    "            l=110,\n",
    "            r=20,\n",
    "            b=80,\n",
    "            t=40,\n",
    "            pad=0,\n",
    "        )\n",
    "    )\n",
    "    save_figure(fig, f\"{path_save}/{path_local}/dim_red/{method}\")"
   ],
   "metadata": {
    "collapsed": false
   }
  },
  {
   "cell_type": "markdown",
   "source": [
    "### Obtain entrez genes lists with possible synonyms"
   ],
   "metadata": {
    "collapsed": false
   }
  },
  {
   "cell_type": "code",
   "execution_count": null,
   "outputs": [],
   "source": [
    "mg = mygene.MyGeneInfo()\n",
    "print(f\"genes_dmps_selected: {len(genes_dmps_selected)}\")\n",
    "df_queries_all = []\n",
    "genes_missed = []\n",
    "number_of_synonyms = 0\n",
    "for gene in tqdm(genes_dmps_selected):\n",
    "    df_query = mg.query(gene, scopes='entrezgene', species='human', as_dataframe=True)\n",
    "    if df_query.empty:\n",
    "        genes_missed.append(gene)\n",
    "    else:\n",
    "        df_queries_all.append(df_query)\n",
    "        if gene not in set(df_query.loc[:, \"symbol\"].values):\n",
    "            number_of_synonyms += 1\n",
    "            print(f\"{gene} not in {list(df_query.loc[:, 'symbol'].values)}\")\n",
    "print(f\"Total number of synonyms: {number_of_synonyms}\")\n",
    "\n",
    "df_query_all = pd.concat(df_queries_all)\n",
    "df_query_all.to_excel(f\"{path_save}/{path_local}/df_query_all.xlsx\", index=True)\n",
    "\n",
    "genes_dmps_missed_df = pd.DataFrame({'gene': genes_missed})\n",
    "genes_dmps_missed_df.to_excel(f\"{path_save}/{path_local}/genes_dmps_mygene_missed.xlsx\", index=False)\n",
    "\n",
    "genes_dmps_selected_all = list(set(df_query_all.loc[:, \"symbol\"].values))\n",
    "genes_dmps_selected_all_df = pd.DataFrame({'gene': genes_dmps_selected_all})\n",
    "genes_dmps_selected_all_df.to_excel(f\"{path_save}/{path_local}/genes_dmps_selected_mygene_all.xlsx\", index=False)"
   ],
   "metadata": {
    "collapsed": false
   }
  },
  {
   "cell_type": "markdown",
   "source": [
    "### Perform GSEA for selected gene libraries"
   ],
   "metadata": {
    "collapsed": false
   }
  },
  {
   "cell_type": "code",
   "execution_count": null,
   "outputs": [],
   "source": [
    "genes_lists = gp.get_library_name(\"Human\")\n",
    "df_genes_lists = pd.DataFrame(index=genes_lists)\n",
    "df_genes_lists.to_excel(f\"{path_save}/{path_local}/genes_lists.xlsx\", index=True)\n",
    "\n",
    "genes_dict_of_lists = {\n",
    "    \"origin\": genes_dmps_selected,\n",
    "    \"mygene_all\": genes_dmps_selected_all\n",
    "}\n",
    "\n",
    "for genes in genes_dict_of_lists:\n",
    "    dfs_enrichr = []\n",
    "    for genes_list in genes_lists:\n",
    "        pathlib.Path(f\"{path_save}/{path_local}/GSEA/{genes}/{genes_list}\").mkdir(parents=True, exist_ok=True)\n",
    "        df_enrichr = gp.enrichr(\n",
    "            gene_list=genes_dict_of_lists[genes],\n",
    "            gene_sets=genes_list,\n",
    "            organism='Human',\n",
    "            outdir=f\"{path_save}/{path_local}/GSEA/{genes}/{genes_list}\",\n",
    "            cutoff=1.00,\n",
    "            verbose=True,\n",
    "            no_plot=True\n",
    "        )\n",
    "        dfs_enrichr.append(df_enrichr.results)\n",
    "    dfs_enrichr = pd.concat(dfs_enrichr)\n",
    "    dfs_enrichr.to_excel(f\"{path_save}/{path_local}/GSEA/{genes}/results.xlsx\", index=True)\n",
    "    dfs_enrichr.to_pickle(f\"{path_save}/{path_local}/GSEA/{genes}/results.pkl\")"
   ],
   "metadata": {
    "collapsed": false
   }
  },
  {
   "cell_type": "code",
   "execution_count": null,
   "outputs": [],
   "source": [
    "library_dict = gp.parser.get_library('GO_Molecular_Function_2021', organism='Human')\n",
    "len(library_dict[\"response to cold (GO:0009409)\"])"
   ],
   "metadata": {
    "collapsed": false
   }
  },
  {
   "cell_type": "code",
   "execution_count": null,
   "outputs": [],
   "source": [
    "library_dict = gp.parser.get_library('BioCarta_2015', organism='Human')\n",
    "len(set(library_dict[\"telomeres telomerase cellular aging and immortality\"]).intersection(set(genes_dmps_selected)))"
   ],
   "metadata": {
    "collapsed": false
   }
  },
  {
   "cell_type": "markdown",
   "source": [
    "### Plot significant GSEA terms"
   ],
   "metadata": {
    "collapsed": false
   }
  },
  {
   "cell_type": "code",
   "execution_count": null,
   "outputs": [],
   "source": [
    "target_genes_lists = [\n",
    "    \"GO_Biological_Process_2021\",\n",
    "    \"GO_Molecular_Function_2021\",\n",
    "    \"GO_Cellular_Component_2021\",\n",
    "    \"Reactome_2016\",\n",
    "    \"KEGG_2021_Human\",\n",
    "    \"WikiPathways_2019_Human\",\n",
    "]\n",
    "\n",
    "gsea_cols = [\"Gene_set\", \"Term\", \"Overlap\", \"P-value\", \"Adjusted P-value\", \"Odds Ratio\", \"Combined Score\"]\n",
    "for genes in genes_dict_of_lists:\n",
    "\n",
    "    dfs_enrichr = pd.read_pickle(f\"{path_save}/{path_local}/GSEA/{genes}/results.pkl\")\n",
    "    dfs_enrichr = dfs_enrichr.loc[(dfs_enrichr[\"Adjusted P-value\"] < 0.05) & (dfs_enrichr[\"Gene_set\"].isin(target_genes_lists)), gsea_cols]\n",
    "\n",
    "    if dfs_enrichr.empty == False:\n",
    "        dfs_enrichr[r'$ -\\log_{10}(\\mathrm{p-value})$'] = -np.log10(dfs_enrichr.loc[:, 'Adjusted P-value'].values)\n",
    "        dfs_enrichr.rename(columns={'Gene_set': 'Gene set'}, inplace=True)\n",
    "        dfs_enrichr.to_excel(f\"{path_save}/{path_local}/GSEA/{genes}/terms.xlsx\")\n",
    "        plt.figure(figsize=(10, 0.5 * dfs_enrichr.shape[0]))\n",
    "        sns.set_theme(style='whitegrid', font_scale=2)\n",
    "        bar = sns.barplot(\n",
    "            data=dfs_enrichr,\n",
    "            hue=\"Gene set\",\n",
    "            y=dfs_enrichr[\"Term\"].values,\n",
    "            x=r'$ -\\log_{10}(\\mathrm{p-value})$',\n",
    "            palette=px.colors.qualitative.Light24,\n",
    "            edgecolor='black',\n",
    "            orient=\"h\",\n",
    "            dodge=False\n",
    "        )\n",
    "        sns.move_legend(bar, \"upper left\", bbox_to_anchor=(1, 1))\n",
    "        plt.savefig(f\"{path_save}/{path_local}/GSEA/{genes}/terms.png\", bbox_inches='tight')\n",
    "        plt.savefig(f\"{path_save}/{path_local}/GSEA/{genes}/terms.pdf\", bbox_inches='tight')\n",
    "        plt.close()"
   ],
   "metadata": {
    "collapsed": false
   }
  },
  {
   "cell_type": "code",
   "execution_count": null,
   "outputs": [],
   "source": [
    "pval_show_type = \"color\" # \"cross\"\n",
    "orders = {\n",
    "    'CHR': [str(x) for x in range(1, 24)],\n",
    "    'RELATION_TO_UCSC_CPG_ISLAND': ['S_Shelf', 'S_Shore', 'Island', 'N_Shore', 'N_Shelf', 'OpenSea'],\n",
    "    'UCSC_REFGENE_GROUP': ['TSS1500', 'TSS200', '5\\'UTR', '1stExon', 'Body', '3\\'UTR']\n",
    "}\n",
    "col_names = {\n",
    "    'CHR': \"CHR\",\n",
    "    'RELATION_TO_UCSC_CPG_ISLAND': \"Relation_to_Island\",\n",
    "    'UCSC_REFGENE_GROUP': \"UCSC_RefGene_Group\"\n",
    "}\n",
    "fig_sizes = {\n",
    "    'CHR': (17, 10),\n",
    "    'RELATION_TO_UCSC_CPG_ISLAND': (5, 10),\n",
    "    'UCSC_REFGENE_GROUP': (5, 10)\n",
    "}\n",
    "colors = {\n",
    "    'CHR': px.colors.qualitative.Dark24,\n",
    "    'RELATION_TO_UCSC_CPG_ISLAND': px.colors.qualitative.Light24[17:23],\n",
    "    'UCSC_REFGENE_GROUP': px.colors.qualitative.Light24[11:17]\n",
    "}\n",
    "df_dmps_fisher_target = manifest.loc[df_dmps_selected.index.values, :]\n",
    "df_dmps_fisher_global = manifest.loc[df_dmps.index.values, :]\n",
    "df_dmps_fisher_padding = df_dmps_fisher_global.loc[~df_dmps_fisher_global.index.isin(df_dmps_selected.index.values), :]\n",
    "for var in orders:\n",
    "    columns=[\"11\", \"12\", \"21\", \"22\", \"sum\", \"pval\", \"odds_ratio\"]\n",
    "    df_var = pd.DataFrame(index=orders[var], columns=columns, data=np.zeros((len(orders[var]), len(columns))))\n",
    "    df_var.index.name = col_names[var].replace(\"_\", \" \")\n",
    "    for var_val in orders[var]:\n",
    "        contingency_table = pd.DataFrame(index=[\"specific\", \"non-specific\"], columns=[\"in_val\", \"not_in_val\"])\n",
    "        contingency_table.at[\"specific\", \"in_val\"] = df_dmps_fisher_target.loc[df_dmps_fisher_target[col_names[var]] == var_val, :].shape[0]\n",
    "        contingency_table.at[\"specific\", \"not_in_val\"] = df_dmps_fisher_target.loc[df_dmps_fisher_target[col_names[var]] != var_val, :].shape[0]\n",
    "        contingency_table.at[\"non-specific\", \"in_val\"] = df_dmps_fisher_padding.loc[df_dmps_fisher_padding[col_names[var]] == var_val, :].shape[0]\n",
    "        contingency_table.at[\"non-specific\", \"not_in_val\"] = df_dmps_fisher_padding.loc[df_dmps_fisher_padding[col_names[var]] != var_val, :].shape[0]\n",
    "        df_var.at[var_val, \"11\"] = contingency_table.at[\"specific\", \"in_val\"]\n",
    "        df_var.at[var_val, \"12\"] = contingency_table.at[\"specific\", \"not_in_val\"]\n",
    "        df_var.at[var_val, \"21\"] = contingency_table.at[\"non-specific\", \"in_val\"]\n",
    "        df_var.at[var_val, \"22\"] = contingency_table.at[\"non-specific\", \"not_in_val\"]\n",
    "        df_var.at[var_val, \"sum\"] = contingency_table.values.sum()\n",
    "        odds_ratio, pval = stats.fisher_exact(contingency_table.to_numpy(), alternative='two-sided')\n",
    "        if np.isnan(odds_ratio):\n",
    "            odds_ratio = 1.0\n",
    "        df_var.at[var_val, \"odds_ratio\"], df_var.at[var_val, \"pval\"] = odds_ratio, pval\n",
    "    _, df_var['pval_fdr_bh'], _, _ = multipletests(df_var['pval'].values, 0.05, method='fdr_bh')\n",
    "    df_var[r'$ \\log_{10}(\\mathrm{Odds\\ ratio})$'] = np.log10(df_var.loc[:, 'odds_ratio'].values)\n",
    "    df_var[r'$ -\\log_{10}(\\mathrm{p-value})$'] = -np.log10(df_var.loc[:, 'pval_fdr_bh'].values)\n",
    "    df_var.to_excel(f\"{path_save}/{path_local}/fisher_{var}.xlsx\")\n",
    "\n",
    "    plt.figure(figsize=fig_sizes[var])\n",
    "    plt.xticks(rotation=90)\n",
    "    sns.set_theme(style='whitegrid', font_scale=2)\n",
    "    if pval_show_type == \"color\":\n",
    "        plot = plt.scatter(df_var.index, df_var.loc[:, r'$ \\log_{10}(\\mathrm{Odds\\ ratio})$'].values, c=df_var.loc[:, r'$ -\\log_{10}(\\mathrm{p-value})$'].values, cmap='Reds')\n",
    "        plt.clf()\n",
    "        cbar = plt.colorbar(plot)\n",
    "        plt.xticks(rotation=90)\n",
    "        cbar.set_label(r\"$-\\log_{10}(\\mathrm{p-value})$\", horizontalalignment='center')\n",
    "        ax = sns.barplot(data=df_var, x=df_var.index, y=r'$ \\log_{10}(\\mathrm{Odds\\ ratio})$', hue=r'$ -\\log_{10}(\\mathrm{p-value})$', palette='Reds', dodge=False, edgecolor='black')\n",
    "        ax.legend_.remove()\n",
    "    else:\n",
    "        bar = sns.barplot(data=df_var, x=df_var.index, y=r'$ \\log_{10}(\\mathrm{Odds\\ ratio})$', palette=colors[var], edgecolor='black')\n",
    "        for bar_index, this_bar in enumerate(bar.patches):\n",
    "            if df_var.at[df_var.index[bar_index], \"pval_fdr_bh\"] < 0.05:\n",
    "                this_bar.set_hatch('x')\n",
    "            this_bar.set_edgecolor('skyblue')\n",
    "    plt.savefig(f\"{path_save}/{path_local}/fisher_{var}.png\", bbox_inches='tight')\n",
    "    plt.savefig(f\"{path_save}/{path_local}/fisher_{var}.pdf\", bbox_inches='tight')\n",
    "    plt.close()"
   ],
   "metadata": {
    "collapsed": false
   }
  },
  {
   "cell_type": "code",
   "execution_count": null,
   "outputs": [],
   "source": [
    "sns.set_theme(style='whitegrid')\n",
    "df_dmps.sort_values([\"MAPINFO\"], ascending=[True], inplace=True)\n",
    "mhat(\n",
    "    df=df_dmps,\n",
    "    chr='CHR',\n",
    "    pv='adj.P.Val',\n",
    "    path=f\"{path_save}/{path_local}\",\n",
    "    valpha=1,\n",
    "    markernames=tuple(top_to_hightlight),\n",
    "    markeridcol='print',\n",
    "    gstyle=2,\n",
    "    dim=(12, 4),\n",
    "    axtickfontsize=8\n",
    ")"
   ],
   "metadata": {
    "collapsed": false
   }
  },
  {
   "cell_type": "code",
   "execution_count": null,
   "outputs": [],
   "source": [
    "sns.set_theme(style='whitegrid')\n",
    "volcano(\n",
    "    df=df_dmps,\n",
    "    lfc='logFC',\n",
    "    pv='adj.P.Val',\n",
    "    pv_thr=(pval_lim, pval_lim),\n",
    "    lfc_thr=(fc_lim, fc_lim),\n",
    "    path=f\"{path_save}/{path_local}\",\n",
    "    genenames=tuple(top_to_hightlight),\n",
    "    geneid='print',\n",
    "    gstyle=2,\n",
    "    sign_line=True\n",
    ")"
   ],
   "metadata": {
    "collapsed": false
   }
  },
  {
   "cell_type": "code",
   "execution_count": null,
   "outputs": [],
   "source": [
    "n_top = 10\n",
    "dist_num_bins = 25\n",
    "pathlib.Path(f\"{path_save}/{path_local}/examples\").mkdir(parents=True, exist_ok=True)\n",
    "df_dmps_top = df_dmps.sort_values(['adj.P.Val'], ascending=[True]).head(n_top)\n",
    "for cpg_id, (cpg, row) in enumerate(df_dmps_top.iterrows()):\n",
    "    pval = row['adj.P.Val']\n",
    "    gene = manifest.at[cpg, 'Gene']\n",
    "\n",
    "    fig = go.Figure()\n",
    "    for group in problem[\"Filter\"]:\n",
    "        vals = dnam_df.loc[problem[\"Filter\"][group], cpg].values\n",
    "        fig.add_trace(\n",
    "            go.Violin(\n",
    "                y=vals,\n",
    "                name=group,\n",
    "                box_visible=True,\n",
    "                meanline_visible=True,\n",
    "                showlegend=False,\n",
    "                line_color='black',\n",
    "                fillcolor=problem[\"Color\"][group],\n",
    "                marker = dict(color=problem[\"Color\"][group], line=dict(color='black',width=0.3), opacity=0.8),\n",
    "                points='all',\n",
    "                bandwidth = np.ptp(vals) / dist_num_bins,\n",
    "                opacity=0.8\n",
    "            )\n",
    "        )\n",
    "    add_layout(fig, \"\", \"Methylation\", f\"{cpg} ({gene})<br>p-value: {pval:0.2e}\")\n",
    "    fig.update_layout(title_xref='paper')\n",
    "    fig.update_layout(legend_font_size=25)\n",
    "    fig.update_layout(legend={'itemsizing': 'constant'})\n",
    "    fig.update_xaxes(tickfont_size=25)\n",
    "    fig.update_layout(\n",
    "        margin=go.layout.Margin(\n",
    "            l=110,\n",
    "            r=20,\n",
    "            b=50,\n",
    "            t=80,\n",
    "            pad=0\n",
    "        )\n",
    "    )\n",
    "    fig.update_layout(\n",
    "        legend=dict(\n",
    "            orientation=\"h\",\n",
    "            yanchor=\"bottom\",\n",
    "            y=1.25,\n",
    "            xanchor=\"center\",\n",
    "            x=0.5\n",
    "        )\n",
    "    )\n",
    "    save_figure(fig, f\"{path_save}/{path_local}/examples/{cpg_id}_{cpg}\")"
   ],
   "metadata": {
    "collapsed": false
   }
  },
  {
   "cell_type": "markdown",
   "source": [
    "# Immunology data analysis"
   ],
   "metadata": {
    "collapsed": false
   }
  },
  {
   "cell_type": "markdown",
   "source": [
    "## Aux data"
   ],
   "metadata": {
    "collapsed": false
   }
  },
  {
   "cell_type": "code",
   "execution_count": null,
   "outputs": [],
   "source": [
    "problem = {\n",
    "    \"Color\": {\n",
    "        \"Central\": \"limegreen\",\n",
    "        \"Yakutia\": \"royalblue\",\n",
    "    },\n",
    "    \"Filter\": {\n",
    "        \"Central\": immuno_df[\"Region\"] == \"Central\",\n",
    "        \"Yakutia\": immuno_df[\"Region\"] == \"Yakutia\",\n",
    "    },\n",
    "    \"BaseFilter\": (immuno_df[\"Region\"] == \"Central\") | (immuno_df[\"Region\"] == \"Yakutia\"),\n",
    "    \"BasePart\": \"Central\"\n",
    "}"
   ],
   "metadata": {
    "collapsed": false
   }
  },
  {
   "cell_type": "markdown",
   "source": [
    "## SImAge Results"
   ],
   "metadata": {
    "collapsed": false
   }
  },
  {
   "cell_type": "code",
   "execution_count": null,
   "outputs": [],
   "source": [
    "simage_df = pd.read_excel(f\"E:/YandexDisk/Work/pydnameth/draft/07_central_vs_yakutia/raw/fig_immuno_clock/df.xlsx\", index_col=\"index\")\n",
    "immuno_df.loc[immuno_df.index.values, \"SImAge\"] = simage_df.loc[immuno_df.index.values, \"Estimation\"]"
   ],
   "metadata": {
    "collapsed": false
   }
  },
  {
   "cell_type": "code",
   "execution_count": null,
   "outputs": [],
   "source": [
    "path_local = \"immuno_age_accelerations\"\n",
    "pathlib.Path(f\"{path_save}/{path_local}\").mkdir(parents=True, exist_ok=True)\n",
    "\n",
    "formula = f\"SImAge ~ Age\"\n",
    "model = smf.ols(formula=formula, data=immuno_df.loc[immuno_df[\"Region\"] == problem[\"BasePart\"]]).fit()\n",
    "immuno_df[f\"SImAge_linear_pred\"] = model.predict(immuno_df)\n",
    "y_pred = model.predict(pheno)\n",
    "immuno_df[f\"SImAgeAcc\"] = immuno_df[\"SImAge\"] - immuno_df[f\"SImAge_linear_pred\"]\n",
    "df_aa = pd.DataFrame(index=[\"SImAge\"], columns=[\"pval\", \"pval_fdr_bh\"])\n",
    "vals = {}\n",
    "for group in problem[\"Filter\"]:\n",
    "    vals[group] = immuno_df.loc[problem[\"Filter\"][group], f\"SImAgeAcc\"].values\n",
    "    df_aa.at[f\"SImAgeAcc\", f\"mean_{group}\"] = np.mean(vals[group])\n",
    "    df_aa.at[f\"SImAgeAcc\", f\"median_{group}\"] = np.median(vals[group])\n",
    "    df_aa.at[f\"SImAgeAcc\", f\"q75_{group}\"], df_aa.at[f\"SImAgeAcc\", f\"q25_{group}\"] = np.percentile(vals[group], [75 ,25])\n",
    "    df_aa.at[f\"SImAgeAcc\", f\"iqr_{group}\"] = df_aa.at[f\"SImAgeAcc\", f\"q75_{group}\"] - df_aa.at[f\"SImAgeAcc\", f\"q25_{group}\"]\n",
    "    print(f\"{group}: {len(vals[group])}\")\n",
    "stat, pval = mannwhitneyu(*vals.values(), alternative='two-sided')\n",
    "df_aa.at[f\"SImAgeAcc\", \"pval\"] = pval\n",
    "df_aa.to_excel(f\"{path_save}/{path_local}/aa.xlsx\", index=True)\n",
    "\n",
    "dist_num_bins = 25\n",
    "fig = go.Figure()\n",
    "for group in problem[\"Filter\"]:\n",
    "    fig.add_trace(\n",
    "        go.Violin(\n",
    "            y=vals[group],\n",
    "            name=group,\n",
    "            box_visible=True,\n",
    "            meanline_visible=True,\n",
    "            showlegend=False,\n",
    "            line_color='black',\n",
    "            fillcolor=problem[\"Color\"][group],\n",
    "            marker = dict(color=problem[\"Color\"][group], line=dict(color='black',width=0.3), opacity=0.8),\n",
    "            points='all',\n",
    "            bandwidth = np.ptp(vals[group]) / dist_num_bins,\n",
    "            opacity=0.8\n",
    "        )\n",
    "    )\n",
    "add_layout(fig, \"\", f\"SImAgeAcc\", f\"p-value: {df_aa.at[f'SImAgeAcc', 'pval']:0.2e}\")\n",
    "fig.update_layout(title_xref='paper')\n",
    "fig.update_layout(legend_font_size=20)\n",
    "fig.update_layout(legend= {'itemsizing': 'constant'})\n",
    "fig.update_layout(\n",
    "    margin=go.layout.Margin(\n",
    "        l=110,\n",
    "        r=20,\n",
    "        b=50,\n",
    "        t=40,\n",
    "        pad=0\n",
    "    )\n",
    ")\n",
    "fig.update_layout(legend_y=1.01)\n",
    "save_figure(fig, f\"{path_save}/{path_local}/violin_SImAgeAcc\")\n",
    "\n",
    "fig = go.Figure()\n",
    "fig.add_trace(\n",
    "    go.Scatter(\n",
    "        x=immuno_df.loc[immuno_df[\"Region\"] == problem[\"BasePart\"], f\"Age\"].values,\n",
    "        y=immuno_df.loc[immuno_df[\"Region\"] == problem[\"BasePart\"], f\"SImAge_linear_pred\"].values,\n",
    "        showlegend=False,\n",
    "        name=\"\",\n",
    "        mode=\"lines\",\n",
    "        marker_color=problem[\"Color\"][problem[\"BasePart\"]],\n",
    "        marker=dict(\n",
    "            size=8,\n",
    "            opacity=0.75,\n",
    "            line=dict(\n",
    "                color=\"black\",\n",
    "                width=0.5\n",
    "            )\n",
    "        )\n",
    "    )\n",
    ")\n",
    "for group in problem[\"Filter\"]:\n",
    "    fig.add_trace(\n",
    "        go.Scatter(\n",
    "            x=immuno_df.loc[problem[\"Filter\"][group], f\"Age\"].values,\n",
    "            y=immuno_df.loc[problem[\"Filter\"][group], f\"SImAge\"].values,\n",
    "            showlegend=True,\n",
    "            name=group,\n",
    "            mode=\"markers\",\n",
    "            line_color=problem[\"Color\"][group],\n",
    "            marker=dict(\n",
    "                size=8,\n",
    "                opacity=0.75,\n",
    "                line=dict(\n",
    "                    color=\"black\",\n",
    "                    width=0.5\n",
    "                )\n",
    "            )\n",
    "        )\n",
    "    )\n",
    "add_layout(fig, f\"Age\", f\"SImAge\", f\"\")\n",
    "fig.update_layout(legend_font_size=20)\n",
    "fig.update_layout(legend= {'itemsizing': 'constant'})\n",
    "fig.update_layout(\n",
    "    margin=go.layout.Margin(\n",
    "        l=110,\n",
    "        r=20,\n",
    "        b=80,\n",
    "        t=40,\n",
    "        pad=0,\n",
    "    )\n",
    ")\n",
    "save_figure(fig, f\"{path_save}/{path_local}/scatter_SImAge\")"
   ],
   "metadata": {
    "collapsed": false
   }
  },
  {
   "cell_type": "markdown",
   "source": [
    "## Mann-Whitney test and fold change"
   ],
   "metadata": {
    "collapsed": false
   }
  },
  {
   "cell_type": "code",
   "execution_count": null,
   "outputs": [],
   "source": [
    "path_local = \"immuno_mw\"\n",
    "pathlib.Path(f\"{path_save}/{path_local}\").mkdir(parents=True, exist_ok=True)\n",
    "df_immuno_stat = pd.DataFrame(index=immuno_feats, columns=[\"mw_pval\", \"mw_pval_fdr_bh\"])\n",
    "df_immuno_stat.index.name = \"feat\"\n",
    "for feat in tqdm(immuno_feats):\n",
    "    vals = {}\n",
    "    for group in problem[\"Filter\"]:\n",
    "        vals[group] = immuno_df.loc[problem[\"Filter\"][group], feat].values\n",
    "        df_immuno_stat.at[feat, f\"mean_{group}\"] = np.mean(vals[group])\n",
    "        df_immuno_stat.at[feat, f\"median_{group}\"] = np.median(vals[group])\n",
    "        df_immuno_stat.at[feat, f\"q75_{group}\"], df_immuno_stat.at[feat, f\"q25_{group}\"] = np.percentile(vals[group], [75 , 25])\n",
    "        df_immuno_stat.at[feat, f\"iqr_{group}\"] = df_immuno_stat.at[feat, f\"q75_{group}\"] - df_immuno_stat.at[feat, f\"q25_{group}\"]\n",
    "    stat, pval = mannwhitneyu(*vals.values(), alternative='two-sided')\n",
    "    df_immuno_stat.at[feat, \"log_fold_change\"] = np.log2(np.mean(immuno_df.loc[immuno_df[\"Region\"] == \"Yakutia\", feat].values)) - np.log2(np.mean(immuno_df.loc[immuno_df[\"Region\"] == \"Central\", feat].values))\n",
    "    df_immuno_stat.at[feat, \"mw_pval\"] = pval\n",
    "    stat, pval, med, tbl = median_test(*vals.values())\n",
    "    df_immuno_stat.at[feat, \"mood_pval\"] = pval\n",
    "_, df_immuno_stat[\"mw_pval_fdr_bh\"], _, _ = multipletests(df_immuno_stat[\"mw_pval\"], 0.05, method='fdr_bh')\n",
    "_, df_immuno_stat[\"mood_pval_fdr_bh\"], _, _ = multipletests(df_immuno_stat[\"mood_pval\"], 0.05, method='fdr_bh')\n",
    "df_immuno_stat.to_excel(f\"{path_save}/{path_local}/table.xlsx\", index=True)"
   ],
   "metadata": {
    "collapsed": false
   }
  },
  {
   "cell_type": "code",
   "execution_count": null,
   "outputs": [],
   "source": [
    "fc_lim = 0.5\n",
    "pval_lim = 0.05\n",
    "df_immuno_stat.sort_values([\"mw_pval_fdr_bh\"], ascending=[True], inplace=True)\n",
    "df_immuno_stat['print'] = df_immuno_stat.index.values\n",
    "top_to_hightlight = df_immuno_stat[\"print\"].values[0:10]\n",
    "sns.set_theme(style='whitegrid')\n",
    "volcano(\n",
    "    df=df_immuno_stat,\n",
    "    lfc='log_fold_change',\n",
    "    pv='mw_pval_fdr_bh',\n",
    "    pv_thr=(pval_lim, pval_lim),\n",
    "    lfc_thr=(fc_lim, fc_lim),\n",
    "    path=f\"{path_save}/{path_local}\",\n",
    "    genenames=tuple(top_to_hightlight),\n",
    "    geneid='print',\n",
    "    gstyle=2,\n",
    "    dotsize=10,\n",
    "    sign_line=True\n",
    ")"
   ],
   "metadata": {
    "collapsed": false
   }
  },
  {
   "cell_type": "code",
   "execution_count": null,
   "outputs": [],
   "source": [
    "pval_col = \"mood_pval_fdr_bh\"\n",
    "dist_num_bins = 50\n",
    "pathlib.Path(f\"{path_save}/{path_local}/examples\").mkdir(parents=True, exist_ok=True)\n",
    "df_immuno_mw_top = df_immuno_stat.sort_values([pval_col], ascending=[True])\n",
    "top_features_ranges = {\n",
    "    'IL2': [-2, 20],\n",
    "    'IL25': [-100, 2000],\n",
    "    'CD40LG': [-150, 10000],\n",
    "    'IL10': [-3, 50],\n",
    "    'IL17F': [-20, 800],\n",
    "    'IL3': [-2, 10],\n",
    "    'IL17A': [-5, 50],\n",
    "}\n",
    "top_features_bandwidth={\n",
    "    'IL2': {'Central': 0.5, 'Yakutia': 0.5},\n",
    "    'IL25': {'Central': 20, 'Yakutia': 20},\n",
    "    'CD40LG': {'Central': 100, 'Yakutia': 100},\n",
    "    'IL10': {'Central': 1, 'Yakutia': 1},\n",
    "    'IL17F': {'Central': 10, 'Yakutia': 10},\n",
    "    'IL3': {'Central': 0.2, 'Yakutia': 0.2},\n",
    "    'IL17A': {'Central': 2, 'Yakutia': 2},\n",
    "}\n",
    "\n",
    "for feat_id, (feat, row) in enumerate(df_immuno_mw_top.iterrows()):\n",
    "    pval = row[pval_col]\n",
    "    fc = row['log_fold_change']\n",
    "    fig = go.Figure()\n",
    "\n",
    "    for group in problem[\"Filter\"]:\n",
    "        vals = immuno_df.loc[problem[\"Filter\"][group], feat].values\n",
    "        if feat not in top_features_bandwidth:\n",
    "            fig.add_trace(\n",
    "                go.Violin(\n",
    "                    y=vals,\n",
    "                    name=group,\n",
    "                    box_visible=True,\n",
    "                    meanline_visible=True,\n",
    "                    showlegend=False,\n",
    "                    line_color='black',\n",
    "                    fillcolor=problem[\"Color\"][group],\n",
    "                    marker = dict(color=problem[\"Color\"][group], line=dict(color='black',width=0.3), opacity=0.8),\n",
    "                    points='all',\n",
    "                    bandwidth=np.ptp(vals) / dist_num_bins,\n",
    "                    opacity=0.8\n",
    "                )\n",
    "            )\n",
    "        else:\n",
    "             fig.add_trace(\n",
    "                go.Violin(\n",
    "                    y=vals,\n",
    "                    name=group,\n",
    "                    box_visible=True,\n",
    "                    meanline_visible=True,\n",
    "                    showlegend=False,\n",
    "                    line_color='black',\n",
    "                    fillcolor=problem[\"Color\"][group],\n",
    "                    marker = dict(color=problem[\"Color\"][group], line=dict(color='black',width=0.3), opacity=0.8),\n",
    "                    points='all',\n",
    "                    bandwidth=top_features_bandwidth[feat][group],\n",
    "                    opacity=0.8\n",
    "                )\n",
    "            )\n",
    "    add_layout(fig, \"\", feat, f\"p-value: {pval:0.2e}\")\n",
    "    fig.update_layout(title_xref='paper')\n",
    "    if feat in top_features_ranges:\n",
    "        fig.update_yaxes(autorange=False)\n",
    "        fig.update_layout(yaxis_range=top_features_ranges[feat])\n",
    "    fig.update_layout(legend_font_size=25)\n",
    "    fig.update_layout(legend={'itemsizing': 'constant'})\n",
    "    fig.update_xaxes(tickfont_size=25)\n",
    "    fig.update_layout(\n",
    "        margin=go.layout.Margin(\n",
    "            l=140,\n",
    "            r=20,\n",
    "            b=50,\n",
    "            t=50,\n",
    "            pad=0\n",
    "        )\n",
    "    )\n",
    "    fig.update_layout(\n",
    "        legend=dict(\n",
    "            orientation=\"h\",\n",
    "            yanchor=\"bottom\",\n",
    "            y=1.25,\n",
    "            xanchor=\"center\",\n",
    "            x=0.5\n",
    "        )\n",
    "    )\n",
    "    save_figure(fig, f\"{path_save}/{path_local}/examples/{feat_id}_{feat}\")"
   ],
   "metadata": {
    "collapsed": false
   }
  }
 ],
 "metadata": {
  "kernelspec": {
   "name": "pycharm-7948d80f",
   "language": "python",
   "display_name": "PyCharm (dnam)"
  },
  "language_info": {
   "codemirror_mode": {
    "name": "ipython",
    "version": 2
   },
   "file_extension": ".py",
   "mimetype": "text/x-python",
   "name": "python",
   "nbconvert_exporter": "python",
   "pygments_lexer": "ipython2",
   "version": "2.7.6"
  }
 },
 "nbformat": 4,
 "nbformat_minor": 0
}
