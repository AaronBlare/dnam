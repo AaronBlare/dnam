{
 "cells": [
  {
   "cell_type": "code",
   "execution_count": null,
   "outputs": [],
   "source": [
    "import pandas as pd\n",
    "import numpy as np\n",
    "import scipy\n",
    "from sklearn.linear_model import ElasticNet, ElasticNetCV\n",
    "from sklearn.model_selection import RepeatedKFold, GridSearchCV\n",
    "from sklearn.metrics import mean_squared_error, mean_absolute_error, r2_score\n",
    "from scripts.python.routines.betas import betas_drop_na\n",
    "from plotly.subplots import make_subplots\n",
    "from scipy import stats\n",
    "import pickle\n",
    "import random\n",
    "import plotly.express as px\n",
    "import copy\n",
    "import statsmodels.formula.api as smf\n",
    "from sklearn.metrics import mean_squared_error, mean_absolute_error\n",
    "from scripts.python.pheno.datasets.filter import filter_pheno\n",
    "from scripts.python.pheno.datasets.features import get_column_name, get_status_dict, get_sex_dict\n",
    "from scripts.python.routines.plot.scatter import add_scatter_trace\n",
    "import plotly.graph_objects as go\n",
    "import pathlib\n",
    "from scripts.python.routines.manifest import get_manifest\n",
    "from scripts.python.routines.plot.save import save_figure\n",
    "from scripts.python.routines.plot.layout import add_layout, get_axis\n",
    "from scripts.python.routines.plot.p_value import add_p_value_annotation\n",
    "from statsmodels.stats.multitest import multipletests\n",
    "from sklearn.metrics import mean_absolute_error\n",
    "from impyute.imputation.cs import fast_knn, mean, median, random, mice, mode, em\n",
    "import plotly.io as pio\n",
    "pio.kaleido.scope.mathjax = None\n",
    "from plotly.offline import init_notebook_mode, iplot\n",
    "init_notebook_mode(connected=False)\n",
    "from functools import reduce\n",
    "from scipy.stats import kruskal, mannwhitneyu\n",
    "from pycombat import Combat\n",
    "from sklearn.preprocessing import LabelEncoder\n",
    "from sklearn.preprocessing import MinMaxScaler"
   ],
   "metadata": {
    "collapsed": false
   }
  },
  {
   "cell_type": "markdown",
   "source": [
    "# Trying combat"
   ],
   "metadata": {
    "collapsed": false
   }
  },
  {
   "cell_type": "code",
   "execution_count": null,
   "outputs": [],
   "source": [
    "dataset = \"GSEUNN\"\n",
    "path = f\"E:/YandexDisk/Work/pydnameth/datasets\"\n",
    "datasets_info = pd.read_excel(f\"{path}/datasets.xlsx\", index_col='dataset')\n",
    "platform = datasets_info.loc[dataset, 'platform']\n",
    "manifest = get_manifest(platform, path=path)\n",
    "\n",
    "num_samples = 1052\n",
    "\n",
    "df = pd.read_excel(f\"{path}/{platform}/{dataset}/data/immuno/df_type(raw)_all({num_samples})_imp(fast_knn)_replace(quarter).xlsx\", index_col=\"index\")\n",
    "feats = pd.read_excel(f\"{path}/{platform}/{dataset}/data/immuno/immuno_markers_genes.xlsx\").loc[:, 'gene'].values.tolist()\n",
    "\n",
    "left = 0.05\n",
    "right = 0.95\n",
    "ranges = {}\n",
    "for feat in feats:\n",
    "    ranges[feat] = (df[feat].quantile(left), df[feat].quantile(right))"
   ],
   "metadata": {
    "collapsed": false
   }
  },
  {
   "cell_type": "code",
   "execution_count": null,
   "outputs": [],
   "source": [
    "\n",
    "Y = df.loc[:, feats].values\n",
    "\n",
    "status_dummies = pd.get_dummies(df['Status'], drop_first=True)\n",
    "sex_dummies = pd.get_dummies(df['Sex'], drop_first=True)\n",
    "region_dummies = pd.get_dummies(df['Region'], drop_first=True)\n",
    "X = pd.concat([df.loc[:,'Age'], status_dummies, sex_dummies, region_dummies], axis=1).values\n",
    "b = df.loc[:, 'file'].values\n",
    "combat = Combat()\n",
    "Y_adjusted = combat.fit_transform(Y=Y, b=b, X=X)\n",
    "\n",
    "scalers = {}\n",
    "\n",
    "df.loc[:, feats] = Y_adjusted\n",
    "df.index.name = 'index'\n",
    "for feat in feats:\n",
    "    vals = df.loc[:, feat].values\n",
    "    scalers[feat] = MinMaxScaler(feature_range=ranges[feat])\n",
    "    vals_scaled = scalers[feat].fit_transform(vals.reshape(-1, 1))\n",
    "    df.loc[:, feat] = vals_scaled\n",
    "df.to_excel(f\"{path}/{platform}/{dataset}/data/immuno/df_type(minmax_left({left})_right({right})_combat)_all({num_samples})_imp(fast_knn)_replace(quarter).xlsx\", index=True)\n",
    "transforms = {\n",
    "    \"ranges\": ranges,\n",
    "    \"scalers\": scalers\n",
    "}\n",
    "with open(f\"{path}/{platform}/{dataset}/data/immuno/transforms_minmax_left({left})_right({right})_all({num_samples})_imp(fast_knn)_replace(quarter).pickle\", 'wb') as handle:\n",
    "    pickle.dump(transforms, handle, protocol=pickle.HIGHEST_PROTOCOL)"
   ],
   "metadata": {
    "collapsed": false
   }
  },
  {
   "cell_type": "markdown",
   "source": [
    "# Read the transforms"
   ],
   "metadata": {
    "collapsed": false
   }
  },
  {
   "cell_type": "code",
   "execution_count": null,
   "outputs": [],
   "source": [
    "with open(f\"{path}/{platform}/{dataset}/data/immuno/transforms_minmax_left({left})_right({right})_all({num_samples})_imp(fast_knn)_replace(quarter).pickle\", 'rb') as handle:\n",
    "    transforms = pickle.load(handle)"
   ],
   "metadata": {
    "collapsed": false
   }
  }
 ],
 "metadata": {
  "kernelspec": {
   "name": "pycharm-7948d80f",
   "language": "python",
   "display_name": "PyCharm (dnam)"
  },
  "language_info": {
   "codemirror_mode": {
    "name": "ipython",
    "version": 2
   },
   "file_extension": ".py",
   "mimetype": "text/x-python",
   "name": "python",
   "nbconvert_exporter": "python",
   "pygments_lexer": "ipython2",
   "version": "2.7.6"
  }
 },
 "nbformat": 4,
 "nbformat_minor": 0
}
