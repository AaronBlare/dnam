{
 "cells": [
  {
   "cell_type": "code",
   "execution_count": null,
   "outputs": [],
   "source": [
    "import pandas as pd\n",
    "import numpy as np\n",
    "from scipy import stats\n",
    "import seaborn as sns\n",
    "import pickle\n",
    "import plotly.express as px\n",
    "import statsmodels.formula.api as smf\n",
    "import plotly.graph_objects as go\n",
    "from scripts.python.routines.manifest import get_manifest\n",
    "from scripts.python.routines.plot.save import save_figure\n",
    "from scripts.python.routines.plot.layout import add_layout\n",
    "from statsmodels.stats.multitest import multipletests\n",
    "import plotly.io as pio\n",
    "pio.kaleido.scope.mathjax = None\n",
    "from plotly.offline import init_notebook_mode\n",
    "init_notebook_mode(connected=False)\n",
    "from scipy.stats import mannwhitneyu, median_test\n",
    "import matplotlib.pyplot as plt\n",
    "import pathlib\n",
    "from tqdm import tqdm\n",
    "from src.utils.plot.bioinfokit import mhat, volcano\n",
    "import gseapy as gp\n",
    "import mygene\n",
    "from sklearn.preprocessing import StandardScaler\n",
    "from sklearn.decomposition import PCA, IncrementalPCA, KernelPCA, TruncatedSVD\n",
    "from sklearn.decomposition import MiniBatchDictionaryLearning, FastICA\n",
    "from sklearn.random_projection import GaussianRandomProjection, SparseRandomProjection\n",
    "from sklearn.manifold import MDS, Isomap, TSNE, LocallyLinearEmbedding\n",
    "import upsetplot as upset\n",
    "import missingno as msno\n",
    "from pyod.models.lunar import LUNAR\n",
    "from matplotlib_venn import venn2, venn2_circles"
   ],
   "metadata": {
    "collapsed": false
   }
  },
  {
   "cell_type": "markdown",
   "source": [
    "# Init dnam data"
   ],
   "metadata": {
    "collapsed": false
   }
  },
  {
   "cell_type": "code",
   "execution_count": null,
   "outputs": [],
   "source": [
    "dataset = \"GSEUNN\"\n",
    "path = f\"E:/YandexDisk/Work/pydnameth/datasets\"\n",
    "datasets_info = pd.read_excel(f\"{path}/datasets.xlsx\", index_col='dataset')\n",
    "platform = datasets_info.loc[dataset, 'platform']\n",
    "manifest = get_manifest(platform, path=path)\n",
    "manifest['CHR'] = manifest['chr'].str[3::]\n",
    "\n",
    "dnam_suffix = \"_harm\"\n",
    "\n",
    "path_save = f\"{path}/{platform}/{dataset}/special/040_report_mega_2022\"\n",
    "pathlib.Path(f\"{path_save}\").mkdir(parents=True, exist_ok=True)\n",
    "\n",
    "pheno = pd.read_excel(f\"{path}/{platform}/{dataset}/pheno.xlsx\", index_col=\"index\")\n",
    "pheno.index.name = \"index\"\n",
    "pheno.drop(\"I64_old\", inplace=True)\n",
    "betas = pd.read_pickle(f\"{path}/{platform}/{dataset}/betas{dnam_suffix}.pkl\")\n",
    "dnam_feats = betas.columns.values\n",
    "df_dnam = pd.merge(pheno, betas, left_index=True, right_index=True)\n",
    "df_dnam = df_dnam.loc[(df_dnam[\"Status\"] == \"Control\") & (df_dnam[\"Region\"] == \"Central\"), :]\n",
    "\n",
    "print(f\"df_dnam shape: {df_dnam.shape}\")"
   ],
   "metadata": {
    "collapsed": false
   }
  },
  {
   "cell_type": "markdown",
   "source": [
    "## Participants figure"
   ],
   "metadata": {
    "collapsed": false
   }
  },
  {
   "cell_type": "code",
   "execution_count": null,
   "outputs": [],
   "source": [
    "path_local = \"part_1.2_sex_specific_dnam\"\n",
    "pathlib.Path(f\"{path_save}/{path_local}\").mkdir(parents=True, exist_ok=True)\n",
    "\n",
    "# Params for figure\n",
    "binrange = [10, 105]\n",
    "bins = 15\n",
    "df_fig = df_dnam.loc[:, [\"Age\", \"Sex\"]]\n",
    "num_F = df_fig.loc[df_fig['Sex'] == 'F', :].shape[0]\n",
    "num_M = df_fig.loc[df_fig['Sex'] == 'M', :].shape[0]\n",
    "df_fig[\"Sex\"].replace({\"F\": f\"F ({num_F})\", \"M\": f\"M ({num_M})\"}, inplace=True)\n",
    "\n",
    "sns.set_theme(style='whitegrid')\n",
    "sns.histplot(\n",
    "    data=df_fig,\n",
    "    hue_order=[f\"F ({num_F})\", f\"M ({num_M})\"],\n",
    "    binrange=binrange,\n",
    "    bins=bins,\n",
    "    x=\"Age\",\n",
    "    hue=\"Sex\",\n",
    "    palette={f\"F ({num_F})\": \"red\", f\"M ({num_M})\": \"blue\"},\n",
    ")\n",
    "plt.savefig(f\"{path_save}/{path_local}/hist_Sex.png\", bbox_inches='tight')\n",
    "plt.savefig(f\"{path_save}/{path_local}/hist_Sex.pdf\", bbox_inches='tight')\n",
    "plt.clf()"
   ],
   "metadata": {
    "collapsed": false
   }
  },
  {
   "cell_type": "markdown",
   "source": [
    "# Aux DNAm data"
   ],
   "metadata": {
    "collapsed": false
   }
  },
  {
   "cell_type": "code",
   "execution_count": null,
   "outputs": [],
   "source": [
    "problem = {\n",
    "    \"Color\": {\n",
    "        \"F\": \"red\",\n",
    "        \"M\": \"blue\",\n",
    "    },\n",
    "    \"Filter\": {\n",
    "        \"F\": df_dnam[\"Sex\"] == \"F\",\n",
    "        \"M\": df_dnam[\"Sex\"] == \"M\",\n",
    "    },\n",
    "    \"BaseFilter\": (df_dnam[\"Sex\"] == \"F\"),\n",
    "    \"BasePart\": \"F\"\n",
    "}"
   ],
   "metadata": {
    "collapsed": false
   }
  },
  {
   "cell_type": "markdown",
   "source": [
    "# Create data for R"
   ],
   "metadata": {
    "collapsed": false
   }
  },
  {
   "cell_type": "code",
   "execution_count": null,
   "outputs": [],
   "source": [
    "pathlib.Path(f\"{path_save}/data_for_R\").mkdir(parents=True, exist_ok=True)\n",
    "\n",
    "betas_R = df_dnam.loc[:, dnam_feats]\n",
    "betas_R = betas_R.T\n",
    "betas_R.index.name = \"CpG\"\n",
    "betas_R.to_pickle(f\"{path_save}/data_for_R/betas.pkl\")\n",
    "\n",
    "pheno_R = df_dnam.loc[:, [\"Age\", \"Sex\", \"Sentrix_ID\", \"Sentrix_Position\"]]\n",
    "pheno_R.to_pickle(f\"{path_save}/data_for_R/pheno.pkl\")"
   ],
   "metadata": {
    "collapsed": false
   }
  },
  {
   "cell_type": "markdown",
   "source": [
    "# DNAm features"
   ],
   "metadata": {
    "collapsed": false
   }
  },
  {
   "cell_type": "code",
   "execution_count": null,
   "outputs": [],
   "source": [
    "path_local = \"part_1.2_sex_specific_dnam/age\"\n",
    "pathlib.Path(f\"{path_save}/{path_local}\").mkdir(parents=True, exist_ok=True)"
   ],
   "metadata": {
    "collapsed": false
   }
  },
  {
   "cell_type": "code",
   "execution_count": null,
   "outputs": [],
   "source": [
    "df_dnam_age = pd.read_csv(f\"{path_save}/data_for_R/DMP_age.csv\", index_col=\"CpG\")\n",
    "df_dnam_age[\"CpG\"] = df_dnam_age.index.values\n",
    "df_dnam_age['print'] = df_dnam_age.apply(lambda row: f\"{row['CpG']} ({row['gene']})\", axis=1)\n",
    "top_to_hightlight = df_dnam_age[\"print\"].values[0:5]\n",
    "df_dnam_age['log_pval'] = -np.log10(df_dnam_age[\"adj.P.Val\"])\n",
    "sns.set_theme(style='whitegrid')\n",
    "df_dnam_age.sort_values([\"MAPINFO\"], ascending=[True], inplace=True)\n",
    "mhat(\n",
    "    df=df_dnam_age,\n",
    "    chr='CHR',\n",
    "    pv='adj.P.Val',\n",
    "    path=f\"{path_save}/{path_local}\",\n",
    "    valpha=1,\n",
    "    markernames=tuple(top_to_hightlight),\n",
    "    markeridcol='print',\n",
    "    gstyle=2,\n",
    "    dim=(12,4),\n",
    "    axtickfontsize=8\n",
    ")"
   ],
   "metadata": {
    "collapsed": false
   }
  },
  {
   "cell_type": "markdown",
   "source": [
    "# DNAm analysis"
   ],
   "metadata": {
    "collapsed": false
   }
  },
  {
   "cell_type": "markdown",
   "source": [
    "## Cells"
   ],
   "metadata": {
    "collapsed": false
   }
  },
  {
   "cell_type": "code",
   "execution_count": null,
   "outputs": [],
   "source": [
    "path_local = \"part_1.2_sex_specific_dnam/cells\"\n",
    "pathlib.Path(f\"{path_save}/{path_local}\").mkdir(parents=True, exist_ok=True)\n",
    "cells = [\"CD8T\", \"CD4T\", \"NK\", \"Bcell\", \"Mono\", \"Gran\"]\n",
    "cells = [f\"{x}{dnam_suffix}\" for x in cells]\n",
    "df_cells = pd.DataFrame()\n",
    "for cell in tqdm(cells):\n",
    "    vals = {}\n",
    "    for group in problem[\"Filter\"]:\n",
    "\n",
    "        vals[group] = df_dnam.loc[problem[\"Filter\"][group], cell].values\n",
    "        df_cells.at[cell, f\"mean_{group}\"] = np.mean(vals[group])\n",
    "        df_cells.at[cell, f\"median_{group}\"] = np.median(vals[group])\n",
    "        df_cells.at[cell, f\"q75_{group}\"], df_cells.at[cell, f\"q25_{group}\"] = np.percentile(vals[group], [75 ,25])\n",
    "        df_cells.at[cell, f\"iqr_{group}\"] = df_cells.at[cell, f\"q75_{group}\"] - df_cells.at[cell, f\"q25_{group}\"]\n",
    "\n",
    "    _, pval = mannwhitneyu(*vals.values(), alternative='two-sided')\n",
    "    df_cells.at[cell, \"pval\"] = pval\n",
    "\n",
    "_, df_cells[\"pval_fdr_bh\"], _, _ = multipletests(df_cells[\"pval\"], 0.05, method='fdr_bh')\n",
    "df_cells.to_excel(f\"{path_save}/{path_local}/cells.xlsx\", index=True)"
   ],
   "metadata": {
    "collapsed": false
   }
  },
  {
   "cell_type": "code",
   "execution_count": null,
   "outputs": [],
   "source": [
    "\n",
    "for cell in tqdm(cells):\n",
    "\n",
    "    vals = {}\n",
    "    for group in problem[\"Filter\"]:\n",
    "        vals[group] = df_dnam.loc[problem[\"Filter\"][group], cell].values\n",
    "        print(f\"{group}: {len(vals[group])}\")\n",
    "\n",
    "    dist_num_bins = 20\n",
    "    fig = go.Figure()\n",
    "    for group in problem[\"Filter\"]:\n",
    "        fig.add_trace(\n",
    "            go.Violin(\n",
    "                y=vals[group],\n",
    "                name=group,\n",
    "                box_visible=True,\n",
    "                meanline_visible=True,\n",
    "                showlegend=False,\n",
    "                line_color='black',\n",
    "                fillcolor=problem[\"Color\"][group],\n",
    "                marker = dict(color=problem[\"Color\"][group], line=dict(color='black',width=0.3), opacity=0.8),\n",
    "                points='all',\n",
    "                bandwidth = np.ptp(vals[group]) / dist_num_bins,\n",
    "                opacity=0.8\n",
    "            )\n",
    "        )\n",
    "    add_layout(fig, \"\", f\"{cell}\", f\"p-value: {df_cells.at[cell, 'pval_fdr_bh']:0.2e}\")\n",
    "    fig.update_layout(title_xref='paper')\n",
    "    fig.update_layout(legend_font_size=20)\n",
    "    fig.update_layout(legend={'itemsizing': 'constant'})\n",
    "    fig.update_layout(\n",
    "        violingap=0.35,\n",
    "        violingroupgap=0.35,\n",
    "        width=850,\n",
    "        height=600,\n",
    "        margin=go.layout.Margin(\n",
    "            l=150,\n",
    "            r=50,\n",
    "            b=75,\n",
    "            t=100,\n",
    "            pad=0,\n",
    "        )\n",
    "    )\n",
    "    fig.update_layout(legend_y=1.01)\n",
    "    save_figure(fig, f\"{path_save}/{path_local}/{cell}\")"
   ],
   "metadata": {
    "collapsed": false
   }
  },
  {
   "cell_type": "markdown",
   "source": [
    "## Age Accelerations"
   ],
   "metadata": {
    "collapsed": false
   }
  },
  {
   "cell_type": "code",
   "execution_count": null,
   "outputs": [],
   "source": [
    "path_local = \"part_1.2_sex_specific_dnam/age_accelerations\"\n",
    "pathlib.Path(f\"{path_save}/{path_local}\").mkdir(parents=True, exist_ok=True)\n",
    "age_types = ['DNAmAgeHannum', 'DNAmAge', 'DNAmPhenoAge', 'DNAmGrimAge']\n",
    "age_types = [f\"{x}{dnam_suffix}\" for x in age_types]\n",
    "df_aas = pd.DataFrame(index=[f\"{x}Acc\" for x in age_types], columns=[\"pval\", \"pval_fdr_bh\"])\n",
    "for age_type in tqdm(age_types):\n",
    "    formula = f\"{age_type} ~ Age\"\n",
    "    model = smf.ols(formula=formula, data=df_dnam.loc[problem[\"BaseFilter\"]]).fit()\n",
    "    df_dnam[f\"{age_type}_linear_pred\"] = model.predict(df_dnam)\n",
    "    y_pred = model.predict(pheno)\n",
    "    df_dnam[f\"{age_type}Acc\"] = df_dnam[age_type] - df_dnam[f\"{age_type}_linear_pred\"]\n",
    "\n",
    "    vals = {}\n",
    "    for group in problem[\"Filter\"]:\n",
    "\n",
    "        vals[group] = df_dnam.loc[problem[\"Filter\"][group], f\"{age_type}Acc\"].values\n",
    "        df_aas.at[f\"{age_type}Acc\", f\"mean_{group}\"] = np.mean(vals[group])\n",
    "        df_aas.at[f\"{age_type}Acc\", f\"median_{group}\"] = np.median(vals[group])\n",
    "        df_aas.at[f\"{age_type}Acc\", f\"q75_{group}\"], df_aas.at[f\"{age_type}Acc\", f\"q25_{group}\"] = np.percentile(vals[group], [75 ,25])\n",
    "        df_aas.at[f\"{age_type}Acc\", f\"iqr_{group}\"] = df_aas.at[f\"{age_type}Acc\", f\"q75_{group}\"] - df_aas.at[f\"{age_type}Acc\", f\"q25_{group}\"]\n",
    "        print(f\"{group}: {len(vals[group])}\")\n",
    "\n",
    "    _, pval = mannwhitneyu(*vals.values(), alternative='two-sided')\n",
    "    df_aas.at[f\"{age_type}Acc\", \"pval\"] = pval\n",
    "\n",
    "_, df_aas[\"pval_fdr_bh\"], _, _ = multipletests(df_aas[\"pval\"], 0.05, method='fdr_bh')\n",
    "df_aas.to_excel(f\"{path_save}/{path_local}/aas.xlsx\", index=True)"
   ],
   "metadata": {
    "collapsed": false
   }
  },
  {
   "cell_type": "code",
   "execution_count": null,
   "outputs": [],
   "source": [
    "for age_type in tqdm(age_types):\n",
    "\n",
    "    vals = {}\n",
    "    for group in problem[\"Filter\"]:\n",
    "        vals[group] = df_dnam.loc[problem[\"Filter\"][group], f\"{age_type}Acc\"].values\n",
    "        print(f\"{group}: {len(vals[group])}\")\n",
    "\n",
    "    # Plot without longevity =======================================================\n",
    "    dist_num_bins = 20\n",
    "    fig = go.Figure()\n",
    "    for group in problem[\"Filter\"]:\n",
    "        fig.add_trace(\n",
    "            go.Violin(\n",
    "                y=vals[group],\n",
    "                name=group,\n",
    "                box_visible=True,\n",
    "                meanline_visible=True,\n",
    "                showlegend=False,\n",
    "                line_color='black',\n",
    "                fillcolor=problem[\"Color\"][group],\n",
    "                marker=dict(color=problem[\"Color\"][group], line=dict(color='black',width=0.3), opacity=0.8),\n",
    "                points='all',\n",
    "                bandwidth=np.ptp(vals[group]) / dist_num_bins,\n",
    "                opacity=0.8,\n",
    "            )\n",
    "        )\n",
    "    add_layout(fig, \"\", f\"{age_type}Acc\", f\"p-value: {df_aas.at[f'{age_type}Acc', 'pval_fdr_bh']:0.2e}\")\n",
    "    fig.update_layout(title_xref='paper')\n",
    "    fig.update_layout(legend_font_size=20)\n",
    "    fig.update_layout(legend= {'itemsizing': 'constant'})\n",
    "    fig.update_layout(\n",
    "        violingap=0.35,\n",
    "        violingroupgap=0.35,\n",
    "        width=850,\n",
    "        height=600,\n",
    "        margin=go.layout.Margin(\n",
    "            l=150,\n",
    "            r=50,\n",
    "            b=75,\n",
    "            t=100,\n",
    "            pad=0,\n",
    "        )\n",
    "    )\n",
    "    fig.update_layout(legend_y=1.01)\n",
    "    save_figure(fig, f\"{path_save}/{path_local}/violin_{age_type}Acc\")\n",
    "\n",
    "    min_val = df_dnam[[\"Age\", age_type]].min().min()\n",
    "    max_val = df_dnam[[\"Age\", age_type]].max().max()\n",
    "    shift_val = max_val - min_val\n",
    "    min_val -= 0.05 * shift_val\n",
    "    max_val += 0.05 * shift_val\n",
    "\n",
    "    # Plot without longevity =======================================================\n",
    "    fig = go.Figure()\n",
    "    fig.add_trace(\n",
    "        go.Scatter(\n",
    "            x=[min_val, max_val],\n",
    "            y=[min_val, max_val],\n",
    "            showlegend=False,\n",
    "            name=\"\",\n",
    "            mode=\"lines\",\n",
    "            marker_color=\"black\",\n",
    "            marker=dict(\n",
    "                size=8,\n",
    "                opacity=0.75,\n",
    "                line=dict(\n",
    "                    color=\"black\",\n",
    "                    width=0.5\n",
    "                )\n",
    "            )\n",
    "        )\n",
    "    )\n",
    "    fig.add_trace(\n",
    "        go.Scatter(\n",
    "            x=df_dnam.loc[problem[\"BaseFilter\"], f\"Age\"].values,\n",
    "            y=df_dnam.loc[problem[\"BaseFilter\"], f\"{age_type}_linear_pred\"].values,\n",
    "            showlegend=False,\n",
    "            name=\"\",\n",
    "            mode=\"lines\",\n",
    "            line=dict(width=5),\n",
    "            marker_color=problem[\"Color\"][problem[\"BasePart\"]],\n",
    "            marker=dict(\n",
    "                size=8,\n",
    "                opacity=0.75,\n",
    "                line=dict(\n",
    "                    color=\"black\",\n",
    "                    width=0.5\n",
    "                )\n",
    "            )\n",
    "        )\n",
    "    )\n",
    "    for group in problem[\"Filter\"]:\n",
    "        fig.add_trace(\n",
    "            go.Scatter(\n",
    "                x=df_dnam.loc[problem[\"Filter\"][group], f\"Age\"].values,\n",
    "                y=df_dnam.loc[problem[\"Filter\"][group], f\"{age_type}\"].values,\n",
    "                showlegend=True,\n",
    "                name=group,\n",
    "                mode=\"markers\",\n",
    "                line_color=problem[\"Color\"][group],\n",
    "                marker=dict(\n",
    "                    size=8,\n",
    "                    opacity=0.75,\n",
    "                    line=dict(\n",
    "                        color=\"black\",\n",
    "                        width=0.5\n",
    "                    )\n",
    "                )\n",
    "            )\n",
    "        )\n",
    "    add_layout(fig, f\"Age\", f\"{age_type}\", f\"\")\n",
    "    fig.update_layout(legend_font_size=20)\n",
    "    fig.update_layout(legend= {'itemsizing': 'constant'})\n",
    "    fig.update_xaxes(autorange=False)\n",
    "    fig.update_yaxes(autorange=False)\n",
    "    fig.update_layout(title_xref='paper')\n",
    "    fig.update_layout(xaxis_range=[min_val, max_val])\n",
    "    fig.update_layout(yaxis_range=[min_val, max_val])\n",
    "    fig.update_layout(\n",
    "        width=650,\n",
    "        height=600,\n",
    "        margin=go.layout.Margin(\n",
    "            l=100,\n",
    "            r=50,\n",
    "            b=100,\n",
    "            t=50,\n",
    "            pad=0,\n",
    "        )\n",
    "    )\n",
    "    save_figure(fig, f\"{path_save}/{path_local}/scatter_{age_type}\")"
   ],
   "metadata": {
    "collapsed": false
   }
  },
  {
   "cell_type": "markdown",
   "source": [
    "## ChAMP DMPs"
   ],
   "metadata": {
    "collapsed": false
   }
  },
  {
   "cell_type": "markdown",
   "source": [
    "### Setup"
   ],
   "metadata": {
    "collapsed": false
   }
  },
  {
   "cell_type": "code",
   "execution_count": null,
   "outputs": [],
   "source": [
    "pval_lim = 0.001\n",
    "fc_lim = 0.05\n",
    "path_local = f\"part_1.2_sex_specific_dnam/DMPs_Sex_pval({pval_lim:0.2e})_fc({fc_lim:0.2e})\"\n",
    "pathlib.Path(f\"{path_save}/{path_local}\").mkdir(parents=True, exist_ok=True)"
   ],
   "metadata": {
    "collapsed": false
   }
  },
  {
   "cell_type": "markdown",
   "source": [
    "### Read ChAMP results"
   ],
   "metadata": {
    "collapsed": false
   }
  },
  {
   "cell_type": "code",
   "execution_count": null,
   "outputs": [],
   "source": [
    "df_dmps = pd.read_csv(f\"{path_save}/data_for_R/DMP_sex.csv\", index_col=\"CpG\")\n",
    "df_dmps[\"CpG\"] = df_dmps.index.values\n",
    "df_dmps.sort_values([\"adj.P.Val\"], ascending=[True], inplace=True)\n",
    "df_dmps['print'] = df_dmps.apply(lambda row: f\"{row['CpG']} ({row['gene']})\", axis=1)\n",
    "df_dmps['log_pval'] = -np.log10(df_dmps[\"adj.P.Val\"])"
   ],
   "metadata": {
    "collapsed": false
   }
  },
  {
   "cell_type": "markdown",
   "source": [
    "### Obtain gene list"
   ],
   "metadata": {
    "collapsed": false
   }
  },
  {
   "cell_type": "code",
   "execution_count": null,
   "outputs": [],
   "source": [
    "df_dmps_selected = df_dmps.loc[(df_dmps[\"adj.P.Val\"] < pval_lim) & ((df_dmps[\"logFC\"] < -fc_lim) | (df_dmps[\"logFC\"] > fc_lim)), :]\n",
    "df_dmps_selected.sort_values([\"adj.P.Val\"], ascending=[True], inplace=True)\n",
    "top_to_hightlight = df_dmps_selected[\"print\"].values[0:1]\n",
    "df_dmps_selected.to_excel(f\"{path_save}/{path_local}/selected.xlsx\")\n",
    "genes_dmps_selected = set()\n",
    "for cpg in df_dmps_selected.index.values:\n",
    "    genes_raw = manifest.at[cpg, 'Gene']\n",
    "    if isinstance(genes_raw, str):\n",
    "        genes = genes_raw.split(';')\n",
    "        genes_dmps_selected.update(set(genes))\n",
    "if 'non-genic' in genes_dmps_selected:\n",
    "    genes_dmps_selected.remove('non-genic')\n",
    "if ' ' in genes_dmps_selected:\n",
    "    genes_dmps_selected.remove(' ')\n",
    "genes_dmps_selected = list(genes_dmps_selected)\n",
    "genes_dmps_df = pd.DataFrame({'gene':genes_dmps_selected})\n",
    "genes_dmps_df.to_excel(f\"{path_save}/{path_local}/genes.xlsx\", index=False)\n",
    "print(f\"Number of CpGs: {df_dmps_selected.shape[0]}\")\n",
    "print(f\"Number of genes: {genes_dmps_df.shape[0]}\")"
   ],
   "metadata": {
    "collapsed": false
   }
  },
  {
   "cell_type": "code",
   "execution_count": null,
   "outputs": [],
   "source": [
    "sns.set_theme(style='whitegrid')\n",
    "df_dmps.sort_values([\"MAPINFO\"], ascending=[True], inplace=True)\n",
    "mhat(\n",
    "    df=df_dmps,\n",
    "    chr='CHR',\n",
    "    pv='adj.P.Val',\n",
    "    path=f\"{path_save}/{path_local}\",\n",
    "    valpha=1,\n",
    "    markernames=tuple(top_to_hightlight),\n",
    "    markeridcol='print',\n",
    "    gstyle=2,\n",
    "    dim=(12, 4),\n",
    "    axtickfontsize=8\n",
    ")\n",
    "sns.set_theme(style='whitegrid')\n",
    "volcano(\n",
    "    df=df_dmps,\n",
    "    lfc='logFC',\n",
    "    pv='adj.P.Val',\n",
    "    pv_thr=(pval_lim, pval_lim),\n",
    "    lfc_thr=(fc_lim, fc_lim),\n",
    "    path=f\"{path_save}/{path_local}\",\n",
    "    genenames=tuple(top_to_hightlight),\n",
    "    geneid='print',\n",
    "    gstyle=2,\n",
    "    sign_line=True,\n",
    "    color=(\"limegreen\", \"grey\", \"royalblue\")\n",
    ")"
   ],
   "metadata": {
    "collapsed": false
   }
  },
  {
   "cell_type": "markdown",
   "source": [
    "### Perform dimensionality reduction"
   ],
   "metadata": {
    "collapsed": false
   }
  },
  {
   "cell_type": "code",
   "execution_count": null,
   "outputs": [],
   "source": [
    "feats_dim_red = df_dmps_selected[\"CpG\"].values\n",
    "df_dnam_dim_red = df_dnam.loc[:, list(feats_dim_red) + [\"Age\", \"Sex\", \"Region\"]]\n",
    "data_dim_red = df_dnam_dim_red.loc[:, feats_dim_red].values\n",
    "classes_dim_red = df_dnam_dim_red.loc[:, 'Sex'].values"
   ],
   "metadata": {
    "collapsed": false
   }
  },
  {
   "cell_type": "code",
   "execution_count": null,
   "outputs": [],
   "source": [
    "print(f\"PCA\")\n",
    "pca = PCA(n_components=2, whiten=False)\n",
    "data_pca = pca.fit_transform(data_dim_red)\n",
    "df_dnam_dim_red['PC 1'] = data_pca[:, 0]\n",
    "df_dnam_dim_red['PC 2'] = data_pca[:, 1]\n",
    "\n",
    "print(f\"Incremental PCA\")\n",
    "n_batches = 32\n",
    "ipca = IncrementalPCA(n_components=2)\n",
    "for data_batch in np.array_split(data_dim_red, n_batches):\n",
    "    ipca.partial_fit(data_batch)\n",
    "data_ipca = ipca.transform(data_dim_red)\n",
    "df_dnam_dim_red['Incremental PC 1'] = data_ipca[:, 0]\n",
    "df_dnam_dim_red['Incremental PC 2'] = data_ipca[:, 1]\n",
    "\n",
    "print(f\"Kernel PCA\")\n",
    "kpca = KernelPCA(kernel='rbf', fit_inverse_transform=True, gamma=None, n_components=2)\n",
    "data_kpca = kpca.fit_transform(data_dim_red)\n",
    "df_dnam_dim_red['Kernel PC 1'] = data_kpca[:, 0]\n",
    "df_dnam_dim_red['Kernel PC 2'] = data_kpca[:, 1]\n",
    "\n",
    "print(f\"SVD\")\n",
    "tsvd = TruncatedSVD(n_components=2, algorithm='randomized', n_iter=5)\n",
    "tsvd.fit(data_dim_red)\n",
    "data_svd = tsvd.transform(data_dim_red)\n",
    "df_dnam_dim_red['SVD 1'] = data_svd[:, 0]\n",
    "df_dnam_dim_red['SVD 2'] = data_svd[:, 1]\n",
    "\n",
    "print(f\"GRP\")\n",
    "GRP = GaussianRandomProjection(n_components=2, eps=0.5)\n",
    "GRP.fit(data_dim_red)\n",
    "data_grp = GRP.transform(data_dim_red)\n",
    "df_dnam_dim_red['Gaussian Random Projection 1'] = data_grp[:, 0]\n",
    "df_dnam_dim_red['Gaussian Random Projection 2'] = data_grp[:, 1]\n",
    "\n",
    "print(f\"SRP\")\n",
    "SRP = SparseRandomProjection(n_components=2, density='auto', eps=0.5, dense_output=False)\n",
    "SRP.fit(data_dim_red)\n",
    "data_srp = SRP.transform(data_dim_red)\n",
    "df_dnam_dim_red['Sparse Random Projection 1'] = data_srp[:, 0]\n",
    "df_dnam_dim_red['Sparse Random Projection 2'] = data_srp[:, 1]\n",
    "\n",
    "print(f\"MDS\")\n",
    "mds = MDS(n_components=2, metric=True)\n",
    "data_mds = mds.fit_transform(data_dim_red)\n",
    "df_dnam_dim_red['Multi Dimensional Scale 1'] = data_mds[:, 0]\n",
    "df_dnam_dim_red['Multi Dimensional Scale 2'] = data_mds[:, 1]\n",
    "\n",
    "print(f\"ISOMAP\")\n",
    "isomap = Isomap(n_components=2, n_neighbors=5)\n",
    "isomap.fit(data_dim_red)\n",
    "data_isomap = isomap.transform(data_dim_red)\n",
    "df_dnam_dim_red['IsoMap 1'] = data_isomap[:, 0]\n",
    "df_dnam_dim_red['IsoMap 2'] = data_isomap[:, 1]\n",
    "\n",
    "print(f\"MiniBatchDictionaryLearning\")\n",
    "miniBatchDictLearning = MiniBatchDictionaryLearning(n_components=2, batch_size=200, alpha=1, n_iter=25)\n",
    "miniBatchDictLearning.fit(data_dim_red)\n",
    "data_batch = miniBatchDictLearning.fit_transform(data_dim_red)\n",
    "df_dnam_dim_red['MBDL 1'] = data_batch[:, 0]\n",
    "df_dnam_dim_red['MBDL 2'] = data_batch[:, 1]\n",
    "\n",
    "print(f\"ICA\")\n",
    "fastICA = FastICA(n_components=2, algorithm='parallel', whiten=True, tol=1e-3, max_iter=1000)\n",
    "data_ica = fastICA.fit_transform(data_dim_red)\n",
    "df_dnam_dim_red['IC 1'] = data_ica[:, 0]\n",
    "df_dnam_dim_red['IC 2'] = data_ica[:, 1]\n",
    "\n",
    "print(f\"t-SNE\")\n",
    "tsne = TSNE(n_components=2, learning_rate=300, perplexity=30, early_exaggeration=12, init='random')\n",
    "data_tsne = tsne.fit_transform(data_dim_red)\n",
    "df_dnam_dim_red['tSNE 1'] = data_tsne[:, 0]\n",
    "df_dnam_dim_red['tSNE 2'] = data_tsne[:, 1]\n",
    "\n",
    "print(f\"LLE\")\n",
    "lle = LocallyLinearEmbedding(n_components=2, n_neighbors=10, method='modified')\n",
    "lle.fit(data_dim_red)\n",
    "data_lle = lle.transform(data_dim_red)\n",
    "df_dnam_dim_red['LLE 1'] = data_lle[:, 0]\n",
    "df_dnam_dim_red['LLE 2'] = data_lle[:, 1]"
   ],
   "metadata": {
    "collapsed": false
   }
  },
  {
   "cell_type": "code",
   "execution_count": null,
   "outputs": [],
   "source": [
    "from itertools import chain\n",
    "\n",
    "pathlib.Path(f\"{path_save}/{path_local}/dim_red\").mkdir(parents=True, exist_ok=True)\n",
    "dim_red_methods_dict = {\n",
    "    'PCA': ['PC 1', 'PC 2'],\n",
    "    'IncrementalPCA': ['Incremental PC 1', 'Incremental PC 2'],\n",
    "    'KernelPCA': ['Kernel PC 1', 'Kernel PC 2'],\n",
    "    'SingularValueDecomposition': ['SVD 1', 'SVD 2'],\n",
    "    'GaussianRandomProjection': ['Gaussian Random Projection 1', 'Gaussian Random Projection 2'],\n",
    "    'SparseRandomProjection': ['Sparse Random Projection 1', 'Sparse Random Projection 2'],\n",
    "    'MultiDimensionalScaling': ['Multi Dimensional Scale 1', 'Multi Dimensional Scale 2'],\n",
    "    'Isomap': ['IsoMap 1', 'IsoMap 2'],\n",
    "    'MiniBatchDictionaryLearning': ['MBDL 1', 'MBDL 2'],\n",
    "    'ICA': ['IC 1', 'IC 2'],\n",
    "    'T-SNE': ['tSNE 1', 'tSNE 2'],\n",
    "    'LocallyLinearEmbedding': ['LLE 1', 'LLE 2']\n",
    "}\n",
    "df_dnam_dim_red.loc[:, list(chain(*dim_red_methods_dict.values()))].to_excel(f\"{path_save}/{path_local}/dim_red/table.xlsx\", index=True)\n",
    "for method in dim_red_methods_dict:\n",
    "    x_col = dim_red_methods_dict[method][0]\n",
    "    y_col = dim_red_methods_dict[method][1]\n",
    "\n",
    "    # Plot without longevity =======================================================\n",
    "    fig = go.Figure()\n",
    "    for group in problem[\"Color\"]:\n",
    "        fig.add_trace(\n",
    "            go.Scatter(\n",
    "                x=df_dnam_dim_red.loc[problem[\"Filter\"][group], x_col].values,\n",
    "                y=df_dnam_dim_red.loc[problem[\"Filter\"][group], y_col].values,\n",
    "                showlegend=True,\n",
    "                name=group,\n",
    "                mode=\"markers\",\n",
    "                line_color=problem[\"Color\"][group],\n",
    "                marker=dict(\n",
    "                    size=8,\n",
    "                    opacity=0.8,\n",
    "                    color=problem[\"Color\"][group],\n",
    "                    symbol=\"circle\",\n",
    "                    line=dict(\n",
    "                        color=\"black\",\n",
    "                        width=1\n",
    "                    )\n",
    "                )\n",
    "            )\n",
    "        )\n",
    "    add_layout(fig, x_col, y_col, f\"\")\n",
    "    fig.update_layout(legend_font_size=20)\n",
    "    fig.update_layout(legend= {'itemsizing': 'constant'})\n",
    "    fig.update_layout(\n",
    "        width=650,\n",
    "        height=600,\n",
    "        margin=go.layout.Margin(\n",
    "            l=100,\n",
    "            r=50,\n",
    "            b=100,\n",
    "            t=50,\n",
    "            pad=0,\n",
    "        )\n",
    "    )\n",
    "    save_figure(fig, f\"{path_save}/{path_local}/dim_red/{method}\")"
   ],
   "metadata": {
    "collapsed": false
   }
  },
  {
   "cell_type": "markdown",
   "source": [
    "### Perform GSEA for selected gene libraries"
   ],
   "metadata": {
    "collapsed": false
   }
  },
  {
   "cell_type": "code",
   "execution_count": null,
   "outputs": [],
   "source": [
    "pathlib.Path(f\"{path_save}/{path_local}/GSEA\").mkdir(parents=True, exist_ok=True)\n",
    "libraries = gp.get_library_name(\"Human\")\n",
    "df_libraries = pd.DataFrame(index=libraries)\n",
    "df_libraries.to_excel(f\"{path_save}/GSEA_libs/libraries.xlsx\", index=True)\n",
    "\n",
    "genes_dict_of_lists = {\n",
    "    \"origin\": genes_dmps_selected,\n",
    "}\n",
    "\n",
    "for genes in genes_dict_of_lists:\n",
    "    dfs_enrichr = []\n",
    "    for genes_list in libraries:\n",
    "        pathlib.Path(f\"{path_save}/{path_local}/GSEA/{genes}/{genes_list}\").mkdir(parents=True, exist_ok=True)\n",
    "        df_enrichr = gp.enrichr(\n",
    "            gene_list=genes_dict_of_lists[genes],\n",
    "            gene_sets=genes_list,\n",
    "            organism='Human',\n",
    "            outdir=f\"{path_save}/{path_local}/GSEA/{genes}/{genes_list}\",\n",
    "            cutoff=1.00,\n",
    "            verbose=True,\n",
    "            no_plot=True\n",
    "        )\n",
    "        dfs_enrichr.append(df_enrichr.results)\n",
    "    dfs_enrichr = pd.concat(dfs_enrichr)\n",
    "    dfs_enrichr.to_excel(f\"{path_save}/{path_local}/GSEA/{genes}/results.xlsx\", index=True)\n",
    "    dfs_enrichr.to_pickle(f\"{path_save}/{path_local}/GSEA/{genes}/results.pkl\")"
   ],
   "metadata": {
    "collapsed": false
   }
  },
  {
   "cell_type": "markdown",
   "source": [
    "### Plot significant GSEA terms"
   ],
   "metadata": {
    "collapsed": false
   }
  },
  {
   "cell_type": "code",
   "execution_count": null,
   "outputs": [],
   "source": [
    "libraries_file = [\n",
    "    \"libraries_target_GO_Biological_Process\",\n",
    "    \"libraries_target_GO_Cellular_Component\",\n",
    "    \"libraries_target_GO_Molecular_Function\",\n",
    "    \"libraries_target_nonGO\",\n",
    "]\n",
    "\n",
    "for library_file in libraries_file:\n",
    "    libraries_target = pd.read_excel(f\"{path_save}/GSEA_libs/{library_file}.xlsx\")[\"library\"].values\n",
    "\n",
    "    gsea_cols = [\"Gene_set\", \"Term\", \"Overlap\", \"P-value\", \"Adjusted P-value\", \"Odds Ratio\", \"Combined Score\"]\n",
    "    for genes in [\"origin\"]:\n",
    "\n",
    "        dfs_enrichr = pd.read_pickle(f\"{path_save}/{path_local}/GSEA/{genes}/results.pkl\")\n",
    "        dfs_enrichr = dfs_enrichr.loc[(dfs_enrichr[\"Adjusted P-value\"] < 0.05) & (dfs_enrichr[\"Gene_set\"].isin(libraries_target)), gsea_cols]\n",
    "        dfs_enrichr.index = range(len(dfs_enrichr))\n",
    "\n",
    "        if dfs_enrichr.empty == False:\n",
    "            dfs_enrichr[r'$ -\\log_{10}(\\mathrm{p-value})$'] = -np.log10(dfs_enrichr.loc[:, 'Adjusted P-value'].values)\n",
    "            dfs_enrichr.rename(columns={'Gene_set': 'Gene Library'}, inplace=True)\n",
    "            dfs_enrichr.to_excel(f\"{path_save}/{path_local}/GSEA/{genes}/terms_{library_file}.xlsx\")\n",
    "            plt.figure(figsize=(10, 0.5 * dfs_enrichr.shape[0]))\n",
    "            sns.set_theme(style='whitegrid', font_scale=2)\n",
    "            bar = sns.barplot(\n",
    "                data=dfs_enrichr,\n",
    "                hue=\"Gene Library\",\n",
    "                y=dfs_enrichr.index,\n",
    "                x=r'$ -\\log_{10}(\\mathrm{p-value})$',\n",
    "                palette=list(px.colors.qualitative.Alphabet) + list(px.colors.qualitative.Dark24) + list(px.colors.qualitative.Light24),\n",
    "                edgecolor='black',\n",
    "                orient=\"h\",\n",
    "                dodge=False\n",
    "            )\n",
    "            bar.set_yticklabels(dfs_enrichr[\"Term\"])\n",
    "            sns.move_legend(bar, \"upper left\", bbox_to_anchor=(1, 1))\n",
    "            plt.savefig(f\"{path_save}/{path_local}/GSEA/{genes}/terms_{library_file}.png\", bbox_inches='tight')\n",
    "            plt.savefig(f\"{path_save}/{path_local}/GSEA/{genes}/terms_{library_file}.pdf\", bbox_inches='tight')\n",
    "            plt.close()"
   ],
   "metadata": {
    "collapsed": false
   }
  },
  {
   "cell_type": "markdown",
   "source": [
    "### Plot upset plots for target terms"
   ],
   "metadata": {
    "collapsed": false
   }
  },
  {
   "cell_type": "code",
   "execution_count": null,
   "outputs": [],
   "source": [
    "df_ss_2014 = pd.read_excel(f\"{path_save}/part_1.2_sex_specific_dnam/12864_2014_6710_MOESM4_ESM.xlsx\", index_col=\"Target ID\")\n",
    "cpgs_ss_2014 = df_ss_2014.index.values\n",
    "\n",
    "df_ss_2022 = pd.read_csv(f\"{path_save}/part_1.2_sex_specific_dnam/13148_2022_1279_MOESM1_ESM.csv\", index_col=\"Row.names\")\n",
    "cpgs_ss_2022 = df_ss_2022.index.values\n",
    "\n",
    "cpgs_ss_unn = df_dmps_selected.index.values\n",
    "\n",
    "cpgs_lists = {\n",
    "    'McCarthy2014': cpgs_ss_2014,\n",
    "    'Grant2022': cpgs_ss_2022,\n",
    "    'UNN': cpgs_ss_unn\n",
    "}\n",
    "all_cpgs = results_union = set().union(*list(cpgs_lists.values()))\n",
    "df_upset = pd.DataFrame(index=all_cpgs)\n",
    "for k, v in cpgs_lists.items():\n",
    "    df_upset[k] = df_upset.index.isin(v)\n",
    "df_upset = df_upset.set_index(list(cpgs_lists.keys()))\n",
    "tmp = plt.figure(figsize=(14, 8))\n",
    "upset_fig = upset.UpSet(df_upset, subset_size='count', show_counts=True, element_size=None, min_degree=1).plot(tmp)\n",
    "plt.savefig(f\"{path_save}/part_1.2_sex_specific_dnam/upset.png\", bbox_inches='tight')\n",
    "plt.savefig(f\"{path_save}/part_1.2_sex_specific_dnam/upset.pdf\", bbox_inches='tight')"
   ],
   "metadata": {
    "collapsed": false
   }
  },
  {
   "cell_type": "markdown",
   "source": [
    "### Plot region enrichment"
   ],
   "metadata": {
    "collapsed": false
   }
  },
  {
   "cell_type": "code",
   "execution_count": null,
   "outputs": [],
   "source": [
    "pathlib.Path(f\"{path_save}/{path_local}/region_enrichment\").mkdir(parents=True, exist_ok=True)\n",
    "pval_show_type = \"color\" # \"cross\"\n",
    "orders = {\n",
    "    'CHR': [str(x) for x in range(1, 24)],\n",
    "    'RELATION_TO_UCSC_CPG_ISLAND': ['S_Shelf', 'S_Shore', 'Island', 'N_Shore', 'N_Shelf', 'OpenSea'],\n",
    "    'UCSC_REFGENE_GROUP': ['TSS1500', 'TSS200', '5\\'UTR', '1stExon', 'Body', '3\\'UTR']\n",
    "}\n",
    "col_names = {\n",
    "    'CHR': \"CHR\",\n",
    "    'RELATION_TO_UCSC_CPG_ISLAND': \"Relation_to_Island\",\n",
    "    'UCSC_REFGENE_GROUP': \"UCSC_RefGene_Group\"\n",
    "}\n",
    "fig_sizes = {\n",
    "    'CHR': (17, 10),\n",
    "    'RELATION_TO_UCSC_CPG_ISLAND': (5, 10),\n",
    "    'UCSC_REFGENE_GROUP': (5, 10)\n",
    "}\n",
    "colors = {\n",
    "    'CHR': px.colors.qualitative.Dark24,\n",
    "    'RELATION_TO_UCSC_CPG_ISLAND': px.colors.qualitative.Light24[17:23],\n",
    "    'UCSC_REFGENE_GROUP': px.colors.qualitative.Light24[11:17]\n",
    "}\n",
    "df_dmps_fisher_target = manifest.loc[df_dmps_selected.index.values, :]\n",
    "df_dmps_fisher_global = manifest.loc[df_dmps.index.values, :]\n",
    "df_dmps_fisher_padding = df_dmps_fisher_global.loc[~df_dmps_fisher_global.index.isin(df_dmps_selected.index.values), :]\n",
    "for var in orders:\n",
    "    columns=[\"11\", \"12\", \"21\", \"22\", \"sum\", \"pval\", \"odds_ratio\"]\n",
    "    df_var = pd.DataFrame(index=orders[var], columns=columns, data=np.zeros((len(orders[var]), len(columns))))\n",
    "    df_var.index.name = col_names[var].replace(\"_\", \" \")\n",
    "    for var_val in orders[var]:\n",
    "        contingency_table = pd.DataFrame(index=[\"specific\", \"non-specific\"], columns=[\"in_val\", \"not_in_val\"])\n",
    "        contingency_table.at[\"specific\", \"in_val\"] = df_dmps_fisher_target.loc[df_dmps_fisher_target[col_names[var]] == var_val, :].shape[0]\n",
    "        contingency_table.at[\"specific\", \"not_in_val\"] = df_dmps_fisher_target.loc[df_dmps_fisher_target[col_names[var]] != var_val, :].shape[0]\n",
    "        contingency_table.at[\"non-specific\", \"in_val\"] = df_dmps_fisher_padding.loc[df_dmps_fisher_padding[col_names[var]] == var_val, :].shape[0]\n",
    "        contingency_table.at[\"non-specific\", \"not_in_val\"] = df_dmps_fisher_padding.loc[df_dmps_fisher_padding[col_names[var]] != var_val, :].shape[0]\n",
    "        df_var.at[var_val, \"11\"] = contingency_table.at[\"specific\", \"in_val\"]\n",
    "        df_var.at[var_val, \"12\"] = contingency_table.at[\"specific\", \"not_in_val\"]\n",
    "        df_var.at[var_val, \"21\"] = contingency_table.at[\"non-specific\", \"in_val\"]\n",
    "        df_var.at[var_val, \"22\"] = contingency_table.at[\"non-specific\", \"not_in_val\"]\n",
    "        df_var.at[var_val, \"sum\"] = contingency_table.values.sum()\n",
    "        odds_ratio, pval = stats.fisher_exact(contingency_table.to_numpy(), alternative='two-sided')\n",
    "        if np.isnan(odds_ratio):\n",
    "            odds_ratio = 1.0\n",
    "        df_var.at[var_val, \"odds_ratio\"], df_var.at[var_val, \"pval\"] = odds_ratio, pval\n",
    "    _, df_var['pval_fdr_bh'], _, _ = multipletests(df_var['pval'].values, 0.05, method='fdr_bh')\n",
    "    df_var[r'$ \\log_{10}(\\mathrm{Odds\\ ratio})$'] = np.log10(df_var.loc[:, 'odds_ratio'].values)\n",
    "    df_var[r'$ -\\log_{10}(\\mathrm{p-value})$'] = -np.log10(df_var.loc[:, 'pval_fdr_bh'].values)\n",
    "    df_var.to_excel(f\"{path_save}/{path_local}/region_enrichment/fisher_{var}.xlsx\")\n",
    "\n",
    "    plt.figure(figsize=fig_sizes[var])\n",
    "    plt.xticks(rotation=90)\n",
    "    sns.set_theme(style='whitegrid', font_scale=2)\n",
    "    if pval_show_type == \"color\":\n",
    "        plot = plt.scatter(df_var.index, df_var.loc[:, r'$ \\log_{10}(\\mathrm{Odds\\ ratio})$'].values, c=df_var.loc[:, r'$ -\\log_{10}(\\mathrm{p-value})$'].values, cmap='Reds')\n",
    "        plt.clf()\n",
    "        cbar = plt.colorbar(plot)\n",
    "        plt.xticks(rotation=90)\n",
    "        cbar.set_label(r\"$-\\log_{10}(\\mathrm{p-value})$\", horizontalalignment='center')\n",
    "        ax = sns.barplot(data=df_var, x=df_var.index, y=r'$ \\log_{10}(\\mathrm{Odds\\ ratio})$', hue=r'$ -\\log_{10}(\\mathrm{p-value})$', palette='Reds', dodge=False, edgecolor='black')\n",
    "        ax.legend_.remove()\n",
    "    else:\n",
    "        bar = sns.barplot(data=df_var, x=df_var.index, y=r'$ \\log_{10}(\\mathrm{Odds\\ ratio})$', palette=colors[var], edgecolor='black')\n",
    "        for bar_index, this_bar in enumerate(bar.patches):\n",
    "            if df_var.at[df_var.index[bar_index], \"pval_fdr_bh\"] < 0.05:\n",
    "                this_bar.set_hatch('x')\n",
    "            this_bar.set_edgecolor('skyblue')\n",
    "    plt.savefig(f\"{path_save}/{path_local}/region_enrichment/fisher_{var}.png\", bbox_inches='tight')\n",
    "    plt.savefig(f\"{path_save}/{path_local}/region_enrichment/fisher_{var}.pdf\", bbox_inches='tight')\n",
    "    plt.close()"
   ],
   "metadata": {
    "collapsed": false
   }
  },
  {
   "cell_type": "markdown",
   "source": [
    "### Plot example"
   ],
   "metadata": {
    "collapsed": false
   }
  },
  {
   "cell_type": "code",
   "execution_count": null,
   "outputs": [],
   "source": [
    "n_top = 10\n",
    "dist_num_bins = 25\n",
    "pathlib.Path(f\"{path_save}/{path_local}/examples\").mkdir(parents=True, exist_ok=True)\n",
    "df_dmps_top = df_dmps.sort_values(['adj.P.Val'], ascending=[True]).head(n_top)\n",
    "for cpg_id, (cpg, row) in enumerate(df_dmps_top.iterrows()):\n",
    "    pval = row['adj.P.Val']\n",
    "    log_fc = row['logFC']\n",
    "    gene = manifest.at[cpg, 'Gene']\n",
    "\n",
    "    fig = go.Figure()\n",
    "    for group in problem[\"Filter\"]:\n",
    "        vals = df_dnam.loc[problem[\"Filter\"][group], cpg].values\n",
    "        fig.add_trace(\n",
    "            go.Violin(\n",
    "                y=vals,\n",
    "                name=group,\n",
    "                box_visible=True,\n",
    "                meanline_visible=True,\n",
    "                showlegend=False,\n",
    "                line_color='black',\n",
    "                fillcolor=problem[\"Color\"][group],\n",
    "                marker = dict(color=problem[\"Color\"][group], line=dict(color='black',width=0.3), opacity=0.8),\n",
    "                points='all',\n",
    "                bandwidth = np.ptp(vals) / dist_num_bins,\n",
    "                opacity=0.8\n",
    "            )\n",
    "        )\n",
    "    add_layout(fig, \"\", \"Methylation\", f\"{cpg} ({gene})<br>p-value: {pval:0.2e}<br>log(Fold Change): {log_fc:0.2e}\")\n",
    "    fig.update_layout(title_xref='paper', title={'y': 0.95})\n",
    "    fig.update_layout(legend_font_size=25)\n",
    "    fig.update_layout(legend={'itemsizing': 'constant'})\n",
    "    fig.update_xaxes(tickfont_size=25)\n",
    "    fig.update_layout(\n",
    "        violingap=0.35,\n",
    "        violingroupgap=0.35,\n",
    "        width=850,\n",
    "        height=615,\n",
    "        margin=go.layout.Margin(\n",
    "            l=150,\n",
    "            r=50,\n",
    "            b=75,\n",
    "            t=115,\n",
    "            pad=0,\n",
    "        )\n",
    "    )\n",
    "    save_figure(fig, f\"{path_save}/{path_local}/examples/{cpg_id}_{cpg}\")"
   ],
   "metadata": {
    "collapsed": false
   }
  }
 ],
 "metadata": {
  "kernelspec": {
   "name": "pycharm-7948d80f",
   "language": "python",
   "display_name": "PyCharm (dnam)"
  },
  "language_info": {
   "codemirror_mode": {
    "name": "ipython",
    "version": 2
   },
   "file_extension": ".py",
   "mimetype": "text/x-python",
   "name": "python",
   "nbconvert_exporter": "python",
   "pygments_lexer": "ipython2",
   "version": "2.7.6"
  }
 },
 "nbformat": 4,
 "nbformat_minor": 0
}
