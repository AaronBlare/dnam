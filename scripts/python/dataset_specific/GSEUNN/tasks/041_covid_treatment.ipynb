{
 "cells": [
  {
   "cell_type": "code",
   "execution_count": null,
   "outputs": [],
   "source": [
    "import pandas as pd\n",
    "import numpy as np\n",
    "from scipy import stats\n",
    "import seaborn as sns\n",
    "import pickle\n",
    "import plotly.express as px\n",
    "import statsmodels.formula.api as smf\n",
    "import plotly.graph_objects as go\n",
    "from scripts.python.routines.manifest import get_manifest\n",
    "from scripts.python.routines.plot.save import save_figure\n",
    "from scripts.python.routines.plot.layout import add_layout\n",
    "from statsmodels.stats.multitest import multipletests\n",
    "import plotly.io as pio\n",
    "pio.kaleido.scope.mathjax = None\n",
    "from plotly.offline import init_notebook_mode\n",
    "init_notebook_mode(connected=False)\n",
    "from scipy.stats import mannwhitneyu, median_test\n",
    "import matplotlib.pyplot as plt\n",
    "import pathlib\n",
    "from tqdm import tqdm\n",
    "from src.utils.plot.bioinfokit import mhat, volcano\n",
    "import gseapy as gp\n",
    "import mygene\n",
    "from sklearn.preprocessing import StandardScaler\n",
    "from sklearn.decomposition import PCA, IncrementalPCA, KernelPCA, TruncatedSVD\n",
    "from sklearn.decomposition import MiniBatchDictionaryLearning, FastICA\n",
    "from sklearn.random_projection import GaussianRandomProjection, SparseRandomProjection\n",
    "from sklearn.manifold import MDS, Isomap, TSNE, LocallyLinearEmbedding\n",
    "import upsetplot as upset\n",
    "import missingno as msno\n",
    "from pyod.models.lunar import LUNAR\n",
    "from matplotlib_venn import venn2, venn2_circles\n",
    "from glob import glob\n",
    "from hydra import compose, initialize\n",
    "from omegaconf import OmegaConf\n",
    "import omegaconf\n",
    "import os\n",
    "import ast"
   ],
   "metadata": {
    "collapsed": false
   }
  },
  {
   "cell_type": "markdown",
   "source": [
    "# 0. Setup"
   ],
   "metadata": {
    "collapsed": false
   }
  },
  {
   "cell_type": "code",
   "execution_count": null,
   "outputs": [],
   "source": [
    "path_dataset = \"E:/YandexDisk/Work/pydnameth/datasets/GPL21145/GSEUNN\"\n",
    "path_load = f\"{path_dataset}/data/covid/treatment\"\n",
    "path_save = f\"{path_dataset}/special/041_covid_treatment\"\n",
    "pathlib.Path(f\"{path_save}\").mkdir(parents=True, exist_ok=True)"
   ],
   "metadata": {
    "collapsed": false
   }
  },
  {
   "cell_type": "markdown",
   "source": [
    "# 1. Empty features"
   ],
   "metadata": {
    "collapsed": false
   }
  },
  {
   "cell_type": "code",
   "execution_count": null,
   "outputs": [],
   "source": [
    "path_local = f\"001_empty_features\"\n",
    "pathlib.Path(f\"{path_save}/{path_local}\").mkdir(parents=True, exist_ok=True)\n",
    "\n",
    "df = pd.read_excel(f\"{path_load}/data_0.xlsx\", index_col=\"patient_id\")\n",
    "\n",
    "series_n_nan = df.isna().sum()\n",
    "df_nan = pd.DataFrame({'n_nans': series_n_nan.values}, index = series_n_nan.index)\n",
    "df_nan.sort_values([f\"n_nans\"], ascending=[False], inplace=True)\n",
    "\n",
    "hist_min = df_nan.loc[:, f\"n_nans\"].min()\n",
    "hist_max = df_nan.loc[:, f\"n_nans\"].max()\n",
    "hist_width = hist_max - hist_min\n",
    "hist_n_bins = df_nan.loc[:, f\"n_nans\"].max()\n",
    "hist_bin_width = hist_width / hist_n_bins\n",
    "\n",
    "plt.figure()\n",
    "sns.set_theme(style='whitegrid')\n",
    "hist = sns.histplot(\n",
    "    data=df_nan,\n",
    "    x=f\"n_nans\",\n",
    "    bins=hist_n_bins,\n",
    "    binrange=(hist_min, hist_max),\n",
    "    binwidth=hist_bin_width,\n",
    "    discrete=True,\n",
    "    edgecolor='k',\n",
    "    linewidth=1\n",
    ")\n",
    "hist.set_xlabel(\"Number of missing values\")\n",
    "hist.set_ylabel(\"Number of features\")\n",
    "hist.set_title(f\"Total features: {df.shape[1]}\\nTotal samples: {df.shape[0]}\")\n",
    "plt.savefig(f\"{path_save}/{path_local}/hist_n_nans.png\", bbox_inches='tight')\n",
    "plt.savefig(f\"{path_save}/{path_local}/hist_n_nans.pdf\", bbox_inches='tight')\n",
    "plt.clf()"
   ],
   "metadata": {
    "collapsed": false
   }
  },
  {
   "cell_type": "markdown",
   "source": [
    "## Update features with nan info"
   ],
   "metadata": {
    "collapsed": false
   }
  },
  {
   "cell_type": "code",
   "execution_count": null,
   "outputs": [],
   "source": [
    "df_feats = pd.read_excel(f\"{path_load}/features.xlsx\", index_col=\"feature\")\n",
    "df_feats.loc[df_feats.index, 'n_nans'] = df_nan.loc[df_feats.index, 'n_nans']\n",
    "df_feats.loc[df_feats.index, 'percentage_nans'] = df_nan.loc[df_feats.index, 'n_nans'] / df.shape[0]\n",
    "df_feats.to_excel(f\"{path_load}/features.xlsx\")"
   ],
   "metadata": {
    "collapsed": false
   }
  },
  {
   "cell_type": "markdown",
   "source": [
    "## Save filtered data"
   ],
   "metadata": {
    "collapsed": false
   }
  },
  {
   "cell_type": "code",
   "execution_count": null,
   "outputs": [],
   "source": [
    "lim_exclude = 1675\n",
    "feats_exclude = df_nan.index[df_nan[\"n_nans\"] > lim_exclude].values\n",
    "df.drop(feats_exclude, axis=1, inplace=True)\n",
    "df['n_nans'] = df.isnull().sum(axis=1)\n",
    "df.to_excel(f\"{path_load}/data_exclude({lim_exclude}).xlsx\")"
   ],
   "metadata": {
    "collapsed": false
   }
  },
  {
   "cell_type": "markdown",
   "source": [
    "# 2. Forms features"
   ],
   "metadata": {
    "collapsed": false
   }
  },
  {
   "cell_type": "code",
   "execution_count": null,
   "outputs": [],
   "source": [
    "path_local = f\"002_forms_features\"\n",
    "pathlib.Path(f\"{path_save}/{path_local}\").mkdir(parents=True, exist_ok=True)\n",
    "\n",
    "df = pd.read_excel(f\"{path_load}/data_0.xlsx\", index_col=\"patient_id\")\n",
    "df_feats = pd.read_excel(f\"{path_load}/features.xlsx\", index_col=\"feature\")\n",
    "\n",
    "forms = df_feats['form'].unique()\n",
    "\n",
    "for form in forms:\n",
    "    pathlib.Path(f\"{path_save}/{path_local}/{form}\").mkdir(parents=True, exist_ok=True)\n",
    "    df_feats_form = df_feats.loc[(df_feats[\"form\"] == form) & (df_feats[\"type\"].isin([\"cat\", \"cont\"])), :]\n",
    "\n",
    "    df_form = df.loc[:, df_feats_form.index]\n",
    "    df_form.rename(columns=dict(zip(df_feats_form.index.values, df_feats_form[\"eng_title\"].values)), inplace=True)\n",
    "    feats_form = df_feats_form[\"eng_title\"].values\n",
    "    df_form['Missed features'] = df_form.isnull().sum(axis=1)\n",
    "\n",
    "    msno.bar(\n",
    "        df=df_form.loc[:, feats_form],\n",
    "        label_rotation=90\n",
    "    )\n",
    "    plt.savefig(f\"{path_save}/{path_local}/{form}/msno_bar.png\", bbox_inches='tight', dpi=400)\n",
    "    plt.savefig(f\"{path_save}/{path_local}/{form}/msno_bar.pdf\", bbox_inches='tight')\n",
    "    plt.clf()\n",
    "\n",
    "    fig = plt.figure(figsize=(12, 0.4 * df_feats_form['eng_title'].value_counts(dropna=True).shape[0]))\n",
    "    sns.set_theme(style='whitegrid', font_scale=1)\n",
    "    bar = sns.barplot(\n",
    "        data=df_feats_form,\n",
    "        y='eng_title',\n",
    "        x='percentage_nans',\n",
    "        edgecolor='black',\n",
    "        orient='h',\n",
    "        palette=px.colors.qualitative.Alphabet,\n",
    "        dodge=True\n",
    "    )\n",
    "    bar.set_xlabel(\"% of NaNs\")\n",
    "    bar.set_ylabel(\"\")\n",
    "    bar.set_title(f\"Features' missing values\")\n",
    "    plt.savefig(f\"{path_save}/{path_local}/{form}/bar.png\", bbox_inches='tight', dpi=400)\n",
    "    plt.savefig(f\"{path_save}/{path_local}/{form}/bar.pdf\", bbox_inches='tight')\n",
    "    plt.close()\n",
    "\n",
    "    msno.matrix(\n",
    "        df=df_form.loc[:, feats_form],\n",
    "        label_rotation=90\n",
    "    )\n",
    "    plt.savefig(f\"{path_save}/{path_local}/{form}/msno_mtx.png\", bbox_inches='tight', dpi=400)\n",
    "    plt.savefig(f\"{path_save}/{path_local}/{form}/msno_mtx.pdf\", bbox_inches='tight')\n",
    "    plt.clf()\n",
    "\n",
    "    msno.matrix(\n",
    "        df=df_form.sort_values([f\"Missed features\"], ascending=[False]).loc[:, feats_form],\n",
    "        label_rotation=90\n",
    "    )\n",
    "    plt.savefig(f\"{path_save}/{path_local}/{form}/msno_mtx_sorted.png\", bbox_inches='tight', dpi=400)\n",
    "    plt.savefig(f\"{path_save}/{path_local}/{form}/msno_mtx_sorted.pdf\", bbox_inches='tight')\n",
    "    plt.clf()\n",
    "\n",
    "    for feat, row in df_feats_form.iterrows():\n",
    "        if row['type'] == 'cat':\n",
    "\n",
    "            pathlib.Path(f\"{path_save}/{path_local}/{form}/cat\").mkdir(parents=True, exist_ok=True)\n",
    "\n",
    "            if not pd.isna(row['eng_values']):\n",
    "                dict_values = ast.literal_eval(row['eng_values'])\n",
    "                df_form.replace({row['eng_title']: dict_values}, inplace=True)\n",
    "                palette = {x: px.colors.qualitative.Dark24[x_id] for x_id, x in enumerate(dict_values.values())}\n",
    "                order = dict_values.values()\n",
    "            else:\n",
    "                palette = px.colors.qualitative.Dark24\n",
    "                order = df_form[row['eng_title']].unique()\n",
    "\n",
    "            fig = plt.figure(figsize=(12, 0.4 * df_form[row['eng_title']].value_counts(dropna=True).shape[0]))\n",
    "            sns.set_theme(style='whitegrid', font_scale=1)\n",
    "            countplot = sns.countplot(\n",
    "                data=df_form,\n",
    "                y=row['eng_title'],\n",
    "                edgecolor='black',\n",
    "                orient='h',\n",
    "                palette=palette,\n",
    "                order=order\n",
    "            )\n",
    "            countplot.bar_label(countplot.containers[0])\n",
    "            countplot.set_xlabel(\"Count\")\n",
    "            countplot.set_ylabel(\"\")\n",
    "            countplot.set_title(f\"{row['eng_title']} ({df_form[row['eng_title']].count()})\")\n",
    "            plt.savefig(f\"{path_save}/{path_local}/{form}/cat/{feat}.png\", bbox_inches='tight', dpi=400)\n",
    "            plt.savefig(f\"{path_save}/{path_local}/{form}/cat/{feat}.pdf\", bbox_inches='tight')\n",
    "            plt.close(fig)\n",
    "\n",
    "        elif row['type'] == 'cont' and df_form[row['eng_title']].count() > 5:\n",
    "\n",
    "            print(feat)\n",
    "\n",
    "            pathlib.Path(f\"{path_save}/{path_local}/{form}/cont\").mkdir(parents=True, exist_ok=True)\n",
    "\n",
    "            sns.set_theme(style='whitegrid')\n",
    "\n",
    "            fig, (ax_box, ax_hist) = plt.subplots(2, sharex=True, gridspec_kw={\"height_ratios\": (.15, .85)})\n",
    "\n",
    "            box = sns.boxplot(df_form[row['eng_title']].values, orient='h', flierprops={\"marker\": \"x\"}, ax=ax_box)\n",
    "            box.set_xlabel(\"\")\n",
    "            box.set_yticks([])\n",
    "            box.set_title(f\"Total samples: {df_form[row['eng_title']].count()}\")\n",
    "            sns.despine(ax=ax_box, left=False, right=False, bottom=False, top=False)\n",
    "\n",
    "            hist_n_bins = 20\n",
    "            hist_min = df_form.loc[:, row['eng_title']].min()\n",
    "            hist_max = df_form.loc[:, row['eng_title']].max()\n",
    "            hist_width = hist_max - hist_min\n",
    "            hist_bin_width = hist_width / hist_n_bins\n",
    "            hist = sns.histplot(\n",
    "                data=df_form,\n",
    "                x=row['eng_title'],\n",
    "                bins=hist_n_bins,\n",
    "                binrange=(hist_min, hist_max),\n",
    "                binwidth=hist_bin_width,\n",
    "                discrete=False,\n",
    "                edgecolor='k',\n",
    "                linewidth=1,\n",
    "                ax=ax_hist\n",
    "            )\n",
    "\n",
    "            plt.savefig(f\"{path_save}/{path_local}/{form}/cont/{feat}.png\", bbox_inches='tight', dpi=400)\n",
    "            plt.savefig(f\"{path_save}/{path_local}/{form}/cont/{feat}.pdf\", bbox_inches='tight')\n",
    "            plt.close(fig)"
   ],
   "metadata": {
    "collapsed": false
   }
  }
 ],
 "metadata": {
  "kernelspec": {
   "name": "pycharm-7948d80f",
   "language": "python",
   "display_name": "PyCharm (dnam)"
  },
  "language_info": {
   "codemirror_mode": {
    "name": "ipython",
    "version": 2
   },
   "file_extension": ".py",
   "mimetype": "text/x-python",
   "name": "python",
   "nbconvert_exporter": "python",
   "pygments_lexer": "ipython2",
   "version": "2.7.6"
  }
 },
 "nbformat": 4,
 "nbformat_minor": 0
}
