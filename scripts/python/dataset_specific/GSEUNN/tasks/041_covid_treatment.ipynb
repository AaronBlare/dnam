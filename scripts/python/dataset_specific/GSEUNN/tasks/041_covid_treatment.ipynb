{
 "cells": [
  {
   "cell_type": "code",
   "execution_count": null,
   "outputs": [],
   "source": [
    "import pandas as pd\n",
    "import numpy as np\n",
    "from scipy import stats\n",
    "import seaborn as sns\n",
    "import pickle\n",
    "import plotly.express as px\n",
    "import statsmodels.formula.api as smf\n",
    "import plotly.graph_objects as go\n",
    "from scripts.python.routines.manifest import get_manifest\n",
    "from scripts.python.routines.plot.save import save_figure\n",
    "from scripts.python.routines.plot.layout import add_layout\n",
    "from statsmodels.stats.multitest import multipletests\n",
    "import plotly.io as pio\n",
    "pio.kaleido.scope.mathjax = None\n",
    "from plotly.offline import init_notebook_mode\n",
    "init_notebook_mode(connected=False)\n",
    "from scipy.stats import mannwhitneyu, median_test\n",
    "import matplotlib.pyplot as plt\n",
    "import pathlib\n",
    "from tqdm import tqdm\n",
    "from src.utils.plot.bioinfokit import mhat, volcano\n",
    "import gseapy as gp\n",
    "import mygene\n",
    "from sklearn.preprocessing import StandardScaler\n",
    "from sklearn.decomposition import PCA, IncrementalPCA, KernelPCA, TruncatedSVD\n",
    "from sklearn.decomposition import MiniBatchDictionaryLearning, FastICA\n",
    "from sklearn.random_projection import GaussianRandomProjection, SparseRandomProjection\n",
    "from sklearn.manifold import MDS, Isomap, TSNE, LocallyLinearEmbedding\n",
    "import upsetplot as upset\n",
    "import missingno as msno\n",
    "from pyod.models.lunar import LUNAR\n",
    "from matplotlib_venn import venn2, venn2_circles\n",
    "from glob import glob\n",
    "from hydra import compose, initialize\n",
    "from omegaconf import OmegaConf\n",
    "import omegaconf\n",
    "import os"
   ],
   "metadata": {
    "collapsed": false
   }
  },
  {
   "cell_type": "markdown",
   "source": [
    "# 0. Setup"
   ],
   "metadata": {
    "collapsed": false
   }
  },
  {
   "cell_type": "code",
   "execution_count": null,
   "outputs": [],
   "source": [
    "path_dataset = \"E:/YandexDisk/Work/pydnameth/datasets/GPL21145/GSEUNN\"\n",
    "path_load = f\"{path_dataset}/data/covid/treatment\"\n",
    "path_save = f\"{path_dataset}/special/041_covid_treatment\"\n",
    "pathlib.Path(f\"{path_save}\").mkdir(parents=True, exist_ok=True)"
   ],
   "metadata": {
    "collapsed": false
   }
  },
  {
   "cell_type": "markdown",
   "source": [
    "# 1. Empty features"
   ],
   "metadata": {
    "collapsed": false
   }
  },
  {
   "cell_type": "code",
   "execution_count": null,
   "outputs": [],
   "source": [
    "path_local = f\"001_empty_features\"\n",
    "pathlib.Path(f\"{path_save}/{path_local}\").mkdir(parents=True, exist_ok=True)\n",
    "\n",
    "df = pd.read_excel(f\"{path_load}/data_0.xlsx\", index_col=\"patient_id\")\n",
    "\n",
    "series_n_nan = df.isna().sum()\n",
    "df_nan = pd.DataFrame({'n_nans': series_n_nan.values}, index = series_n_nan.index)\n",
    "df_nan.sort_values([f\"n_nans\"], ascending=[False], inplace=True)\n",
    "\n",
    "hist_min = df_nan.loc[:, f\"n_nans\"].min()\n",
    "hist_max = df_nan.loc[:, f\"n_nans\"].max()\n",
    "hist_width = hist_max - hist_min\n",
    "hist_n_bins = df_nan.loc[:, f\"n_nans\"].max()\n",
    "hist_bin_width = hist_width / hist_n_bins\n",
    "\n",
    "plt.figure()\n",
    "sns.set_theme(style='whitegrid')\n",
    "hist = sns.histplot(\n",
    "    data=df_nan,\n",
    "    x=f\"n_nans\",\n",
    "    bins=hist_n_bins,\n",
    "    binrange=(hist_min, hist_max),\n",
    "    binwidth=hist_bin_width,\n",
    "    discrete=True,\n",
    "    edgecolor='k',\n",
    "    linewidth=1\n",
    ")\n",
    "hist.set_xlabel(\"Number of missing values\")\n",
    "hist.set_ylabel(\"Number of features\")\n",
    "hist.set_title(f\"Total features: {df.shape[1]}\\nTotal samples: {df.shape[0]}\")\n",
    "plt.savefig(f\"{path_save}/{path_local}/hist_n_nans.png\", bbox_inches='tight')\n",
    "plt.savefig(f\"{path_save}/{path_local}/hist_n_nans.pdf\", bbox_inches='tight')\n",
    "plt.clf()\n",
    "\n",
    "lim_exclude = df.shape[0] * 0.9\n",
    "feats_exclude = df_nan.index[df_nan[\"n_nans\"] > lim_exclude].values\n",
    "\n",
    "df.drop(feats_exclude, axis=1, inplace=True)\n",
    "df['n_nans'] = df.isnull().sum(axis=1)\n",
    "\n",
    "df.to_excel(f\"{path_load}/data_1.xlsx\")"
   ],
   "metadata": {
    "collapsed": false,
    "pycharm": {
     "is_executing": true
    }
   }
  },
  {
   "cell_type": "markdown",
   "source": [
    "## 2. Initial analysis"
   ],
   "metadata": {
    "collapsed": false
   }
  },
  {
   "cell_type": "code",
   "execution_count": null,
   "outputs": [],
   "source": [
    "path_local = f\"002_initial_analysis\"\n",
    "pathlib.Path(f\"{path_save}/{path_local}\").mkdir(parents=True, exist_ok=True)\n",
    "\n",
    "df = pd.read_excel(f\"{path_load}/data_1.xlsx\", index_col=\"patient_id\")\n",
    "\n",
    "series_n_nan = df.isna().sum()\n",
    "df_nan = pd.DataFrame({'n_nans': series_n_nan.values}, index = series_n_nan.index)\n",
    "df_nan.sort_values([f\"n_nans\"], ascending=[False], inplace=True)\n",
    "\n",
    "hist_min = df_nan.loc[:, f\"n_nans\"].min()\n",
    "hist_max = df_nan.loc[:, f\"n_nans\"].max()\n",
    "hist_width = hist_max - hist_min\n",
    "hist_n_bins = df_nan.loc[:, f\"n_nans\"].max()\n",
    "hist_bin_width = hist_width / hist_n_bins\n",
    "\n",
    "plt.figure()\n",
    "sns.set_theme(style='whitegrid')\n",
    "hist = sns.histplot(\n",
    "    data=df_nan,\n",
    "    x=f\"n_nans\",\n",
    "    bins=hist_n_bins,\n",
    "    binrange=(hist_min, hist_max),\n",
    "    binwidth=hist_bin_width,\n",
    "    discrete=True,\n",
    "    edgecolor='k',\n",
    "    linewidth=1\n",
    ")\n",
    "hist.set_xlabel(\"Number of missing values\")\n",
    "hist.set_ylabel(\"Number of features\")\n",
    "hist.set_title(f\"Total features: {df.shape[1]}\\nTotal samples: {df.shape[0]}\")\n",
    "plt.savefig(f\"{path_save}/{path_local}/hist_n_nans.png\", bbox_inches='tight')\n",
    "plt.savefig(f\"{path_save}/{path_local}/hist_n_nans.pdf\", bbox_inches='tight')\n",
    "plt.clf()\n",
    "\n",
    "msno.bar(\n",
    "    df=df,\n",
    "    label_rotation=90\n",
    ")\n",
    "plt.savefig(f\"{path_save}/{path_local}/msno_bar.png\", bbox_inches='tight')\n",
    "plt.savefig(f\"{path_save}/{path_local}/msno_bar.pdf\", bbox_inches='tight')\n",
    "plt.clf()\n",
    "\n",
    "msno.matrix(\n",
    "    df=df,\n",
    "    label_rotation=90\n",
    ")\n",
    "plt.savefig(f\"{path_save}/{path_local}/msno_mtx.png\", bbox_inches='tight')\n",
    "plt.savefig(f\"{path_save}/{path_local}/msno_mtx.pdf\", bbox_inches='tight')\n",
    "plt.clf()\n",
    "\n",
    "msno.matrix(\n",
    "    df=df.sort_values([f\"n_nans\"], ascending=[False]),\n",
    "    label_rotation=90\n",
    ")\n",
    "plt.savefig(f\"{path_save}/{path_local}/msno_mtx_sorted.png\", bbox_inches='tight')\n",
    "plt.savefig(f\"{path_save}/{path_local}/msno_mtx_sorted.pdf\", bbox_inches='tight')\n",
    "plt.clf()"
   ],
   "metadata": {
    "collapsed": false
   }
  },
  {
   "cell_type": "markdown",
   "source": [
    "## 3. Features"
   ],
   "metadata": {
    "collapsed": false
   }
  },
  {
   "cell_type": "code",
   "execution_count": 36,
   "outputs": [],
   "source": [
    "path_local = f\"003_features\"\n",
    "pathlib.Path(f\"{path_save}/{path_local}\").mkdir(parents=True, exist_ok=True)\n",
    "\n",
    "df = pd.read_excel(f\"{path_load}/data_1.xlsx\", index_col=\"patient_id\")"
   ],
   "metadata": {
    "collapsed": false
   }
  }
 ],
 "metadata": {
  "kernelspec": {
   "name": "pycharm-7948d80f",
   "language": "python",
   "display_name": "PyCharm (dnam)"
  },
  "language_info": {
   "codemirror_mode": {
    "name": "ipython",
    "version": 2
   },
   "file_extension": ".py",
   "mimetype": "text/x-python",
   "name": "python",
   "nbconvert_exporter": "python",
   "pygments_lexer": "ipython2",
   "version": "2.7.6"
  }
 },
 "nbformat": 4,
 "nbformat_minor": 0
}
