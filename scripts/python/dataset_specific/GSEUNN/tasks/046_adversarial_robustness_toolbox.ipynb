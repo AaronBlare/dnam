{
 "cells": [
  {
   "cell_type": "code",
   "execution_count": null,
   "metadata": {
    "collapsed": true
   },
   "outputs": [],
   "source": [
    "import pandas as pd\n",
    "import numpy as np\n",
    "from plotly.subplots import make_subplots\n",
    "from scipy import stats\n",
    "import plotly.express as px\n",
    "from scripts.python.routines.plot.scatter import add_scatter_trace\n",
    "import plotly.graph_objects as go\n",
    "from scripts.python.routines.plot.save import save_figure\n",
    "from scripts.python.routines.plot.layout import add_layout, get_axis\n",
    "from statsmodels.stats.multitest import multipletests\n",
    "import plotly.io as pio\n",
    "pio.kaleido.scope.mathjax = None\n",
    "from plotly.offline import init_notebook_mode, iplot\n",
    "init_notebook_mode(connected=False)\n",
    "import matplotlib.pyplot as plt\n",
    "from omegaconf import OmegaConf\n",
    "import seaborn as sns\n",
    "from glob import glob\n",
    "import pathlib\n",
    "from sklearn.metrics import mean_absolute_error\n",
    "from scipy import stats\n",
    "import patchworklib as pw\n",
    "import os\n",
    "import functools\n",
    "from scipy.stats import iqr\n",
    "from statannotations.Annotator import Annotator\n",
    "from scipy.stats import mannwhitneyu\n",
    "import shap\n",
    "from slugify import slugify\n",
    "from src.models.tabular.widedeep.ft_transformer import WDFTTransformerModel\n",
    "from art.estimators.regression.pytorch import PyTorchRegressor\n",
    "from art.estimators.regression.blackbox import BlackBoxRegressor\n",
    "from art.attacks.evasion import ProjectedGradientDescentPyTorch, ProjectedGradientDescent\n",
    "import torch\n",
    "from src.tasks.metrics import get_cls_pred_metrics, get_cls_prob_metrics, get_reg_metrics\n",
    "\n",
    "\n",
    "def conjunction(conditions):\n",
    "    return functools.reduce(np.logical_and, conditions)\n",
    "\n",
    "\n",
    "def disjunction(conditions):\n",
    "    return functools.reduce(np.logical_or, conditions)"
   ]
  },
  {
   "cell_type": "markdown",
   "source": [
    "# 1. Adversarial examples for immunology data"
   ],
   "metadata": {
    "collapsed": false
   }
  },
  {
   "cell_type": "markdown",
   "source": [
    "## 1. Preparing data, model, functions for black-boxes"
   ],
   "metadata": {
    "collapsed": false
   }
  },
  {
   "cell_type": "code",
   "execution_count": null,
   "outputs": [],
   "source": [
    "path = \"D:/YandexDisk/Work/pydnameth/datasets/GPL21145/GSEUNN/special\"\n",
    "path_model = f\"{path}/044_small_immuno_clocks_revision/models/10_trn_val_tst/widedeep_ft_transformer_trn_val_tst/multiruns/2023-05-07_19-40-40_1337/64\"\n",
    "path_save = f\"{path}/046_adversarial_robustness_toolbox/immuno\"\n",
    "pathlib.Path(f\"{path_save}\").mkdir(parents=True, exist_ok=True)\n",
    "df = pd.read_excel(f\"{path}/044_small_immuno_clocks_revision/figure_simage/df.xlsx\", index_col=0)\n",
    "feats = pd.read_excel(f\"{path}/044_small_immuno_clocks_revision/feats_con_top10_new.xlsx\", index_col=0).index.values\n",
    "ids_feat = list(range(len(feats)))\n",
    "target = 'Age'\n",
    "\n",
    "df_preds = pd.read_excel(f\"{path_model}/predictions.xlsx\", index_col=0)\n",
    "ids_trn = df_preds.index[df_preds['fold_0002'] == 'trn'].values\n",
    "ids_val = df_preds.index[df_preds['fold_0002'] == 'val'].values\n",
    "ids_tst = df_preds.index[df_preds['fold_0002'] == 'tst_ctrl_central'].values\n",
    "ids_all = list(set.union(set(ids_trn), set(ids_val), set(ids_tst)))\n",
    "df = df.loc[ids_all, :]\n",
    "\n",
    "df_X = df.loc[ids_all, feats]\n",
    "\n",
    "eps = np.array([0.4 * iqr(df.loc[ids_trn, feat].values) for feat in feats])\n",
    "eps_step = np.array([0.1 * iqr(df.loc[ids_trn, feat].values) for feat in feats])\n",
    "\n",
    "model = WDFTTransformerModel.load_from_checkpoint(checkpoint_path=f\"{path_model}/best_fold_0002.ckpt\")\n",
    "model.eval()\n",
    "model.freeze()\n",
    "\n",
    "def predict_func_regression(X):\n",
    "    model.produce_probabilities = True\n",
    "    batch = {\n",
    "        'all': torch.from_numpy(np.float32(X[:, ids_feat])),\n",
    "        'continuous': torch.from_numpy(np.float32(X[:, ids_feat])),\n",
    "        'categorical': torch.from_numpy(np.int32(X[:, []])),\n",
    "    }\n",
    "    tmp = model(batch)\n",
    "    return tmp.cpu().detach().numpy()\n",
    "\n",
    "art_regressor = PyTorchRegressor(\n",
    "    model=model,\n",
    "    loss=model.loss_fn,\n",
    "    input_shape=[len(feats)],\n",
    "    optimizer=torch.optim.Adam(\n",
    "        params=model.parameters(),\n",
    "        lr=model.hparams.optimizer_lr,\n",
    "        weight_decay=model.hparams.optimizer_weight_decay\n",
    "    ),\n",
    "    use_amp=False,\n",
    "    opt_level=\"O1\",\n",
    "    loss_scale=\"dynamic\",\n",
    "    channels_first=True,\n",
    "    clip_values=None,\n",
    "    preprocessing_defences=None,\n",
    "    postprocessing_defences=None,\n",
    "    preprocessing=(0.0, 1.0),\n",
    "    device_type=\"cpu\",\n",
    ")"
   ],
   "metadata": {
    "collapsed": false
   }
  },
  {
   "cell_type": "code",
   "execution_count": null,
   "outputs": [],
   "source": [
    "ids_trgt = ids_tst\n",
    "\n",
    "attack = ProjectedGradientDescent(\n",
    "    estimator=art_regressor,\n",
    "    norm=np.inf,\n",
    "    eps=eps,\n",
    "    eps_step=eps_step,\n",
    "    decay=None,\n",
    "    max_iter=100,\n",
    "    targeted=False,\n",
    "    num_random_init=0,\n",
    "    batch_size=512,\n",
    "    random_eps=False,\n",
    "    summary_writer= False,\n",
    "    verbose=True\n",
    ")\n",
    "\n",
    "X = df_X.loc[ids_trgt, :].values\n",
    "X_adv = attack.generate(np.float32(df_X.loc[ids_trgt, :].values))\n",
    "\n",
    "y_real = np.float32(df.loc[ids_trgt, target].values)\n",
    "y_pred = model(torch.from_numpy(X)).cpu().detach().numpy().ravel()\n",
    "y_pred_adv = model(torch.from_numpy(X_adv)).cpu().detach().numpy().ravel()\n",
    "\n",
    "metrics = get_reg_metrics()\n",
    "df_metrics = pd.DataFrame(index=[m for m in metrics], columns=['Origin', 'PGD'])\n",
    "for m in metrics:\n",
    "    m_val = float(metrics[m][0](torch.from_numpy(y_pred), torch.from_numpy(y_real)).numpy())\n",
    "    df_metrics.at[m, 'Origin'] = m_val\n",
    "    metrics[m][0].reset()\n",
    "    m_val = float(metrics[m][0](torch.from_numpy(y_pred_adv), torch.from_numpy(y_real)).numpy())\n",
    "    df_metrics.at[m, 'PGD'] = m_val\n",
    "    metrics[m][0].reset()\n",
    "df_metrics.to_excel(f\"{path_save}/metrics.xlsx\")"
   ],
   "metadata": {
    "collapsed": false
   }
  }
 ],
 "metadata": {
  "kernelspec": {
   "display_name": "Python 3",
   "language": "python",
   "name": "python3"
  },
  "language_info": {
   "codemirror_mode": {
    "name": "ipython",
    "version": 2
   },
   "file_extension": ".py",
   "mimetype": "text/x-python",
   "name": "python",
   "nbconvert_exporter": "python",
   "pygments_lexer": "ipython2",
   "version": "2.7.6"
  }
 },
 "nbformat": 4,
 "nbformat_minor": 0
}
