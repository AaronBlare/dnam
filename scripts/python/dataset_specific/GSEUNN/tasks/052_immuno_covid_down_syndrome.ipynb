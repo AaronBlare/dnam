{
 "cells": [
  {
   "cell_type": "markdown",
   "source": [
    "# Description\n",
    "Immuno biomarkers analysis for samples with COVID-19 in different stages and Down syndrome.\n",
    "\n",
    "## 1. Update data with COVID and DS columns. Add SImAge and IPAge values and accelerations.\n",
    "## 2. COVID-19 analysis:\n",
    "- Non-longitudinal analysis:\n",
    "    - Biomarkers and SImAge acceleration distributions in different COVID-19 groups.\n",
    "    - Correlation between biomarkers and SImAge acceleration.\n",
    "- Longitudinal analysis:\n",
    "    - Trajectories with time points.\n",
    "    - Repeated measures tests.\n",
    "## 3. Down syndrome analysis:\n",
    "- Biomarkers and SImAge acceleration distributions in different groups."
   ],
   "metadata": {
    "collapsed": false
   }
  },
  {
   "cell_type": "code",
   "execution_count": null,
   "outputs": [],
   "source": [
    "import pandas as pd\n",
    "import numpy as np\n",
    "from scipy import stats\n",
    "import seaborn as sns\n",
    "import plotly.express as px\n",
    "import statsmodels.formula.api as smf\n",
    "import plotly.graph_objects as go\n",
    "from scripts.python.routines.manifest import get_manifest\n",
    "from scripts.python.routines.plot.save import save_figure\n",
    "from scripts.python.routines.plot.layout import add_layout\n",
    "from statsmodels.stats.multitest import multipletests\n",
    "import plotly.io as pio\n",
    "pio.kaleido.scope.mathjax = None\n",
    "from plotly.offline import init_notebook_mode\n",
    "init_notebook_mode(connected=False)\n",
    "from scipy.stats import mannwhitneyu, median_test, kruskal\n",
    "import matplotlib.pyplot as plt\n",
    "import matplotlib\n",
    "import matplotlib.patheffects as path_effects\n",
    "import random\n",
    "import pathlib\n",
    "from tqdm import tqdm\n",
    "from src.utils.plot.bioinfokit import mhat, volcano\n",
    "import gseapy as gp\n",
    "import mygene\n",
    "from sklearn.decomposition import PCA, IncrementalPCA, KernelPCA, TruncatedSVD\n",
    "from sklearn.decomposition import MiniBatchDictionaryLearning, FastICA\n",
    "from sklearn.random_projection import GaussianRandomProjection, SparseRandomProjection\n",
    "from sklearn.manifold import MDS, Isomap, TSNE, LocallyLinearEmbedding\n",
    "import upsetplot\n",
    "from matplotlib_venn import venn2, venn2_circles\n",
    "from itertools import chain\n",
    "from sklearn.metrics import mean_absolute_error\n",
    "from scripts.python.routines.plot.colorscales import get_continuous_color\n",
    "import plotly\n",
    "from scripts.python.routines.plot.p_value import add_p_value_annotation\n",
    "from scripts.python.routines.sections import get_sections\n",
    "from statannotations.Annotator import Annotator\n",
    "import functools\n",
    "import matplotlib.lines as mlines\n",
    "\n",
    "\n",
    "def conjunction(conditions):\n",
    "    return functools.reduce(np.logical_and, conditions)\n",
    "\n",
    "\n",
    "def disjunction(conditions):\n",
    "    return functools.reduce(np.logical_or, conditions)"
   ],
   "metadata": {
    "collapsed": false
   }
  },
  {
   "cell_type": "markdown",
   "source": [
    "# Init data"
   ],
   "metadata": {
    "collapsed": false
   }
  },
  {
   "cell_type": "code",
   "execution_count": null,
   "outputs": [],
   "source": [
    "path = f\"D:/YandexDisk/Work/pydnameth/datasets/GPL21145/GSEUNN\"\n",
    "df = pd.read_excel(f\"{path}/data/immuno/df_samples(all_1052_121222)_proc(raw)_imp(fast_knn)_replace(quarter).xlsx\", index_col=0)\n",
    "feats = pd.read_excel(f\"{path}/data/immuno/feats_con.xlsx\", index_col=0).index.values\n",
    "path_save = f\"{path}/special/052_immuno_covid_down_syndrome\"\n",
    "pathlib.Path(f\"{path_save}\").mkdir(parents=True, exist_ok=True)"
   ],
   "metadata": {
    "collapsed": false
   }
  },
  {
   "cell_type": "markdown",
   "source": [
    "## 1. Update data with COVID and DS columns. Add SImAge and IPAge values and accelerations."
   ],
   "metadata": {
    "collapsed": false
   }
  },
  {
   "cell_type": "code",
   "execution_count": null,
   "outputs": [],
   "source": [
    "df_covid_ds = pd.read_excel(f\"{path}/data/immuno/update_COVID_DownSyndrome.xlsx\", index_col=0)\n",
    "index_diff_base_covid_ds = df.index.difference(df_covid_ds.index)\n",
    "print(f\"index_diff_base_covid_ds: {index_diff_base_covid_ds}\")\n",
    "index_diff_covid_ds_base = df_covid_ds.index.difference(df.index)\n",
    "print(f\"index_diff_covid_ds_base: {index_diff_covid_ds_base}\")\n",
    "\n",
    "cols = {\n",
    "    'COVID-19 stage': 'Сovid stage',\n",
    "    'COVID-19 sample ID': 'ID Covid',\n",
    "    'Down syndrome status': 'Relation to Down Syndrome'\n",
    "}\n",
    "for new_col, old_col in cols.items():\n",
    "    df.loc[df.index.values, new_col] = df_covid_ds.loc[df.index.values, old_col]\n",
    "\n",
    "df_simage = pd.read_excel(f\"{path}/data/immuno/update_SImAge.xlsx\", index_col=0)\n",
    "index_diff_base_simage = df.index.difference(df_simage.index)\n",
    "print(f\"index_diff_base_simage: {index_diff_base_simage}\")\n",
    "index_diff_simage_base = df_simage.index.difference(df.index)\n",
    "print(f\"index_diff_simage_base: {index_diff_simage_base}\")\n",
    "\n",
    "cols = {\n",
    "    'SImAge': 'Prediction',\n",
    "    'SImAge acceleration': 'Prediction error',\n",
    "    '|SImAge acceleration|': 'Prediction error abs'\n",
    "}\n",
    "for new_col, old_col in cols.items():\n",
    "    df.loc[df.index.values, new_col] = df_simage.loc[df.index.values, old_col]\n",
    "\n",
    "df.to_excel(f\"{path}/data/immuno/df.xlsx\", index_label='index')"
   ],
   "metadata": {
    "collapsed": false
   }
  },
  {
   "cell_type": "markdown",
   "source": [
    "## 2. COVID-19 analysis:\n",
    "- Non-longitudinal analysis:\n",
    "    - Biomarkers and SImAge acceleration distributions in different COVID-19 groups.\n",
    "    - Correlation between biomarkers and SImAge acceleration.\n",
    "- Longitudinal analysis:\n",
    "    - Trajectories with time points.\n",
    "    - Repeated measures tests."
   ],
   "metadata": {
    "collapsed": false
   }
  },
  {
   "cell_type": "markdown",
   "source": [
    "### Plot count and age distributions"
   ],
   "metadata": {
    "collapsed": false
   }
  },
  {
   "cell_type": "code",
   "execution_count": null,
   "outputs": [],
   "source": [
    "path_curr = f\"{path_save}/01_COVID19\"\n",
    "pathlib.Path(f\"{path_curr}\").mkdir(parents=True, exist_ok=True)\n",
    "\n",
    "colors = {\n",
    "    'Acute': 'crimson',\n",
    "    'Dynamics': 'gold',\n",
    "    'Reconvalescent': 'cyan',\n",
    "    'Reconvalescent after 1 year': 'lime'\n",
    "}\n",
    "\n",
    "df_covid = df.loc[df['COVID-19 stage'].isin(list(colors.keys())), :]\n",
    "df_covid.to_excel(f\"{path_curr}/df_covid.xlsx\", index_label='index')\n",
    "\n",
    "fig = plt.figure(figsize=(3, 4))\n",
    "sns.set_theme(style='whitegrid', font_scale=1)\n",
    "countplot = sns.countplot(\n",
    "    data=df_covid,\n",
    "    y='COVID-19 stage',\n",
    "    edgecolor='black',\n",
    "    palette=colors,\n",
    "    orient='v',\n",
    "    order=list(colors.keys())\n",
    ")\n",
    "countplot.bar_label(countplot.containers[0])\n",
    "countplot.set_xlabel(\"Count\")\n",
    "countplot.set_ylabel(\"\")\n",
    "countplot.set_title(f\"\")\n",
    "plt.savefig(f\"{path_curr}/countplot.png\", bbox_inches='tight', dpi=400)\n",
    "plt.savefig(f\"{path_curr}/countplot.pdf\", bbox_inches='tight')\n",
    "plt.close(fig)\n",
    "\n",
    "hist_bins = np.linspace(5, 115, 23)\n",
    "fig = plt.figure(figsize=(6, 4))\n",
    "sns.set_theme(style='whitegrid')\n",
    "histplot = sns.histplot(\n",
    "    data=df_covid,\n",
    "    hue_order=list(colors.keys())[::-1],\n",
    "    bins=hist_bins,\n",
    "    x=\"Age\",\n",
    "    hue=\"COVID-19 stage\",\n",
    "    edgecolor='black',\n",
    "    palette=colors,\n",
    "    multiple=\"stack\"\n",
    ")\n",
    "sns.move_legend(\n",
    "    histplot, \"lower center\",\n",
    "    bbox_to_anchor=(.5, 1), ncol=4, title=\"COVID-19 stage\", frameon=True,\n",
    ")\n",
    "plt.setp(histplot.get_legend().get_texts(), fontsize='7') # for legend text\n",
    "plt.setp(histplot.get_legend().get_title(), fontsize='10')\n",
    "plt.savefig(f\"{path_curr}/histplot.png\", bbox_inches='tight', dpi=400)\n",
    "plt.savefig(f\"{path_curr}/histplot.pdf\", bbox_inches='tight')\n",
    "plt.close(fig)\n",
    "\n",
    "df_rep_meas = df_covid['COVID-19 sample ID'].value_counts().to_frame()\n",
    "df_rep_meas.rename(columns={'COVID-19 sample ID': 'Time points'}, inplace=True)\n",
    "df_rep_meas.to_excel(f\"{path_curr}/df_rep_meas.xlsx\", index_label='index')\n",
    "\n",
    "samples_mtp = df_rep_meas.index[df_rep_meas['Time points'] != 1].values # 'mtp' means multiple time points\n",
    "df_covid_rep_meas = df_covid.loc[df_covid['COVID-19 sample ID'].isin(samples_mtp), :]\n",
    "df_covid_rep_meas.to_excel(f\"{path_curr}/df_covid_rep_meas.xlsx\", index_label='index')\n",
    "\n",
    "fig = plt.figure(figsize=(3, 4))\n",
    "sns.set_theme(style='whitegrid', font_scale=1)\n",
    "countplot = sns.countplot(\n",
    "    data=df_rep_meas,\n",
    "    y='Time points',\n",
    "    edgecolor='black',\n",
    "    orient='v',\n",
    ")\n",
    "countplot.bar_label(countplot.containers[0])\n",
    "countplot.set_xlabel(\"Count\")\n",
    "countplot.set_ylabel(\"\")\n",
    "countplot.set_title(f\"\")\n",
    "plt.savefig(f\"{path_curr}/rep_meas.png\", bbox_inches='tight', dpi=400)\n",
    "plt.savefig(f\"{path_curr}/rep_meas.pdf\", bbox_inches='tight')\n",
    "plt.close(fig)"
   ],
   "metadata": {
    "collapsed": false
   }
  },
  {
   "cell_type": "markdown",
   "source": [
    "### Non-longitudinal analysis: Statistical tests for immunology biomarkers and age accelerations"
   ],
   "metadata": {
    "collapsed": false
   }
  },
  {
   "cell_type": "code",
   "execution_count": null,
   "outputs": [],
   "source": [
    "path_curr = f\"{path_save}/01_COVID19/non_longitudinal\"\n",
    "pathlib.Path(f\"{path_curr}/feats\").mkdir(parents=True, exist_ok=True)\n",
    "\n",
    "df_stat = pd.DataFrame(index=list(feats))\n",
    "\n",
    "for feat in feats:\n",
    "    vals = {}\n",
    "    for group in colors.keys():\n",
    "        vals[group] = df_covid.loc[df_covid['COVID-19 stage'] == group, feat].values\n",
    "        df_stat.at[feat, f\"mean_{group}\"] = np.mean(vals[group])\n",
    "        df_stat.at[feat, f\"median_{group}\"] = np.median(vals[group])\n",
    "        df_stat.at[feat, f\"q75_{group}\"], df_stat.at[feat, f\"q25_{group}\"] = np.percentile(vals[group], [75 , 25])\n",
    "        df_stat.at[feat, f\"iqr_{group}\"] = df_stat.at[feat, f\"q75_{group}\"] - df_stat.at[feat, f\"q25_{group}\"]\n",
    "    _, df_stat.at[feat, \"kw_pval\"] = kruskal(*vals.values())\n",
    "    _, df_stat.at[feat, \"mw_01_pval\"] = mannwhitneyu(vals['Acute'], vals['Dynamics'], alternative='two-sided')\n",
    "    _, df_stat.at[feat, \"mw_12_pval\"] = mannwhitneyu(vals['Dynamics'], vals['Reconvalescent'], alternative='two-sided')\n",
    "    _, df_stat.at[feat, \"mw_23_pval\"] = mannwhitneyu(vals['Reconvalescent'], vals['Reconvalescent after 1 year'], alternative='two-sided')\n",
    "    _, df_stat.at[feat, \"mw_03_pval\"] = mannwhitneyu(vals['Acute'], vals['Reconvalescent after 1 year'], alternative='two-sided')\n",
    "\n",
    "_, df_stat[\"kw_pval_fdr_bh\"], _, _ = multipletests(df_stat[\"kw_pval\"], 0.05, method='fdr_bh')\n",
    "_, df_stat[\"mw_01_pval_fdr_bh\"], _, _ = multipletests(df_stat[\"mw_01_pval\"], 0.05, method='fdr_bh')\n",
    "_, df_stat[\"mw_12_pval_fdr_bh\"], _, _ = multipletests(df_stat[\"mw_12_pval\"], 0.05, method='fdr_bh')\n",
    "_, df_stat[\"mw_23_pval_fdr_bh\"], _, _ = multipletests(df_stat[\"mw_23_pval\"], 0.05, method='fdr_bh')\n",
    "_, df_stat[\"mw_03_pval_fdr_bh\"], _, _ = multipletests(df_stat[\"mw_03_pval\"], 0.05, method='fdr_bh')\n",
    "\n",
    "df_stat.sort_values([f\"kw_pval_fdr_bh\"], ascending=[True], inplace=True)\n",
    "\n",
    "vals = {}\n",
    "for group in colors.keys():\n",
    "    vals[group] = df_covid.loc[df_covid['COVID-19 stage'] == group, 'SImAge acceleration'].values\n",
    "    df_stat.at['SImAge acceleration', f\"mean_{group}\"] = np.mean(vals[group])\n",
    "    df_stat.at['SImAge acceleration', f\"median_{group}\"] = np.median(vals[group])\n",
    "    df_stat.at['SImAge acceleration', f\"q75_{group}\"], df_stat.at['SImAge acceleration', f\"q25_{group}\"] = np.percentile(vals[group], [75 , 25])\n",
    "    df_stat.at['SImAge acceleration', f\"iqr_{group}\"] = df_stat.at['SImAge acceleration', f\"q75_{group}\"] - df_stat.at['SImAge acceleration', f\"q25_{group}\"]\n",
    "_, df_stat.at['SImAge acceleration', \"kw_pval\"] = kruskal(*vals.values())\n",
    "_, df_stat.at['SImAge acceleration', \"mw_01_pval\"] = mannwhitneyu(vals['Acute'], vals['Dynamics'], alternative='two-sided')\n",
    "_, df_stat.at['SImAge acceleration', \"mw_12_pval\"] = mannwhitneyu(vals['Dynamics'], vals['Reconvalescent'], alternative='two-sided')\n",
    "_, df_stat.at['SImAge acceleration', \"mw_23_pval\"] = mannwhitneyu(vals['Reconvalescent'], vals['Reconvalescent after 1 year'], alternative='two-sided')\n",
    "_, df_stat.at['SImAge acceleration', \"mw_03_pval\"] = mannwhitneyu(vals['Acute'], vals['Reconvalescent after 1 year'], alternative='two-sided')\n",
    "\n",
    "df_stat.to_excel(f\"{path_curr}/stat.xlsx\", index_label='Features')\n",
    "\n",
    "for feat_id, (feat, row) in enumerate(df_stat.iterrows()):\n",
    "    plt.figure(figsize=(8, 4))\n",
    "    sns.set_theme(style='whitegrid')\n",
    "    violin = sns.violinplot(\n",
    "        data=df_covid,\n",
    "        x='COVID-19 stage',\n",
    "        y=feat,\n",
    "        palette=colors,\n",
    "        scale='width',\n",
    "        order=list(colors.keys()),\n",
    "        saturation=0.75,\n",
    "    )\n",
    "    violin.set_ylabel(feat)\n",
    "    if feat != 'SImAge acceleration':\n",
    "        violin.set_xlabel(f\"Kruskal-Wallis p-value: {row['kw_pval_fdr_bh']:.2e}\")\n",
    "        mw_01_pval = row[\"mw_01_pval_fdr_bh\"]\n",
    "        mw_12_pval = row[\"mw_12_pval_fdr_bh\"]\n",
    "        mw_23_pval = row[\"mw_23_pval_fdr_bh\"]\n",
    "        mw_03_pval = row[\"mw_03_pval_fdr_bh\"]\n",
    "    else:\n",
    "        violin.set_xlabel(f\"Kruskal-Wallis p-value: {row['kw_pval']:.2e}\")\n",
    "        mw_01_pval = row[\"mw_01_pval\"]\n",
    "        mw_12_pval = row[\"mw_12_pval\"]\n",
    "        mw_23_pval = row[\"mw_23_pval\"]\n",
    "        mw_03_pval = row[\"mw_03_pval\"]\n",
    "\n",
    "    pval_formatted = [f'{mw_01_pval:.2e}', f'{mw_12_pval:.2e}', f'{mw_23_pval:.2e}', f'{mw_03_pval:.2e}']\n",
    "    annotator = Annotator(\n",
    "        violin,\n",
    "        pairs=[('Acute', 'Dynamics'), ('Dynamics', 'Reconvalescent'), ('Reconvalescent', 'Reconvalescent after 1 year'), ('Acute', 'Reconvalescent after 1 year')],\n",
    "        data=df,\n",
    "        x='COVID-19 stage',\n",
    "        y=feat,\n",
    "        order=list(colors.keys())\n",
    "    )\n",
    "    annotator.set_custom_annotations(pval_formatted)\n",
    "    annotator.configure(loc='outside')\n",
    "    annotator.annotate()\n",
    "    if feat != 'SImAge acceleration':\n",
    "        plt.savefig(f\"{path_curr}/feats/{feat_id}_{feat}.png\", bbox_inches='tight', dpi=400)\n",
    "        plt.savefig(f\"{path_curr}/feats/{feat_id}_{feat}.pdf\", bbox_inches='tight')\n",
    "    else:\n",
    "        plt.savefig(f\"{path_curr}/{feat}.png\", bbox_inches='tight', dpi=400)\n",
    "        plt.savefig(f\"{path_curr}/{feat}.pdf\", bbox_inches='tight')\n",
    "    plt.close()"
   ],
   "metadata": {
    "collapsed": false
   }
  }
 ],
 "metadata": {
  "kernelspec": {
   "name": "python3",
   "language": "python",
   "display_name": "Python 3 (ipykernel)"
  },
  "language_info": {
   "codemirror_mode": {
    "name": "ipython",
    "version": 2
   },
   "file_extension": ".py",
   "mimetype": "text/x-python",
   "name": "python",
   "nbconvert_exporter": "python",
   "pygments_lexer": "ipython2",
   "version": "2.7.6"
  }
 },
 "nbformat": 4,
 "nbformat_minor": 0
}
