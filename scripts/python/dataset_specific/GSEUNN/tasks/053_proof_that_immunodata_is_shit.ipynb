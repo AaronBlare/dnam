{
 "cells": [
  {
   "cell_type": "markdown",
   "source": [
    "# Description\n"
   ],
   "metadata": {
    "collapsed": false
   }
  },
  {
   "cell_type": "code",
   "execution_count": null,
   "outputs": [],
   "source": [
    "import pandas as pd\n",
    "import numpy as np\n",
    "from scipy import stats\n",
    "import seaborn as sns\n",
    "import plotly.express as px\n",
    "import statsmodels.formula.api as smf\n",
    "import plotly.graph_objects as go\n",
    "from scripts.python.routines.manifest import get_manifest\n",
    "from scripts.python.routines.plot.save import save_figure\n",
    "from scripts.python.routines.plot.layout import add_layout\n",
    "from statsmodels.stats.multitest import multipletests\n",
    "import plotly.io as pio\n",
    "pio.kaleido.scope.mathjax = None\n",
    "from plotly.offline import init_notebook_mode\n",
    "init_notebook_mode(connected=False)\n",
    "from scipy.stats import mannwhitneyu, median_test, kruskal, wilcoxon, friedmanchisquare\n",
    "import matplotlib.pyplot as plt\n",
    "import matplotlib\n",
    "import matplotlib.patheffects as path_effects\n",
    "import random\n",
    "import pathlib\n",
    "from tqdm import tqdm\n",
    "from src.utils.plot.bioinfokit import mhat, volcano\n",
    "import gseapy as gp\n",
    "import mygene\n",
    "from sklearn.decomposition import PCA, IncrementalPCA, KernelPCA, TruncatedSVD\n",
    "from sklearn.decomposition import MiniBatchDictionaryLearning, FastICA\n",
    "from sklearn.random_projection import GaussianRandomProjection, SparseRandomProjection\n",
    "from sklearn.manifold import MDS, Isomap, TSNE, LocallyLinearEmbedding\n",
    "import upsetplot\n",
    "from matplotlib_venn import venn2, venn2_circles\n",
    "from itertools import chain\n",
    "from sklearn.metrics import mean_absolute_error\n",
    "from scripts.python.routines.plot.colorscales import get_continuous_color\n",
    "import plotly\n",
    "from scripts.python.routines.plot.p_value import add_p_value_annotation\n",
    "from scripts.python.routines.sections import get_sections\n",
    "from statannotations.Annotator import Annotator\n",
    "import functools\n",
    "import matplotlib.lines as mlines\n",
    "import patchworklib as pw\n",
    "\n",
    "\n",
    "def conjunction(conditions):\n",
    "    return functools.reduce(np.logical_and, conditions)\n",
    "\n",
    "\n",
    "def disjunction(conditions):\n",
    "    return functools.reduce(np.logical_or, conditions)"
   ],
   "metadata": {
    "collapsed": false
   }
  },
  {
   "cell_type": "markdown",
   "source": [
    "# 1. Prepare data"
   ],
   "metadata": {
    "collapsed": false
   }
  },
  {
   "cell_type": "markdown",
   "source": [
    "## 1.1 Load basic data"
   ],
   "metadata": {
    "collapsed": false
   }
  },
  {
   "cell_type": "code",
   "execution_count": null,
   "outputs": [],
   "source": [
    "path = f\"D:/YandexDisk/Work/pydnameth/datasets/GPL21145/GSEUNN\"\n",
    "df = pd.read_excel(f\"{path}/data/immuno/df_samples(all_1052_121222)_proc(raw)_imp(fast_knn)_replace(quarter).xlsx\", index_col=0)\n",
    "df.index = df.index.map(str)\n",
    "feats = pd.read_excel(f\"{path}/data/immuno/feats_con.xlsx\", index_col=0).index.values\n",
    "path_save = f\"{path}/special/053_proof_that_immunodata_is_shit\"\n",
    "pathlib.Path(f\"{path_save}\").mkdir(parents=True, exist_ok=True)"
   ],
   "metadata": {
    "collapsed": false
   }
  },
  {
   "cell_type": "markdown",
   "source": [
    "## 1.2 Get data with nans"
   ],
   "metadata": {
    "collapsed": false
   }
  },
  {
   "cell_type": "code",
   "execution_count": null,
   "outputs": [],
   "source": [
    "files = [\n",
    "    \"Aging L, Q, H, I\",\n",
    "    \"Aging-Covid_05.01.2022\",\n",
    "    \"Aging-Covid-05.05.22\",\n",
    "    \"Covid_results_02_2021\",\n",
    "    \"Covid-25.11.20\",\n",
    "    \"MULTIPLEX_20_11_2020_ AGING\",\n",
    "    \"Yakutiya + TR\",\n",
    "    \"Мультиплекс_Agind&Covid\",\n",
    "]\n",
    "df_immuno_genes = pd.read_excel(f\"{path}/data/immuno/immuno_markers_genes.xlsx\")\n",
    "dict_immuno_genes = dict(zip(df_immuno_genes['immuno_marker'], df_immuno_genes['gene']))\n",
    "\n",
    "dfs_files = []\n",
    "for file in files:\n",
    "    df_file = pd.read_excel(f\"{path}/data/immuno/files/processed/{file}.xlsx\", index_col=\"Sample\")\n",
    "    df_file.rename(columns=dict_immuno_genes, inplace=True)\n",
    "    df_file = df_file.loc[:, feats]\n",
    "\n",
    "    # duplicates processing\n",
    "    if file == \"MULTIPLEX_20_11_2020_ AGING\":\n",
    "        df_file_doubled_unique = df_file.loc[~df_file.index.duplicated(keep=False), :]\n",
    "        df_file_doubled_1 = df_file.loc[df_file.index.duplicated(keep='first'), :]\n",
    "        df_file_doubled_2 = df_file.loc[df_file.index.duplicated(keep='last'), :]\n",
    "        df_file_duplicates_final = pd.concat([df_file_doubled_2, df_file_doubled_unique], axis=0)\n",
    "        df_file = df_file_duplicates_final\n",
    "    df_file_duplicates = df_file.loc[df_file.index.duplicated(keep=False), :]\n",
    "    if df_file_duplicates.shape[0] > 0:\n",
    "        print(df_file_duplicates.index)\n",
    "\n",
    "    df_file.replace(r'^([<>].*)$', 'NaN', inplace=True, regex=True)\n",
    "    df_file = df_file.apply(pd.to_numeric, errors='coerce')\n",
    "    dfs_files.append(df_file)\n",
    "\n",
    "df_w_nans = pd.concat(dfs_files, verify_integrity=False)\n",
    "df_w_nans.index = df_w_nans.index.map(str)\n",
    "df_w_nans = df_w_nans.loc[df.index.values, :]\n",
    "df_w_nans.to_excel(f\"{path_save}/df_w_nans.xlsx\", index_label=\"Index\")\n",
    "\n",
    "# Checking values\n",
    "df_diff = df.loc[df.index.values, feats] - df_w_nans.loc[df.index.values, feats]\n",
    "df_diff = df_diff.fillna(0.0)\n",
    "max_diff = df_diff.values.max()\n",
    "print(f\"max_diff: {max_diff}\")"
   ],
   "metadata": {
    "collapsed": false
   }
  },
  {
   "cell_type": "markdown",
   "source": [
    "## 1.3 Problem definitions"
   ],
   "metadata": {
    "collapsed": false
   }
  },
  {
   "cell_type": "code",
   "execution_count": null,
   "outputs": [],
   "source": [
    "subsets = {\n",
    "    'All Samples': {\n",
    "        'color': 'black',\n",
    "        'samples': df.index.values,\n",
    "        'path': 'All'\n",
    "    },\n",
    "    \"File Aging L, Q, H, I\": {\n",
    "        'color': px.colors.qualitative.Plotly[0],\n",
    "        'samples': df.index[df['file'] == \"Aging L, Q, H, I\"].values,\n",
    "        'path': 'Files/Aging L, Q, H, I'\n",
    "    },\n",
    "    \"File Aging-Covid_05.01.2022\": {\n",
    "        'color': px.colors.qualitative.Plotly[1],\n",
    "        'samples': df.index[df['file'] == \"Aging-Covid_05.01.2022\"].values,\n",
    "        'path': 'Files/Aging-Covid_05.01.2022'\n",
    "    },\n",
    "    \"File Aging-Covid-05.05.22\": {\n",
    "        'color': px.colors.qualitative.Plotly[2],\n",
    "        'samples': df.index[df['file'] == \"Aging-Covid-05.05.22\"].values,\n",
    "        'path': 'Files/Aging-Covid-05.05.22'\n",
    "    },\n",
    "    \"File Covid_results_02_2021\": {\n",
    "        'color': px.colors.qualitative.Plotly[3],\n",
    "        'samples': df.index[df['file'] == \"Covid_results_02_2021\"].values,\n",
    "        'path': 'Files/Covid_results_02_2021'\n",
    "    },\n",
    "    \"File Covid-25.11.20\": {\n",
    "        'color': px.colors.qualitative.Plotly[4],\n",
    "        'samples': df.index[df['file'] == \"Covid-25.11.20\"].values,\n",
    "        'path': 'Files/Covid-25.11.20'\n",
    "    },\n",
    "    \"File MULTIPLEX_20_11_2020_ AGING\": {\n",
    "        'color': px.colors.qualitative.Plotly[5],\n",
    "        'samples': df.index[df['file'] == \"MULTIPLEX_20_11_2020_ AGING\"].values,\n",
    "        'path': 'Files/MULTIPLEX_20_11_2020_ AGING'\n",
    "    },\n",
    "    \"File Yakutiya + TR\": {\n",
    "        'color': px.colors.qualitative.Plotly[6],\n",
    "        'samples': df.index[df['file'] == \"Yakutiya + TR\"].values,\n",
    "        'path': 'Files/Yakutiya + TR'\n",
    "    },\n",
    "    \"File Мультиплекс_Agind&Covid\": {\n",
    "        'color': px.colors.qualitative.Plotly[7],\n",
    "        'samples': df.index[df['file'] == \"Мультиплекс_Agind&Covid\"].values,\n",
    "        'path': 'Files/Мультиплекс_Agind&Covid'\n",
    "    },\n",
    "    \"Controls\": {\n",
    "        'color': 'lawngreen',\n",
    "        'samples': df.index[(df['Status'] == \"Control\") | (df['COVID-19 stage'] == \"Reconvalescent\") ].values,\n",
    "        'path': 'Status/Controls'\n",
    "    },\n",
    "    \"СOVID-19 Acute and Dynamics\": {\n",
    "        'color': 'crimson',\n",
    "        'samples': df.index[df['COVID-19 stage'].isin(['Acute', 'Dynamics'])].values,\n",
    "        'path': 'Status/COVID-19'\n",
    "    },\n",
    "    \"Down Syndrome\": {\n",
    "        'color': 'darkorchid',\n",
    "        'samples': df.index[df['Down syndrome status'].isin(['Down Syndrome'])].values,\n",
    "        'path': 'Status/DownSyndrome'\n",
    "    },\n",
    "    \"ESRD\": {\n",
    "        'color': 'saddlebrown',\n",
    "        'samples': df.index[df['Status'].isin(['ESRD'])].values,\n",
    "        'path': 'Status/ESRD'\n",
    "    },\n",
    "}"
   ],
   "metadata": {
    "collapsed": false
   }
  },
  {
   "cell_type": "markdown",
   "source": [
    "# 2. NaN analysis"
   ],
   "metadata": {
    "collapsed": false
   }
  },
  {
   "cell_type": "code",
   "execution_count": null,
   "outputs": [],
   "source": [
    "for subset_name, subset in subsets.items():\n",
    "\n",
    "    path_curr = f\"{path_save}/02_nan_analysis/{subset['path']}\"\n",
    "    pathlib.Path(f\"{path_curr}\").mkdir(parents=True, exist_ok=True)\n",
    "\n",
    "    df_nan = df_w_nans.loc[subset['samples'], feats].isna().sum(axis=0).to_frame(name=\"Number of NaNs\")\n",
    "    df_nan[\"% of NaNs\"] = df_nan[\"Number of NaNs\"] / df.shape[0] * 100\n",
    "    df_nan[\"Number of not-NaNs\"] = df_w_nans.loc[subset['samples'], feats].notna().sum(axis=0)\n",
    "    df_nan['Color'] = 'white'\n",
    "    df_nan.loc[df_nan[\"% of NaNs\"] < 10, 'Color'] = subset['color']\n",
    "    df_nan.sort_values([\"% of NaNs\"], ascending=[False], inplace=True)\n",
    "    df_nan.to_excel(f\"{path_curr}/df_nan.xlsx\", index_label=\"Features\")\n",
    "\n",
    "    plt.figure(figsize=(14, 4))\n",
    "    plt.xticks(rotation=90)\n",
    "    sns.set_theme(style='whitegrid')\n",
    "    barplot = sns.barplot(\n",
    "        data=df_nan,\n",
    "        x=df_nan.index,\n",
    "        y=f\"% of NaNs\",\n",
    "        edgecolor='black',\n",
    "        palette=df_nan['Color'].values,\n",
    "        dodge=False\n",
    "    )\n",
    "    barplot.set_title(subset_name)\n",
    "    plt.savefig(f\"{path_curr}/barplot.png\", bbox_inches='tight', dpi=200)\n",
    "    plt.savefig(f\"{path_curr}/barplot.pdf\", bbox_inches='tight')\n",
    "    plt.close()"
   ],
   "metadata": {
    "collapsed": false
   }
  }
 ],
 "metadata": {
  "kernelspec": {
   "name": "python3",
   "language": "python",
   "display_name": "Python 3 (ipykernel)"
  },
  "language_info": {
   "codemirror_mode": {
    "name": "ipython",
    "version": 2
   },
   "file_extension": ".py",
   "mimetype": "text/x-python",
   "name": "python",
   "nbconvert_exporter": "python",
   "pygments_lexer": "ipython2",
   "version": "2.7.6"
  }
 },
 "nbformat": 4,
 "nbformat_minor": 0
}
