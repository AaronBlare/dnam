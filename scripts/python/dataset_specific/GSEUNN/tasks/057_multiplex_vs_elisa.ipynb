{
 "cells": [
  {
   "cell_type": "code",
   "execution_count": null,
   "outputs": [],
   "source": [
    "%load_ext autoreload\n",
    "%autoreload 2"
   ],
   "metadata": {
    "collapsed": false
   }
  },
  {
   "cell_type": "code",
   "execution_count": null,
   "outputs": [],
   "source": [
    "import pandas as pd\n",
    "from omegaconf import OmegaConf\n",
    "from glob import glob\n",
    "import os"
   ],
   "metadata": {
    "collapsed": false
   }
  },
  {
   "cell_type": "markdown",
   "source": [
    "# Get data and limits, Count samples"
   ],
   "metadata": {
    "collapsed": false
   }
  },
  {
   "cell_type": "code",
   "execution_count": null,
   "outputs": [],
   "source": [
    "path = \"D:/YandexDisk/Work/pydnameth/datasets/GPL21145/GSEUNN\"\n",
    "path_save = f\"{path}/special/057_multiplex_vs_elisa\"\n",
    "path_data = f\"{path}/data/immuno/models/SImAge\"\n",
    "df = pd.read_excel(f\"{path_data}/data.xlsx\", index_col=0)\n",
    "df_ctrl = df.loc[df['Status'] == \"Control\", :]\n",
    "df_lims = pd.read_excel(f\"{path_save}/lims.xlsx\", index_col=0)\n",
    "\n",
    "df_passed = pd.DataFrame(index=df_lims.index, columns=['Passed'])\n",
    "for feat in df_lims.index:\n",
    "    df_passed.at[feat, 'Passed'] = df_ctrl[(df_ctrl[feat] >= df_lims.at[feat, 'low']) & (df_ctrl[feat] <= df_lims.at[feat, 'high'])].shape[0]\n",
    "df_passed.to_excel(f\"{path_save}/lims.xlsx\", index_label=\"Feature\")"
   ],
   "metadata": {
    "collapsed": false
   }
  },
  {
   "cell_type": "markdown",
   "source": [
    "# Collect ML results"
   ],
   "metadata": {
    "collapsed": false
   }
  },
  {
   "cell_type": "code",
   "execution_count": null,
   "outputs": [],
   "source": [
    "model = 'widedeep_ft_transformer_trn_val_tst'\n",
    "\n",
    "path_runs = f\"{path_save}/multiplex/models/{model}/multiruns\"\n",
    "\n",
    "files = glob(f\"{path_runs}/*/*/metrics_all_best_*.xlsx\")\n",
    "\n",
    "df_tmp = pd.read_excel(files[0], index_col=\"metric\")\n",
    "head, tail = os.path.split(files[0])\n",
    "cfg = OmegaConf.load(f\"{head}/.hydra/overrides.yaml\")\n",
    "params = []\n",
    "for param_pair in cfg:\n",
    "    param, val = param_pair.split('=')\n",
    "    params.append(param)\n",
    "df_res = pd.DataFrame(index=files)\n",
    "\n",
    "for file in files:\n",
    "\n",
    "    head, tail = os.path.split(file)\n",
    "\n",
    "    # Metrics\n",
    "    df_metrics = pd.read_excel(file, index_col=\"metric\")\n",
    "    for metric in df_metrics.index.values:\n",
    "        df_res.at[file, metric + \"_val\"] = df_metrics.at[metric, \"val\"]\n",
    "        df_res.at[file, metric + \"_trn\"] = df_metrics.at[metric, \"trn\"]\n",
    "        df_res.at[file, metric + \"_tst_ctrl\"] = df_metrics.at[metric, \"tst_ctrl\"]\n",
    "        df_res.at[file, metric + \"_tst_esrd\"] = df_metrics.at[metric, \"tst_esrd\"]\n",
    "        df_res.at[file, metric + \"_trn_val\"] = df_metrics.at[metric, \"trn_val\"]\n",
    "        df_res.at[file, metric + \"_val_tst_ctrl\"] = df_metrics.at[metric, \"val_tst_ctrl\"]\n",
    "        df_res.at[file, metric + \"_trn_val_tst_ctrl\"] = df_metrics.at[metric, \"trn_val_tst_ctrl\"]\n",
    "\n",
    "    # Params\n",
    "    cfg = OmegaConf.load(f\"{head}/.hydra/overrides.yaml\")\n",
    "    for param_pair in cfg:\n",
    "        param, val = param_pair.split('=')\n",
    "        df_res.at[file, param] = val\n",
    "\n",
    "df_res[\"train_more_val\"] = False\n",
    "df_res[\"selected\"] = False\n",
    "df_res.loc[df_res[\"mean_absolute_error_trn\"] > df_res[\"mean_absolute_error_val\"], \"train_more_val\"] = True\n",
    "\n",
    "first_columns = [\n",
    "    'selected',\n",
    "    'train_more_val',\n",
    "    'mean_absolute_error_trn',\n",
    "    'mean_absolute_error_val',\n",
    "    'mean_absolute_error_tst_ctrl',\n",
    "    'mean_absolute_error_val_tst_ctrl',\n",
    "    'mean_absolute_error_trn_val_tst_ctrl',\n",
    "    'pearson_corr_coef_trn',\n",
    "    'pearson_corr_coef_val',\n",
    "    'pearson_corr_coef_tst_ctrl',\n",
    "    'pearson_corr_coef_val_tst_ctrl',\n",
    "    'pearson_corr_coef_trn_val_tst_ctrl',\n",
    "    'mean_absolute_error_cv_mean_trn',\n",
    "    'mean_absolute_error_cv_std_trn',\n",
    "    'mean_absolute_error_cv_mean_val',\n",
    "    'mean_absolute_error_cv_std_val',\n",
    "    'pearson_corr_coef_cv_mean_trn',\n",
    "    'pearson_corr_coef_cv_std_trn',\n",
    "    'pearson_corr_coef_cv_mean_val',\n",
    "    'pearson_corr_coef_cv_std_val',\n",
    "]\n",
    "df_res = df_res[first_columns + [col for col in df_res.columns if col not in first_columns]]\n",
    "df_res.to_excel(f\"{path_runs}/summary.xlsx\", index=True, index_label=\"file\")"
   ],
   "metadata": {
    "collapsed": false
   }
  }
 ],
 "metadata": {
  "kernelspec": {
   "name": "python3",
   "language": "python",
   "display_name": "Python 3 (ipykernel)"
  },
  "language_info": {
   "codemirror_mode": {
    "name": "ipython",
    "version": 2
   },
   "file_extension": ".py",
   "mimetype": "text/x-python",
   "name": "python",
   "nbconvert_exporter": "python",
   "pygments_lexer": "ipython2",
   "version": "2.7.6"
  }
 },
 "nbformat": 4,
 "nbformat_minor": 0
}
