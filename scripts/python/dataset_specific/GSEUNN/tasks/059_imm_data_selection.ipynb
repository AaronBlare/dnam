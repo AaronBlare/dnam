{
 "cells": [
  {
   "cell_type": "markdown",
   "source": [
    "# Debugging autoreload"
   ],
   "metadata": {
    "collapsed": false
   }
  },
  {
   "cell_type": "code",
   "outputs": [],
   "source": [
    "%load_ext autoreload\n",
    "%autoreload 2"
   ],
   "metadata": {
    "collapsed": false
   }
  },
  {
   "cell_type": "markdown",
   "source": [
    "# Load packages"
   ],
   "metadata": {
    "collapsed": false
   }
  },
  {
   "cell_type": "code",
   "execution_count": null,
   "outputs": [],
   "source": [
    "import pandas as pd\n",
    "import numpy as np\n",
    "from scipy import stats\n",
    "import seaborn as sns\n",
    "import plotly.express as px\n",
    "import statsmodels.formula.api as smf\n",
    "import plotly.graph_objects as go\n",
    "from scripts.python.routines.manifest import get_manifest\n",
    "from scripts.python.routines.plot.save import save_figure\n",
    "from scripts.python.routines.plot.layout import add_layout\n",
    "from statsmodels.stats.multitest import multipletests\n",
    "import plotly.io as pio\n",
    "pio.kaleido.scope.mathjax = None\n",
    "from plotly.offline import init_notebook_mode\n",
    "init_notebook_mode(connected=False)\n",
    "from scipy.stats import mannwhitneyu, median_test, kruskal, wilcoxon, friedmanchisquare\n",
    "import matplotlib.pyplot as plt\n",
    "import matplotlib\n",
    "import matplotlib.patheffects as path_effects\n",
    "import random\n",
    "import pathlib\n",
    "from tqdm import tqdm\n",
    "from src.utils.plot.bioinfokit import mhat, volcano\n",
    "import gseapy as gp\n",
    "import mygene\n",
    "from sklearn.decomposition import PCA, IncrementalPCA, KernelPCA, TruncatedSVD\n",
    "from sklearn.decomposition import MiniBatchDictionaryLearning, FastICA\n",
    "from sklearn.random_projection import GaussianRandomProjection, SparseRandomProjection\n",
    "from sklearn.manifold import MDS, Isomap, TSNE, LocallyLinearEmbedding\n",
    "import upsetplot\n",
    "from matplotlib_venn import venn2, venn2_circles\n",
    "from itertools import chain\n",
    "from sklearn.metrics import mean_absolute_error\n",
    "from scripts.python.routines.plot.colorscales import get_continuous_color\n",
    "from impyute.imputation.cs import fast_knn\n",
    "import plotly\n",
    "from scripts.python.routines.plot.p_value import add_p_value_annotation\n",
    "from scripts.python.routines.sections import get_sections\n",
    "from statannotations.Annotator import Annotator\n",
    "import functools\n",
    "import matplotlib.lines as mlines\n",
    "import patchworklib as pw\n",
    "\n",
    "\n",
    "def conjunction(conditions):\n",
    "    return functools.reduce(np.logical_and, conditions)\n",
    "\n",
    "\n",
    "def disjunction(conditions):\n",
    "    return functools.reduce(np.logical_or, conditions)"
   ],
   "metadata": {
    "collapsed": false
   }
  },
  {
   "cell_type": "markdown",
   "source": [
    "# Load data"
   ],
   "metadata": {
    "collapsed": false
   }
  },
  {
   "cell_type": "code",
   "execution_count": null,
   "outputs": [],
   "source": [
    "path = f\"D:/YandexDisk/Work/pydnameth/datasets/GPL21145/GSEUNN\"\n",
    "df_imm = pd.read_excel(f\"{path}/data/immuno/df_samples(all_1052_121222)_proc(raw)_imp(fast_knn)_replace(quarter).xlsx\", index_col=0)\n",
    "feats_imm = pd.read_excel(f\"{path}/data/immuno/feats_con.xlsx\", index_col=0).index.values\n",
    "df_ld_imm = df_imm['Subject ID'].value_counts().to_frame()\n",
    "df_imm['Is longitudinal?'] = False\n",
    "df_imm.loc[df_imm['Subject ID'].isin(df_ld_imm.index[df_ld_imm['Subject ID'] > 1].values), 'Is longitudinal?'] = True\n",
    "df_imm = df_imm.loc[(df_imm['Status'] == 'Control'), :]\n",
    "df_imm.rename(columns={'Sample_Chronology': 'Time'}, inplace=True)\n",
    "df_imm['Time'].replace({0: 'T0', 1: 'T1', 2: 'T2', 3: 'T3'}, inplace=True)\n",
    "df_imm_ppr = pd.read_excel(f\"{path}/data/immuno/models/SImAge/data.xlsx\", index_col=\"sample_id\")\n",
    "ids_imm_ppr = df_imm_ppr.index[df_imm_ppr['Status'] == 'Control'].values\n",
    "feats_imm_ppr = pd.read_excel(f\"{path}/data/immuno/models/SImAge/feats_con_top10.xlsx\", index_col=0).index.values\n",
    "\n",
    "epi_suffix = \"_harm\"\n",
    "df_epi = pd.read_excel(f\"{path}/pheno.xlsx\", index_col=\"index\")\n",
    "df_epi.index.name = \"index\"\n",
    "df_epi.drop([\"I64_old\", \"I1_duplicate\"], inplace=True)\n",
    "df_epi.rename(columns={'Subject_ID': 'Subject ID'}, inplace=True)\n",
    "df_ld_epi = df_epi['Subject ID'].value_counts().to_frame()\n",
    "df_epi['Is longitudinal?'] = False\n",
    "df_epi.loc[df_epi['Subject ID'].isin(df_ld_epi.index[df_ld_epi['Subject ID'] > 1].values), 'Is longitudinal?'] = True\n",
    "df_epi = df_epi.loc[(df_epi['Status'] == 'Control'), :]\n",
    "df_epi.rename(columns={'Sample_Chronology': 'Time'}, inplace=True)\n",
    "df_epi['Time'].replace({0: 'T0', 1: 'T1', 2: 'T2', 3: 'T3'}, inplace=True)\n",
    "ids_epi_ppr = pd.read_excel(f\"{path}/data/GSE234461/samples.xlsx\", index_col=0).index.values\n",
    "\n",
    "path_save = f\"{path}/special/059_imm_data_selection\"\n",
    "pathlib.Path(f\"{path_save}\").mkdir(parents=True, exist_ok=True)"
   ],
   "metadata": {
    "collapsed": false
   }
  },
  {
   "cell_type": "markdown",
   "source": [
    "## Get immunology data with nans "
   ],
   "metadata": {
    "collapsed": false
   }
  },
  {
   "cell_type": "code",
   "outputs": [],
   "source": [
    "files = [\n",
    "    \"Aging L, Q, H, I\",\n",
    "    \"Aging-Covid_05.01.2022\",\n",
    "    \"Aging-Covid-05.05.22\",\n",
    "    \"Covid_results_02_2021\",\n",
    "    \"Covid-25.11.20\",\n",
    "    \"MULTIPLEX_20_11_2020_ AGING\",\n",
    "    \"Yakutiya + TR\",\n",
    "    \"Мультиплекс_Agind&Covid\",\n",
    "]\n",
    "df_imm_genes = pd.read_excel(f\"{path}/data/immuno/immuno_markers_genes.xlsx\")\n",
    "dict_imm_genes = dict(zip(df_imm_genes['immuno_marker'], df_imm_genes['gene']))\n",
    "\n",
    "dfs_files = []\n",
    "nans_by_features = {}\n",
    "for file in files:\n",
    "    df_file = pd.read_excel(f\"{path}/data/immuno/files/processed/{file}.xlsx\", index_col=\"Sample\")\n",
    "    df_file.rename(columns=dict_imm_genes, inplace=True)\n",
    "    df_file = df_file.loc[:, feats_imm]\n",
    "\n",
    "    # duplicates processing\n",
    "    if file == \"MULTIPLEX_20_11_2020_ AGING\":\n",
    "        df_file_doubled_unique = df_file.loc[~df_file.index.duplicated(keep=False), :]\n",
    "        df_file_doubled_1 = df_file.loc[df_file.index.duplicated(keep='first'), :]\n",
    "        df_file_doubled_2 = df_file.loc[df_file.index.duplicated(keep='last'), :]\n",
    "        df_file_duplicates_final = pd.concat([df_file_doubled_2, df_file_doubled_unique], axis=0)\n",
    "        df_file = df_file_duplicates_final\n",
    "    df_file_duplicates = df_file.loc[df_file.index.duplicated(keep=False), :]\n",
    "    if df_file_duplicates.shape[0] > 0:\n",
    "        print(df_file_duplicates.index)\n",
    "    \n",
    "    for feat in df_file:\n",
    "        nan_vals = set(df_file.loc[df_file[feat].astype(str).str.contains(r'^([<>].*)$', regex=True), feat].values)\n",
    "        if len(nan_vals) > 0:\n",
    "            for nv in nan_vals:\n",
    "                if feat in nans_by_features:\n",
    "                    nans_by_features[feat].add(nv)\n",
    "                else:\n",
    "                    nans_by_features[feat] = {nv}\n",
    "    \n",
    "    dfs_files.append(df_file)\n",
    "\n",
    "print(nans_by_features)\n",
    "\n",
    "df_imm_w_nans = pd.concat(dfs_files, verify_integrity=False)\n",
    "df_imm_w_nans.index = df_imm_w_nans.index.map(str)\n",
    "df_imm_w_nans = df_imm_w_nans.loc[df_imm.index.values, :]\n",
    "df_imm_w_nans.replace(r'^([\\<].*)$', 'NaN', inplace=True, regex=True)\n",
    "for feat in feats_imm:\n",
    "    ids_imputed_above = df_imm_w_nans.index[df_imm_w_nans[feat].astype(str).str.contains('>')]\n",
    "    df_imm_w_nans.loc[ids_imputed_above, feat] = df_imm.loc[ids_imputed_above, feat]\n",
    "df_imm_w_nans = df_imm_w_nans.apply(pd.to_numeric, errors='coerce')\n",
    "df_imm_w_nans.to_excel(f\"{path_save}/df_imm_w_nans.xlsx\", index_label=\"Index\")\n",
    "\n",
    "# Checking values\n",
    "df_diff = df_imm.loc[df_imm.index.values, feats_imm] - df_imm_w_nans.loc[df_imm.index.values, feats_imm]\n",
    "df_diff = df_diff.fillna(0.0)\n",
    "max_diff = df_diff.values.max()\n",
    "print(f\"max_diff: {max_diff}\")"
   ],
   "metadata": {
    "collapsed": false
   },
   "execution_count": null
  },
  {
   "cell_type": "markdown",
   "source": [
    "# Yakutia data threshold processing"
   ],
   "metadata": {
    "collapsed": false
   }
  },
  {
   "cell_type": "markdown",
   "source": [
    "## Replace NaN (threshold) values in Yakutia close to Central region samples"
   ],
   "metadata": {
    "collapsed": false
   }
  },
  {
   "cell_type": "code",
   "outputs": [],
   "source": [
    "pathlib.Path(f\"{path_save}/yakutia_imputation/\").mkdir(parents=True, exist_ok=True)\n",
    "\n",
    "def find_nearest(array, value):\n",
    "    array = np.asarray(array)\n",
    "    idx = (np.abs(array - value)).argmin()\n",
    "    return array[idx]\n",
    "\n",
    "df_imm_imptd = df_imm_w_nans.loc[:, feats_imm].copy()\n",
    "ids_imm_non_yakutia = df_imm.index[df_imm['Region'] != 'Yakutia'].values\n",
    "ids_imm_yakutia = df_imm.index[df_imm['Region'] == 'Yakutia'].values\n",
    "df_imm_imptd.loc[ids_imm_non_yakutia, feats_imm] = df_imm.loc[ids_imm_non_yakutia, feats_imm]\n",
    "df_imm_imptd.loc[:, feats_imm] = df_imm_imptd.loc[:, feats_imm].astype('float')\n",
    "imptd_values = fast_knn(df_imm_imptd.loc[:, feats_imm].values)\n",
    "df_imm_imptd.loc[:, feats_imm] = imptd_values\n",
    "\n",
    "# Checking values\n",
    "df_diff = df_imm.loc[ids_imm_non_yakutia, feats_imm] - df_imm_imptd.loc[ids_imm_non_yakutia, feats_imm]\n",
    "max_diff = df_diff.values.max()\n",
    "print(f\"max_diff: {max_diff}\")\n",
    "\n",
    "# Replace imputed values in Yakutia to the closest threshold values in central region\n",
    "for feat in feats_imm:\n",
    "    srs_feat_base = df_imm_w_nans.loc[ids_imm_non_yakutia, feat].isna()\n",
    "    ids_feat_base = srs_feat_base.index[srs_feat_base == True].values\n",
    "    if len(ids_feat_base) > 0:\n",
    "        feat_base_vals = df_imm.loc[ids_feat_base, feat].unique()\n",
    "        srs_feat_trgt = df_imm_w_nans.loc[ids_imm_yakutia, feat].isna()\n",
    "        ids_feat_trgt = srs_feat_trgt.index[srs_feat_trgt == True].values\n",
    "        for id_trgt in ids_feat_trgt:\n",
    "            df_imm_imptd.at[id_trgt, feat] = find_nearest(feat_base_vals, df_imm_imptd.at[id_trgt, feat])\n",
    "df_imm_imptd.loc[df_imm_imptd.index.values, 'Age'] = df_imm.loc[df_imm_imptd.index.values, 'Age']\n",
    "df_imm_imptd.loc[df_imm_imptd.index.values, 'SImAge old'] = df_imm.loc[df_imm_imptd.index.values, 'SImAge']\n",
    "df_imm_imptd.loc[df_imm_imptd.index.values, 'SImAge old'] = df_imm.loc[df_imm_imptd.index.values, 'SImAge']\n",
    "df_imm_imptd.loc[df_imm_imptd.index.values, 'Region'] = df_imm.loc[df_imm_imptd.index.values, 'Region']\n",
    "df_imm_imptd.loc[df_imm_imptd.index.values, 'SImAge acceleration old'] = df_imm.loc[df_imm_imptd.index.values, 'SImAge acceleration']\n",
    "df_imm_imptd.loc[df_imm_imptd.index.values, '|SImAge acceleration| old'] = df_imm.loc[df_imm_imptd.index.values, '|SImAge acceleration|']\n",
    "df_imm_imptd['SImAge paper'] = False\n",
    "df_imm_imptd.loc[ids_imm_ppr, 'SImAge paper'] = True\n",
    "df_imm_imptd['Split'] = 'tst'\n",
    "df_imm_imptd.to_excel(f\"{path_save}/yakutia_imputation/df_imm_imptd.xlsx\", index_label=\"index\")\n",
    "\n",
    "df_diff = df_imm.loc[:, feats_imm] - df_imm_imptd.loc[:, feats_imm]\n",
    "max_diff = df_diff.values.max()\n",
    "print(f\"max_diff: {max_diff}\")"
   ],
   "metadata": {
    "collapsed": false
   },
   "execution_count": null
  },
  {
   "cell_type": "markdown",
   "source": [
    "## Collect new SImAge results"
   ],
   "metadata": {
    "collapsed": false
   }
  },
  {
   "cell_type": "code",
   "outputs": [],
   "source": [
    "df_simage = pd.read_excel(f\"{path_save}/yakutia_imputation/SImAge_result.xlsx\", index_col=0)\n",
    "df_imm.loc[ids_imm_yakutia, 'SImAge'] = df_simage.loc[ids_imm_yakutia, 'Prediction']\n",
    "df_imm.loc[ids_imm_yakutia, 'SImAge acceleration'] = df_simage.loc[ids_imm_yakutia, 'Prediction error']\n",
    "df_imm.loc[ids_imm_yakutia, '|SImAge acceleration|'] = df_simage.loc[ids_imm_yakutia, 'Prediction error abs']\n",
    "df_imm.to_excel(f\"{path_save}/yakutia_imputation/df_imm.xlsx\", index_label=\"index\")"
   ],
   "metadata": {
    "collapsed": false
   },
   "execution_count": null
  },
  {
   "cell_type": "markdown",
   "source": [
    "# Reload immunology data"
   ],
   "metadata": {
    "collapsed": false
   }
  },
  {
   "cell_type": "code",
   "outputs": [],
   "source": [
    "df_imm = pd.read_excel(f\"{path_save}/yakutia_imputation/df_imm.xlsx\", index_col=\"index\")\n",
    "df_imm.loc[ids_imm_ppr, 'ids_fimmu'] = df_imm_ppr.loc[ids_imm_ppr, 'index']"
   ],
   "metadata": {
    "collapsed": false
   },
   "execution_count": null
  },
  {
   "cell_type": "markdown",
   "source": [
    "# Select samples"
   ],
   "metadata": {
    "collapsed": false
   }
  },
  {
   "cell_type": "markdown",
   "source": [
    "## Filter Yakutian samples with small SImAge MAE value"
   ],
   "metadata": {
    "collapsed": false
   }
  },
  {
   "cell_type": "code",
   "outputs": [],
   "source": [
    "thld_mae = 8.05\n",
    "\n",
    "df_imm_yak = df_imm.loc[df_imm['Region'] == 'Yakutia']\n",
    "df_imm_yak.sort_values([\"|SImAge acceleration|\"], ascending=[True], inplace=True)\n",
    "df_imm_yak['|SImAge acceleration| cumsum'] = df_imm_yak['|SImAge acceleration|'].expanding().mean()\n",
    "ids_imm_yak = df_imm_yak.index[df_imm_yak['|SImAge acceleration| cumsum'] < thld_mae].values\n",
    "\n",
    "df_imm_cnt = df_imm.loc[(df_imm['Region'] == 'Central') & ~df_imm.index.isin(ids_imm_ppr), :]\n",
    "df_imm_cnt.sort_values([\"|SImAge acceleration|\"], ascending=[True], inplace=True)\n",
    "df_imm_cnt['|SImAge acceleration| cumsum'] = df_imm_cnt['|SImAge acceleration|'].expanding().mean()\n",
    "ids_imm_cnt = df_imm_cnt.index[df_imm_cnt['|SImAge acceleration| cumsum'] < thld_mae].values\n",
    "\n",
    "mae_imm_ppr = mean_absolute_error(df_imm.loc[ids_imm_ppr, 'Age'].values, df_imm.loc[ids_imm_ppr, 'SImAge'].values)\n",
    "mae_imm_yak = mean_absolute_error(df_imm.loc[ids_imm_yak, 'Age'].values, df_imm.loc[ids_imm_yak, 'SImAge'].values)\n",
    "mae_imm_cnt = mean_absolute_error(df_imm.loc[ids_imm_cnt, 'Age'].values, df_imm.loc[ids_imm_cnt, 'SImAge'].values)"
   ],
   "metadata": {
    "collapsed": false
   },
   "execution_count": null
  },
  {
   "cell_type": "markdown",
   "source": [
    "## Define samples for immunology and epigenetics"
   ],
   "metadata": {
    "collapsed": false
   }
  },
  {
   "cell_type": "code",
   "outputs": [],
   "source": [
    "ids_imm = list(set.union(set(ids_imm_ppr), set(ids_imm_yak)))\n",
    "# ids_imm = list(set.union(set(ids_imm_ppr), set(ids_imm_yak), set(ids_imm_cnt)))\n",
    "ids_epi_ppr = ids_epi_ppr\n",
    "ids_epi_full = df_epi.index.values\n",
    "\n",
    "epi_types = {\n",
    "    'paper_only': ids_epi_ppr,\n",
    "    'full': ids_epi_full\n",
    "}"
   ],
   "metadata": {
    "collapsed": false
   },
   "execution_count": null
  },
  {
   "cell_type": "markdown",
   "source": [
    "## Compare immunology and epigenetics samples"
   ],
   "metadata": {
    "collapsed": false
   }
  },
  {
   "cell_type": "code",
   "outputs": [],
   "source": [
    "for epi_type, ids_epi in epi_types.items():\n",
    "\n",
    "    pathlib.Path(f\"{path_save}/imm_vs_epi/{epi_type}\").mkdir(parents=True, exist_ok=True)\n",
    "    \n",
    "    sections = get_sections([set(ids_imm), set(ids_epi)])\n",
    "    for sec in sections:\n",
    "        df_sec = pd.DataFrame(index=list(sections[sec]))\n",
    "        df_sec.to_excel(f\"{path_save}/imm_vs_epi/{epi_type}/{sec}.xlsx\", index_label='index')\n",
    "    \n",
    "    fig, ax = plt.subplots()\n",
    "    venn = venn2(\n",
    "        subsets=(set(ids_imm), set(ids_epi)),\n",
    "        set_labels = ('Imm', 'Epi'),\n",
    "        set_colors=('r', 'g'),\n",
    "        alpha = 0.5\n",
    "    )\n",
    "    venn2_circles(subsets=(set(ids_imm), set(ids_epi)))\n",
    "    for text in venn.set_labels:\n",
    "        text.set_fontsize(16)\n",
    "    for text in venn.subset_labels:\n",
    "        text.set_fontsize(25)\n",
    "    plt.savefig(f\"{path_save}/imm_vs_epi/{epi_type}/venn.png\", bbox_inches='tight', dpi=200)\n",
    "    plt.savefig(f\"{path_save}/imm_vs_epi/{epi_type}/venn.pdf\", bbox_inches='tight')\n",
    "    plt.clf()"
   ],
   "metadata": {
    "collapsed": false
   },
   "execution_count": null
  },
  {
   "cell_type": "markdown",
   "source": [
    "# Processing immunology samples"
   ],
   "metadata": {
    "collapsed": false
   }
  },
  {
   "cell_type": "code",
   "outputs": [],
   "source": [
    "df_imm = df_imm.loc[ids_imm, :]\n",
    "df_imm_w_nans = df_imm_w_nans.loc[df_imm.index.values, :]\n",
    "df_imm.sort_values([f\"ids_fimmu\"], ascending=[True], inplace=True)\n",
    "df_imm.to_excel(f\"{path_save}/df_imm.xlsx\", index_label=\"index\")"
   ],
   "metadata": {
    "collapsed": false
   },
   "execution_count": null
  },
  {
   "cell_type": "markdown",
   "source": [
    "## Statistics of missed values"
   ],
   "metadata": {
    "collapsed": false
   }
  },
  {
   "cell_type": "code",
   "outputs": [],
   "source": [
    "df_nan_feats = df_imm_w_nans.loc[:, feats_imm].isna().sum(axis=0).to_frame(name=\"Number of NaNs\")\n",
    "df_nan_feats[\"% of NaNs\"] = df_nan_feats[\"Number of NaNs\"] / df_imm.shape[0] * 100\n",
    "df_nan_feats[\"Number of not-NaNs\"] = df_imm_w_nans.loc[:, feats_imm].notna().sum(axis=0)\n",
    "df_nan_feats.sort_values([\"% of NaNs\"], ascending=[False], inplace=True)\n",
    "df_nan_feats.to_excel(f\"{path_save}/df_nan_feats.xlsx\", index_label=\"Features\")\n",
    "\n",
    "plt.figure(figsize=(14, 4))\n",
    "plt.xticks(rotation=90)\n",
    "sns.set_theme(style='whitegrid')\n",
    "barplot = sns.barplot(\n",
    "    data=df_nan_feats,\n",
    "    x=df_nan_feats.index,\n",
    "    y=f\"% of NaNs\",\n",
    "    edgecolor='black',\n",
    "    dodge=False\n",
    ")\n",
    "plt.savefig(f\"{path_save}/df_nan_feats.png\", bbox_inches='tight', dpi=200)\n",
    "plt.savefig(f\"{path_save}/df_nan_feats.pdf\", bbox_inches='tight')\n",
    "plt.close()"
   ],
   "metadata": {
    "collapsed": false
   },
   "execution_count": null
  },
  {
   "cell_type": "markdown",
   "source": [
    "## Selection of good features"
   ],
   "metadata": {
    "collapsed": false
   }
  },
  {
   "cell_type": "code",
   "outputs": [],
   "source": [
    "thld_nan_in_feat = 25.3\n",
    "feats_imm_good = set(df_nan_feats.index[df_nan_feats['% of NaNs'] <= thld_nan_in_feat].values).union(set(feats_imm_ppr))\n",
    "print(f\"Number of filtered features: {len(feats_imm_good)}\")"
   ],
   "metadata": {
    "collapsed": false
   },
   "execution_count": null
  },
  {
   "cell_type": "markdown",
   "source": [
    "# Region-specific analysis"
   ],
   "metadata": {
    "collapsed": false
   }
  },
  {
   "cell_type": "code",
   "outputs": [],
   "source": [
    "colors_region = {'Central': 'gold', 'Yakutia': 'lightslategray'}\n",
    "pathlib.Path(f\"{path_save}/region_specific\").mkdir(parents=True, exist_ok=True)"
   ],
   "metadata": {
    "collapsed": false
   },
   "execution_count": null
  },
  {
   "cell_type": "markdown",
   "source": [
    "## Plot distribution"
   ],
   "metadata": {
    "collapsed": false
   }
  },
  {
   "cell_type": "code",
   "outputs": [],
   "source": [
    "hist_bins = np.linspace(5, 115, 23)\n",
    "\n",
    "fig, ax = plt.subplots(figsize=(4, 3))\n",
    "sns.set_theme(style='whitegrid')\n",
    "histplot = sns.histplot(\n",
    "    data=df_imm,\n",
    "    bins=hist_bins,\n",
    "    edgecolor='k',\n",
    "    linewidth=1,\n",
    "    x=\"Age\",\n",
    "    hue='Region',\n",
    "    palette=colors_region,\n",
    "    hue_order=['Yakutia', 'Central'],\n",
    "    ax=ax\n",
    ")\n",
    "histplot.set(xlim=(0, 120))\n",
    "plt.savefig(f\"{path_save}/region_specific/histplot.png\", bbox_inches='tight', dpi=200)\n",
    "plt.savefig(f\"{path_save}/region_specific/histplot.pdf\", bbox_inches='tight')\n",
    "plt.close(fig)"
   ],
   "metadata": {
    "collapsed": false
   },
   "execution_count": null
  },
  {
   "cell_type": "markdown",
   "source": [
    "## Calculate statistics"
   ],
   "metadata": {
    "collapsed": false
   }
  },
  {
   "cell_type": "code",
   "outputs": [],
   "source": [
    "df_stat = pd.DataFrame(index=list(feats_imm_good))\n",
    "for feat in list(feats_imm_good):\n",
    "    vals = {}\n",
    "    for group in ['Central', 'Yakutia']:\n",
    "        vals[group] = df_imm.loc[df_imm['Region'] == group, feat].values\n",
    "        df_stat.at[feat, f\"mean_{group}\"] = np.mean(vals[group])\n",
    "        df_stat.at[feat, f\"median_{group}\"] = np.median(vals[group])\n",
    "        df_stat.at[feat, f\"q75_{group}\"], df_stat.at[feat, f\"q25_{group}\"] = np.percentile(vals[group], [75 , 25])\n",
    "        df_stat.at[feat, f\"iqr_{group}\"] = df_stat.at[feat, f\"q75_{group}\"] - df_stat.at[feat, f\"q25_{group}\"]\n",
    "    _, df_stat.at[feat, \"mw_pval\"] = mannwhitneyu(vals['Central'], vals['Yakutia'], alternative='two-sided')\n",
    "\n",
    "_, df_stat.loc[feats_imm_good, \"mw_pval_fdr_bh\"], _, _ = multipletests(df_stat.loc[feats_imm_good, \"mw_pval\"], 0.05, method='fdr_bh')\n",
    "df_stat.sort_values([f\"mw_pval_fdr_bh\"], ascending=[True], inplace=True)\n",
    "df_stat.to_excel(f\"{path_save}/region_specific/stat.xlsx\", index_label='Features')"
   ],
   "metadata": {
    "collapsed": false
   },
   "execution_count": null
  },
  {
   "cell_type": "markdown",
   "source": [
    "## Plot features p-values"
   ],
   "metadata": {
    "collapsed": false
   }
  },
  {
   "cell_type": "code",
   "outputs": [],
   "source": [
    "df_fig = df_stat.loc[feats_imm_good, :]\n",
    "df_fig.sort_values([f\"mw_pval_fdr_bh\"], ascending=[True], inplace=True)\n",
    "df_fig['mw_pval_fdr_bh_log'] = -np.log10(df_fig['mw_pval_fdr_bh'])\n",
    "df_fig['color'] = 'pink'\n",
    "df_fig.loc[df_fig['mw_pval_fdr_bh'] < 0.05, 'color'] = 'red'\n",
    "\n",
    "fig, ax = plt.subplots(figsize=(3, 12))\n",
    "sns.set_theme(style='whitegrid')\n",
    "barplot = sns.barplot(\n",
    "    data=df_fig,\n",
    "    y=df_fig.index.values,\n",
    "    x='mw_pval_fdr_bh_log',\n",
    "    edgecolor='black',\n",
    "    palette=df_fig['color'].values,\n",
    "    dodge=True,\n",
    "    ax=ax\n",
    ")\n",
    "ax.set_xlabel(r\"$-\\log_{10}(\\mathrm{p-value})$\", fontsize=18)\n",
    "ax.set_ylabel('', fontsize=20)\n",
    "ax.set_xticklabels([f\"{int(tick):d}\" for tick in ax.get_xticks()], fontsize=16)\n",
    "ax.set_yticklabels(ax.get_yticklabels(), fontsize = 16)\n",
    "# for container in ax.containers:\n",
    "#     ax.bar_label(container, fmt='%0.2f', fontsize=15)\n",
    "plt.savefig(f\"{path_save}/region_specific/barplot.png\", bbox_inches='tight', dpi=200)\n",
    "plt.savefig(f\"{path_save}/region_specific/barplot.pdf\", bbox_inches='tight')\n",
    "plt.close(fig)\n"
   ],
   "metadata": {
    "collapsed": false
   },
   "execution_count": null
  },
  {
   "cell_type": "markdown",
   "source": [
    "## Plot features distributions"
   ],
   "metadata": {
    "collapsed": false
   }
  },
  {
   "cell_type": "code",
   "outputs": [],
   "source": [
    "n_rows = 4\n",
    "n_cols = 8\n",
    "fig_width = 15\n",
    "fig_height = 12\n",
    "\n",
    "fig, axs = plt.subplots(n_rows, n_cols, figsize=(fig_width, fig_height), gridspec_kw={})\n",
    "sns.set_theme(style='whitegrid')\n",
    "\n",
    "feats_sorted = df_stat.index[df_stat.index.isin(feats_imm_good)].values\n",
    "\n",
    "for f_id, f in enumerate(feats_sorted):\n",
    "    row_id, col_id = divmod(f_id, n_cols)\n",
    "    \n",
    "    q01 = df_imm[f].quantile(0.01)\n",
    "    q99 = df_imm[f].quantile(0.99)\n",
    "    \n",
    "    sns.violinplot(\n",
    "        data=df_imm.loc[(df_imm[f] > q01) & (df_imm[f] < q99), :],\n",
    "        x='Region',\n",
    "        y=f,\n",
    "        palette=colors_region,\n",
    "        scale='width',\n",
    "        order=list(colors_region.keys()),\n",
    "        saturation=0.75,\n",
    "        cut=0,\n",
    "        linewidth=1.0,\n",
    "        ax=axs[row_id, col_id],\n",
    "        legend=False,\n",
    "    )\n",
    "    axs[row_id, col_id].set_ylabel(f)\n",
    "    axs[row_id, col_id].set_xlabel('')\n",
    "    axs[row_id, col_id].set(xticklabels=[]) \n",
    "    mw_pval = df_stat.at[f, \"mw_pval_fdr_bh\"]\n",
    "    pval_formatted = [f'{mw_pval:.2e}']\n",
    "    annotator = Annotator(\n",
    "        axs[row_id, col_id],\n",
    "        pairs=[('Central', 'Yakutia')],\n",
    "        data=df_imm,\n",
    "        x='Region',\n",
    "        y=f,\n",
    "        order=list(colors_region.keys()),\n",
    "    )\n",
    "    annotator.set_custom_annotations(pval_formatted)\n",
    "    annotator.configure(loc='outside')\n",
    "    annotator.annotate()\n",
    "\n",
    "legend_handles = [\n",
    "    mlines.Line2D([], [], marker='o', linestyle='None', markeredgecolor='k', markerfacecolor=colors_region['Central'], markersize=10, label='Central'),\n",
    "    mlines.Line2D([], [], marker='o', linestyle='None', markeredgecolor='k', markerfacecolor=colors_region['Yakutia'], markersize=10, label='Yakutia')\n",
    "]\n",
    "fig.legend(handles=legend_handles, bbox_to_anchor=(0.5, 1.0), loc=\"lower center\", ncol=2, frameon=False, fontsize='large')\n",
    "fig.tight_layout()    \n",
    "plt.savefig(f\"{path_save}/region_specific/feats.png\", bbox_inches='tight', dpi=200)\n",
    "plt.savefig(f\"{path_save}/region_specific/feats.pdf\", bbox_inches='tight')\n",
    "plt.close(fig)\n",
    "    "
   ],
   "metadata": {
    "collapsed": false
   },
   "execution_count": null
  },
  {
   "cell_type": "markdown",
   "source": [
    "## SImAge analysis"
   ],
   "metadata": {
    "collapsed": false
   }
  },
  {
   "cell_type": "code",
   "outputs": [],
   "source": [
    "\n",
    "feat = 'SImAge acceleration'\n",
    "plt.figure(figsize=(6, 4))\n",
    "sns.set_theme(style='whitegrid')\n",
    "violin = sns.violinplot(\n",
    "    data=df_imm,\n",
    "    x='Region',\n",
    "    y=feat,\n",
    "    palette=colors_region,\n",
    "    scale='width',\n",
    "    order=list(colors_region.keys()),\n",
    "    saturation=0.75,\n",
    ")\n",
    "violin.set_xlabel(f\"Region\")\n",
    "mw_pval = df_stat.at[feat, \"mw_pval\"]\n",
    "pval_formatted = [f'{mw_pval:.2e}']\n",
    "annotator = Annotator(\n",
    "    violin,\n",
    "    pairs=[('Central', 'Yakutia')],\n",
    "    data=df_imm,\n",
    "    x='Region',\n",
    "    y=feat,\n",
    "    order=list(colors_region.keys())\n",
    ")\n",
    "annotator.set_custom_annotations(pval_formatted)\n",
    "annotator.configure(loc='outside')\n",
    "annotator.annotate()\n",
    "plt.savefig(f\"{path_save}/region_specific/{feat}.png\", bbox_inches='tight', dpi=200)\n",
    "plt.savefig(f\"{path_save}/region_specific/{feat}.pdf\", bbox_inches='tight')\n",
    "plt.close()\n"
   ],
   "metadata": {
    "collapsed": false
   },
   "execution_count": null
  }
 ],
 "metadata": {
  "kernelspec": {
   "name": "python3",
   "language": "python",
   "display_name": "Python 3 (ipykernel)"
  },
  "language_info": {
   "codemirror_mode": {
    "name": "ipython",
    "version": 2
   },
   "file_extension": ".py",
   "mimetype": "text/x-python",
   "name": "python",
   "nbconvert_exporter": "python",
   "pygments_lexer": "ipython2",
   "version": "2.7.6"
  }
 },
 "nbformat": 4,
 "nbformat_minor": 0
}
