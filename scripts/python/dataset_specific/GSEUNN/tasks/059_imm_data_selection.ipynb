{
 "cells": [
  {
   "cell_type": "markdown",
   "source": [
    "# Debugging autoreload"
   ],
   "metadata": {
    "collapsed": false
   }
  },
  {
   "cell_type": "code",
   "outputs": [],
   "source": [
    "%load_ext autoreload\n",
    "%autoreload 2"
   ],
   "metadata": {
    "collapsed": false
   }
  },
  {
   "cell_type": "markdown",
   "source": [
    "# Load packages"
   ],
   "metadata": {
    "collapsed": false
   }
  },
  {
   "cell_type": "code",
   "execution_count": null,
   "outputs": [],
   "source": [
    "import pandas as pd\n",
    "import numpy as np\n",
    "from scipy import stats\n",
    "import seaborn as sns\n",
    "import plotly.express as px\n",
    "import statsmodels.formula.api as smf\n",
    "import plotly.graph_objects as go\n",
    "from scripts.python.routines.manifest import get_manifest\n",
    "from scripts.python.routines.plot.save import save_figure\n",
    "from scripts.python.routines.plot.layout import add_layout\n",
    "from statsmodels.stats.multitest import multipletests\n",
    "import plotly.io as pio\n",
    "pio.kaleido.scope.mathjax = None\n",
    "from plotly.offline import init_notebook_mode\n",
    "init_notebook_mode(connected=False)\n",
    "from scipy.stats import mannwhitneyu, median_test, kruskal, wilcoxon, friedmanchisquare\n",
    "import matplotlib.pyplot as plt\n",
    "import matplotlib\n",
    "import matplotlib.patheffects as path_effects\n",
    "import random\n",
    "import pathlib\n",
    "from tqdm import tqdm\n",
    "from src.utils.plot.bioinfokit import mhat, volcano\n",
    "import gseapy as gp\n",
    "import mygene\n",
    "from sklearn.decomposition import PCA, IncrementalPCA, KernelPCA, TruncatedSVD\n",
    "from sklearn.decomposition import MiniBatchDictionaryLearning, FastICA\n",
    "from sklearn.random_projection import GaussianRandomProjection, SparseRandomProjection\n",
    "from sklearn.manifold import MDS, Isomap, TSNE, LocallyLinearEmbedding\n",
    "import upsetplot\n",
    "from matplotlib_venn import venn2, venn2_circles\n",
    "from itertools import chain\n",
    "from sklearn.metrics import mean_absolute_error\n",
    "from scripts.python.routines.plot.colorscales import get_continuous_color\n",
    "import plotly\n",
    "from scripts.python.routines.plot.p_value import add_p_value_annotation\n",
    "from scripts.python.routines.sections import get_sections\n",
    "from statannotations.Annotator import Annotator\n",
    "import functools\n",
    "import matplotlib.lines as mlines\n",
    "import patchworklib as pw\n",
    "\n",
    "\n",
    "def conjunction(conditions):\n",
    "    return functools.reduce(np.logical_and, conditions)\n",
    "\n",
    "\n",
    "def disjunction(conditions):\n",
    "    return functools.reduce(np.logical_or, conditions)"
   ],
   "metadata": {
    "collapsed": false
   }
  },
  {
   "cell_type": "markdown",
   "source": [
    "# Load data"
   ],
   "metadata": {
    "collapsed": false
   }
  },
  {
   "cell_type": "code",
   "execution_count": null,
   "outputs": [],
   "source": [
    "path = f\"D:/YandexDisk/Work/pydnameth/datasets/GPL21145/GSEUNN\"\n",
    "df_imm = pd.read_excel(f\"{path}/data/immuno/df_samples(all_1052_121222)_proc(raw)_imp(fast_knn)_replace(quarter).xlsx\", index_col=0)\n",
    "feats_imm = pd.read_excel(f\"{path}/data/immuno/feats_con.xlsx\", index_col=0).index.values\n",
    "df_ld_imm = df_imm['Subject ID'].value_counts().to_frame()\n",
    "df_imm['Is longitudinal?'] = False\n",
    "df_imm.loc[df_imm['Subject ID'].isin(df_ld_imm.index[df_ld_imm['Subject ID'] > 1].values), 'Is longitudinal?'] = True\n",
    "df_imm = df_imm.loc[(df_imm['Status'] == 'Control'), :]\n",
    "df_imm.rename(columns={'Sample_Chronology': 'Time'}, inplace=True)\n",
    "df_imm['Time'].replace({0: 'T0', 1: 'T1', 2: 'T2', 3: 'T3'}, inplace=True)\n",
    "df_imm_ppr = pd.read_excel(f\"{path}/data/immuno/models/SImAge/data.xlsx\", index_col=\"sample_id\")\n",
    "ids_imm_ppr = df_imm_ppr.index[df_imm_ppr['Status'] == 'Control'].values\n",
    "feats_imm_ppr = pd.read_excel(f\"{path}/data/immuno/models/SImAge/feats_con_top10.xlsx\", index_col=0).index.values\n",
    "\n",
    "epi_suffix = \"_harm\"\n",
    "df_epi = pd.read_excel(f\"{path}/pheno.xlsx\", index_col=\"index\")\n",
    "df_epi.index.name = \"index\"\n",
    "df_epi.drop([\"I64_old\", \"I1_duplicate\"], inplace=True)\n",
    "df_epi.rename(columns={'Subject_ID': 'Subject ID'}, inplace=True)\n",
    "df_ld_epi = df_epi['Subject ID'].value_counts().to_frame()\n",
    "df_epi['Is longitudinal?'] = False\n",
    "df_epi.loc[df_epi['Subject ID'].isin(df_ld_epi.index[df_ld_epi['Subject ID'] > 1].values), 'Is longitudinal?'] = True\n",
    "df_epi = df_epi.loc[(df_epi['Status'] == 'Control'), :]\n",
    "df_epi.rename(columns={'Sample_Chronology': 'Time'}, inplace=True)\n",
    "df_epi['Time'].replace({0: 'T0', 1: 'T1', 2: 'T2', 3: 'T3'}, inplace=True)\n",
    "ids_epi_ppr = pd.read_excel(f\"{path}/data/GSE234461/samples.xlsx\", index_col=0).index.values\n",
    "\n",
    "path_save = f\"{path}/special/059_imm_data_selection\"\n",
    "pathlib.Path(f\"{path_save}\").mkdir(parents=True, exist_ok=True)"
   ],
   "metadata": {
    "collapsed": false
   }
  },
  {
   "cell_type": "markdown",
   "source": [
    "# Select samples"
   ],
   "metadata": {
    "collapsed": false
   }
  },
  {
   "cell_type": "markdown",
   "source": [
    "## Filter Yakutian samples with small SImAge MAE value"
   ],
   "metadata": {
    "collapsed": false
   }
  },
  {
   "cell_type": "code",
   "outputs": [],
   "source": [
    "thld_mae = 8.05\n",
    "\n",
    "df_imm_yak = df_imm.loc[df_imm['Region'] == 'Yakutia']\n",
    "df_imm_yak.sort_values([\"|SImAge acceleration|\"], ascending=[True], inplace=True)\n",
    "df_imm_yak['|SImAge acceleration| cumsum'] = df_imm_yak['|SImAge acceleration|'].expanding().mean()\n",
    "ids_imm_yak = df_imm_yak.index[df_imm_yak['|SImAge acceleration| cumsum'] < thld_mae].values\n",
    "\n",
    "df_imm_cnt = df_imm.loc[(df_imm['Region'] == 'Central') & ~df_imm.index.isin(ids_imm_ppr), :]\n",
    "df_imm_cnt.sort_values([\"|SImAge acceleration|\"], ascending=[True], inplace=True)\n",
    "df_imm_cnt['|SImAge acceleration| cumsum'] = df_imm_cnt['|SImAge acceleration|'].expanding().mean()\n",
    "ids_imm_cnt = df_imm_cnt.index[df_imm_cnt['|SImAge acceleration| cumsum'] < thld_mae].values\n",
    "\n",
    "mae_imm_ppr = mean_absolute_error(df_imm.loc[ids_imm_ppr, 'Age'].values, df_imm.loc[ids_imm_ppr, 'SImAge'].values)\n",
    "mae_imm_yak = mean_absolute_error(df_imm.loc[ids_imm_yak, 'Age'].values, df_imm.loc[ids_imm_yak, 'SImAge'].values)\n",
    "mae_imm_cnt = mean_absolute_error(df_imm.loc[ids_imm_cnt, 'Age'].values, df_imm.loc[ids_imm_cnt, 'SImAge'].values)"
   ],
   "metadata": {
    "collapsed": false
   },
   "execution_count": null
  },
  {
   "cell_type": "markdown",
   "source": [
    "## Define samples for immunology and epigenetics"
   ],
   "metadata": {
    "collapsed": false
   }
  },
  {
   "cell_type": "code",
   "outputs": [],
   "source": [
    "ids_imm = list(set.union(set(ids_imm_ppr), set(ids_imm_yak)))\n",
    "# ids_imm = list(set.union(set(ids_imm_ppr), set(ids_imm_yak), set(ids_imm_cnt)))\n",
    "ids_epi_ppr = ids_epi_ppr\n",
    "ids_epi_full = df_epi.index.values\n",
    "\n",
    "epi_types = {\n",
    "    'paper_only': ids_epi_ppr,\n",
    "    'full': ids_epi_full\n",
    "}"
   ],
   "metadata": {
    "collapsed": false
   },
   "execution_count": null
  },
  {
   "cell_type": "markdown",
   "source": [
    "## Compare immunology and epigenetics samples"
   ],
   "metadata": {
    "collapsed": false
   }
  },
  {
   "cell_type": "code",
   "outputs": [],
   "source": [
    "for epi_type, ids_epi in epi_types.items():\n",
    "\n",
    "    pathlib.Path(f\"{path_save}/imm_vs_epi/{epi_type}\").mkdir(parents=True, exist_ok=True)\n",
    "    \n",
    "    sections = get_sections([set(ids_imm), set(ids_epi)])\n",
    "    for sec in sections:\n",
    "        df_sec = pd.DataFrame(index=list(sections[sec]))\n",
    "        df_sec.to_excel(f\"{path_save}/imm_vs_epi/{epi_type}/{sec}.xlsx\", index_label='index')\n",
    "    \n",
    "    fig, ax = plt.subplots()\n",
    "    venn = venn2(\n",
    "        subsets=(set(ids_imm), set(ids_epi)),\n",
    "        set_labels = ('Imm', 'Epi'),\n",
    "        set_colors=('r', 'g'),\n",
    "        alpha = 0.5\n",
    "    )\n",
    "    venn2_circles(subsets=(set(ids_imm), set(ids_epi)))\n",
    "    for text in venn.set_labels:\n",
    "        text.set_fontsize(16)\n",
    "    for text in venn.subset_labels:\n",
    "        text.set_fontsize(25)\n",
    "    plt.savefig(f\"{path_save}/imm_vs_epi/{epi_type}/venn.png\", bbox_inches='tight', dpi=200)\n",
    "    plt.savefig(f\"{path_save}/imm_vs_epi/{epi_type}/venn.pdf\", bbox_inches='tight')\n",
    "    plt.clf()"
   ],
   "metadata": {
    "collapsed": false
   },
   "execution_count": null
  }
 ],
 "metadata": {
  "kernelspec": {
   "name": "python3",
   "language": "python",
   "display_name": "Python 3 (ipykernel)"
  },
  "language_info": {
   "codemirror_mode": {
    "name": "ipython",
    "version": 2
   },
   "file_extension": ".py",
   "mimetype": "text/x-python",
   "name": "python",
   "nbconvert_exporter": "python",
   "pygments_lexer": "ipython2",
   "version": "2.7.6"
  }
 },
 "nbformat": 4,
 "nbformat_minor": 0
}
