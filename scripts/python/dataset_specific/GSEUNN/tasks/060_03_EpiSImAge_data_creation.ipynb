{
 "cells": [
  {
   "cell_type": "markdown",
   "source": [
    "# Debugging autoreload"
   ],
   "metadata": {
    "collapsed": false
   }
  },
  {
   "cell_type": "code",
   "outputs": [],
   "source": [
    "%load_ext autoreload\n",
    "%autoreload 2"
   ],
   "metadata": {
    "collapsed": false
   }
  },
  {
   "cell_type": "markdown",
   "source": [
    "# Load packages"
   ],
   "metadata": {
    "collapsed": false
   }
  },
  {
   "cell_type": "code",
   "execution_count": null,
   "outputs": [],
   "source": [
    "import pandas as pd\n",
    "import numpy as np\n",
    "from scipy import stats\n",
    "import seaborn as sns\n",
    "import plotly.express as px\n",
    "import statsmodels.formula.api as smf\n",
    "import plotly.graph_objects as go\n",
    "from scripts.python.routines.manifest import get_manifest\n",
    "from scripts.python.routines.plot.save import save_figure\n",
    "from scripts.python.routines.plot.layout import add_layout\n",
    "from statsmodels.stats.multitest import multipletests\n",
    "import plotly.io as pio\n",
    "pio.kaleido.scope.mathjax = None\n",
    "from plotly.offline import init_notebook_mode\n",
    "init_notebook_mode(connected=False)\n",
    "import itertools\n",
    "from scipy.stats import mannwhitneyu, median_test, kruskal, wilcoxon, friedmanchisquare\n",
    "import matplotlib.pyplot as plt\n",
    "import matplotlib\n",
    "import matplotlib.patheffects as path_effects\n",
    "import random\n",
    "import pathlib\n",
    "from tqdm import tqdm\n",
    "from src.utils.plot.bioinfokit import mhat, volcano\n",
    "import gseapy as gp\n",
    "import mygene\n",
    "from sklearn.decomposition import PCA, IncrementalPCA, KernelPCA, TruncatedSVD\n",
    "from sklearn.decomposition import MiniBatchDictionaryLearning, FastICA\n",
    "from sklearn.random_projection import GaussianRandomProjection, SparseRandomProjection\n",
    "from sklearn.manifold import MDS, Isomap, TSNE, LocallyLinearEmbedding\n",
    "import upsetplot\n",
    "from matplotlib_venn import venn2, venn2_circles\n",
    "from itertools import chain\n",
    "from sklearn.metrics import mean_absolute_error\n",
    "from scripts.python.routines.plot.colorscales import get_continuous_color\n",
    "from impyute.imputation.cs import fast_knn\n",
    "import plotly\n",
    "from scripts.python.routines.plot.p_value import add_p_value_annotation\n",
    "from scripts.python.routines.sections import get_sections\n",
    "from statannotations.Annotator import Annotator\n",
    "from sklearn.model_selection import RepeatedStratifiedKFold\n",
    "import functools\n",
    "import matplotlib.lines as mlines\n",
    "import patchworklib as pw\n",
    "\n",
    "\n",
    "def conjunction(conditions):\n",
    "    return functools.reduce(np.logical_and, conditions)\n",
    "\n",
    "\n",
    "def disjunction(conditions):\n",
    "    return functools.reduce(np.logical_or, conditions)"
   ],
   "metadata": {
    "collapsed": false
   }
  },
  {
   "cell_type": "markdown",
   "source": [
    "# Load data"
   ],
   "metadata": {
    "collapsed": false
   }
  },
  {
   "cell_type": "markdown",
   "source": [
    "## Immunology"
   ],
   "metadata": {
    "collapsed": false
   }
  },
  {
   "cell_type": "code",
   "outputs": [],
   "source": [
    "path = f\"D:/YandexDisk/Work/pydnameth/datasets/GPL21145/GSEUNN\"\n",
    "path_save = f\"{path}/special/060_EpiSImAge\"\n",
    "pathlib.Path(f\"{path_save}\").mkdir(parents=True, exist_ok=True)\n",
    "\n",
    "df = pd.read_excel(f\"{path_save}/df.xlsx\", index_col=0)\n",
    "\n",
    "feats_imm = pd.read_excel(f\"{path}/data/immuno/feats_con.xlsx\", index_col=0).index.values\n",
    "feats_imm_fimmu = pd.read_excel(f\"{path}/data/immuno/models/SImAge/feats_con_top10.xlsx\", index_col=0).index.values\n",
    "feats_imm_slctd = pd.read_excel(f\"{path}/special/059_imm_data_selection/feats_selected.xlsx\", index_col=0).index.values\n",
    "\n",
    "feats_global = [\n",
    "    'Subject ID', 'Time', 'Status', 'Sex', 'Age', 'Region', 'SImAge', 'SImAge acceleration', '|SImAge acceleration|', 'Dialysis (months)',\n",
    "    'PMC10485620 ID', 'PMC9135940 ID', 'COVID', 'GSM', 'PMC10699032 ID', 'Residence', 'Nationality', 'Sample_Name', 'Sentrix_ID', 'Sentrix_Position'\n",
    "]"
   ],
   "metadata": {
    "collapsed": false
   },
   "execution_count": null
  },
  {
   "cell_type": "code",
   "outputs": [],
   "source": [
    "# Stratification params\n",
    "random_state = 1337\n",
    "n_splits = 5\n",
    "\n",
    "stratify_cat_parts = {\n",
    "    'ctrl_central': df.index[(df['Status'] == 'Control') & (df['Region'] == 'Central')].values,\n",
    "    'ctrl_yakutia': df.index[(df['Status'] == 'Control') & (df['Region'] == 'Yakutia')].values,\n",
    "    'esrd': df.index[(df['Status'] == 'ESRD')].values,\n",
    "}\n",
    "\n",
    "for part, ids in stratify_cat_parts.items():\n",
    "    print(f\"{part}: {len(ids)}\")\n",
    "    trgt = df.loc[ids, 'Age'].values\n",
    "    ptp = np.ptp(trgt)\n",
    "    num_bins = 10\n",
    "    bins = np.linspace(np.min(trgt) - 0.1 * ptp, np.max(trgt) + 0.1 * ptp, num_bins + 1)\n",
    "    binned = np.digitize(trgt, bins) - 1\n",
    "    unique, counts = np.unique(binned, return_counts=True)\n",
    "    occ = dict(zip(unique, counts))\n",
    "    k_fold = RepeatedStratifiedKFold(\n",
    "        n_splits=n_splits,\n",
    "        n_repeats=1,\n",
    "        random_state=random_state\n",
    "    )\n",
    "    splits = k_fold.split(X=ids, y=binned, groups=binned)\n",
    "    \n",
    "    for split_id, (ids_trn, ids_val) in enumerate(splits):\n",
    "        df.loc[ids[ids_trn], f\"Split_{split_id}\"] = \"trn_val\"\n",
    "        df.loc[ids[ids_val], f\"Split_{split_id}\"] = \"tst\""
   ],
   "metadata": {
    "collapsed": false
   },
   "execution_count": null
  },
  {
   "cell_type": "markdown",
   "source": [
    "## Epigenetics"
   ],
   "metadata": {
    "collapsed": false
   }
  },
  {
   "cell_type": "code",
   "outputs": [],
   "source": [
    "feats_epi = {}\n",
    "manifest = get_manifest('GPL13534', path=\"D:/YandexDisk/Work/pydnameth/datasets\")"
   ],
   "metadata": {
    "collapsed": false
   },
   "execution_count": null
  },
  {
   "cell_type": "markdown",
   "source": [
    "### Train dataset"
   ],
   "metadata": {
    "collapsed": false
   }
  },
  {
   "cell_type": "markdown",
   "source": [
    "#### Correct index and save to binary"
   ],
   "metadata": {
    "collapsed": false
   }
  },
  {
   "cell_type": "code",
   "outputs": [],
   "source": [
    "df_epi = pd.read_csv(f\"{path_save}/GSEUNN/betas.csv\", index_col=0).transpose()\n",
    "df_epi = df_epi.loc[df['Sample_Name'].values, :]\n",
    "df_epi['Index'] = df.index.values\n",
    "df_epi.set_index('Index', inplace=True)\n",
    "df_epi.to_pickle(f\"{path_save}/GSEUNN/betas.pkl\")"
   ],
   "metadata": {
    "collapsed": false
   },
   "execution_count": null
  },
  {
   "cell_type": "markdown",
   "source": [
    "#### Load corrected from binary"
   ],
   "metadata": {
    "collapsed": false
   }
  },
  {
   "cell_type": "code",
   "outputs": [],
   "source": [
    "df_epi = pd.read_pickle(f\"{path_save}/GSEUNN/betas.pkl\")\n",
    "feats_epi['GSEUNN'] = df_epi.columns.values"
   ],
   "metadata": {
    "collapsed": false
   },
   "execution_count": null
  },
  {
   "cell_type": "code",
   "outputs": [],
   "source": [
    "df = pd.merge(df, df_epi, left_index=True, right_index=True)"
   ],
   "metadata": {
    "collapsed": false
   },
   "execution_count": null
  },
  {
   "cell_type": "code",
   "outputs": [],
   "source": [
    "for imm in feats_imm_slctd:\n",
    "    df[f\"{imm}_log\"] = np.log(df[f\"{imm}\"])"
   ],
   "metadata": {
    "collapsed": false
   },
   "execution_count": null
  },
  {
   "cell_type": "markdown",
   "source": [
    "### Test datasets"
   ],
   "metadata": {
    "collapsed": false
   }
  },
  {
   "cell_type": "markdown",
   "source": [
    "#### GSE87571"
   ],
   "metadata": {
    "collapsed": false
   }
  },
  {
   "cell_type": "markdown",
   "source": [
    "##### Correct index and save to binary"
   ],
   "metadata": {
    "collapsed": false
   }
  },
  {
   "cell_type": "code",
   "outputs": [],
   "source": [
    "df_gse_epi = pd.read_csv(f\"{path_save}/GSE87571/betas.csv\", index_col=0).transpose()\n",
    "df_gse_phn = pd.read_csv(f\"{path_save}/GSE87571/pheno.csv\", index_col=0)\n",
    "if not df_gse_epi.index.equals(df_gse_phn.index):\n",
    "    print(\"Indexes are not equal!\")\n",
    "else:\n",
    "    df_gse_epi.to_pickle(f\"{path_save}/GSE87571/betas.pkl\")\n",
    "    df_gse_phn.to_excel(f\"{path_save}/GSE87571/pheno.xlsx\")"
   ],
   "metadata": {
    "collapsed": false
   },
   "execution_count": null
  },
  {
   "cell_type": "markdown",
   "source": [
    "##### Load corrected from binary"
   ],
   "metadata": {
    "collapsed": false
   }
  },
  {
   "cell_type": "code",
   "outputs": [],
   "source": [
    "df_gse_epi = pd.read_pickle(f\"{path_save}/GSE87571/betas.pkl\")\n",
    "feats_epi['GSE87571'] = df_gse_epi.columns.values"
   ],
   "metadata": {
    "collapsed": false
   },
   "execution_count": null
  },
  {
   "cell_type": "markdown",
   "source": [
    "#### GSE40279"
   ],
   "metadata": {
    "collapsed": false
   }
  },
  {
   "cell_type": "markdown",
   "source": [
    "##### Correct index and save to binary"
   ],
   "metadata": {
    "collapsed": false
   }
  },
  {
   "cell_type": "code",
   "outputs": [],
   "source": [
    "df_gse_epi = pd.read_csv(f\"{path_save}/GSE40279/betas.csv\", index_col=0).transpose()\n",
    "df_gse_phn = pd.read_csv(f\"{path_save}/GSE40279/pheno.csv\", index_col=0)\n",
    "if not df_gse_epi.index.equals(df_gse_phn.index):\n",
    "    print(\"Indexes are not equal!\")\n",
    "df_gse_phn['Sample_Name'] = df_gse_phn.index.values\n",
    "df_gse_phn.set_index('gsm', inplace=True)\n",
    "df_gse_epi = df_gse_epi.loc[df_gse_phn['Sample_Name'].values, :]\n",
    "df_gse_epi['Index'] = df_gse_phn.index.values\n",
    "df_gse_epi.set_index('Index', inplace=True)\n",
    "df_gse_epi.to_pickle(f\"{path_save}/GSE40279/betas.pkl\")\n",
    "df_gse_phn.to_excel(f\"{path_save}/GSE40279/pheno.xlsx\")"
   ],
   "metadata": {
    "collapsed": false
   },
   "execution_count": null
  },
  {
   "cell_type": "markdown",
   "source": [
    "##### Load corrected from binary"
   ],
   "metadata": {
    "collapsed": false
   }
  },
  {
   "cell_type": "code",
   "outputs": [],
   "source": [
    "df_gse_epi = pd.read_pickle(f\"{path_save}/GSE40279/betas.pkl\")\n",
    "feats_epi['GSE40279'] = df_gse_epi.columns.values"
   ],
   "metadata": {
    "collapsed": false
   },
   "execution_count": null
  },
  {
   "cell_type": "markdown",
   "source": [
    "# Features selection"
   ],
   "metadata": {
    "collapsed": false
   }
  },
  {
   "cell_type": "markdown",
   "source": [
    "## Immuno features analysis"
   ],
   "metadata": {
    "collapsed": false
   }
  },
  {
   "cell_type": "code",
   "outputs": [],
   "source": [
    "for imm in feats_imm_fimmu:\n",
    "    pathlib.Path(f\"{path_save}/fimmu_features/{imm}\").mkdir(parents=True, exist_ok=True)\n",
    "    \n",
    "    fig, ax = plt.subplots(figsize=(4, 3))\n",
    "    sns.set_theme(style='whitegrid')\n",
    "    sns.kdeplot(\n",
    "        data=df,\n",
    "        x=imm,\n",
    "        color='red',\n",
    "        linewidth=2,\n",
    "        cut=0,\n",
    "        fill=True,\n",
    "        ax=ax\n",
    "    )\n",
    "    ax.set_xlabel(imm)\n",
    "    plt.savefig(f\"{path_save}/fimmu_features/{imm}/ori.png\", bbox_inches='tight', dpi=200)\n",
    "    plt.savefig(f\"{path_save}/fimmu_features/{imm}/ori.pdf\", bbox_inches='tight')\n",
    "    plt.close(fig)\n",
    "    \n",
    "    fig, ax = plt.subplots(figsize=(4, 3))\n",
    "    sns.set_theme(style='whitegrid')\n",
    "    sns.kdeplot(\n",
    "        data=df,\n",
    "        x=f\"{imm}_log\",\n",
    "        color='blue',\n",
    "        linewidth=2,\n",
    "        cut=0,\n",
    "        fill=True,\n",
    "        ax=ax\n",
    "    )\n",
    "    ax.set_xlabel(fr\"$\\log(\\mathrm{{{imm}}})$\")\n",
    "    plt.savefig(f\"{path_save}/fimmu_features/{imm}/log.png\", bbox_inches='tight', dpi=200)\n",
    "    plt.savefig(f\"{path_save}/fimmu_features/{imm}/log.pdf\", bbox_inches='tight')\n",
    "    plt.close(fig)\n",
    "    "
   ],
   "metadata": {
    "collapsed": false
   },
   "execution_count": null
  },
  {
   "cell_type": "markdown",
   "source": [
    "## Generate table of features"
   ],
   "metadata": {
    "collapsed": false
   }
  },
  {
   "cell_type": "code",
   "outputs": [],
   "source": [
    "feats_epi_cmn = list(set.intersection(*[set(x) for x in feats_epi.values()]))"
   ],
   "metadata": {
    "collapsed": false
   },
   "execution_count": null
  },
  {
   "cell_type": "code",
   "outputs": [],
   "source": [
    "df_feats_spearman = pd.DataFrame(\n",
    "    index=feats_epi_cmn,\n",
    "    columns=['Gene'] + list(itertools.chain(*[[f\"{x}_stat\", f\"{x}_pval\", f\"{x}_pval_fdr\"] for x in feats_imm_slctd]))\n",
    ")\n",
    "\n",
    "for cpg in tqdm(feats_epi_cmn, desc='CpG processing', total=len(feats_epi_cmn)):\n",
    "    df_feats_spearman.at[cpg, 'Gene'] = manifest.at[cpg, 'Gene']\n",
    "    for imm in feats_imm_slctd:\n",
    "        res = stats.spearmanr(df[f\"{imm}_log\"], df[cpg], alternative='two-sided')\n",
    "        df_feats_spearman.at[cpg, f\"{imm}_stat\"] = res.statistic\n",
    "        df_feats_spearman.at[cpg, f\"{imm}_pval\"] = res.pvalue\n",
    "for imm in feats_imm_slctd:\n",
    "    _, df_feats_spearman[f\"{imm}_pval_fdr\"], _, _ = multipletests(df_feats_spearman[f\"{imm}_pval\"], 0.05, method='fdr_bh')\n",
    "df_feats_spearman.to_excel(f\"{path_save}/df_feats_spearman.xlsx\")"
   ],
   "metadata": {
    "collapsed": false
   },
   "execution_count": null
  },
  {
   "cell_type": "markdown",
   "source": [
    "## Load table of features"
   ],
   "metadata": {
    "collapsed": false
   }
  },
  {
   "cell_type": "code",
   "outputs": [],
   "source": [
    "df_feats_spearman = pd.read_excel(f\"{path_save}/df_feats_spearman.xlsx\", index_col=0)\n",
    "feats_epi_cmn = df_feats_spearman.index.values"
   ],
   "metadata": {
    "collapsed": false
   },
   "execution_count": null
  },
  {
   "cell_type": "markdown",
   "source": [
    "# Create data for immunology regression"
   ],
   "metadata": {
    "collapsed": false
   }
  },
  {
   "cell_type": "code",
   "outputs": [],
   "source": [
    "n_top_cpgs = [100, 1000]\n",
    "\n",
    "for imm in feats_imm_fimmu:\n",
    "    for n_feats in n_top_cpgs:\n",
    "        pathlib.Path(f\"{path_save}/fimmu_features/{imm}\").mkdir(parents=True, exist_ok=True)\n",
    "        df_feats_imm = df_feats_spearman.sort_values(f\"{imm}_pval_fdr\", ascending=True)[['Gene', f\"{imm}_stat\", f\"{imm}_pval\", f\"{imm}_pval_fdr\"]].head(n_feats)\n",
    "        df_feats_imm.to_excel(f\"{path_save}/fimmu_features/{imm}/feats_con_{n_feats}.xlsx\", index_label='CpG')\n",
    "        df_feats_imm.to_pickle(f\"{path_save}/fimmu_features/{imm}/feats_con_{n_feats}.pkl\")\n",
    "        feats_imm_curr = df_feats_imm.index.values\n",
    "        df_data_imm = df.loc[:, feats_global + [f\"Split_{split_id}\" for split_id in range(5)] + [imm, f'{imm}_log'] + list(feats_imm_curr)]\n",
    "        df_data_imm['Index'] = df_data_imm.index.values\n",
    "        df_data_imm.to_excel(f\"{path_save}/fimmu_features/{imm}/data_{n_feats}.xlsx\", index=False)\n",
    "        df_data_imm.to_pickle(f\"{path_save}/fimmu_features/{imm}/data_{n_feats}.pkl\")"
   ],
   "metadata": {
    "collapsed": false
   },
   "execution_count": null
  }
 ],
 "metadata": {
  "kernelspec": {
   "name": "python3",
   "language": "python",
   "display_name": "Python 3 (ipykernel)"
  },
  "language_info": {
   "codemirror_mode": {
    "name": "ipython",
    "version": 2
   },
   "file_extension": ".py",
   "mimetype": "text/x-python",
   "name": "python",
   "nbconvert_exporter": "python",
   "pygments_lexer": "ipython2",
   "version": "2.7.6"
  }
 },
 "nbformat": 4,
 "nbformat_minor": 0
}
