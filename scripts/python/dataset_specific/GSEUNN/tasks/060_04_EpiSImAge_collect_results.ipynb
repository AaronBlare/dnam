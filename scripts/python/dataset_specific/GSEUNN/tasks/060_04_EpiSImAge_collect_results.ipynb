{
 "cells": [
  {
   "cell_type": "markdown",
   "source": [
    "# Debugging autoreload"
   ],
   "metadata": {
    "collapsed": false
   }
  },
  {
   "cell_type": "code",
   "outputs": [],
   "source": [
    "%load_ext autoreload\n",
    "%autoreload 2"
   ],
   "metadata": {
    "collapsed": false
   }
  },
  {
   "cell_type": "markdown",
   "source": [
    "# Load packages"
   ],
   "metadata": {
    "collapsed": false
   }
  },
  {
   "cell_type": "code",
   "execution_count": null,
   "outputs": [],
   "source": [
    "import pandas as pd\n",
    "import numpy as np\n",
    "from scipy import stats\n",
    "import seaborn as sns\n",
    "import plotly.express as px\n",
    "import statsmodels.formula.api as smf\n",
    "import plotly.graph_objects as go\n",
    "from scripts.python.routines.manifest import get_manifest\n",
    "from scripts.python.routines.plot.save import save_figure\n",
    "from scripts.python.routines.plot.layout import add_layout\n",
    "from statsmodels.stats.multitest import multipletests\n",
    "import plotly.io as pio\n",
    "pio.kaleido.scope.mathjax = None\n",
    "from plotly.offline import init_notebook_mode\n",
    "init_notebook_mode(connected=False)\n",
    "import itertools\n",
    "from scipy.stats import mannwhitneyu, median_test, kruskal, wilcoxon, friedmanchisquare\n",
    "import matplotlib.pyplot as plt\n",
    "import matplotlib\n",
    "import matplotlib.patheffects as path_effects\n",
    "import random\n",
    "import pathlib\n",
    "from tqdm import tqdm\n",
    "from src.utils.plot.bioinfokit import mhat, volcano\n",
    "import gseapy as gp\n",
    "import mygene\n",
    "from sklearn.decomposition import PCA, IncrementalPCA, KernelPCA, TruncatedSVD\n",
    "from sklearn.decomposition import MiniBatchDictionaryLearning, FastICA\n",
    "from sklearn.random_projection import GaussianRandomProjection, SparseRandomProjection\n",
    "from sklearn.manifold import MDS, Isomap, TSNE, LocallyLinearEmbedding\n",
    "import upsetplot\n",
    "from matplotlib_venn import venn2, venn2_circles\n",
    "from itertools import chain\n",
    "from sklearn.metrics import mean_absolute_error\n",
    "from scripts.python.routines.plot.colorscales import get_continuous_color\n",
    "from impyute.imputation.cs import fast_knn\n",
    "import plotly\n",
    "from scripts.python.routines.plot.p_value import add_p_value_annotation\n",
    "from scripts.python.routines.sections import get_sections\n",
    "from statannotations.Annotator import Annotator\n",
    "from sklearn.model_selection import RepeatedStratifiedKFold\n",
    "import functools\n",
    "import matplotlib.lines as mlines\n",
    "import patchworklib as pw\n",
    "from glob import glob\n",
    "from omegaconf import OmegaConf\n",
    "import os\n",
    "\n",
    "\n",
    "def conjunction(conditions):\n",
    "    return functools.reduce(np.logical_and, conditions)\n",
    "\n",
    "\n",
    "def disjunction(conditions):\n",
    "    return functools.reduce(np.logical_or, conditions)"
   ],
   "metadata": {
    "collapsed": false
   }
  },
  {
   "cell_type": "markdown",
   "source": [
    "# Collect ML results"
   ],
   "metadata": {
    "collapsed": false
   }
  },
  {
   "cell_type": "code",
   "outputs": [],
   "source": [
    "feat_imm = 'CXCL9'\n",
    "model = 'lightgbm' # 'widedeep_tab_mlp'\n",
    "\n",
    "path = f\"D:/YandexDisk/Work/pydnameth/datasets/GPL21145/GSEUNN/special/060_EpiSImAge/fimmu_features\"\n",
    "path_runs = f\"{path}/{feat_imm}/models/{model}_trn_val_tst/multiruns\"\n",
    "\n",
    "files = glob(f\"{path_runs}/*/*/metrics_all_best_*.xlsx\")\n",
    "\n",
    "df_tmp = pd.read_excel(files[0], index_col=\"metric\")\n",
    "head, tail = os.path.split(files[0])\n",
    "cfg = OmegaConf.load(f\"{head}/.hydra/overrides.yaml\")\n",
    "params = []\n",
    "for param_pair in cfg:\n",
    "    param, val = param_pair.split('=')\n",
    "    params.append(param)\n",
    "df_res = pd.DataFrame(index=files)\n",
    "\n",
    "for file in files:\n",
    "\n",
    "    head, tail = os.path.split(file)\n",
    "    \n",
    "    df_res.at[file, 'index'] = head.replace(path_runs, '')\n",
    "    # Metrics\n",
    "    df_metrics = pd.read_excel(file, index_col=\"metric\")\n",
    "    for metric in df_metrics.index.values:\n",
    "        df_res.at[file, metric + \"_val\"] = df_metrics.at[metric, \"val\"]\n",
    "        df_res.at[file, metric + \"_trn\"] = df_metrics.at[metric, \"trn\"]\n",
    "        df_res.at[file, metric + \"_tst\"] = df_metrics.at[metric, \"tst\"]\n",
    "        df_res.at[file, metric + \"_trn_val\"] = df_metrics.at[metric, \"trn_val\"]\n",
    "        df_res.at[file, metric + \"_val_tst\"] = df_metrics.at[metric, \"val_tst\"]\n",
    "        df_res.at[file, metric + \"_trn_val_tst\"] = df_metrics.at[metric, \"trn_val_tst\"]\n",
    "\n",
    "    # Params\n",
    "    cfg = OmegaConf.load(f\"{head}/.hydra/overrides.yaml\")\n",
    "    for param_pair in cfg:\n",
    "        param, val = param_pair.split('=')\n",
    "        df_res.at[file, param] = val\n",
    "\n",
    "df_res.set_index('index', inplace=True)\n",
    "df_res[\"train_more_val\"] = False\n",
    "df_res[\"selected\"] = False\n",
    "df_res.loc[df_res[\"mean_absolute_error_trn\"] > df_res[\"mean_absolute_error_val\"], \"train_more_val\"] = True\n",
    "\n",
    "first_columns = {\n",
    "    'selected': 'selected',\n",
    "    'train_more_val': 'train_more_val',\n",
    "    'mean_absolute_error_trn': 'MAE trn',\n",
    "    'mean_absolute_error_val': 'MAE val',\n",
    "    'mean_absolute_error_tst': 'MAE tst',\n",
    "    'mean_absolute_error_val_tst': 'MAE val_tst',\n",
    "    'mean_absolute_error_trn_val_tst': 'MAE trn_val_tst',\n",
    "    'pearson_corr_coef_trn': 'Pcorr trn',\n",
    "    'pearson_corr_coef_val': 'Pcorr val',\n",
    "    'pearson_corr_coef_tst': 'Pcorr tst',\n",
    "    'pearson_corr_coef_val_tst': 'Pcorr val_tst',\n",
    "    'pearson_corr_coef_trn_val_tst': 'Pcorr trn_val_tst',\n",
    "    'mean_absolute_error_cv_mean_trn': 'MAE cv_mean_trn',\n",
    "    'mean_absolute_error_cv_std_trn': 'MAE cv_std_trn',\n",
    "    'mean_absolute_error_cv_mean_val': 'MAE cv_mean_val',\n",
    "    'mean_absolute_error_cv_std_val': 'MAE cv_std_val',\n",
    "    'pearson_corr_coef_cv_mean_trn': 'Pcorr cv_mean_trn',\n",
    "    'pearson_corr_coef_cv_std_trn': 'Pcorr cv_std_trn',\n",
    "    'pearson_corr_coef_cv_mean_val': 'Pcorr cv_mean_val',\n",
    "    'pearson_corr_coef_cv_std_val': 'Pcorr cv_std_val',\n",
    "}\n",
    "df_res = df_res[list(first_columns.keys()) + [col for col in df_res.columns if col not in first_columns]]\n",
    "df_res.rename(columns=first_columns, inplace=True)\n",
    "df_res.to_excel(f\"{path_runs}/summary.xlsx\", index=True, index_label=\"file\")"
   ],
   "metadata": {
    "collapsed": false
   },
   "execution_count": null
  }
 ],
 "metadata": {
  "kernelspec": {
   "name": "python3",
   "language": "python",
   "display_name": "Python 3 (ipykernel)"
  },
  "language_info": {
   "codemirror_mode": {
    "name": "ipython",
    "version": 2
   },
   "file_extension": ".py",
   "mimetype": "text/x-python",
   "name": "python",
   "nbconvert_exporter": "python",
   "pygments_lexer": "ipython2",
   "version": "2.7.6"
  }
 },
 "nbformat": 4,
 "nbformat_minor": 0
}
