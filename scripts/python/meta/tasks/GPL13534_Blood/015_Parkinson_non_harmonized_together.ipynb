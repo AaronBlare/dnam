{
 "cells": [
  {
   "cell_type": "code",
   "execution_count": null,
   "metadata": {
    "collapsed": true,
    "pycharm": {
     "name": "#%%\n"
    }
   },
   "outputs": [],
   "source": [
    "import numpy as np\n",
    "import pandas as pd\n",
    "from scripts.python.routines.manifest import get_manifest\n",
    "from scripts.python.preprocessing.serialization.routines.pheno_betas_checking import get_pheno_betas_with_common_subjects\n",
    "import pathlib\n",
    "from tqdm import tqdm\n",
    "from impyute.imputation.cs import fast_knn, mean, median, random, mice, mode, em\n",
    "\n",
    "\n",
    "path = f\"E:/YandexDisk/Work/pydnameth/datasets/meta/tasks/GPL13534_Blood/\"\n",
    "manifest = get_manifest('GPL13534')\n",
    "\n",
    "disease = \"Parkinson\" # \"Parkinson\" \"Schizophrenia\"\n",
    "data_type = \"non_harmonized\"\n",
    "\n",
    "datasets = [\"data_trn_val\", \"data_tst_GSE72774\"]\n",
    "\n",
    "path_load = f\"{path}/{disease}/{data_type}\"\n",
    "\n",
    "df_trn_val = pd.read_pickle(f\"{path_load}/data_trn_val.pkl\")\n",
    "df_tst = pd.read_pickle(f\"{path_load}/data_tst_GSE72774.pkl\")"
   ]
  },
  {
   "cell_type": "code",
   "execution_count": null,
   "outputs": [],
   "source": [
    "common_columns = df_trn_val.columns.intersection(df_tst.columns).values"
   ],
   "metadata": {
    "collapsed": false,
    "pycharm": {
     "name": "#%%\n"
    }
   }
  },
  {
   "cell_type": "code",
   "execution_count": null,
   "outputs": [],
   "source": [
    "df_all = pd.concat([df_trn_val.loc[:, common_columns], df_tst.loc[:, common_columns]])"
   ],
   "metadata": {
    "collapsed": false,
    "pycharm": {
     "name": "#%%\n"
    }
   }
  },
  {
   "cell_type": "code",
   "execution_count": null,
   "outputs": [],
   "source": [
    "cpgs_all = list(set(manifest.index.values).intersection(set(df_all.columns.values)))"
   ],
   "metadata": {
    "collapsed": false,
    "pycharm": {
     "name": "#%%\n"
    }
   }
  },
  {
   "cell_type": "code",
   "execution_count": null,
   "outputs": [],
   "source": [
    "df_all.to_pickle(f\"{path_load}/data_trn_val_tst_GSE72774.pkl\")"
   ],
   "metadata": {
    "collapsed": false,
    "pycharm": {
     "name": "#%%\n"
    }
   }
  },
  {
   "cell_type": "code",
   "execution_count": 11,
   "outputs": [],
   "source": [
    "df_cpgs_all = pd.DataFrame(index=cpgs_all)\n",
    "df_cpgs_all.to_excel(f\"{path_load}/cpgs/{len(cpgs_all)}_trn_val_tst_GSE72774.xlsx\", index=True, index_label=\"features\")"
   ],
   "metadata": {
    "collapsed": false,
    "pycharm": {
     "name": "#%%\n"
    }
   }
  },
  {
   "cell_type": "code",
   "execution_count": 13,
   "outputs": [],
   "source": [
    "df_cpgs_selected = pd.read_excel(f\"{path_load}/cpgs/43019.xlsx\", index_col='features')\n",
    "df_cpgs_selected = df_cpgs_selected.loc[df_cpgs_selected.index.isin(cpgs_all), :]\n",
    "df_cpgs_selected.to_excel(f\"{path_load}/cpgs/{df_cpgs_selected.shape[0]}_trn_val_tst_GSE72774.xlsx\", index=True, index_label=\"features\")"
   ],
   "metadata": {
    "collapsed": false,
    "pycharm": {
     "name": "#%%\n"
    }
   }
  }
 ],
 "metadata": {
  "kernelspec": {
   "name": "pycharm-7948d80f",
   "language": "python",
   "display_name": "PyCharm (dnam)"
  },
  "language_info": {
   "codemirror_mode": {
    "name": "ipython",
    "version": 2
   },
   "file_extension": ".py",
   "mimetype": "text/x-python",
   "name": "python",
   "nbconvert_exporter": "python",
   "pygments_lexer": "ipython2",
   "version": "2.7.6"
  }
 },
 "nbformat": 4,
 "nbformat_minor": 0
}